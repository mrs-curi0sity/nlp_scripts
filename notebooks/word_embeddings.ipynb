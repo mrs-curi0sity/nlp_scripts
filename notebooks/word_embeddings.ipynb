{
 "cells": [
  {
   "cell_type": "code",
   "execution_count": 1,
   "metadata": {},
   "outputs": [],
   "source": [
    "# Dataset is glove 6B 50T\n",
    "# udemy nlp with python"
   ]
  },
  {
   "cell_type": "markdown",
   "metadata": {},
   "source": [
    "### install dependencies\n",
    "only do this once"
   ]
  },
  {
   "cell_type": "code",
   "execution_count": 2,
   "metadata": {},
   "outputs": [],
   "source": [
    "#! python3 -m venv venv\n",
    "#! source venv/bin/activate\n",
    "#! pip3 install -r requirements.txt\n",
    "#! pip install ipykernel\n",
    "#! python -m ipykernel install --user\n",
    "#! pip install -e ./\n",
    "#! pip freeze"
   ]
  },
  {
   "cell_type": "markdown",
   "metadata": {},
   "source": [
    "### imports"
   ]
  },
  {
   "cell_type": "code",
   "execution_count": 3,
   "metadata": {},
   "outputs": [],
   "source": [
    "from builtins import range\n",
    "import numpy as np\n",
    "import pandas as pd\n",
    "import os"
   ]
  },
  {
   "cell_type": "code",
   "execution_count": 4,
   "metadata": {},
   "outputs": [],
   "source": [
    "from src.embedding_utilities import euclidean_dist, cosine_dist\n",
    "from src.embedding import Embedding"
   ]
  },
  {
   "cell_type": "code",
   "execution_count": 5,
   "metadata": {},
   "outputs": [],
   "source": [
    "import boto3\n",
    "from botocore.exceptions import ClientError"
   ]
  },
  {
   "cell_type": "markdown",
   "metadata": {},
   "source": [
    "# connect to s3"
   ]
  },
  {
   "cell_type": "code",
   "execution_count": 6,
   "metadata": {},
   "outputs": [],
   "source": [
    "#s3_client = boto3.client('s3')\n",
    "BUCKET_NAME = 'ma-2021-07-word-embeddings'\n",
    "FILE_NAME_EN = 'glove.6B.300d.txt'\n",
    "FILE_NAME_DE = 'GloVe_vectors_de.txt'"
   ]
  },
  {
   "cell_type": "code",
   "execution_count": 7,
   "metadata": {},
   "outputs": [],
   "source": [
    "glove_path_en = '../data/glove.6B.100d.txt'\n",
    "glove_path_de = '../data/GloVe_vectors_de.txt'"
   ]
  },
  {
   "cell_type": "markdown",
   "metadata": {},
   "source": [
    "### the cosine distance does not change when doubeling\n",
    "cosine distance only takes into account angle (the smaller the higher the similarity.)\n",
    "\n",
    "euclidian looks at absolute length"
   ]
  },
  {
   "cell_type": "code",
   "execution_count": 8,
   "metadata": {},
   "outputs": [
    {
     "name": "stdout",
     "output_type": "stream",
     "text": [
      "euclidian distance 1.0\n",
      "cosine distance 0.05131670194948623\n"
     ]
    }
   ],
   "source": [
    "a = pd.Series([1,1])\n",
    "b = pd.Series([1,2])\n",
    "print(f'euclidian distance {euclidean_dist(a,b)}')\n",
    "print(f'cosine distance {cosine_dist(a,b)}')"
   ]
  },
  {
   "cell_type": "code",
   "execution_count": 9,
   "metadata": {},
   "outputs": [
    {
     "name": "stdout",
     "output_type": "stream",
     "text": [
      "euclidian distance 2.0\n",
      "cosine distance 0.05131670194948623\n"
     ]
    }
   ],
   "source": [
    "a_double = a*2\n",
    "b_double = b*2\n",
    "print(f'euclidian distance {euclidean_dist(a_double,b_double)}')\n",
    "print(f'cosine distance {cosine_dist(a_double,b_double)}')"
   ]
  },
  {
   "cell_type": "code",
   "execution_count": 10,
   "metadata": {},
   "outputs": [],
   "source": [
    "dist, metric = cosine_dist, 'cosine'\n",
    "#alternative: dist, metric = dist1, 'euclidean'"
   ]
  },
  {
   "cell_type": "markdown",
   "metadata": {},
   "source": [
    "### load pretrained word vectors\n",
    "source: https://www.kaggle.com/anindya2906/glove6b"
   ]
  },
  {
   "cell_type": "code",
   "execution_count": 11,
   "metadata": {},
   "outputs": [
    {
     "name": "stdout",
     "output_type": "stream",
     "text": [
      "loading word embeddings word to vec from path ../data/glove.6B.100d.txt, num lines: 0\n"
     ]
    },
    {
     "name": "stderr",
     "output_type": "stream",
     "text": [
      "400000it [00:07, 52615.12it/s]\n"
     ]
    },
    {
     "name": "stdout",
     "output_type": "stream",
     "text": [
      "total number of entries found:  400000. Dimension: 100\n",
      "CPU times: user 21.5 s, sys: 1.01 s, total: 22.5 s\n",
      "Wall time: 22.5 s\n"
     ]
    }
   ],
   "source": [
    "%time glove_embedding_en = Embedding(language='en', path=glove_path_en)"
   ]
  },
  {
   "cell_type": "code",
   "execution_count": 12,
   "metadata": {},
   "outputs": [],
   "source": [
    "# working but incredible slow:\n",
    "# lokal: ca 10 sec for 400k\n",
    "# read from aws s3: ca 40 sek for 4k => 4000 sek für 400k => faktor 400 schlechter\n",
    "#%time glove_embedding_en = Embedding(language='en', path=f's3://{BUCKET_NAME}/{FILE_NAME_EN}')"
   ]
  },
  {
   "cell_type": "code",
   "execution_count": 13,
   "metadata": {},
   "outputs": [
    {
     "name": "stdout",
     "output_type": "stream",
     "text": [
      "(400000, 100)\n"
     ]
    },
    {
     "data": {
      "text/html": [
       "<div>\n",
       "<style scoped>\n",
       "    .dataframe tbody tr th:only-of-type {\n",
       "        vertical-align: middle;\n",
       "    }\n",
       "\n",
       "    .dataframe tbody tr th {\n",
       "        vertical-align: top;\n",
       "    }\n",
       "\n",
       "    .dataframe thead th {\n",
       "        text-align: right;\n",
       "    }\n",
       "</style>\n",
       "<table border=\"1\" class=\"dataframe\">\n",
       "  <thead>\n",
       "    <tr style=\"text-align: right;\">\n",
       "      <th></th>\n",
       "      <th>0</th>\n",
       "      <th>1</th>\n",
       "      <th>2</th>\n",
       "      <th>3</th>\n",
       "      <th>4</th>\n",
       "      <th>5</th>\n",
       "      <th>6</th>\n",
       "      <th>7</th>\n",
       "      <th>8</th>\n",
       "      <th>9</th>\n",
       "      <th>...</th>\n",
       "      <th>90</th>\n",
       "      <th>91</th>\n",
       "      <th>92</th>\n",
       "      <th>93</th>\n",
       "      <th>94</th>\n",
       "      <th>95</th>\n",
       "      <th>96</th>\n",
       "      <th>97</th>\n",
       "      <th>98</th>\n",
       "      <th>99</th>\n",
       "    </tr>\n",
       "  </thead>\n",
       "  <tbody>\n",
       "    <tr>\n",
       "      <th>the</th>\n",
       "      <td>-0.038194</td>\n",
       "      <td>-0.24487</td>\n",
       "      <td>0.72812</td>\n",
       "      <td>-0.39961</td>\n",
       "      <td>0.083172</td>\n",
       "      <td>0.043953</td>\n",
       "      <td>-0.39141</td>\n",
       "      <td>0.3344</td>\n",
       "      <td>-0.57545</td>\n",
       "      <td>0.087459</td>\n",
       "      <td>...</td>\n",
       "      <td>0.016215</td>\n",
       "      <td>-0.017099</td>\n",
       "      <td>-0.38984</td>\n",
       "      <td>0.87424</td>\n",
       "      <td>-0.72569</td>\n",
       "      <td>-0.51058</td>\n",
       "      <td>-0.52028</td>\n",
       "      <td>-0.1459</td>\n",
       "      <td>0.8278</td>\n",
       "      <td>0.27062</td>\n",
       "    </tr>\n",
       "  </tbody>\n",
       "</table>\n",
       "<p>1 rows × 100 columns</p>\n",
       "</div>"
      ],
      "text/plain": [
       "           0        1        2        3         4         5        6       7   \\\n",
       "the -0.038194 -0.24487  0.72812 -0.39961  0.083172  0.043953 -0.39141  0.3344   \n",
       "\n",
       "          8         9   ...        90        91       92       93       94  \\\n",
       "the -0.57545  0.087459  ...  0.016215 -0.017099 -0.38984  0.87424 -0.72569   \n",
       "\n",
       "          95       96      97      98       99  \n",
       "the -0.51058 -0.52028 -0.1459  0.8278  0.27062  \n",
       "\n",
       "[1 rows x 100 columns]"
      ]
     },
     "execution_count": 13,
     "metadata": {},
     "output_type": "execute_result"
    }
   ],
   "source": [
    "print(glove_embedding_en.embedding.shape)\n",
    "glove_embedding_en.embedding.head(1)"
   ]
  },
  {
   "cell_type": "code",
   "execution_count": 14,
   "metadata": {},
   "outputs": [
    {
     "name": "stdout",
     "output_type": "stream",
     "text": [
      "loading word embeddings word to vec from path ../data/GloVe_vectors_de.txt, num lines: 0\n"
     ]
    },
    {
     "name": "stderr",
     "output_type": "stream",
     "text": [
      "1309281it [01:04, 20310.47it/s]\n"
     ]
    },
    {
     "name": "stdout",
     "output_type": "stream",
     "text": [
      "total number of entries found:  1309281. Dimension: 300\n",
      "(1309281, 300)\n"
     ]
    },
    {
     "data": {
      "text/html": [
       "<div>\n",
       "<style scoped>\n",
       "    .dataframe tbody tr th:only-of-type {\n",
       "        vertical-align: middle;\n",
       "    }\n",
       "\n",
       "    .dataframe tbody tr th {\n",
       "        vertical-align: top;\n",
       "    }\n",
       "\n",
       "    .dataframe thead th {\n",
       "        text-align: right;\n",
       "    }\n",
       "</style>\n",
       "<table border=\"1\" class=\"dataframe\">\n",
       "  <thead>\n",
       "    <tr style=\"text-align: right;\">\n",
       "      <th></th>\n",
       "      <th>0</th>\n",
       "      <th>1</th>\n",
       "      <th>2</th>\n",
       "      <th>3</th>\n",
       "      <th>4</th>\n",
       "      <th>5</th>\n",
       "      <th>6</th>\n",
       "      <th>7</th>\n",
       "      <th>8</th>\n",
       "      <th>9</th>\n",
       "      <th>...</th>\n",
       "      <th>290</th>\n",
       "      <th>291</th>\n",
       "      <th>292</th>\n",
       "      <th>293</th>\n",
       "      <th>294</th>\n",
       "      <th>295</th>\n",
       "      <th>296</th>\n",
       "      <th>297</th>\n",
       "      <th>298</th>\n",
       "      <th>299</th>\n",
       "    </tr>\n",
       "  </thead>\n",
       "  <tbody>\n",
       "    <tr>\n",
       "      <th>der</th>\n",
       "      <td>-0.28062</td>\n",
       "      <td>0.74426</td>\n",
       "      <td>0.257364</td>\n",
       "      <td>-0.070038</td>\n",
       "      <td>-0.07914</td>\n",
       "      <td>-0.134922</td>\n",
       "      <td>0.418708</td>\n",
       "      <td>0.373415</td>\n",
       "      <td>0.074699</td>\n",
       "      <td>-0.791163</td>\n",
       "      <td>...</td>\n",
       "      <td>-0.138816</td>\n",
       "      <td>-0.45058</td>\n",
       "      <td>-0.136059</td>\n",
       "      <td>-0.005833</td>\n",
       "      <td>-0.425212</td>\n",
       "      <td>-0.04491</td>\n",
       "      <td>0.159463</td>\n",
       "      <td>-0.4145</td>\n",
       "      <td>0.046645</td>\n",
       "      <td>0.069972</td>\n",
       "    </tr>\n",
       "  </tbody>\n",
       "</table>\n",
       "<p>1 rows × 300 columns</p>\n",
       "</div>"
      ],
      "text/plain": [
       "         0        1         2         3        4         5         6    \\\n",
       "der -0.28062  0.74426  0.257364 -0.070038 -0.07914 -0.134922  0.418708   \n",
       "\n",
       "          7         8         9    ...       290      291       292       293  \\\n",
       "der  0.373415  0.074699 -0.791163  ... -0.138816 -0.45058 -0.136059 -0.005833   \n",
       "\n",
       "          294      295       296     297       298       299  \n",
       "der -0.425212 -0.04491  0.159463 -0.4145  0.046645  0.069972  \n",
       "\n",
       "[1 rows x 300 columns]"
      ]
     },
     "execution_count": 14,
     "metadata": {},
     "output_type": "execute_result"
    }
   ],
   "source": [
    "glove_embedding_de = Embedding(language='de', path=glove_path_de)\n",
    "print(glove_embedding_de.embedding.shape)\n",
    "glove_embedding_de.embedding.head(1)"
   ]
  },
  {
   "cell_type": "code",
   "execution_count": 15,
   "metadata": {},
   "outputs": [
    {
     "name": "stdout",
     "output_type": "stream",
     "text": [
      "[-0.95006   1.1876   -0.15589  -0.074026  0.5079    0.31601  -0.54892\n",
      "  0.067332  0.15188  -0.5513  ]\n",
      "[-0.400554  0.139754 -0.357781  0.45136  -0.178334  0.052695 -0.75287\n",
      " -0.285123  0.048494  0.015669]\n"
     ]
    }
   ],
   "source": [
    "print(glove_embedding_en.word2vec['tree'][:10])\n",
    "print(glove_embedding_de.word2vec['baum'][:10])"
   ]
  },
  {
   "cell_type": "code",
   "execution_count": 16,
   "metadata": {},
   "outputs": [
    {
     "name": "stdout",
     "output_type": "stream",
     "text": [
      ",\n",
      "und\n"
     ]
    }
   ],
   "source": [
    "print(glove_embedding_en.index_to_word[1])\n",
    "print(glove_embedding_de.index_to_word[1])"
   ]
  },
  {
   "cell_type": "code",
   "execution_count": 17,
   "metadata": {},
   "outputs": [
    {
     "name": "stdout",
     "output_type": "stream",
     "text": [
      "(400000, 100)\n",
      "(1309281, 300)\n"
     ]
    }
   ],
   "source": [
    "print(glove_embedding_en.embedding.shape)\n",
    "print(glove_embedding_de.embedding.shape)"
   ]
  },
  {
   "cell_type": "markdown",
   "metadata": {},
   "source": [
    "# Best of"
   ]
  },
  {
   "cell_type": "code",
   "execution_count": 18,
   "metadata": {},
   "outputs": [
    {
     "name": "stdout",
     "output_type": "stream",
     "text": [
      "man - fun = woman - kids\n",
      "mann - spass = frau - schwiegermutter\n"
     ]
    },
    {
     "data": {
      "text/plain": [
       "'schwiegermutter'"
      ]
     },
     "execution_count": 18,
     "metadata": {},
     "output_type": "execute_result"
    }
   ],
   "source": [
    "glove_embedding_en.find_analogies('man', 'fun', 'woman')\n",
    "glove_embedding_de.find_analogies('mann', 'spass', 'frau')"
   ]
  },
  {
   "cell_type": "code",
   "execution_count": 19,
   "metadata": {},
   "outputs": [
    {
     "name": "stdout",
     "output_type": "stream",
     "text": [
      "woman - love = man - me\n",
      "frau - liebe = mann - mein\n"
     ]
    },
    {
     "data": {
      "text/plain": [
       "'mein'"
      ]
     },
     "execution_count": 19,
     "metadata": {},
     "output_type": "execute_result"
    }
   ],
   "source": [
    "glove_embedding_en.find_analogies('woman', 'love', 'man')\n",
    "glove_embedding_de.find_analogies('frau', 'liebe', 'mann')"
   ]
  },
  {
   "cell_type": "code",
   "execution_count": 20,
   "metadata": {},
   "outputs": [
    {
     "name": "stdout",
     "output_type": "stream",
     "text": [
      "man - motivation = woman - desire\n",
      "mann - motivation = frau - beeinflussen\n"
     ]
    },
    {
     "data": {
      "text/plain": [
       "'beeinflussen'"
      ]
     },
     "execution_count": 20,
     "metadata": {},
     "output_type": "execute_result"
    }
   ],
   "source": [
    "glove_embedding_en.find_analogies('man', 'motivation', 'woman')\n",
    "glove_embedding_de.find_analogies('mann', 'motivation', 'frau')"
   ]
  },
  {
   "cell_type": "code",
   "execution_count": 21,
   "metadata": {},
   "outputs": [
    {
     "name": "stdout",
     "output_type": "stream",
     "text": [
      "woman - motivation = man - motive\n",
      "frau - motivation = mann - stärke\n"
     ]
    },
    {
     "data": {
      "text/plain": [
       "'stärke'"
      ]
     },
     "execution_count": 21,
     "metadata": {},
     "output_type": "execute_result"
    }
   ],
   "source": [
    "glove_embedding_en.find_analogies('woman', 'motivation', 'man')\n",
    "glove_embedding_de.find_analogies('frau', 'motivation', 'mann')"
   ]
  },
  {
   "cell_type": "code",
   "execution_count": 22,
   "metadata": {},
   "outputs": [
    {
     "name": "stdout",
     "output_type": "stream",
     "text": [
      "man - respect = woman - dignity\n",
      "mann - respekt = frau - wertschätzung\n"
     ]
    },
    {
     "data": {
      "text/plain": [
       "'wertschätzung'"
      ]
     },
     "execution_count": 22,
     "metadata": {},
     "output_type": "execute_result"
    }
   ],
   "source": [
    "glove_embedding_en.find_analogies('man', 'respect', 'woman')\n",
    "glove_embedding_de.find_analogies('mann', 'respekt', 'frau')"
   ]
  },
  {
   "cell_type": "code",
   "execution_count": 23,
   "metadata": {},
   "outputs": [
    {
     "name": "stdout",
     "output_type": "stream",
     "text": [
      "man - success = woman - achieved\n",
      "mann - erfolg = woman - hit\n"
     ]
    },
    {
     "data": {
      "text/plain": [
       "'hit'"
      ]
     },
     "execution_count": 23,
     "metadata": {},
     "output_type": "execute_result"
    }
   ],
   "source": [
    "glove_embedding_en.find_analogies('man', 'success', 'woman')\n",
    "glove_embedding_de.find_analogies('mann', 'erfolg', 'woman')"
   ]
  },
  {
   "cell_type": "code",
   "execution_count": 24,
   "metadata": {},
   "outputs": [
    {
     "name": "stdout",
     "output_type": "stream",
     "text": [
      "man - love = woman - mother\n",
      "mann - liebe = frau - mutter\n"
     ]
    },
    {
     "data": {
      "text/plain": [
       "'mutter'"
      ]
     },
     "execution_count": 24,
     "metadata": {},
     "output_type": "execute_result"
    }
   ],
   "source": [
    "glove_embedding_en.find_analogies('man', 'love', 'woman')\n",
    "glove_embedding_de.find_analogies('mann', 'liebe', 'frau')"
   ]
  },
  {
   "cell_type": "code",
   "execution_count": 25,
   "metadata": {},
   "outputs": [
    {
     "name": "stdout",
     "output_type": "stream",
     "text": [
      "mother in law not in dictionary\n",
      "frau - schwiegermutter = mann - steinreicher\n"
     ]
    },
    {
     "data": {
      "text/plain": [
       "'steinreicher'"
      ]
     },
     "execution_count": 25,
     "metadata": {},
     "output_type": "execute_result"
    }
   ],
   "source": [
    "glove_embedding_en.find_analogies('woman', 'mother in law', 'man')\n",
    "glove_embedding_de.find_analogies('frau', 'schwiegermutter', 'mann')"
   ]
  },
  {
   "cell_type": "code",
   "execution_count": 26,
   "metadata": {},
   "outputs": [
    {
     "name": "stdout",
     "output_type": "stream",
     "text": [
      "man - great = woman - little\n",
      "mann - großartig = frau - langweilig\n"
     ]
    },
    {
     "data": {
      "text/plain": [
       "'langweilig'"
      ]
     },
     "execution_count": 26,
     "metadata": {},
     "output_type": "execute_result"
    }
   ],
   "source": [
    "glove_embedding_en.find_analogies('man', 'great', 'woman')\n",
    "glove_embedding_de.find_analogies('mann', 'großartig', 'frau')"
   ]
  },
  {
   "cell_type": "code",
   "execution_count": null,
   "metadata": {},
   "outputs": [],
   "source": []
  },
  {
   "cell_type": "code",
   "execution_count": 27,
   "metadata": {},
   "outputs": [
    {
     "name": "stdout",
     "output_type": "stream",
     "text": [
      "women - kids = man - kid\n",
      "frau - kinder = mann - kindern\n"
     ]
    },
    {
     "data": {
      "text/plain": [
       "'kindern'"
      ]
     },
     "execution_count": 27,
     "metadata": {},
     "output_type": "execute_result"
    }
   ],
   "source": [
    "glove_embedding_en.find_analogies('women', 'kids', 'man')\n",
    "glove_embedding_de.find_analogies('frau', 'kinder', 'mann')"
   ]
  },
  {
   "cell_type": "code",
   "execution_count": 28,
   "metadata": {},
   "outputs": [
    {
     "name": "stdout",
     "output_type": "stream",
     "text": [
      "man - friends = woman - parents\n",
      "mann - freunde = frau - freundin\n"
     ]
    },
    {
     "data": {
      "text/plain": [
       "'freundin'"
      ]
     },
     "execution_count": 28,
     "metadata": {},
     "output_type": "execute_result"
    }
   ],
   "source": [
    "glove_embedding_en.find_analogies('man', 'friends', 'woman')\n",
    "glove_embedding_de.find_analogies('mann', 'freunde', 'frau')"
   ]
  },
  {
   "cell_type": "code",
   "execution_count": 29,
   "metadata": {},
   "outputs": [
    {
     "name": "stdout",
     "output_type": "stream",
     "text": [
      "men - friends = women - parents\n",
      "männer - freunde = frauen - ihrer\n"
     ]
    },
    {
     "data": {
      "text/plain": [
       "'ihrer'"
      ]
     },
     "execution_count": 29,
     "metadata": {},
     "output_type": "execute_result"
    }
   ],
   "source": [
    "glove_embedding_en.find_analogies('men', 'friends', 'women')\n",
    "glove_embedding_de.find_analogies('männer', 'freunde', 'frauen')"
   ]
  },
  {
   "cell_type": "code",
   "execution_count": 30,
   "metadata": {},
   "outputs": [
    {
     "name": "stdout",
     "output_type": "stream",
     "text": [
      "woman - safety = man - security\n",
      "frau - sicherheit = mann - ausrüstung\n"
     ]
    },
    {
     "data": {
      "text/plain": [
       "'ausrüstung'"
      ]
     },
     "execution_count": 30,
     "metadata": {},
     "output_type": "execute_result"
    }
   ],
   "source": [
    "glove_embedding_en.find_analogies('woman', 'safety', 'man')\n",
    "glove_embedding_de.find_analogies('frau', 'sicherheit', 'mann')"
   ]
  },
  {
   "cell_type": "code",
   "execution_count": 31,
   "metadata": {},
   "outputs": [
    {
     "name": "stdout",
     "output_type": "stream",
     "text": [
      "women - orgasm = men - ejaculation\n",
      "frauen - orgasmus = männer - hengzt\n"
     ]
    },
    {
     "data": {
      "text/plain": [
       "'hengzt'"
      ]
     },
     "execution_count": 31,
     "metadata": {},
     "output_type": "execute_result"
    }
   ],
   "source": [
    "glove_embedding_en.find_analogies('women', 'orgasm', 'men')\n",
    "glove_embedding_de.find_analogies('frauen', 'orgasmus', 'männer')"
   ]
  },
  {
   "cell_type": "code",
   "execution_count": 32,
   "metadata": {},
   "outputs": [
    {
     "name": "stdout",
     "output_type": "stream",
     "text": [
      "woman - money = man - cash\n",
      "frau - geld = mann - bezahlen\n"
     ]
    },
    {
     "data": {
      "text/plain": [
       "'bezahlen'"
      ]
     },
     "execution_count": 32,
     "metadata": {},
     "output_type": "execute_result"
    }
   ],
   "source": [
    "glove_embedding_en.find_analogies('woman', 'money', 'man')\n",
    "glove_embedding_de.find_analogies('frau', 'geld', 'mann')"
   ]
  },
  {
   "cell_type": "code",
   "execution_count": null,
   "metadata": {},
   "outputs": [],
   "source": []
  },
  {
   "cell_type": "code",
   "execution_count": 33,
   "metadata": {},
   "outputs": [
    {
     "name": "stdout",
     "output_type": "stream",
     "text": [
      "woman - man = she - he\n",
      "woman - man = aunt - uncle\n",
      "woman - man = sister - brother\n",
      "woman - man = actress - actor\n",
      "woman - man = mother - father\n"
     ]
    },
    {
     "data": {
      "text/plain": [
       "'father'"
      ]
     },
     "execution_count": 33,
     "metadata": {},
     "output_type": "execute_result"
    }
   ],
   "source": [
    "# klappt einfach\n",
    "glove_embedding_en.find_analogies('woman', 'man', 'she')\n",
    "glove_embedding_en.find_analogies('woman', 'man', 'aunt')\n",
    "glove_embedding_en.find_analogies('woman', 'man', 'sister')\n",
    "glove_embedding_en.find_analogies('woman', 'man', 'actress')\n",
    "glove_embedding_en.find_analogies('woman', 'man', 'mother')"
   ]
  },
  {
   "cell_type": "code",
   "execution_count": 34,
   "metadata": {},
   "outputs": [
    {
     "name": "stdout",
     "output_type": "stream",
     "text": [
      "frau - mann = sie - aber\n",
      "frau - mann = tante - freund\n",
      "frau - mann = schwester - bruder\n",
      "frau - mann = schauspielerin - schauspieler\n",
      "frau - mann = mutter - vater\n"
     ]
    },
    {
     "data": {
      "text/plain": [
       "'vater'"
      ]
     },
     "execution_count": 34,
     "metadata": {},
     "output_type": "execute_result"
    }
   ],
   "source": [
    "# klappt einfach\n",
    "glove_embedding_de.find_analogies('frau', 'mann', 'sie')\n",
    "glove_embedding_de.find_analogies('frau', 'mann', 'tante')\n",
    "glove_embedding_de.find_analogies('frau', 'mann', 'schwester')\n",
    "glove_embedding_de.find_analogies('frau', 'mann', 'schauspielerin')\n",
    "glove_embedding_de.find_analogies('frau', 'mann', 'mutter')"
   ]
  },
  {
   "cell_type": "code",
   "execution_count": 35,
   "metadata": {},
   "outputs": [
    {
     "name": "stdout",
     "output_type": "stream",
     "text": [
      "prais not in dictionary\n",
      "paris - france = rome - italy\n",
      "france - paris = italy - rome\n",
      "florida - miami = texas - dallas\n"
     ]
    },
    {
     "data": {
      "text/plain": [
       "'dallas'"
      ]
     },
     "execution_count": 35,
     "metadata": {},
     "output_type": "execute_result"
    }
   ],
   "source": [
    "#klappt einfach\n",
    "glove_embedding_en.find_analogies('prais', 'france', 'london')\n",
    "glove_embedding_en.find_analogies('paris', 'france', 'rome')\n",
    "glove_embedding_en.find_analogies('france', 'paris', 'italy')\n",
    "glove_embedding_en.find_analogies('florida', 'miami', 'texas')"
   ]
  },
  {
   "cell_type": "code",
   "execution_count": 36,
   "metadata": {},
   "outputs": [
    {
     "name": "stdout",
     "output_type": "stream",
     "text": [
      "frankreich - paris = london - york\n",
      "frankreich - paris = rom - florenz\n",
      "paris - frankreich = italien - spanien\n",
      "miami - florida = texas - alabama\n"
     ]
    },
    {
     "data": {
      "text/plain": [
       "'alabama'"
      ]
     },
     "execution_count": 36,
     "metadata": {},
     "output_type": "execute_result"
    }
   ],
   "source": [
    "glove_embedding_de.find_analogies('frankreich', 'paris', 'london')\n",
    "glove_embedding_de.find_analogies('frankreich', 'paris', 'rom')\n",
    "glove_embedding_de.find_analogies('paris', 'frankreich', 'italien')\n",
    "glove_embedding_de.find_analogies('miami', 'florida', 'texas')"
   ]
  },
  {
   "cell_type": "code",
   "execution_count": 37,
   "metadata": {},
   "outputs": [
    {
     "name": "stdout",
     "output_type": "stream",
     "text": [
      "november - december = march - july\n",
      "november - dezember = märz - februar\n"
     ]
    },
    {
     "data": {
      "text/plain": [
       "'februar'"
      ]
     },
     "execution_count": 37,
     "metadata": {},
     "output_type": "execute_result"
    }
   ],
   "source": [
    "#klappt einfach\n",
    "glove_embedding_en.find_analogies('november', 'december', 'march')\n",
    "glove_embedding_de.find_analogies('november', 'dezember', 'märz')"
   ]
  },
  {
   "cell_type": "code",
   "execution_count": 38,
   "metadata": {},
   "outputs": [
    {
     "name": "stdout",
     "output_type": "stream",
     "text": [
      "einstein - scientist = painter - sculptor\n",
      "einstein - wissenschaftler = maler - künstler\n"
     ]
    },
    {
     "data": {
      "text/plain": [
       "'künstler'"
      ]
     },
     "execution_count": 38,
     "metadata": {},
     "output_type": "execute_result"
    }
   ],
   "source": [
    "#klappt einfach\n",
    "glove_embedding_en.find_analogies('einstein', 'scientist', 'painter')\n",
    "glove_embedding_de.find_analogies('einstein', 'wissenschaftler', 'maler')"
   ]
  },
  {
   "cell_type": "code",
   "execution_count": 39,
   "metadata": {},
   "outputs": [
    {
     "name": "stdout",
     "output_type": "stream",
     "text": [
      "rice - china = germany - austria\n",
      "reis - china = deutschland - volksrepublik\n"
     ]
    },
    {
     "data": {
      "text/plain": [
       "'volksrepublik'"
      ]
     },
     "execution_count": 39,
     "metadata": {},
     "output_type": "execute_result"
    }
   ],
   "source": [
    "# fun\n",
    "glove_embedding_en.find_analogies('rice', 'china', 'germany')\n",
    "glove_embedding_de.find_analogies('reis', 'china', 'deutschland')"
   ]
  },
  {
   "cell_type": "code",
   "execution_count": 40,
   "metadata": {},
   "outputs": [
    {
     "name": "stdout",
     "output_type": "stream",
     "text": [
      "beer - germany = usa - switzerland\n",
      "bier - deutschland = usa - staaten\n"
     ]
    },
    {
     "data": {
      "text/plain": [
       "'staaten'"
      ]
     },
     "execution_count": 40,
     "metadata": {},
     "output_type": "execute_result"
    }
   ],
   "source": [
    "glove_embedding_en.find_analogies('beer', 'germany', 'usa')\n",
    "glove_embedding_de.find_analogies('bier', 'deutschland', 'usa')"
   ]
  },
  {
   "cell_type": "code",
   "execution_count": 41,
   "metadata": {},
   "outputs": [
    {
     "name": "stdout",
     "output_type": "stream",
     "text": [
      "freedom - usa = germany - switzerland\n",
      "freiheit - usa = deutschland - kanada\n"
     ]
    },
    {
     "data": {
      "text/plain": [
       "'kanada'"
      ]
     },
     "execution_count": 41,
     "metadata": {},
     "output_type": "execute_result"
    }
   ],
   "source": [
    "glove_embedding_en.find_analogies('freedom', 'usa', 'germany')\n",
    "glove_embedding_de.find_analogies('freiheit', 'usa', 'deutschland')"
   ]
  },
  {
   "cell_type": "code",
   "execution_count": 42,
   "metadata": {},
   "outputs": [
    {
     "name": "stdout",
     "output_type": "stream",
     "text": [
      "building - builder = politician - jurist\n",
      "book - writer = politician - businessman\n",
      "baustelle - bauarbeiter = politiker - jurist\n",
      "buch - schriftsteller = politiker - jurist\n"
     ]
    },
    {
     "data": {
      "text/plain": [
       "'jurist'"
      ]
     },
     "execution_count": 42,
     "metadata": {},
     "output_type": "execute_result"
    }
   ],
   "source": [
    "glove_embedding_en.find_analogies('building', 'builder', 'politician')\n",
    "glove_embedding_en.find_analogies('book', 'writer', 'politician')\n",
    "glove_embedding_de.find_analogies('baustelle', 'bauarbeiter', 'politiker')\n",
    "glove_embedding_de.find_analogies('buch', 'schriftsteller', 'politiker')"
   ]
  },
  {
   "cell_type": "code",
   "execution_count": 43,
   "metadata": {},
   "outputs": [
    {
     "name": "stdout",
     "output_type": "stream",
     "text": [
      "code - hacker = politician - businessman\n",
      "code - hacker = politiker - jurist\n"
     ]
    },
    {
     "data": {
      "text/plain": [
       "'jurist'"
      ]
     },
     "execution_count": 43,
     "metadata": {},
     "output_type": "execute_result"
    }
   ],
   "source": [
    "glove_embedding_en.find_analogies('code', 'hacker', 'politician')\n",
    "glove_embedding_de.find_analogies('code', 'hacker', 'politiker')"
   ]
  },
  {
   "cell_type": "code",
   "execution_count": 44,
   "metadata": {},
   "outputs": [
    {
     "name": "stdout",
     "output_type": "stream",
     "text": [
      "sorry, word Frau not in index\n"
     ]
    }
   ],
   "source": [
    "# addition\n",
    "glove_embedding_de.get_embedding('Frau')"
   ]
  },
  {
   "cell_type": "code",
   "execution_count": null,
   "metadata": {},
   "outputs": [],
   "source": []
  },
  {
   "cell_type": "markdown",
   "metadata": {},
   "source": [
    "# nearest neighbors"
   ]
  },
  {
   "cell_type": "code",
   "execution_count": 45,
   "metadata": {},
   "outputs": [
    {
     "name": "stdout",
     "output_type": "stream",
     "text": [
      "neighbors of: france\n",
      "\tbelgium\n",
      "\tfrench\n",
      "\tbritain\n",
      "\tspain\n",
      "\tparis\n"
     ]
    },
    {
     "data": {
      "text/plain": [
       "array([2975,  348,  695, 1029, 1035])"
      ]
     },
     "execution_count": 45,
     "metadata": {},
     "output_type": "execute_result"
    }
   ],
   "source": [
    "glove_embedding_en.nearest_neighbors('france')"
   ]
  },
  {
   "cell_type": "code",
   "execution_count": 46,
   "metadata": {},
   "outputs": [
    {
     "name": "stdout",
     "output_type": "stream",
     "text": [
      "neighbors of: frankreich\n",
      "\titalien\n",
      "\tfranzösischen\n",
      "\tgroßbritannien\n",
      "\tspanien\n",
      "\tbelgien\n"
     ]
    },
    {
     "data": {
      "text/plain": [
       "array([ 480,  457, 1095,  804, 1423])"
      ]
     },
     "execution_count": 46,
     "metadata": {},
     "output_type": "execute_result"
    }
   ],
   "source": [
    "glove_embedding_de.nearest_neighbors('frankreich')"
   ]
  },
  {
   "cell_type": "code",
   "execution_count": 47,
   "metadata": {},
   "outputs": [
    {
     "name": "stdout",
     "output_type": "stream",
     "text": [
      "neighbors of: einstein\n",
      "\trelativity\n",
      "\tfreud\n",
      "\tphysics\n",
      "\tbohr\n",
      "\ttheory\n",
      "neighbors of: einstein\n",
      "\teinsteins\n",
      "\tphysik\n",
      "\theisenberg\n",
      "\tpoincaré\n",
      "\tmileva\n"
     ]
    },
    {
     "data": {
      "text/plain": [
       "array([ 48160,   2371,  28521,  31601, 250921])"
      ]
     },
     "execution_count": 47,
     "metadata": {},
     "output_type": "execute_result"
    }
   ],
   "source": [
    "glove_embedding_en.nearest_neighbors('einstein')\n",
    "glove_embedding_de.nearest_neighbors('einstein')"
   ]
  },
  {
   "cell_type": "code",
   "execution_count": 48,
   "metadata": {},
   "outputs": [
    {
     "name": "stdout",
     "output_type": "stream",
     "text": [
      "neighbors of: trump\n",
      "\tnows\n",
      "\thilton\n",
      "\tcasino\n",
      "\tivanka\n",
      "\tmih\n",
      "neighbors of: trump\n",
      "\ttrumps\n",
      "\tobama\n",
      "\tbarack\n",
      "\tbush\n",
      "\tclinton\n"
     ]
    },
    {
     "data": {
      "text/plain": [
       "array([43972, 13007, 19208,  7553,  9118])"
      ]
     },
     "execution_count": 48,
     "metadata": {},
     "output_type": "execute_result"
    }
   ],
   "source": [
    "glove_embedding_en.nearest_neighbors('trump')\n",
    "glove_embedding_de.nearest_neighbors('trump')"
   ]
  },
  {
   "cell_type": "code",
   "execution_count": 49,
   "metadata": {},
   "outputs": [
    {
     "name": "stdout",
     "output_type": "stream",
     "text": [
      "neighbors of: merkel\n",
      "\tschroeder\n",
      "\tsarkozy\n",
      "\tgerhard\n",
      "\tkohl\n",
      "\tchirac\n",
      "neighbors of: merkel\n",
      "\tbundeskanzlerin\n",
      "\tbundeskanzler\n",
      "\tangela\n",
      "\tschröder\n",
      "\tkanzlerin\n"
     ]
    },
    {
     "data": {
      "text/plain": [
       "array([29678, 10167,  5671,  4245, 81235])"
      ]
     },
     "execution_count": 49,
     "metadata": {},
     "output_type": "execute_result"
    }
   ],
   "source": [
    "glove_embedding_en.nearest_neighbors('merkel')\n",
    "glove_embedding_de.nearest_neighbors('merkel')"
   ]
  },
  {
   "cell_type": "code",
   "execution_count": 50,
   "metadata": {},
   "outputs": [
    {
     "name": "stdout",
     "output_type": "stream",
     "text": [
      "neighbors of: procrastination\n",
      "\tobstinacy\n",
      "\tstubbornness\n",
      "\tintransigence\n",
      "\tinflexibility\n",
      "\tobfuscation\n",
      "neighbors of: prokrastination\n",
      "\thuraa\n",
      "\ttrichodynie\n",
      "\tbrowserweichen\n",
      "\trangierfeld\n",
      "\tterekura\n"
     ]
    },
    {
     "data": {
      "text/plain": [
       "array([1264153, 1162555, 1177566, 1047241, 1161246])"
      ]
     },
     "execution_count": 50,
     "metadata": {},
     "output_type": "execute_result"
    }
   ],
   "source": [
    "glove_embedding_en.nearest_neighbors('procrastination')\n",
    "glove_embedding_de.nearest_neighbors('prokrastination')"
   ]
  },
  {
   "cell_type": "code",
   "execution_count": 51,
   "metadata": {},
   "outputs": [
    {
     "name": "stdout",
     "output_type": "stream",
     "text": [
      "neighbors of: religion\n",
      "\treligions\n",
      "\tchristianity\n",
      "\treligious\n",
      "\tbeliefs\n",
      "\tspirituality\n",
      "neighbors of: religion\n",
      "\tchristentum\n",
      "\treligionen\n",
      "\tglauben\n",
      "\tislam\n",
      "\tglaube\n"
     ]
    },
    {
     "data": {
      "text/plain": [
       "array([4607, 6201, 2933, 3476, 7079])"
      ]
     },
     "execution_count": 51,
     "metadata": {},
     "output_type": "execute_result"
    }
   ],
   "source": [
    "glove_embedding_en.nearest_neighbors('religion')\n",
    "glove_embedding_de.nearest_neighbors('religion')"
   ]
  },
  {
   "cell_type": "code",
   "execution_count": 52,
   "metadata": {},
   "outputs": [
    {
     "ename": "NameError",
     "evalue": "name 'nearest_neighbors' is not defined",
     "output_type": "error",
     "traceback": [
      "\u001b[0;31m---------------------------------------------------------------------------\u001b[0m",
      "\u001b[0;31mNameError\u001b[0m                                 Traceback (most recent call last)",
      "\u001b[0;32m/var/folders/_n/ks2p05ts5zn6q171vklt92t00000gp/T/ipykernel_19181/162993621.py\u001b[0m in \u001b[0;36m<module>\u001b[0;34m\u001b[0m\n\u001b[0;32m----> 1\u001b[0;31m \u001b[0mnearest_neighbors\u001b[0m\u001b[0;34m(\u001b[0m\u001b[0;34m'woman'\u001b[0m\u001b[0;34m,\u001b[0m\u001b[0mindex_to_word\u001b[0m\u001b[0;34m,\u001b[0m \u001b[0mword2vec\u001b[0m\u001b[0;34m)\u001b[0m\u001b[0;34m\u001b[0m\u001b[0;34m\u001b[0m\u001b[0m\n\u001b[0m\u001b[1;32m      2\u001b[0m \u001b[0mnearest_neighbors\u001b[0m\u001b[0;34m(\u001b[0m\u001b[0;34m'man'\u001b[0m\u001b[0;34m,\u001b[0m\u001b[0mindex_to_word\u001b[0m\u001b[0;34m,\u001b[0m \u001b[0mword2vec\u001b[0m\u001b[0;34m)\u001b[0m\u001b[0;34m\u001b[0m\u001b[0;34m\u001b[0m\u001b[0m\n\u001b[1;32m      3\u001b[0m \u001b[0mnearest_neighbors\u001b[0m\u001b[0;34m(\u001b[0m\u001b[0;34m'nephew'\u001b[0m\u001b[0;34m,\u001b[0m\u001b[0mindex_to_word\u001b[0m\u001b[0;34m,\u001b[0m \u001b[0mword2vec\u001b[0m\u001b[0;34m)\u001b[0m\u001b[0;34m\u001b[0m\u001b[0;34m\u001b[0m\u001b[0m\n",
      "\u001b[0;31mNameError\u001b[0m: name 'nearest_neighbors' is not defined"
     ]
    }
   ],
   "source": [
    "nearest_neighbors('woman',index_to_word, word2vec)\n",
    "nearest_neighbors('man',index_to_word, word2vec)\n",
    "nearest_neighbors('nephew',index_to_word, word2vec)"
   ]
  },
  {
   "cell_type": "code",
   "execution_count": null,
   "metadata": {},
   "outputs": [],
   "source": [
    "nearest_neighbors('february',index_to_word, word2vec)\n",
    "nearest_neighbors('success',index_to_word, word2vec)\n",
    "nearest_neighbors('money',index_to_word, word2vec)\n",
    "nearest_neighbors('love',index_to_word, word2vec)"
   ]
  },
  {
   "cell_type": "code",
   "execution_count": null,
   "metadata": {},
   "outputs": [],
   "source": []
  },
  {
   "cell_type": "code",
   "execution_count": null,
   "metadata": {},
   "outputs": [],
   "source": [
    "nearest_neighbors('procrastination', index_to_word, word2vec)"
   ]
  },
  {
   "cell_type": "code",
   "execution_count": null,
   "metadata": {},
   "outputs": [],
   "source": []
  }
 ],
 "metadata": {
  "kernelspec": {
   "display_name": "Python 3 (ipykernel)",
   "language": "python",
   "name": "python3"
  },
  "language_info": {
   "codemirror_mode": {
    "name": "ipython",
    "version": 3
   },
   "file_extension": ".py",
   "mimetype": "text/x-python",
   "name": "python",
   "nbconvert_exporter": "python",
   "pygments_lexer": "ipython3",
   "version": "3.9.6"
  }
 },
 "nbformat": 4,
 "nbformat_minor": 4
}
