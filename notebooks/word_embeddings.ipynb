{
 "cells": [
  {
   "cell_type": "markdown",
   "metadata": {},
   "source": [
    "### install dependencies\n",
    "only do this once"
   ]
  },
  {
   "cell_type": "code",
   "execution_count": 1,
   "metadata": {},
   "outputs": [],
   "source": [
    "#! python3 -m venv venv\n",
    "#! source venv/bin/activate\n",
    "#! pip3 install -r requirements.txt\n",
    "#! pip install ipykernel\n",
    "#! python -m ipykernel install --user\n",
    "#! pip install -e ./\n",
    "#! pip freeze"
   ]
  },
  {
   "cell_type": "markdown",
   "metadata": {},
   "source": [
    "### imports"
   ]
  },
  {
   "cell_type": "code",
   "execution_count": 2,
   "metadata": {},
   "outputs": [],
   "source": [
    "from builtins import range\n",
    "import numpy as np\n",
    "import pandas as pd\n",
    "import os\n",
    "import logging"
   ]
  },
  {
   "cell_type": "code",
   "execution_count": 3,
   "metadata": {},
   "outputs": [],
   "source": [
    "from src.embedding_utilities import euclidean_dist, cosine_dist\n",
    "from src.embedding import Embedding"
   ]
  },
  {
   "cell_type": "code",
   "execution_count": 4,
   "metadata": {},
   "outputs": [],
   "source": [
    "logging.basicConfig(level=logging.DEBUG)"
   ]
  },
  {
   "cell_type": "code",
   "execution_count": null,
   "metadata": {},
   "outputs": [],
   "source": []
  },
  {
   "cell_type": "code",
   "execution_count": null,
   "metadata": {},
   "outputs": [],
   "source": []
  },
  {
   "cell_type": "markdown",
   "metadata": {},
   "source": [
    "# define paths"
   ]
  },
  {
   "cell_type": "code",
   "execution_count": 5,
   "metadata": {},
   "outputs": [],
   "source": [
    "#s3_client = boto3.client('s3')\n",
    "BUCKET_NAME = 'ma-2021-07-word-embeddings'\n",
    "FILE_NAME_EN = 'glove.6B.300d.txt'\n",
    "FILE_NAME_DE = 'GloVe_vectors_de_50000.txt'"
   ]
  },
  {
   "cell_type": "code",
   "execution_count": 6,
   "metadata": {},
   "outputs": [],
   "source": [
    "glove_path_en = ['../data/glove.6B.100d.txt']\n",
    "#glove_path_de = ['../data/GloVe_vectors_de_part_01.txt', '../data/GloVe_vectors_de_part_02.txt']\n",
    "glove_path_de = ['../data/GloVe_vectors_de_50000.txt']"
   ]
  },
  {
   "cell_type": "markdown",
   "metadata": {},
   "source": [
    "### the cosine distance does not change when doubeling\n",
    "cosine distance only takes into account angle (the smaller the higher the similarity.)\n",
    "\n",
    "euclidian looks at absolute length"
   ]
  },
  {
   "cell_type": "code",
   "execution_count": 7,
   "metadata": {},
   "outputs": [
    {
     "name": "stdout",
     "output_type": "stream",
     "text": [
      "euclidian distance 1.0\n",
      "cosine distance 0.05131670194948623\n"
     ]
    }
   ],
   "source": [
    "a = pd.Series([1,1])\n",
    "b = pd.Series([1,2])\n",
    "print(f'euclidian distance {euclidean_dist(a,b)}')\n",
    "print(f'cosine distance {cosine_dist(a,b)}')"
   ]
  },
  {
   "cell_type": "code",
   "execution_count": 8,
   "metadata": {},
   "outputs": [
    {
     "name": "stdout",
     "output_type": "stream",
     "text": [
      "euclidian distance 2.0\n",
      "cosine distance 0.05131670194948623\n"
     ]
    }
   ],
   "source": [
    "a_double = a*2\n",
    "b_double = b*2\n",
    "print(f'euclidian distance {euclidean_dist(a_double,b_double)}')\n",
    "print(f'cosine distance {cosine_dist(a_double,b_double)}')"
   ]
  },
  {
   "cell_type": "code",
   "execution_count": 9,
   "metadata": {},
   "outputs": [],
   "source": [
    "dist, metric = cosine_dist, 'cosine'\n",
    "#alternative: dist, metric = dist1, 'euclidean'"
   ]
  },
  {
   "cell_type": "markdown",
   "metadata": {},
   "source": [
    "### load pretrained word vectors\n",
    "source: https://www.kaggle.com/anindya2906/glove6b"
   ]
  },
  {
   "cell_type": "code",
   "execution_count": null,
   "metadata": {},
   "outputs": [
    {
     "name": "stderr",
     "output_type": "stream",
     "text": [
      "INFO:root:loading word embeddings word to vec from path ['../data/glove.6B.100d.txt']\n"
     ]
    }
   ],
   "source": [
    "%time glove_embedding_en = Embedding(language='en', path_list=glove_path_en)"
   ]
  },
  {
   "cell_type": "code",
   "execution_count": null,
   "metadata": {},
   "outputs": [],
   "source": [
    "# working but incredible slow:\n",
    "# lokal: ca 10 sec for 400k\n",
    "# read from aws s3: ca 40 sek for 4k => 4000 sek für 400k => faktor 400 schlechter\n",
    "#%time glove_embedding_en = Embedding(language='en', path=f's3://{BUCKET_NAME}/{FILE_NAME_EN}')"
   ]
  },
  {
   "cell_type": "code",
   "execution_count": null,
   "metadata": {},
   "outputs": [],
   "source": [
    "print(glove_embedding_en.embedding.shape)\n",
    "glove_embedding_en.embedding.head(1)"
   ]
  },
  {
   "cell_type": "code",
   "execution_count": null,
   "metadata": {},
   "outputs": [],
   "source": [
    "#1.3 Mio entries => takes about 1000sec on local machine 1309281, 360 secs after\n",
    "#50k entries => takes 9 sec on local machine before, 6 secs after\n",
    "\n",
    "#50k entries => takes about 9 mins when reading linewise from aws\n",
    "\n",
    "# aws\n",
    "#%time glove_embedding_de = Embedding(language='de', path_list = [f's3://{BUCKET_NAME}/{FILE_NAME_DE}'])\n",
    "\n",
    "#lokal\n",
    "%time glove_embedding_de = Embedding(language='de', path_list=glove_path_de)"
   ]
  },
  {
   "cell_type": "code",
   "execution_count": null,
   "metadata": {},
   "outputs": [],
   "source": [
    "print(glove_embedding_de.embedding.shape)\n",
    "glove_embedding_de.embedding.head(2)"
   ]
  },
  {
   "cell_type": "code",
   "execution_count": null,
   "metadata": {},
   "outputs": [],
   "source": [
    "print(glove_embedding_en.word2vec['tree'][:10])\n",
    "print(glove_embedding_de.word2vec['baum'][:10])"
   ]
  },
  {
   "cell_type": "code",
   "execution_count": null,
   "metadata": {},
   "outputs": [],
   "source": [
    "print(glove_embedding_en.index_to_word[1])\n",
    "print(glove_embedding_de.index_to_word[1])"
   ]
  },
  {
   "cell_type": "code",
   "execution_count": null,
   "metadata": {},
   "outputs": [],
   "source": [
    "print(glove_embedding_en.embedding.shape)\n",
    "print(glove_embedding_de.embedding.shape)"
   ]
  },
  {
   "cell_type": "markdown",
   "metadata": {},
   "source": [
    "# Best of"
   ]
  },
  {
   "cell_type": "code",
   "execution_count": null,
   "metadata": {},
   "outputs": [],
   "source": [
    "glove_embedding_en.find_analogies('man', 'fun', 'woman')"
   ]
  },
  {
   "cell_type": "code",
   "execution_count": null,
   "metadata": {},
   "outputs": [],
   "source": [
    "glove_embedding_de.find_analogies('mann', 'spass', 'frau')"
   ]
  },
  {
   "cell_type": "code",
   "execution_count": null,
   "metadata": {},
   "outputs": [],
   "source": [
    "glove_embedding_en.find_analogies('woman', 'love', 'man')"
   ]
  },
  {
   "cell_type": "code",
   "execution_count": null,
   "metadata": {},
   "outputs": [],
   "source": [
    "glove_embedding_de.find_analogies('frau', 'liebe', 'mann')"
   ]
  },
  {
   "cell_type": "code",
   "execution_count": null,
   "metadata": {},
   "outputs": [],
   "source": [
    "glove_embedding_en.find_analogies('man', 'motivation', 'woman')"
   ]
  },
  {
   "cell_type": "code",
   "execution_count": null,
   "metadata": {},
   "outputs": [],
   "source": [
    "glove_embedding_de.find_analogies('mann', 'motivation', 'frau')"
   ]
  },
  {
   "cell_type": "code",
   "execution_count": null,
   "metadata": {},
   "outputs": [],
   "source": [
    "glove_embedding_en.find_analogies('woman', 'motivation', 'man')"
   ]
  },
  {
   "cell_type": "code",
   "execution_count": null,
   "metadata": {},
   "outputs": [],
   "source": [
    "glove_embedding_de.find_analogies('frau', 'motivation', 'mann')"
   ]
  },
  {
   "cell_type": "code",
   "execution_count": null,
   "metadata": {},
   "outputs": [],
   "source": [
    "glove_embedding_en.find_analogies('man', 'respect', 'woman')"
   ]
  },
  {
   "cell_type": "code",
   "execution_count": null,
   "metadata": {},
   "outputs": [],
   "source": [
    "glove_embedding_de.find_analogies('mann', 'respekt', 'frau')"
   ]
  },
  {
   "cell_type": "code",
   "execution_count": null,
   "metadata": {},
   "outputs": [],
   "source": [
    "glove_embedding_en.find_analogies('man', 'success', 'woman')\n",
    "glove_embedding_de.find_analogies('mann', 'erfolg', 'woman')"
   ]
  },
  {
   "cell_type": "code",
   "execution_count": null,
   "metadata": {},
   "outputs": [],
   "source": [
    "glove_embedding_en.find_analogies('man', 'love', 'woman')\n",
    "glove_embedding_de.find_analogies('mann', 'liebe', 'frau')"
   ]
  },
  {
   "cell_type": "code",
   "execution_count": null,
   "metadata": {},
   "outputs": [],
   "source": [
    "glove_embedding_en.find_analogies('woman', 'mother in law', 'man')\n",
    "glove_embedding_de.find_analogies('frau', 'schwiegermutter', 'mann')\n",
    "glove_embedding_de.find_analogies('mann', 'schwiegervater', 'frau')"
   ]
  },
  {
   "cell_type": "code",
   "execution_count": null,
   "metadata": {},
   "outputs": [],
   "source": [
    "glove_embedding_en.find_analogies('man', 'great', 'woman')\n",
    "glove_embedding_de.find_analogies('mann', 'großartig', 'frau')"
   ]
  },
  {
   "cell_type": "code",
   "execution_count": null,
   "metadata": {},
   "outputs": [],
   "source": []
  },
  {
   "cell_type": "code",
   "execution_count": null,
   "metadata": {},
   "outputs": [],
   "source": [
    "glove_embedding_en.find_analogies('women', 'kids', 'man')\n",
    "glove_embedding_de.find_analogies('frau', 'kinder', 'mann')"
   ]
  },
  {
   "cell_type": "code",
   "execution_count": null,
   "metadata": {},
   "outputs": [],
   "source": [
    "glove_embedding_en.find_analogies('man', 'friends', 'woman')\n",
    "glove_embedding_de.find_analogies('mann', 'freunde', 'frau')"
   ]
  },
  {
   "cell_type": "code",
   "execution_count": null,
   "metadata": {},
   "outputs": [],
   "source": [
    "glove_embedding_en.find_analogies('men', 'friends', 'women')\n",
    "glove_embedding_de.find_analogies('männer', 'freunde', 'frauen')"
   ]
  },
  {
   "cell_type": "code",
   "execution_count": null,
   "metadata": {},
   "outputs": [],
   "source": [
    "glove_embedding_en.find_analogies('woman', 'safety', 'man')\n",
    "glove_embedding_de.find_analogies('frau', 'sicherheit', 'mann')"
   ]
  },
  {
   "cell_type": "code",
   "execution_count": null,
   "metadata": {},
   "outputs": [],
   "source": [
    "glove_embedding_en.find_analogies('women', 'orgasm', 'men')\n",
    "glove_embedding_de.find_analogies('frauen', 'orgasmus', 'männer')"
   ]
  },
  {
   "cell_type": "code",
   "execution_count": null,
   "metadata": {},
   "outputs": [],
   "source": [
    "glove_embedding_en.find_analogies('woman', 'money', 'man')\n",
    "glove_embedding_de.find_analogies('frau', 'geld', 'mann')"
   ]
  },
  {
   "cell_type": "code",
   "execution_count": null,
   "metadata": {},
   "outputs": [],
   "source": []
  },
  {
   "cell_type": "code",
   "execution_count": null,
   "metadata": {},
   "outputs": [],
   "source": [
    "# klappt einfach\n",
    "glove_embedding_en.find_analogies('woman', 'man', 'she')\n",
    "glove_embedding_en.find_analogies('woman', 'man', 'aunt')\n",
    "glove_embedding_en.find_analogies('woman', 'man', 'sister')\n",
    "glove_embedding_en.find_analogies('woman', 'man', 'actress')\n",
    "glove_embedding_en.find_analogies('woman', 'man', 'mother')"
   ]
  },
  {
   "cell_type": "code",
   "execution_count": null,
   "metadata": {},
   "outputs": [],
   "source": [
    "# klappt einfach\n",
    "glove_embedding_de.find_analogies('frau', 'mann', 'sie')\n",
    "glove_embedding_de.find_analogies('frau', 'mann', 'tante')\n",
    "glove_embedding_de.find_analogies('frau', 'mann', 'schwester')\n",
    "glove_embedding_de.find_analogies('frau', 'mann', 'schauspielerin')\n",
    "glove_embedding_de.find_analogies('frau', 'mann', 'mutter')"
   ]
  },
  {
   "cell_type": "code",
   "execution_count": null,
   "metadata": {},
   "outputs": [],
   "source": [
    "#klappt einfach\n",
    "glove_embedding_en.find_analogies('paris', 'france', 'london')\n",
    "glove_embedding_en.find_analogies('paris', 'france', 'rome')\n",
    "glove_embedding_en.find_analogies('france', 'paris', 'italy')\n",
    "glove_embedding_en.find_analogies('florida', 'miami', 'texas')"
   ]
  },
  {
   "cell_type": "code",
   "execution_count": null,
   "metadata": {},
   "outputs": [],
   "source": [
    "glove_embedding_de.find_analogies('frankreich', 'paris', 'london')\n",
    "glove_embedding_de.find_analogies('frankreich', 'paris', 'rom')\n",
    "glove_embedding_de.find_analogies('paris', 'frankreich', 'italien')\n",
    "glove_embedding_de.find_analogies('miami', 'florida', 'texas')"
   ]
  },
  {
   "cell_type": "code",
   "execution_count": null,
   "metadata": {},
   "outputs": [],
   "source": [
    "#klappt einfach\n",
    "glove_embedding_en.find_analogies('november', 'december', 'march')\n",
    "glove_embedding_de.find_analogies('november', 'dezember', 'märz')"
   ]
  },
  {
   "cell_type": "code",
   "execution_count": null,
   "metadata": {},
   "outputs": [],
   "source": [
    "#klappt einfach\n",
    "glove_embedding_en.find_analogies('einstein', 'scientist', 'dali')\n",
    "glove_embedding_de.find_analogies('einstein', 'wissenschaftler', 'merkel')"
   ]
  },
  {
   "cell_type": "code",
   "execution_count": null,
   "metadata": {},
   "outputs": [],
   "source": [
    "# fun\n",
    "glove_embedding_en.find_analogies('china', 'rice', 'germany')\n",
    "glove_embedding_de.find_analogies('china', 'reis', 'deutschland')"
   ]
  },
  {
   "cell_type": "code",
   "execution_count": null,
   "metadata": {},
   "outputs": [],
   "source": [
    "glove_embedding_en.find_analogies('germany', 'beer', 'usa')\n",
    "glove_embedding_de.find_analogies('deutschland', 'bier', 'usa')"
   ]
  },
  {
   "cell_type": "code",
   "execution_count": null,
   "metadata": {},
   "outputs": [],
   "source": [
    "glove_embedding_en.find_analogies('usa', 'freedom', 'germany')\n",
    "glove_embedding_de.find_analogies('usa', 'freiheit', 'deutschland')"
   ]
  },
  {
   "cell_type": "code",
   "execution_count": null,
   "metadata": {},
   "outputs": [],
   "source": [
    "glove_embedding_en.find_analogies('builder', 'building', 'politician')\n",
    "glove_embedding_en.find_analogies('writer', 'book', 'politician')\n",
    "glove_embedding_de.find_analogies('bauarbeiter', 'baustelle', 'politiker')\n",
    "glove_embedding_de.find_analogies('schriftsteller', 'buch', 'politiker')"
   ]
  },
  {
   "cell_type": "code",
   "execution_count": null,
   "metadata": {},
   "outputs": [],
   "source": [
    "glove_embedding_en.find_analogies('hacker', 'code', 'politician')\n",
    "glove_embedding_de.find_analogies('hacker', 'code', 'politiker')"
   ]
  },
  {
   "cell_type": "code",
   "execution_count": null,
   "metadata": {},
   "outputs": [],
   "source": [
    "glove_embedding_en.find_analogies('trump', 'democracy', 'hitler')\n",
    "glove_embedding_de.find_analogies('trump', 'demokratie', 'hitler')"
   ]
  },
  {
   "cell_type": "code",
   "execution_count": null,
   "metadata": {},
   "outputs": [],
   "source": [
    "glove_embedding_de.get_embedding('trump')"
   ]
  },
  {
   "cell_type": "markdown",
   "metadata": {},
   "source": [
    "# nearest neighbors"
   ]
  },
  {
   "cell_type": "code",
   "execution_count": null,
   "metadata": {},
   "outputs": [],
   "source": [
    "glove_embedding_en.nearest_neighbors('france')"
   ]
  },
  {
   "cell_type": "code",
   "execution_count": null,
   "metadata": {},
   "outputs": [],
   "source": [
    "glove_embedding_de.nearest_neighbors('frankreich')"
   ]
  },
  {
   "cell_type": "code",
   "execution_count": null,
   "metadata": {},
   "outputs": [],
   "source": [
    "glove_embedding_en.nearest_neighbors('einstein')\n",
    "glove_embedding_de.nearest_neighbors('einstein')"
   ]
  },
  {
   "cell_type": "code",
   "execution_count": null,
   "metadata": {},
   "outputs": [],
   "source": [
    "glove_embedding_en.nearest_neighbors('trump')\n",
    "glove_embedding_de.nearest_neighbors('trump')"
   ]
  },
  {
   "cell_type": "code",
   "execution_count": null,
   "metadata": {},
   "outputs": [],
   "source": [
    "glove_embedding_en.nearest_neighbors('merkel')\n",
    "glove_embedding_de.nearest_neighbors('merkel')"
   ]
  },
  {
   "cell_type": "code",
   "execution_count": null,
   "metadata": {},
   "outputs": [],
   "source": [
    "glove_embedding_en.nearest_neighbors('procrastination')\n",
    "glove_embedding_de.nearest_neighbors('prokrastination')"
   ]
  },
  {
   "cell_type": "code",
   "execution_count": null,
   "metadata": {},
   "outputs": [],
   "source": [
    "glove_embedding_en.nearest_neighbors('religion')\n",
    "glove_embedding_de.nearest_neighbors('religion')"
   ]
  },
  {
   "cell_type": "code",
   "execution_count": null,
   "metadata": {},
   "outputs": [],
   "source": [
    "nearest_neighbors('woman',index_to_word, word2vec)\n",
    "nearest_neighbors('man',index_to_word, word2vec)\n",
    "nearest_neighbors('nephew',index_to_word, word2vec)"
   ]
  },
  {
   "cell_type": "code",
   "execution_count": null,
   "metadata": {},
   "outputs": [],
   "source": [
    "nearest_neighbors('february',index_to_word, word2vec)\n",
    "nearest_neighbors('success',index_to_word, word2vec)\n",
    "nearest_neighbors('money',index_to_word, word2vec)\n",
    "nearest_neighbors('love',index_to_word, word2vec)"
   ]
  },
  {
   "cell_type": "code",
   "execution_count": null,
   "metadata": {},
   "outputs": [],
   "source": []
  },
  {
   "cell_type": "code",
   "execution_count": null,
   "metadata": {},
   "outputs": [],
   "source": [
    "nearest_neighbors('procrastination', index_to_word, word2vec)"
   ]
  },
  {
   "cell_type": "code",
   "execution_count": null,
   "metadata": {},
   "outputs": [],
   "source": []
  }
 ],
 "metadata": {
  "kernelspec": {
   "display_name": "Python 3 (ipykernel)",
   "language": "python",
   "name": "python3"
  },
  "language_info": {
   "codemirror_mode": {
    "name": "ipython",
    "version": 3
   },
   "file_extension": ".py",
   "mimetype": "text/x-python",
   "name": "python",
   "nbconvert_exporter": "python",
   "pygments_lexer": "ipython3",
   "version": "3.9.6"
  }
 },
 "nbformat": 4,
 "nbformat_minor": 4
}
