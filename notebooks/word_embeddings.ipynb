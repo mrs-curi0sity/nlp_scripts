{
 "cells": [
  {
   "cell_type": "code",
   "execution_count": 1,
   "metadata": {},
   "outputs": [],
   "source": [
    "# Dataset is glove 6B 50T\n",
    "# udemy nlp with python"
   ]
  },
  {
   "cell_type": "markdown",
   "metadata": {},
   "source": [
    "### install dependencies\n",
    "only do this once"
   ]
  },
  {
   "cell_type": "code",
   "execution_count": 1,
   "metadata": {},
   "outputs": [],
   "source": [
    "#! python3 -m venv venv\n",
    "#! source venv/bin/activate\n",
    "#! pip3 install -r requirements.txt\n",
    "#! pip install ipykernel\n",
    "#! python -m ipykernel install --user\n",
    "#! pip install -e ./\n",
    "#! pip freeze"
   ]
  },
  {
   "cell_type": "markdown",
   "metadata": {},
   "source": [
    "### imports"
   ]
  },
  {
   "cell_type": "code",
   "execution_count": 2,
   "metadata": {},
   "outputs": [],
   "source": [
    "from builtins import range\n",
    "import numpy as np\n",
    "import pandas as pd"
   ]
  },
  {
   "cell_type": "code",
   "execution_count": 3,
   "metadata": {},
   "outputs": [],
   "source": [
    "from src.embedding_utilities import euclidean_dist, cosine_dist\n",
    "from src.embedding import Embedding"
   ]
  },
  {
   "cell_type": "code",
   "execution_count": 5,
   "metadata": {},
   "outputs": [
    {
     "output_type": "stream",
     "name": "stdout",
     "text": [
      "hi\n"
     ]
    }
   ],
   "source": [
    "print(\"hi\")"
   ]
  },
  {
   "cell_type": "code",
   "execution_count": null,
   "metadata": {},
   "outputs": [],
   "source": []
  },
  {
   "cell_type": "code",
   "execution_count": 6,
   "metadata": {},
   "outputs": [],
   "source": [
    "glove_path_en = '../../large-files/glove6B/glove.6B.50d.txt'\n",
    "glove_path_de = '../../large-files/GloVe_vectors_de.txt'"
   ]
  },
  {
   "cell_type": "markdown",
   "metadata": {},
   "source": [
    "### the cosine distance does not change when doubeling\n",
    "cosine distance only takes into account angle (the smaller the higher the similarity.)\n",
    "\n",
    "euclidian looks at absolute length"
   ]
  },
  {
   "cell_type": "code",
   "execution_count": 7,
   "metadata": {},
   "outputs": [
    {
     "output_type": "stream",
     "name": "stdout",
     "text": [
      "euclidian distance 1.0\ncosine distance 0.05131670194948623\n"
     ]
    }
   ],
   "source": [
    "a = pd.Series([1,1])\n",
    "b = pd.Series([1,2])\n",
    "print(f'euclidian distance {euclidean_dist(a,b)}')\n",
    "print(f'cosine distance {cosine_dist(a,b)}')"
   ]
  },
  {
   "cell_type": "code",
   "execution_count": 8,
   "metadata": {},
   "outputs": [
    {
     "output_type": "stream",
     "name": "stdout",
     "text": [
      "euclidian distance 2.0\ncosine distance 0.05131670194948623\n"
     ]
    }
   ],
   "source": [
    "a_double = a*2\n",
    "b_double = b*2\n",
    "print(f'euclidian distance {euclidean_dist(a_double,b_double)}')\n",
    "print(f'cosine distance {cosine_dist(a_double,b_double)}')"
   ]
  },
  {
   "cell_type": "code",
   "execution_count": 9,
   "metadata": {},
   "outputs": [],
   "source": [
    "dist, metric = cosine_dist, 'cosine'\n",
    "#alternative: dist, metric = dist1, 'euclidean'"
   ]
  },
  {
   "cell_type": "markdown",
   "metadata": {},
   "source": [
    "### load pretrained word vectors\n",
    "source: https://www.kaggle.com/anindya2906/glove6b"
   ]
  },
  {
   "cell_type": "code",
   "execution_count": 10,
   "metadata": {},
   "outputs": [
    {
     "output_type": "stream",
     "name": "stdout",
     "text": [
      "loading word embeddings word to vec from path ../../large-files/glove6B/glove.6B.50d.txt\n",
      "line number 160000\n",
      "1,494 -0.14599 -\n",
      "line number 320000\n",
      "jaycox -0.13038 \n",
      "total number of entries found:  400000. Dimension: 50\n",
      "(400000, 50)\n"
     ]
    },
    {
     "output_type": "execute_result",
     "data": {
      "text/plain": [
       "        0        1        2       3        4         5        6        7   \\\n",
       "the  0.418  0.24968 -0.41242  0.1217  0.34527 -0.044457 -0.49688 -0.17862   \n",
       "\n",
       "          8       9   ...       40       41       42        43       44  \\\n",
       "the -0.00066 -0.6566  ... -0.29871 -0.15749 -0.34758 -0.045637 -0.44251   \n",
       "\n",
       "          45        46       47       48       49  \n",
       "the  0.18785  0.002785 -0.18411 -0.11514 -0.78581  \n",
       "\n",
       "[1 rows x 50 columns]"
      ],
      "text/html": "<div>\n<style scoped>\n    .dataframe tbody tr th:only-of-type {\n        vertical-align: middle;\n    }\n\n    .dataframe tbody tr th {\n        vertical-align: top;\n    }\n\n    .dataframe thead th {\n        text-align: right;\n    }\n</style>\n<table border=\"1\" class=\"dataframe\">\n  <thead>\n    <tr style=\"text-align: right;\">\n      <th></th>\n      <th>0</th>\n      <th>1</th>\n      <th>2</th>\n      <th>3</th>\n      <th>4</th>\n      <th>5</th>\n      <th>6</th>\n      <th>7</th>\n      <th>8</th>\n      <th>9</th>\n      <th>...</th>\n      <th>40</th>\n      <th>41</th>\n      <th>42</th>\n      <th>43</th>\n      <th>44</th>\n      <th>45</th>\n      <th>46</th>\n      <th>47</th>\n      <th>48</th>\n      <th>49</th>\n    </tr>\n  </thead>\n  <tbody>\n    <tr>\n      <th>the</th>\n      <td>0.418</td>\n      <td>0.24968</td>\n      <td>-0.41242</td>\n      <td>0.1217</td>\n      <td>0.34527</td>\n      <td>-0.044457</td>\n      <td>-0.49688</td>\n      <td>-0.17862</td>\n      <td>-0.00066</td>\n      <td>-0.6566</td>\n      <td>...</td>\n      <td>-0.29871</td>\n      <td>-0.15749</td>\n      <td>-0.34758</td>\n      <td>-0.045637</td>\n      <td>-0.44251</td>\n      <td>0.18785</td>\n      <td>0.002785</td>\n      <td>-0.18411</td>\n      <td>-0.11514</td>\n      <td>-0.78581</td>\n    </tr>\n  </tbody>\n</table>\n<p>1 rows × 50 columns</p>\n</div>"
     },
     "metadata": {},
     "execution_count": 10
    }
   ],
   "source": [
    "glove_embedding_en = Embedding(language='en', path=glove_path_en)\n",
    "print(glove_embedding_en.embedding.shape)\n",
    "glove_embedding_en.embedding.head(1)"
   ]
  },
  {
   "cell_type": "code",
   "execution_count": 13,
   "metadata": {},
   "outputs": [
    {
     "output_type": "stream",
     "name": "stdout",
     "text": [
      "loading word embeddings word to vec from path ../../large-files/GloVe_vectors_de.txt\n",
      "line number 160000\n",
      "dornfortsätze 0.\n",
      "line number 320000\n",
      "häselgehr 0.0326\n"
     ]
    },
    {
     "output_type": "error",
     "ename": "KeyboardInterrupt",
     "evalue": "",
     "traceback": [
      "\u001b[0;31m---------------------------------------------------------------------------\u001b[0m",
      "\u001b[0;31mKeyboardInterrupt\u001b[0m                         Traceback (most recent call last)",
      "\u001b[0;32m/var/folders/_n/ks2p05ts5zn6q171vklt92t00000gp/T/ipykernel_72978/3415720631.py\u001b[0m in \u001b[0;36m<module>\u001b[0;34m\u001b[0m\n\u001b[0;32m----> 1\u001b[0;31m \u001b[0mglove_embedding_de\u001b[0m \u001b[0;34m=\u001b[0m \u001b[0mEmbedding\u001b[0m\u001b[0;34m(\u001b[0m\u001b[0mlanguage\u001b[0m\u001b[0;34m=\u001b[0m\u001b[0;34m'de'\u001b[0m\u001b[0;34m,\u001b[0m \u001b[0mpath\u001b[0m\u001b[0;34m=\u001b[0m\u001b[0mglove_path_de\u001b[0m\u001b[0;34m)\u001b[0m\u001b[0;34m\u001b[0m\u001b[0;34m\u001b[0m\u001b[0m\n\u001b[0m\u001b[1;32m      2\u001b[0m \u001b[0mprint\u001b[0m\u001b[0;34m(\u001b[0m\u001b[0mglove_embedding_de\u001b[0m\u001b[0;34m.\u001b[0m\u001b[0membedding\u001b[0m\u001b[0;34m.\u001b[0m\u001b[0mshape\u001b[0m\u001b[0;34m)\u001b[0m\u001b[0;34m\u001b[0m\u001b[0;34m\u001b[0m\u001b[0m\n\u001b[1;32m      3\u001b[0m \u001b[0mglove_embedding_de\u001b[0m\u001b[0;34m.\u001b[0m\u001b[0membedding\u001b[0m\u001b[0;34m.\u001b[0m\u001b[0mhead\u001b[0m\u001b[0;34m(\u001b[0m\u001b[0;36m1\u001b[0m\u001b[0;34m)\u001b[0m\u001b[0;34m\u001b[0m\u001b[0;34m\u001b[0m\u001b[0m\n",
      "\u001b[0;32m~/code/nlp_scripts/src/embedding.py\u001b[0m in \u001b[0;36m__init__\u001b[0;34m(self, language, path, dist, metric)\u001b[0m\n\u001b[1;32m     13\u001b[0m         \u001b[0mself\u001b[0m\u001b[0;34m.\u001b[0m\u001b[0mdist\u001b[0m \u001b[0;34m=\u001b[0m \u001b[0mdist\u001b[0m\u001b[0;34m\u001b[0m\u001b[0;34m\u001b[0m\u001b[0m\n\u001b[1;32m     14\u001b[0m         \u001b[0mself\u001b[0m\u001b[0;34m.\u001b[0m\u001b[0mmetric\u001b[0m \u001b[0;34m=\u001b[0m \u001b[0mmetric\u001b[0m\u001b[0;34m\u001b[0m\u001b[0;34m\u001b[0m\u001b[0m\n\u001b[0;32m---> 15\u001b[0;31m         \u001b[0mself\u001b[0m\u001b[0;34m.\u001b[0m\u001b[0mword2vec\u001b[0m\u001b[0;34m,\u001b[0m \u001b[0mself\u001b[0m\u001b[0;34m.\u001b[0m\u001b[0membedding\u001b[0m\u001b[0;34m,\u001b[0m \u001b[0mself\u001b[0m\u001b[0;34m.\u001b[0m\u001b[0mindex_to_word\u001b[0m \u001b[0;34m=\u001b[0m \u001b[0mself\u001b[0m\u001b[0;34m.\u001b[0m\u001b[0mload_word2vec\u001b[0m\u001b[0;34m(\u001b[0m\u001b[0;34m)\u001b[0m\u001b[0;34m\u001b[0m\u001b[0;34m\u001b[0m\u001b[0m\n\u001b[0m\u001b[1;32m     16\u001b[0m         \u001b[0mself\u001b[0m\u001b[0;34m.\u001b[0m\u001b[0mV\u001b[0m\u001b[0;34m,\u001b[0m \u001b[0mself\u001b[0m\u001b[0;34m.\u001b[0m\u001b[0mD\u001b[0m \u001b[0;34m=\u001b[0m \u001b[0mself\u001b[0m\u001b[0;34m.\u001b[0m\u001b[0membedding\u001b[0m\u001b[0;34m.\u001b[0m\u001b[0mshape\u001b[0m\u001b[0;34m\u001b[0m\u001b[0;34m\u001b[0m\u001b[0m\n\u001b[1;32m     17\u001b[0m \u001b[0;34m\u001b[0m\u001b[0m\n",
      "\u001b[0;32m~/code/nlp_scripts/src/embedding.py\u001b[0m in \u001b[0;36mload_word2vec\u001b[0;34m(self)\u001b[0m\n\u001b[1;32m     28\u001b[0m             \u001b[0mnum\u001b[0m \u001b[0;34m=\u001b[0m \u001b[0;36m0\u001b[0m\u001b[0;34m\u001b[0m\u001b[0;34m\u001b[0m\u001b[0m\n\u001b[1;32m     29\u001b[0m             \u001b[0;32mfor\u001b[0m \u001b[0mline\u001b[0m \u001b[0;32min\u001b[0m \u001b[0mfile\u001b[0m\u001b[0;34m:\u001b[0m\u001b[0;34m\u001b[0m\u001b[0;34m\u001b[0m\u001b[0m\n\u001b[0;32m---> 30\u001b[0;31m                 \u001b[0mvalues\u001b[0m \u001b[0;34m=\u001b[0m \u001b[0mline\u001b[0m\u001b[0;34m.\u001b[0m\u001b[0msplit\u001b[0m\u001b[0;34m(\u001b[0m\u001b[0;34m)\u001b[0m\u001b[0;34m\u001b[0m\u001b[0;34m\u001b[0m\u001b[0m\n\u001b[0m\u001b[1;32m     31\u001b[0m \u001b[0;34m\u001b[0m\u001b[0m\n\u001b[1;32m     32\u001b[0m                 \u001b[0mword\u001b[0m \u001b[0;34m=\u001b[0m \u001b[0mvalues\u001b[0m\u001b[0;34m[\u001b[0m\u001b[0;36m0\u001b[0m\u001b[0;34m]\u001b[0m\u001b[0;34m\u001b[0m\u001b[0;34m\u001b[0m\u001b[0m\n",
      "\u001b[0;31mKeyboardInterrupt\u001b[0m: "
     ]
    }
   ],
   "source": [
    "glove_embedding_de = Embedding(language='de', path=glove_path_de)\n",
    "print(glove_embedding_de.embedding.shape)\n",
    "glove_embedding_de.embedding.head(1)"
   ]
  },
  {
   "cell_type": "code",
   "execution_count": null,
   "metadata": {},
   "outputs": [],
   "source": [
    "print(glove_embedding_en.word2vec['tree'][:10])\n",
    "print(glove_embedding_de.word2vec['baum'][:10])"
   ]
  },
  {
   "cell_type": "code",
   "execution_count": null,
   "metadata": {},
   "outputs": [],
   "source": [
    "print(glove_embedding_en.index_to_word[1])\n",
    "print(glove_embedding_de.index_to_word[1])"
   ]
  },
  {
   "cell_type": "code",
   "execution_count": null,
   "metadata": {},
   "outputs": [],
   "source": [
    "print(glove_embedding_en.embedding.shape)\n",
    "print(glove_embedding_de.embedding.shape)"
   ]
  },
  {
   "cell_type": "markdown",
   "metadata": {},
   "source": [
    "# Best of"
   ]
  },
  {
   "cell_type": "code",
   "execution_count": null,
   "metadata": {},
   "outputs": [],
   "source": [
    "glove_embedding_en.find_analogies('fun', 'man', 'woman')\n",
    "glove_embedding_de.find_analogies('freude', 'mann', 'frau')"
   ]
  },
  {
   "cell_type": "code",
   "execution_count": null,
   "metadata": {},
   "outputs": [],
   "source": [
    "glove_embedding_en.find_analogies('love', 'woman', 'man')\n",
    "glove_embedding_de.find_analogies('liebe', 'frau', 'mann')"
   ]
  },
  {
   "cell_type": "code",
   "execution_count": null,
   "metadata": {},
   "outputs": [],
   "source": [
    "glove_embedding_en.find_analogies('motivation', 'man', 'woman')\n",
    "glove_embedding_de.find_analogies('motivation', 'mann', 'frau')"
   ]
  },
  {
   "cell_type": "code",
   "execution_count": null,
   "metadata": {},
   "outputs": [],
   "source": [
    "glove_embedding_en.find_analogies('motivation', 'woman', 'man')\n",
    "glove_embedding_de.find_analogies('motivation', 'frau', 'mann')"
   ]
  },
  {
   "cell_type": "code",
   "execution_count": null,
   "metadata": {},
   "outputs": [],
   "source": [
    "glove_embedding_en.find_analogies('respect', 'man', 'woman')\n",
    "glove_embedding_de.find_analogies('respekt', 'mann', 'frau')"
   ]
  },
  {
   "cell_type": "code",
   "execution_count": null,
   "metadata": {},
   "outputs": [],
   "source": [
    "glove_embedding_en.find_analogies('success', 'man', 'woman')\n",
    "glove_embedding_de.find_analogies('erfolg', 'mann', 'woman')"
   ]
  },
  {
   "cell_type": "code",
   "execution_count": null,
   "metadata": {},
   "outputs": [],
   "source": [
    "glove_embedding_en.find_analogies('love', 'man', 'woman')\n",
    "glove_embedding_de.find_analogies('liebe', 'mann', 'frau')"
   ]
  },
  {
   "cell_type": "code",
   "execution_count": null,
   "metadata": {},
   "outputs": [],
   "source": [
    "glove_embedding_en.find_analogies('great', 'man', 'woman')\n",
    "glove_embedding_de.find_analogies('großartig', 'mann', 'frau')"
   ]
  },
  {
   "cell_type": "code",
   "execution_count": null,
   "metadata": {},
   "outputs": [],
   "source": [
    "glove_embedding_en.find_analogies('kids', 'woman', 'man')\n",
    "glove_embedding_de.find_analogies('kinder', 'frau', 'mann')"
   ]
  },
  {
   "cell_type": "code",
   "execution_count": null,
   "metadata": {},
   "outputs": [],
   "source": [
    "glove_embedding_en.find_analogies('friends', 'woman', 'man')\n",
    "glove_embedding_de.find_analogies('freund', 'frau', 'mann')"
   ]
  },
  {
   "cell_type": "code",
   "execution_count": null,
   "metadata": {},
   "outputs": [],
   "source": [
    "glove_embedding_en.find_analogies('friends', 'men', 'women')\n",
    "glove_embedding_de.find_analogies('freunde', 'männer', 'frauen')"
   ]
  },
  {
   "cell_type": "code",
   "execution_count": null,
   "metadata": {},
   "outputs": [],
   "source": [
    "glove_embedding_en.find_analogies('safety', 'woman', 'man')\n",
    "glove_embedding_de.find_analogies('sicherheit', 'frau', 'mann')"
   ]
  },
  {
   "cell_type": "code",
   "execution_count": null,
   "metadata": {},
   "outputs": [],
   "source": [
    "glove_embedding_en.find_analogies('orgasm', 'woman', 'men')\n",
    "glove_embedding_de.find_analogies('orgasmus', 'frauen', 'männer')"
   ]
  },
  {
   "cell_type": "code",
   "execution_count": null,
   "metadata": {},
   "outputs": [],
   "source": []
  },
  {
   "cell_type": "code",
   "execution_count": null,
   "metadata": {},
   "outputs": [],
   "source": []
  },
  {
   "cell_type": "code",
   "execution_count": null,
   "metadata": {},
   "outputs": [],
   "source": [
    "# klappt einfach\n",
    "glove_embedding_en.find_analogies('man', 'woman', 'she')\n",
    "glove_embedding_en.find_analogies('man', 'woman', 'aunt')\n",
    "glove_embedding_en.find_analogies('man', 'woman', 'sister')\n",
    "glove_embedding_en.find_analogies('man', 'woman', 'actress')\n",
    "glove_embedding_en.find_analogies('man', 'woman', 'mother')"
   ]
  },
  {
   "cell_type": "code",
   "execution_count": null,
   "metadata": {},
   "outputs": [],
   "source": [
    "# klappt einfach\n",
    "glove_embedding_de.find_analogies('mann', 'frau', 'sie')\n",
    "glove_embedding_de.find_analogies('mann', 'frau', 'tante')\n",
    "glove_embedding_de.find_analogies('mann', 'frau', 'schwester')\n",
    "glove_embedding_de.find_analogies('mann', 'frau', 'schauspielerin')\n",
    "glove_embedding_de.find_analogies('mann', 'frau', 'mutter')"
   ]
  },
  {
   "cell_type": "code",
   "execution_count": null,
   "metadata": {},
   "outputs": [],
   "source": [
    "#klappt einfach\n",
    "glove_embedding_en.find_analogies('france', 'paris', 'london')\n",
    "glove_embedding_en.find_analogies('france', 'paris', 'rome')\n",
    "glove_embedding_en.find_analogies('paris', 'france', 'italy')\n",
    "glove_embedding_en.find_analogies('miami', 'florida', 'texas')"
   ]
  },
  {
   "cell_type": "code",
   "execution_count": null,
   "metadata": {},
   "outputs": [],
   "source": [
    "glove_embedding_de.find_analogies('frankreich', 'paris', 'london')\n",
    "glove_embedding_de.find_analogies('frankreich', 'paris', 'rom')\n",
    "glove_embedding_de.find_analogies('paris', 'frankreich', 'italien')\n",
    "glove_embedding_de.find_analogies('miami', 'florida', 'texas')"
   ]
  },
  {
   "cell_type": "code",
   "execution_count": null,
   "metadata": {},
   "outputs": [],
   "source": [
    "#klappt einfach\n",
    "glove_embedding_en.find_analogies('november', 'december', 'march')\n",
    "glove_embedding_de.find_analogies('november', 'dezember', 'märz')"
   ]
  },
  {
   "cell_type": "code",
   "execution_count": null,
   "metadata": {},
   "outputs": [],
   "source": [
    "#klappt einfach\n",
    "glove_embedding_en.find_analogies('einstein', 'scientist', 'painter')\n",
    "glove_embedding_de.find_analogies('einstein', 'wissenschaftler', 'maler')"
   ]
  },
  {
   "cell_type": "code",
   "execution_count": null,
   "metadata": {},
   "outputs": [],
   "source": [
    "# fun\n",
    "glove_embedding_en.find_analogies('rice', 'china', 'germany')\n",
    "glove_embedding_de.find_analogies('reis', 'china', 'deutschland')"
   ]
  },
  {
   "cell_type": "code",
   "execution_count": null,
   "metadata": {},
   "outputs": [],
   "source": [
    "glove_embedding_en.find_analogies('beer', 'germany', 'usa')\n",
    "glove_embedding_de.find_analogies('bier', 'deutschland', 'usa')"
   ]
  },
  {
   "cell_type": "code",
   "execution_count": null,
   "metadata": {},
   "outputs": [],
   "source": [
    "glove_embedding_en.find_analogies('freedom', 'usa', 'germany')\n",
    "glove_embedding_de.find_analogies('freiheit', 'usa', 'deutschland')"
   ]
  },
  {
   "cell_type": "code",
   "execution_count": null,
   "metadata": {},
   "outputs": [],
   "source": [
    "glove_embedding_en.find_analogies('building', 'builder', 'politician')\n",
    "glove_embedding_en.find_analogies('book', 'writer', 'politician')\n",
    "glove_embedding_de.find_analogies('baustelle', 'bauarbeiter', 'politiker')\n",
    "glove_embedding_de.find_analogies('buch', 'schriftsteller', 'politiker')"
   ]
  },
  {
   "cell_type": "code",
   "execution_count": null,
   "metadata": {},
   "outputs": [],
   "source": [
    "glove_embedding_en.find_analogies('code', 'hacker', 'politician')\n",
    "glove_embedding_de.find_analogies('code', 'hacker', 'politiker')"
   ]
  },
  {
   "cell_type": "markdown",
   "metadata": {},
   "source": [
    "# nearest neighbors"
   ]
  },
  {
   "cell_type": "code",
   "execution_count": null,
   "metadata": {},
   "outputs": [],
   "source": [
    "glove_embedding_en.nearest_neighbors('france')"
   ]
  },
  {
   "cell_type": "code",
   "execution_count": null,
   "metadata": {},
   "outputs": [],
   "source": [
    "glove_embedding_de.nearest_neighbors('frankreich')"
   ]
  },
  {
   "cell_type": "code",
   "execution_count": null,
   "metadata": {},
   "outputs": [],
   "source": [
    "glove_embedding_en.nearest_neighbors('einstein')\n",
    "glove_embedding_de.nearest_neighbors('einstein')"
   ]
  },
  {
   "cell_type": "code",
   "execution_count": null,
   "metadata": {},
   "outputs": [],
   "source": [
    "glove_embedding_en.nearest_neighbors('trump')\n",
    "glove_embedding_de.nearest_neighbors('trump')"
   ]
  },
  {
   "cell_type": "code",
   "execution_count": null,
   "metadata": {},
   "outputs": [],
   "source": [
    "glove_embedding_en.nearest_neighbors('merkel')\n",
    "glove_embedding_de.nearest_neighbors('merkel')"
   ]
  },
  {
   "cell_type": "code",
   "execution_count": null,
   "metadata": {},
   "outputs": [],
   "source": [
    "glove_embedding_en.nearest_neighbors('procrastination')\n",
    "glove_embedding_de.nearest_neighbors('prokrastination')"
   ]
  },
  {
   "cell_type": "code",
   "execution_count": null,
   "metadata": {},
   "outputs": [],
   "source": [
    "glove_embedding_en.nearest_neighbors('religion')\n",
    "glove_embedding_de.nearest_neighbors('religion')"
   ]
  },
  {
   "cell_type": "code",
   "execution_count": null,
   "metadata": {},
   "outputs": [],
   "source": [
    "nearest_neighbors('woman',index_to_word, word2vec)\n",
    "nearest_neighbors('man',index_to_word, word2vec)\n",
    "nearest_neighbors('nephew',index_to_word, word2vec)"
   ]
  },
  {
   "cell_type": "code",
   "execution_count": null,
   "metadata": {},
   "outputs": [],
   "source": [
    "nearest_neighbors('february',index_to_word, word2vec)\n",
    "nearest_neighbors('success',index_to_word, word2vec)\n",
    "nearest_neighbors('money',index_to_word, word2vec)\n",
    "nearest_neighbors('love',index_to_word, word2vec)"
   ]
  },
  {
   "cell_type": "code",
   "execution_count": null,
   "metadata": {},
   "outputs": [],
   "source": []
  },
  {
   "cell_type": "code",
   "execution_count": null,
   "metadata": {},
   "outputs": [],
   "source": [
    "nearest_neighbors('procrastination', index_to_word, word2vec)"
   ]
  },
  {
   "cell_type": "code",
   "execution_count": null,
   "metadata": {},
   "outputs": [],
   "source": []
  }
 ],
 "metadata": {
  "kernelspec": {
   "name": "python3",
   "display_name": "Python 3.9.6  ('venv': venv)"
  },
  "language_info": {
   "codemirror_mode": {
    "name": "ipython",
    "version": 3
   },
   "file_extension": ".py",
   "mimetype": "text/x-python",
   "name": "python",
   "nbconvert_exporter": "python",
   "pygments_lexer": "ipython3",
   "version": "3.9.6"
  }
 },
 "nbformat": 4,
 "nbformat_minor": 4
}