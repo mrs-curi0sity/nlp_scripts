{
 "cells": [
  {
   "cell_type": "markdown",
   "metadata": {},
   "source": [
    "### install dependencies\n",
    "only do this once"
   ]
  },
  {
   "cell_type": "code",
   "execution_count": 1,
   "metadata": {},
   "outputs": [],
   "source": [
    "#! python3 -m venv venv\n",
    "#! source venv/bin/activate\n",
    "#! pip3 install -r requirements.txt\n",
    "#! pip install ipykernel\n",
    "#! python -m ipykernel install --user\n",
    "#! pip install -e ./\n",
    "#! pip freeze"
   ]
  },
  {
   "cell_type": "markdown",
   "metadata": {},
   "source": [
    "### imports"
   ]
  },
  {
   "cell_type": "code",
   "execution_count": 14,
   "metadata": {},
   "outputs": [],
   "source": [
    "from builtins import range\n",
    "import numpy as np\n",
    "import pandas as pd\n",
    "import os\n",
    "import logging"
   ]
  },
  {
   "cell_type": "code",
   "execution_count": 15,
   "metadata": {},
   "outputs": [],
   "source": [
    "from src.embedding_utilities import euclidean_dist, cosine_dist\n",
    "from src.embedding import Embedding"
   ]
  },
  {
   "cell_type": "code",
   "execution_count": 16,
   "metadata": {},
   "outputs": [],
   "source": [
    "logging.basicConfig(encoding='utf-8', level=logging.INFO)"
   ]
  },
  {
   "cell_type": "code",
   "execution_count": null,
   "metadata": {},
   "outputs": [],
   "source": []
  },
  {
   "cell_type": "markdown",
   "metadata": {},
   "source": [
    "# define paths"
   ]
  },
  {
   "cell_type": "code",
   "execution_count": 17,
   "metadata": {},
   "outputs": [],
   "source": [
    "#s3_client = boto3.client('s3')\n",
    "BUCKET_NAME = 'ma-2021-07-word-embeddings'\n",
    "FILE_NAME_EN = 'glove.6B.300d.txt'\n",
    "FILE_NAME_DE = 'GloVe_vectors_de_10_test_file.txt '#'GloVe_vectors_de_50000.txt'"
   ]
  },
  {
   "cell_type": "code",
   "execution_count": 19,
   "metadata": {},
   "outputs": [],
   "source": [
    "glove_path_en = ['../data/glove.6B.100d.txt']\n",
    "#glove_path_de = ['../data/GloVe_vectors_de_part_01.txt', '../data/GloVe_vectors_de_part_02.txt']\n",
    "glove_path_de = ['../data/GloVe_vectors_de_50000.txt']#['../data/GloVe_vectors_de.txt']"
   ]
  },
  {
   "cell_type": "markdown",
   "metadata": {},
   "source": [
    "### the cosine distance does not change when doubeling\n",
    "cosine distance only takes into account angle (the smaller the higher the similarity.)\n",
    "\n",
    "euclidian looks at absolute length"
   ]
  },
  {
   "cell_type": "code",
   "execution_count": 20,
   "metadata": {},
   "outputs": [
    {
     "name": "stdout",
     "output_type": "stream",
     "text": [
      "euclidian distance 1.0\n",
      "cosine distance 0.05131670194948623\n"
     ]
    }
   ],
   "source": [
    "a = pd.Series([1,1])\n",
    "b = pd.Series([1,2])\n",
    "print(f'euclidian distance {euclidean_dist(a,b)}')\n",
    "print(f'cosine distance {cosine_dist(a,b)}')"
   ]
  },
  {
   "cell_type": "code",
   "execution_count": 21,
   "metadata": {},
   "outputs": [
    {
     "name": "stdout",
     "output_type": "stream",
     "text": [
      "euclidian distance 2.0\n",
      "cosine distance 0.05131670194948623\n"
     ]
    }
   ],
   "source": [
    "a_double = a*2\n",
    "b_double = b*2\n",
    "print(f'euclidian distance {euclidean_dist(a_double,b_double)}')\n",
    "print(f'cosine distance {cosine_dist(a_double,b_double)}')"
   ]
  },
  {
   "cell_type": "code",
   "execution_count": 22,
   "metadata": {},
   "outputs": [],
   "source": [
    "dist, metric = cosine_dist, 'cosine'\n",
    "#alternative: dist, metric = dist1, 'euclidean'"
   ]
  },
  {
   "cell_type": "markdown",
   "metadata": {},
   "source": [
    "### load pretrained word vectors\n",
    "source: https://www.kaggle.com/anindya2906/glove6b"
   ]
  },
  {
   "cell_type": "code",
   "execution_count": 23,
   "metadata": {
    "tags": []
   },
   "outputs": [],
   "source": [
    "import s3fs\n",
    "import csv"
   ]
  },
  {
   "cell_type": "code",
   "execution_count": 11,
   "metadata": {
    "tags": []
   },
   "outputs": [
    {
     "name": "stdout",
     "output_type": "stream",
     "text": [
      "[20/Aug/2021 10:49:47] INFO - loading word embeddings word to vec from path ['s3://ma-2021-07-word-embeddings/GloVe_vectors_de_10_test_file.txt']\n",
      "[20/Aug/2021 10:49:47] INFO - Found credentials in shared credentials file: ~/.aws/credentials\n",
      "[20/Aug/2021 10:49:48] INFO - read in embeddings of shape (8, 300)\n"
     ]
    }
   ],
   "source": [
    "path_list = [f's3://{BUCKET_NAME}/{FILE_NAME_DE}']\n",
    "logging.info(f'loading word embeddings word to vec from path {path_list}')\n",
    "df_embeddings = pd.concat([pd.read_csv(path, sep=' ', index_col=0, header=None, engine='python', quoting=csv.QUOTE_NONE) for path in path_list])\n",
    "df_embeddings = df_embeddings[df_embeddings.index.notnull()] # es gibt im 50k datensatz eine NaN Zeile, die gedroppt werden sollte\n",
    "logging.info(f'read in embeddings of shape {df_embeddings.shape}')\n",
    "df_embeddings.head()"
   ]
  },
  {
   "cell_type": "code",
   "execution_count": 13,
   "metadata": {},
   "outputs": [
    {
     "data": {
      "text/html": [
       "<div>\n",
       "<style scoped>\n",
       "    .dataframe tbody tr th:only-of-type {\n",
       "        vertical-align: middle;\n",
       "    }\n",
       "\n",
       "    .dataframe tbody tr th {\n",
       "        vertical-align: top;\n",
       "    }\n",
       "\n",
       "    .dataframe thead th {\n",
       "        text-align: right;\n",
       "    }\n",
       "</style>\n",
       "<table border=\"1\" class=\"dataframe\">\n",
       "  <thead>\n",
       "    <tr style=\"text-align: right;\">\n",
       "      <th></th>\n",
       "      <th>1</th>\n",
       "      <th>2</th>\n",
       "      <th>3</th>\n",
       "      <th>4</th>\n",
       "      <th>5</th>\n",
       "      <th>6</th>\n",
       "      <th>7</th>\n",
       "      <th>8</th>\n",
       "      <th>9</th>\n",
       "      <th>10</th>\n",
       "      <th>...</th>\n",
       "      <th>291</th>\n",
       "      <th>292</th>\n",
       "      <th>293</th>\n",
       "      <th>294</th>\n",
       "      <th>295</th>\n",
       "      <th>296</th>\n",
       "      <th>297</th>\n",
       "      <th>298</th>\n",
       "      <th>299</th>\n",
       "      <th>300</th>\n",
       "    </tr>\n",
       "    <tr>\n",
       "      <th>0</th>\n",
       "      <th></th>\n",
       "      <th></th>\n",
       "      <th></th>\n",
       "      <th></th>\n",
       "      <th></th>\n",
       "      <th></th>\n",
       "      <th></th>\n",
       "      <th></th>\n",
       "      <th></th>\n",
       "      <th></th>\n",
       "      <th></th>\n",
       "      <th></th>\n",
       "      <th></th>\n",
       "      <th></th>\n",
       "      <th></th>\n",
       "      <th></th>\n",
       "      <th></th>\n",
       "      <th></th>\n",
       "      <th></th>\n",
       "      <th></th>\n",
       "      <th></th>\n",
       "    </tr>\n",
       "  </thead>\n",
       "  <tbody>\n",
       "    <tr>\n",
       "      <th>starke</th>\n",
       "      <td>-0.285092</td>\n",
       "      <td>-0.350144</td>\n",
       "      <td>0.066122</td>\n",
       "      <td>-0.059022</td>\n",
       "      <td>-0.074293</td>\n",
       "      <td>0.105105</td>\n",
       "      <td>-0.091429</td>\n",
       "      <td>-0.379363</td>\n",
       "      <td>-0.471944</td>\n",
       "      <td>-0.038044</td>\n",
       "      <td>...</td>\n",
       "      <td>-0.046795</td>\n",
       "      <td>0.486627</td>\n",
       "      <td>0.092285</td>\n",
       "      <td>0.394796</td>\n",
       "      <td>-0.386349</td>\n",
       "      <td>0.016992</td>\n",
       "      <td>0.315967</td>\n",
       "      <td>0.434802</td>\n",
       "      <td>-0.198200</td>\n",
       "      <td>-0.065318</td>\n",
       "    </tr>\n",
       "    <tr>\n",
       "      <th>mittagszeit</th>\n",
       "      <td>0.402801</td>\n",
       "      <td>-0.000529</td>\n",
       "      <td>-0.063135</td>\n",
       "      <td>-0.429702</td>\n",
       "      <td>0.059168</td>\n",
       "      <td>-0.181313</td>\n",
       "      <td>0.278056</td>\n",
       "      <td>-0.885087</td>\n",
       "      <td>-0.528817</td>\n",
       "      <td>0.113312</td>\n",
       "      <td>...</td>\n",
       "      <td>-0.310075</td>\n",
       "      <td>-0.564392</td>\n",
       "      <td>-0.512391</td>\n",
       "      <td>-0.061537</td>\n",
       "      <td>-0.261750</td>\n",
       "      <td>0.100853</td>\n",
       "      <td>0.032682</td>\n",
       "      <td>0.089461</td>\n",
       "      <td>0.310686</td>\n",
       "      <td>0.315627</td>\n",
       "    </tr>\n",
       "    <tr>\n",
       "      <th>östlichen</th>\n",
       "      <td>-0.404085</td>\n",
       "      <td>0.184555</td>\n",
       "      <td>-0.099343</td>\n",
       "      <td>0.224999</td>\n",
       "      <td>-0.547287</td>\n",
       "      <td>-0.232835</td>\n",
       "      <td>0.416266</td>\n",
       "      <td>0.546959</td>\n",
       "      <td>-0.405216</td>\n",
       "      <td>0.145357</td>\n",
       "      <td>...</td>\n",
       "      <td>-0.121708</td>\n",
       "      <td>-0.263284</td>\n",
       "      <td>0.427416</td>\n",
       "      <td>-0.200418</td>\n",
       "      <td>0.057937</td>\n",
       "      <td>0.020421</td>\n",
       "      <td>0.055736</td>\n",
       "      <td>0.313623</td>\n",
       "      <td>0.598803</td>\n",
       "      <td>0.050427</td>\n",
       "    </tr>\n",
       "    <tr>\n",
       "      <th>pumpen</th>\n",
       "      <td>0.366514</td>\n",
       "      <td>-0.275178</td>\n",
       "      <td>-0.337030</td>\n",
       "      <td>-0.311622</td>\n",
       "      <td>0.410426</td>\n",
       "      <td>0.021424</td>\n",
       "      <td>-0.228994</td>\n",
       "      <td>-0.634361</td>\n",
       "      <td>0.073496</td>\n",
       "      <td>-0.183064</td>\n",
       "      <td>...</td>\n",
       "      <td>0.279162</td>\n",
       "      <td>-0.570037</td>\n",
       "      <td>0.434501</td>\n",
       "      <td>0.387588</td>\n",
       "      <td>-0.044226</td>\n",
       "      <td>0.008883</td>\n",
       "      <td>-0.000685</td>\n",
       "      <td>0.623034</td>\n",
       "      <td>0.041198</td>\n",
       "      <td>0.156304</td>\n",
       "    </tr>\n",
       "    <tr>\n",
       "      <th>videomaterial</th>\n",
       "      <td>0.074707</td>\n",
       "      <td>-0.030806</td>\n",
       "      <td>-0.425025</td>\n",
       "      <td>-0.320975</td>\n",
       "      <td>0.097818</td>\n",
       "      <td>-0.086039</td>\n",
       "      <td>0.007920</td>\n",
       "      <td>-0.159249</td>\n",
       "      <td>0.564676</td>\n",
       "      <td>-0.091144</td>\n",
       "      <td>...</td>\n",
       "      <td>-0.086772</td>\n",
       "      <td>-0.206852</td>\n",
       "      <td>0.247326</td>\n",
       "      <td>0.037089</td>\n",
       "      <td>-0.422071</td>\n",
       "      <td>0.102761</td>\n",
       "      <td>-0.270570</td>\n",
       "      <td>-0.842040</td>\n",
       "      <td>-0.023887</td>\n",
       "      <td>0.114175</td>\n",
       "    </tr>\n",
       "  </tbody>\n",
       "</table>\n",
       "<p>5 rows × 300 columns</p>\n",
       "</div>"
      ],
      "text/plain": [
       "                    1         2         3         4         5         6    \\\n",
       "0                                                                           \n",
       "starke        -0.285092 -0.350144  0.066122 -0.059022 -0.074293  0.105105   \n",
       "mittagszeit    0.402801 -0.000529 -0.063135 -0.429702  0.059168 -0.181313   \n",
       "östlichen     -0.404085  0.184555 -0.099343  0.224999 -0.547287 -0.232835   \n",
       "pumpen         0.366514 -0.275178 -0.337030 -0.311622  0.410426  0.021424   \n",
       "videomaterial  0.074707 -0.030806 -0.425025 -0.320975  0.097818 -0.086039   \n",
       "\n",
       "                    7         8         9         10   ...       291  \\\n",
       "0                                                      ...             \n",
       "starke        -0.091429 -0.379363 -0.471944 -0.038044  ... -0.046795   \n",
       "mittagszeit    0.278056 -0.885087 -0.528817  0.113312  ... -0.310075   \n",
       "östlichen      0.416266  0.546959 -0.405216  0.145357  ... -0.121708   \n",
       "pumpen        -0.228994 -0.634361  0.073496 -0.183064  ...  0.279162   \n",
       "videomaterial  0.007920 -0.159249  0.564676 -0.091144  ... -0.086772   \n",
       "\n",
       "                    292       293       294       295       296       297  \\\n",
       "0                                                                           \n",
       "starke         0.486627  0.092285  0.394796 -0.386349  0.016992  0.315967   \n",
       "mittagszeit   -0.564392 -0.512391 -0.061537 -0.261750  0.100853  0.032682   \n",
       "östlichen     -0.263284  0.427416 -0.200418  0.057937  0.020421  0.055736   \n",
       "pumpen        -0.570037  0.434501  0.387588 -0.044226  0.008883 -0.000685   \n",
       "videomaterial -0.206852  0.247326  0.037089 -0.422071  0.102761 -0.270570   \n",
       "\n",
       "                    298       299       300  \n",
       "0                                            \n",
       "starke         0.434802 -0.198200 -0.065318  \n",
       "mittagszeit    0.089461  0.310686  0.315627  \n",
       "östlichen      0.313623  0.598803  0.050427  \n",
       "pumpen         0.623034  0.041198  0.156304  \n",
       "videomaterial -0.842040 -0.023887  0.114175  \n",
       "\n",
       "[5 rows x 300 columns]"
      ]
     },
     "execution_count": 13,
     "metadata": {},
     "output_type": "execute_result"
    }
   ],
   "source": []
  },
  {
   "cell_type": "code",
   "execution_count": 10,
   "metadata": {},
   "outputs": [
    {
     "name": "stderr",
     "output_type": "stream",
     "text": [
      "INFO:root:loading word embeddings word to vec from path ['../data/glove.6B.100d.txt']\n"
     ]
    },
    {
     "ename": "KeyboardInterrupt",
     "evalue": "",
     "output_type": "error",
     "traceback": [
      "\u001b[0;31m---------------------------------------------------------------------------\u001b[0m",
      "\u001b[0;31mKeyboardInterrupt\u001b[0m                         Traceback (most recent call last)",
      "\u001b[0;32m<timed exec>\u001b[0m in \u001b[0;36m<module>\u001b[0;34m\u001b[0m\n",
      "\u001b[0;32m~/code/nlp_scripts/src/embedding.py\u001b[0m in \u001b[0;36m__init__\u001b[0;34m(self, language, path_list, dist, metric)\u001b[0m\n\u001b[1;32m     16\u001b[0m         \u001b[0mself\u001b[0m\u001b[0;34m.\u001b[0m\u001b[0mmetric\u001b[0m \u001b[0;34m=\u001b[0m \u001b[0mmetric\u001b[0m\u001b[0;34m\u001b[0m\u001b[0;34m\u001b[0m\u001b[0m\n\u001b[1;32m     17\u001b[0m         \u001b[0mself\u001b[0m\u001b[0;34m.\u001b[0m\u001b[0mword2vec\u001b[0m\u001b[0;34m,\u001b[0m \u001b[0mself\u001b[0m\u001b[0;34m.\u001b[0m\u001b[0membedding\u001b[0m\u001b[0;34m,\u001b[0m \u001b[0mself\u001b[0m\u001b[0;34m.\u001b[0m\u001b[0mindex_to_word\u001b[0m \u001b[0;34m=\u001b[0m \u001b[0;34m{\u001b[0m\u001b[0;34m}\u001b[0m\u001b[0;34m,\u001b[0m \u001b[0;34m[\u001b[0m\u001b[0;34m]\u001b[0m\u001b[0;34m,\u001b[0m \u001b[0;34m[\u001b[0m\u001b[0;34m]\u001b[0m\u001b[0;34m\u001b[0m\u001b[0;34m\u001b[0m\u001b[0m\n\u001b[0;32m---> 18\u001b[0;31m         \u001b[0mself\u001b[0m\u001b[0;34m.\u001b[0m\u001b[0mload_word2vec\u001b[0m\u001b[0;34m(\u001b[0m\u001b[0;34m)\u001b[0m\u001b[0;34m\u001b[0m\u001b[0;34m\u001b[0m\u001b[0m\n\u001b[0m\u001b[1;32m     19\u001b[0m         \u001b[0mself\u001b[0m\u001b[0;34m.\u001b[0m\u001b[0mV\u001b[0m\u001b[0;34m,\u001b[0m \u001b[0mself\u001b[0m\u001b[0;34m.\u001b[0m\u001b[0mD\u001b[0m \u001b[0;34m=\u001b[0m \u001b[0mself\u001b[0m\u001b[0;34m.\u001b[0m\u001b[0membedding\u001b[0m\u001b[0;34m.\u001b[0m\u001b[0mshape\u001b[0m\u001b[0;34m\u001b[0m\u001b[0;34m\u001b[0m\u001b[0m\n\u001b[1;32m     20\u001b[0m \u001b[0;34m\u001b[0m\u001b[0m\n",
      "\u001b[0;32m~/code/nlp_scripts/src/embedding.py\u001b[0m in \u001b[0;36mload_word2vec\u001b[0;34m(self)\u001b[0m\n\u001b[1;32m     41\u001b[0m \u001b[0;34m\u001b[0m\u001b[0m\n\u001b[1;32m     42\u001b[0m         \u001b[0;32melse\u001b[0m\u001b[0;34m:\u001b[0m\u001b[0;34m\u001b[0m\u001b[0;34m\u001b[0m\u001b[0m\n\u001b[0;32m---> 43\u001b[0;31m             \u001b[0mdf_embeddings\u001b[0m \u001b[0;34m=\u001b[0m \u001b[0mpd\u001b[0m\u001b[0;34m.\u001b[0m\u001b[0mconcat\u001b[0m\u001b[0;34m(\u001b[0m\u001b[0;34m[\u001b[0m\u001b[0mpd\u001b[0m\u001b[0;34m.\u001b[0m\u001b[0mread_csv\u001b[0m\u001b[0;34m(\u001b[0m\u001b[0mpath\u001b[0m\u001b[0;34m,\u001b[0m \u001b[0msep\u001b[0m\u001b[0;34m=\u001b[0m\u001b[0;34m' '\u001b[0m\u001b[0;34m,\u001b[0m \u001b[0mindex_col\u001b[0m\u001b[0;34m=\u001b[0m\u001b[0;36m0\u001b[0m\u001b[0;34m,\u001b[0m \u001b[0mheader\u001b[0m\u001b[0;34m=\u001b[0m\u001b[0;32mNone\u001b[0m\u001b[0;34m,\u001b[0m \u001b[0mengine\u001b[0m\u001b[0;34m=\u001b[0m\u001b[0;34m'python'\u001b[0m\u001b[0;34m,\u001b[0m \u001b[0mquoting\u001b[0m\u001b[0;34m=\u001b[0m\u001b[0mcsv\u001b[0m\u001b[0;34m.\u001b[0m\u001b[0mQUOTE_NONE\u001b[0m\u001b[0;34m)\u001b[0m \u001b[0;32mfor\u001b[0m \u001b[0mpath\u001b[0m \u001b[0;32min\u001b[0m \u001b[0mself\u001b[0m\u001b[0;34m.\u001b[0m\u001b[0mpath_list\u001b[0m\u001b[0;34m]\u001b[0m\u001b[0;34m)\u001b[0m\u001b[0;34m\u001b[0m\u001b[0;34m\u001b[0m\u001b[0m\n\u001b[0m\u001b[1;32m     44\u001b[0m             \u001b[0mdf_embeddings\u001b[0m \u001b[0;34m=\u001b[0m \u001b[0mdf_embeddings\u001b[0m\u001b[0;34m[\u001b[0m\u001b[0mdf_embeddings\u001b[0m\u001b[0;34m.\u001b[0m\u001b[0mindex\u001b[0m\u001b[0;34m.\u001b[0m\u001b[0mnotnull\u001b[0m\u001b[0;34m(\u001b[0m\u001b[0;34m)\u001b[0m\u001b[0;34m]\u001b[0m \u001b[0;31m# es gibt im 50k datensatz eine NaN Zeile, die gedroppt werden sollte\u001b[0m\u001b[0;34m\u001b[0m\u001b[0;34m\u001b[0m\u001b[0m\n\u001b[1;32m     45\u001b[0m             \u001b[0mlogging\u001b[0m\u001b[0;34m.\u001b[0m\u001b[0minfo\u001b[0m\u001b[0;34m(\u001b[0m\u001b[0;34mf'read in embeddings of shape {df_embeddings.shape}'\u001b[0m\u001b[0;34m)\u001b[0m\u001b[0;34m\u001b[0m\u001b[0;34m\u001b[0m\u001b[0m\n",
      "\u001b[0;32m~/code/nlp_scripts/src/embedding.py\u001b[0m in \u001b[0;36m<listcomp>\u001b[0;34m(.0)\u001b[0m\n\u001b[1;32m     41\u001b[0m \u001b[0;34m\u001b[0m\u001b[0m\n\u001b[1;32m     42\u001b[0m         \u001b[0;32melse\u001b[0m\u001b[0;34m:\u001b[0m\u001b[0;34m\u001b[0m\u001b[0;34m\u001b[0m\u001b[0m\n\u001b[0;32m---> 43\u001b[0;31m             \u001b[0mdf_embeddings\u001b[0m \u001b[0;34m=\u001b[0m \u001b[0mpd\u001b[0m\u001b[0;34m.\u001b[0m\u001b[0mconcat\u001b[0m\u001b[0;34m(\u001b[0m\u001b[0;34m[\u001b[0m\u001b[0mpd\u001b[0m\u001b[0;34m.\u001b[0m\u001b[0mread_csv\u001b[0m\u001b[0;34m(\u001b[0m\u001b[0mpath\u001b[0m\u001b[0;34m,\u001b[0m \u001b[0msep\u001b[0m\u001b[0;34m=\u001b[0m\u001b[0;34m' '\u001b[0m\u001b[0;34m,\u001b[0m \u001b[0mindex_col\u001b[0m\u001b[0;34m=\u001b[0m\u001b[0;36m0\u001b[0m\u001b[0;34m,\u001b[0m \u001b[0mheader\u001b[0m\u001b[0;34m=\u001b[0m\u001b[0;32mNone\u001b[0m\u001b[0;34m,\u001b[0m \u001b[0mengine\u001b[0m\u001b[0;34m=\u001b[0m\u001b[0;34m'python'\u001b[0m\u001b[0;34m,\u001b[0m \u001b[0mquoting\u001b[0m\u001b[0;34m=\u001b[0m\u001b[0mcsv\u001b[0m\u001b[0;34m.\u001b[0m\u001b[0mQUOTE_NONE\u001b[0m\u001b[0;34m)\u001b[0m \u001b[0;32mfor\u001b[0m \u001b[0mpath\u001b[0m \u001b[0;32min\u001b[0m \u001b[0mself\u001b[0m\u001b[0;34m.\u001b[0m\u001b[0mpath_list\u001b[0m\u001b[0;34m]\u001b[0m\u001b[0;34m)\u001b[0m\u001b[0;34m\u001b[0m\u001b[0;34m\u001b[0m\u001b[0m\n\u001b[0m\u001b[1;32m     44\u001b[0m             \u001b[0mdf_embeddings\u001b[0m \u001b[0;34m=\u001b[0m \u001b[0mdf_embeddings\u001b[0m\u001b[0;34m[\u001b[0m\u001b[0mdf_embeddings\u001b[0m\u001b[0;34m.\u001b[0m\u001b[0mindex\u001b[0m\u001b[0;34m.\u001b[0m\u001b[0mnotnull\u001b[0m\u001b[0;34m(\u001b[0m\u001b[0;34m)\u001b[0m\u001b[0;34m]\u001b[0m \u001b[0;31m# es gibt im 50k datensatz eine NaN Zeile, die gedroppt werden sollte\u001b[0m\u001b[0;34m\u001b[0m\u001b[0;34m\u001b[0m\u001b[0m\n\u001b[1;32m     45\u001b[0m             \u001b[0mlogging\u001b[0m\u001b[0;34m.\u001b[0m\u001b[0minfo\u001b[0m\u001b[0;34m(\u001b[0m\u001b[0;34mf'read in embeddings of shape {df_embeddings.shape}'\u001b[0m\u001b[0;34m)\u001b[0m\u001b[0;34m\u001b[0m\u001b[0;34m\u001b[0m\u001b[0m\n",
      "\u001b[0;32m~/code/nlp_scripts/venv/lib/python3.9/site-packages/pandas/util/_decorators.py\u001b[0m in \u001b[0;36mwrapper\u001b[0;34m(*args, **kwargs)\u001b[0m\n\u001b[1;32m    309\u001b[0m                     \u001b[0mstacklevel\u001b[0m\u001b[0;34m=\u001b[0m\u001b[0mstacklevel\u001b[0m\u001b[0;34m,\u001b[0m\u001b[0;34m\u001b[0m\u001b[0;34m\u001b[0m\u001b[0m\n\u001b[1;32m    310\u001b[0m                 )\n\u001b[0;32m--> 311\u001b[0;31m             \u001b[0;32mreturn\u001b[0m \u001b[0mfunc\u001b[0m\u001b[0;34m(\u001b[0m\u001b[0;34m*\u001b[0m\u001b[0margs\u001b[0m\u001b[0;34m,\u001b[0m \u001b[0;34m**\u001b[0m\u001b[0mkwargs\u001b[0m\u001b[0;34m)\u001b[0m\u001b[0;34m\u001b[0m\u001b[0;34m\u001b[0m\u001b[0m\n\u001b[0m\u001b[1;32m    312\u001b[0m \u001b[0;34m\u001b[0m\u001b[0m\n\u001b[1;32m    313\u001b[0m         \u001b[0;32mreturn\u001b[0m \u001b[0mwrapper\u001b[0m\u001b[0;34m\u001b[0m\u001b[0;34m\u001b[0m\u001b[0m\n",
      "\u001b[0;32m~/code/nlp_scripts/venv/lib/python3.9/site-packages/pandas/io/parsers/readers.py\u001b[0m in \u001b[0;36mread_csv\u001b[0;34m(filepath_or_buffer, sep, delimiter, header, names, index_col, usecols, squeeze, prefix, mangle_dupe_cols, dtype, engine, converters, true_values, false_values, skipinitialspace, skiprows, skipfooter, nrows, na_values, keep_default_na, na_filter, verbose, skip_blank_lines, parse_dates, infer_datetime_format, keep_date_col, date_parser, dayfirst, cache_dates, iterator, chunksize, compression, thousands, decimal, lineterminator, quotechar, quoting, doublequote, escapechar, comment, encoding, encoding_errors, dialect, error_bad_lines, warn_bad_lines, on_bad_lines, delim_whitespace, low_memory, memory_map, float_precision, storage_options)\u001b[0m\n\u001b[1;32m    584\u001b[0m     \u001b[0mkwds\u001b[0m\u001b[0;34m.\u001b[0m\u001b[0mupdate\u001b[0m\u001b[0;34m(\u001b[0m\u001b[0mkwds_defaults\u001b[0m\u001b[0;34m)\u001b[0m\u001b[0;34m\u001b[0m\u001b[0;34m\u001b[0m\u001b[0m\n\u001b[1;32m    585\u001b[0m \u001b[0;34m\u001b[0m\u001b[0m\n\u001b[0;32m--> 586\u001b[0;31m     \u001b[0;32mreturn\u001b[0m \u001b[0m_read\u001b[0m\u001b[0;34m(\u001b[0m\u001b[0mfilepath_or_buffer\u001b[0m\u001b[0;34m,\u001b[0m \u001b[0mkwds\u001b[0m\u001b[0;34m)\u001b[0m\u001b[0;34m\u001b[0m\u001b[0;34m\u001b[0m\u001b[0m\n\u001b[0m\u001b[1;32m    587\u001b[0m \u001b[0;34m\u001b[0m\u001b[0m\n\u001b[1;32m    588\u001b[0m \u001b[0;34m\u001b[0m\u001b[0m\n",
      "\u001b[0;32m~/code/nlp_scripts/venv/lib/python3.9/site-packages/pandas/io/parsers/readers.py\u001b[0m in \u001b[0;36m_read\u001b[0;34m(filepath_or_buffer, kwds)\u001b[0m\n\u001b[1;32m    486\u001b[0m \u001b[0;34m\u001b[0m\u001b[0m\n\u001b[1;32m    487\u001b[0m     \u001b[0;32mwith\u001b[0m \u001b[0mparser\u001b[0m\u001b[0;34m:\u001b[0m\u001b[0;34m\u001b[0m\u001b[0;34m\u001b[0m\u001b[0m\n\u001b[0;32m--> 488\u001b[0;31m         \u001b[0;32mreturn\u001b[0m \u001b[0mparser\u001b[0m\u001b[0;34m.\u001b[0m\u001b[0mread\u001b[0m\u001b[0;34m(\u001b[0m\u001b[0mnrows\u001b[0m\u001b[0;34m)\u001b[0m\u001b[0;34m\u001b[0m\u001b[0;34m\u001b[0m\u001b[0m\n\u001b[0m\u001b[1;32m    489\u001b[0m \u001b[0;34m\u001b[0m\u001b[0m\n\u001b[1;32m    490\u001b[0m \u001b[0;34m\u001b[0m\u001b[0m\n",
      "\u001b[0;32m~/code/nlp_scripts/venv/lib/python3.9/site-packages/pandas/io/parsers/readers.py\u001b[0m in \u001b[0;36mread\u001b[0;34m(self, nrows)\u001b[0m\n\u001b[1;32m   1045\u001b[0m     \u001b[0;32mdef\u001b[0m \u001b[0mread\u001b[0m\u001b[0;34m(\u001b[0m\u001b[0mself\u001b[0m\u001b[0;34m,\u001b[0m \u001b[0mnrows\u001b[0m\u001b[0;34m=\u001b[0m\u001b[0;32mNone\u001b[0m\u001b[0;34m)\u001b[0m\u001b[0;34m:\u001b[0m\u001b[0;34m\u001b[0m\u001b[0;34m\u001b[0m\u001b[0m\n\u001b[1;32m   1046\u001b[0m         \u001b[0mnrows\u001b[0m \u001b[0;34m=\u001b[0m \u001b[0mvalidate_integer\u001b[0m\u001b[0;34m(\u001b[0m\u001b[0;34m\"nrows\"\u001b[0m\u001b[0;34m,\u001b[0m \u001b[0mnrows\u001b[0m\u001b[0;34m)\u001b[0m\u001b[0;34m\u001b[0m\u001b[0;34m\u001b[0m\u001b[0m\n\u001b[0;32m-> 1047\u001b[0;31m         \u001b[0mindex\u001b[0m\u001b[0;34m,\u001b[0m \u001b[0mcolumns\u001b[0m\u001b[0;34m,\u001b[0m \u001b[0mcol_dict\u001b[0m \u001b[0;34m=\u001b[0m \u001b[0mself\u001b[0m\u001b[0;34m.\u001b[0m\u001b[0m_engine\u001b[0m\u001b[0;34m.\u001b[0m\u001b[0mread\u001b[0m\u001b[0;34m(\u001b[0m\u001b[0mnrows\u001b[0m\u001b[0;34m)\u001b[0m\u001b[0;34m\u001b[0m\u001b[0;34m\u001b[0m\u001b[0m\n\u001b[0m\u001b[1;32m   1048\u001b[0m \u001b[0;34m\u001b[0m\u001b[0m\n\u001b[1;32m   1049\u001b[0m         \u001b[0;32mif\u001b[0m \u001b[0mindex\u001b[0m \u001b[0;32mis\u001b[0m \u001b[0;32mNone\u001b[0m\u001b[0;34m:\u001b[0m\u001b[0;34m\u001b[0m\u001b[0;34m\u001b[0m\u001b[0m\n",
      "\u001b[0;32m~/code/nlp_scripts/venv/lib/python3.9/site-packages/pandas/io/parsers/python_parser.py\u001b[0m in \u001b[0;36mread\u001b[0;34m(self, rows)\u001b[0m\n\u001b[1;32m    243\u001b[0m     \u001b[0;32mdef\u001b[0m \u001b[0mread\u001b[0m\u001b[0;34m(\u001b[0m\u001b[0mself\u001b[0m\u001b[0;34m,\u001b[0m \u001b[0mrows\u001b[0m\u001b[0;34m=\u001b[0m\u001b[0;32mNone\u001b[0m\u001b[0;34m)\u001b[0m\u001b[0;34m:\u001b[0m\u001b[0;34m\u001b[0m\u001b[0;34m\u001b[0m\u001b[0m\n\u001b[1;32m    244\u001b[0m         \u001b[0;32mtry\u001b[0m\u001b[0;34m:\u001b[0m\u001b[0;34m\u001b[0m\u001b[0;34m\u001b[0m\u001b[0m\n\u001b[0;32m--> 245\u001b[0;31m             \u001b[0mcontent\u001b[0m \u001b[0;34m=\u001b[0m \u001b[0mself\u001b[0m\u001b[0;34m.\u001b[0m\u001b[0m_get_lines\u001b[0m\u001b[0;34m(\u001b[0m\u001b[0mrows\u001b[0m\u001b[0;34m)\u001b[0m\u001b[0;34m\u001b[0m\u001b[0;34m\u001b[0m\u001b[0m\n\u001b[0m\u001b[1;32m    246\u001b[0m         \u001b[0;32mexcept\u001b[0m \u001b[0mStopIteration\u001b[0m\u001b[0;34m:\u001b[0m\u001b[0;34m\u001b[0m\u001b[0;34m\u001b[0m\u001b[0m\n\u001b[1;32m    247\u001b[0m             \u001b[0;32mif\u001b[0m \u001b[0mself\u001b[0m\u001b[0;34m.\u001b[0m\u001b[0m_first_chunk\u001b[0m\u001b[0;34m:\u001b[0m\u001b[0;34m\u001b[0m\u001b[0;34m\u001b[0m\u001b[0m\n",
      "\u001b[0;32m~/code/nlp_scripts/venv/lib/python3.9/site-packages/pandas/io/parsers/python_parser.py\u001b[0m in \u001b[0;36m_get_lines\u001b[0;34m(self, rows)\u001b[0m\n\u001b[1;32m   1053\u001b[0m \u001b[0;34m\u001b[0m\u001b[0m\n\u001b[1;32m   1054\u001b[0m                         \u001b[0;32mwhile\u001b[0m \u001b[0;32mTrue\u001b[0m\u001b[0;34m:\u001b[0m\u001b[0;34m\u001b[0m\u001b[0;34m\u001b[0m\u001b[0m\n\u001b[0;32m-> 1055\u001b[0;31m                             \u001b[0mnew_row\u001b[0m \u001b[0;34m=\u001b[0m \u001b[0mself\u001b[0m\u001b[0;34m.\u001b[0m\u001b[0m_next_iter_line\u001b[0m\u001b[0;34m(\u001b[0m\u001b[0mrow_num\u001b[0m\u001b[0;34m=\u001b[0m\u001b[0mself\u001b[0m\u001b[0;34m.\u001b[0m\u001b[0mpos\u001b[0m \u001b[0;34m+\u001b[0m \u001b[0mrows\u001b[0m \u001b[0;34m+\u001b[0m \u001b[0;36m1\u001b[0m\u001b[0;34m)\u001b[0m\u001b[0;34m\u001b[0m\u001b[0;34m\u001b[0m\u001b[0m\n\u001b[0m\u001b[1;32m   1056\u001b[0m                             \u001b[0mrows\u001b[0m \u001b[0;34m+=\u001b[0m \u001b[0;36m1\u001b[0m\u001b[0;34m\u001b[0m\u001b[0;34m\u001b[0m\u001b[0m\n\u001b[1;32m   1057\u001b[0m \u001b[0;34m\u001b[0m\u001b[0m\n",
      "\u001b[0;32m~/code/nlp_scripts/venv/lib/python3.9/site-packages/pandas/io/parsers/python_parser.py\u001b[0m in \u001b[0;36m_next_iter_line\u001b[0;34m(self, row_num)\u001b[0m\n\u001b[1;32m    740\u001b[0m             \u001b[0;31m# assert for mypy, data is Iterator[str] or None, would error in next\u001b[0m\u001b[0;34m\u001b[0m\u001b[0;34m\u001b[0m\u001b[0;34m\u001b[0m\u001b[0m\n\u001b[1;32m    741\u001b[0m             \u001b[0;32massert\u001b[0m \u001b[0mself\u001b[0m\u001b[0;34m.\u001b[0m\u001b[0mdata\u001b[0m \u001b[0;32mis\u001b[0m \u001b[0;32mnot\u001b[0m \u001b[0;32mNone\u001b[0m\u001b[0;34m\u001b[0m\u001b[0;34m\u001b[0m\u001b[0m\n\u001b[0;32m--> 742\u001b[0;31m             \u001b[0;32mreturn\u001b[0m \u001b[0mnext\u001b[0m\u001b[0;34m(\u001b[0m\u001b[0mself\u001b[0m\u001b[0;34m.\u001b[0m\u001b[0mdata\u001b[0m\u001b[0;34m)\u001b[0m\u001b[0;34m\u001b[0m\u001b[0;34m\u001b[0m\u001b[0m\n\u001b[0m\u001b[1;32m    743\u001b[0m         \u001b[0;32mexcept\u001b[0m \u001b[0mcsv\u001b[0m\u001b[0;34m.\u001b[0m\u001b[0mError\u001b[0m \u001b[0;32mas\u001b[0m \u001b[0me\u001b[0m\u001b[0;34m:\u001b[0m\u001b[0;34m\u001b[0m\u001b[0;34m\u001b[0m\u001b[0m\n\u001b[1;32m    744\u001b[0m             if (\n",
      "\u001b[0;31mKeyboardInterrupt\u001b[0m: "
     ]
    }
   ],
   "source": [
    "%time glove_embedding_en = Embedding(language='en', path_list=glove_path_en)"
   ]
  },
  {
   "cell_type": "code",
   "execution_count": null,
   "metadata": {},
   "outputs": [],
   "source": []
  },
  {
   "cell_type": "code",
   "execution_count": 11,
   "metadata": {},
   "outputs": [],
   "source": [
    "# working but incredible slow:\n",
    "# lokal: ca 10 sec for 400k\n",
    "# read from aws s3: ca 40 sek for 4k => 4000 sek für 400k => faktor 400 schlechter\n",
    "#%time glove_embedding_en = Embedding(language='en', path=f's3://{BUCKET_NAME}/{FILE_NAME_EN}')"
   ]
  },
  {
   "cell_type": "code",
   "execution_count": 12,
   "metadata": {},
   "outputs": [
    {
     "name": "stdout",
     "output_type": "stream",
     "text": [
      "(399997, 100)\n"
     ]
    },
    {
     "data": {
      "text/html": [
       "<div>\n",
       "<style scoped>\n",
       "    .dataframe tbody tr th:only-of-type {\n",
       "        vertical-align: middle;\n",
       "    }\n",
       "\n",
       "    .dataframe tbody tr th {\n",
       "        vertical-align: top;\n",
       "    }\n",
       "\n",
       "    .dataframe thead th {\n",
       "        text-align: right;\n",
       "    }\n",
       "</style>\n",
       "<table border=\"1\" class=\"dataframe\">\n",
       "  <thead>\n",
       "    <tr style=\"text-align: right;\">\n",
       "      <th></th>\n",
       "      <th>1</th>\n",
       "      <th>2</th>\n",
       "      <th>3</th>\n",
       "      <th>4</th>\n",
       "      <th>5</th>\n",
       "      <th>6</th>\n",
       "      <th>7</th>\n",
       "      <th>8</th>\n",
       "      <th>9</th>\n",
       "      <th>10</th>\n",
       "      <th>...</th>\n",
       "      <th>91</th>\n",
       "      <th>92</th>\n",
       "      <th>93</th>\n",
       "      <th>94</th>\n",
       "      <th>95</th>\n",
       "      <th>96</th>\n",
       "      <th>97</th>\n",
       "      <th>98</th>\n",
       "      <th>99</th>\n",
       "      <th>100</th>\n",
       "    </tr>\n",
       "    <tr>\n",
       "      <th>0</th>\n",
       "      <th></th>\n",
       "      <th></th>\n",
       "      <th></th>\n",
       "      <th></th>\n",
       "      <th></th>\n",
       "      <th></th>\n",
       "      <th></th>\n",
       "      <th></th>\n",
       "      <th></th>\n",
       "      <th></th>\n",
       "      <th></th>\n",
       "      <th></th>\n",
       "      <th></th>\n",
       "      <th></th>\n",
       "      <th></th>\n",
       "      <th></th>\n",
       "      <th></th>\n",
       "      <th></th>\n",
       "      <th></th>\n",
       "      <th></th>\n",
       "      <th></th>\n",
       "    </tr>\n",
       "  </thead>\n",
       "  <tbody>\n",
       "    <tr>\n",
       "      <th>the</th>\n",
       "      <td>-0.038194</td>\n",
       "      <td>-0.24487</td>\n",
       "      <td>0.72812</td>\n",
       "      <td>-0.39961</td>\n",
       "      <td>0.083172</td>\n",
       "      <td>0.043953</td>\n",
       "      <td>-0.39141</td>\n",
       "      <td>0.3344</td>\n",
       "      <td>-0.57545</td>\n",
       "      <td>0.087459</td>\n",
       "      <td>...</td>\n",
       "      <td>0.016215</td>\n",
       "      <td>-0.017099</td>\n",
       "      <td>-0.38984</td>\n",
       "      <td>0.87424</td>\n",
       "      <td>-0.72569</td>\n",
       "      <td>-0.51058</td>\n",
       "      <td>-0.52028</td>\n",
       "      <td>-0.1459</td>\n",
       "      <td>0.8278</td>\n",
       "      <td>0.27062</td>\n",
       "    </tr>\n",
       "  </tbody>\n",
       "</table>\n",
       "<p>1 rows × 100 columns</p>\n",
       "</div>"
      ],
      "text/plain": [
       "          1        2        3        4         5         6        7       8    \\\n",
       "0                                                                               \n",
       "the -0.038194 -0.24487  0.72812 -0.39961  0.083172  0.043953 -0.39141  0.3344   \n",
       "\n",
       "         9         10   ...       91        92       93       94       95   \\\n",
       "0                       ...                                                  \n",
       "the -0.57545  0.087459  ...  0.016215 -0.017099 -0.38984  0.87424 -0.72569   \n",
       "\n",
       "         96       97      98      99       100  \n",
       "0                                               \n",
       "the -0.51058 -0.52028 -0.1459  0.8278  0.27062  \n",
       "\n",
       "[1 rows x 100 columns]"
      ]
     },
     "execution_count": 12,
     "metadata": {},
     "output_type": "execute_result"
    }
   ],
   "source": [
    "print(glove_embedding_en.embedding.shape)\n",
    "glove_embedding_en.embedding.head(1)"
   ]
  },
  {
   "cell_type": "code",
   "execution_count": 25,
   "metadata": {},
   "outputs": [
    {
     "name": "stdout",
     "output_type": "stream",
     "text": [
      "[20/Aug/2021 10:38:13] INFO - loading word embeddings word to vec from path ['../data/GloVe_vectors_de_10_test_file.txt']\n",
      "[20/Aug/2021 10:38:13] INFO - read in embeddings of shape (8, 300)\n",
      "[20/Aug/2021 10:38:13] INFO - reading embedding\n",
      "[20/Aug/2021 10:38:13] INFO - reading index_to_word\n",
      "total number of entries found:  8. Dimension: 300\n",
      "CPU times: user 36.2 ms, sys: 2.54 ms, total: 38.7 ms\n",
      "Wall time: 37.2 ms\n"
     ]
    }
   ],
   "source": [
    "#1.3 Mio entries => takes about 1000sec on local machine 1309281, 360 secs after\n",
    "#50k entries => takes 9 sec on local machine before, 6 secs after\n",
    "\n",
    "#50k entries => takes about 9 mins when reading linewise from aws\n",
    "\n",
    "# aws\n",
    "#%time glove_embedding_de = Embedding(language='de', path_list = [f's3://{BUCKET_NAME}/{FILE_NAME_DE}'])\n",
    "\n",
    "#lokal\n",
    "%time glove_embedding_de = Embedding(language='de', path_list=glove_path_de)"
   ]
  },
  {
   "cell_type": "code",
   "execution_count": 26,
   "metadata": {},
   "outputs": [
    {
     "name": "stdout",
     "output_type": "stream",
     "text": [
      "(8, 300)\n"
     ]
    },
    {
     "data": {
      "text/html": [
       "<div>\n",
       "<style scoped>\n",
       "    .dataframe tbody tr th:only-of-type {\n",
       "        vertical-align: middle;\n",
       "    }\n",
       "\n",
       "    .dataframe tbody tr th {\n",
       "        vertical-align: top;\n",
       "    }\n",
       "\n",
       "    .dataframe thead th {\n",
       "        text-align: right;\n",
       "    }\n",
       "</style>\n",
       "<table border=\"1\" class=\"dataframe\">\n",
       "  <thead>\n",
       "    <tr style=\"text-align: right;\">\n",
       "      <th></th>\n",
       "      <th>1</th>\n",
       "      <th>2</th>\n",
       "      <th>3</th>\n",
       "      <th>4</th>\n",
       "      <th>5</th>\n",
       "      <th>6</th>\n",
       "      <th>7</th>\n",
       "      <th>8</th>\n",
       "      <th>9</th>\n",
       "      <th>10</th>\n",
       "      <th>...</th>\n",
       "      <th>291</th>\n",
       "      <th>292</th>\n",
       "      <th>293</th>\n",
       "      <th>294</th>\n",
       "      <th>295</th>\n",
       "      <th>296</th>\n",
       "      <th>297</th>\n",
       "      <th>298</th>\n",
       "      <th>299</th>\n",
       "      <th>300</th>\n",
       "    </tr>\n",
       "    <tr>\n",
       "      <th>0</th>\n",
       "      <th></th>\n",
       "      <th></th>\n",
       "      <th></th>\n",
       "      <th></th>\n",
       "      <th></th>\n",
       "      <th></th>\n",
       "      <th></th>\n",
       "      <th></th>\n",
       "      <th></th>\n",
       "      <th></th>\n",
       "      <th></th>\n",
       "      <th></th>\n",
       "      <th></th>\n",
       "      <th></th>\n",
       "      <th></th>\n",
       "      <th></th>\n",
       "      <th></th>\n",
       "      <th></th>\n",
       "      <th></th>\n",
       "      <th></th>\n",
       "      <th></th>\n",
       "    </tr>\n",
       "  </thead>\n",
       "  <tbody>\n",
       "    <tr>\n",
       "      <th>starke</th>\n",
       "      <td>-0.285092</td>\n",
       "      <td>-0.350144</td>\n",
       "      <td>0.066122</td>\n",
       "      <td>-0.059022</td>\n",
       "      <td>-0.074293</td>\n",
       "      <td>0.105105</td>\n",
       "      <td>-0.091429</td>\n",
       "      <td>-0.379363</td>\n",
       "      <td>-0.471944</td>\n",
       "      <td>-0.038044</td>\n",
       "      <td>...</td>\n",
       "      <td>-0.046795</td>\n",
       "      <td>0.486627</td>\n",
       "      <td>0.092285</td>\n",
       "      <td>0.394796</td>\n",
       "      <td>-0.386349</td>\n",
       "      <td>0.016992</td>\n",
       "      <td>0.315967</td>\n",
       "      <td>0.434802</td>\n",
       "      <td>-0.198200</td>\n",
       "      <td>-0.065318</td>\n",
       "    </tr>\n",
       "    <tr>\n",
       "      <th>mittagszeit</th>\n",
       "      <td>0.402801</td>\n",
       "      <td>-0.000529</td>\n",
       "      <td>-0.063135</td>\n",
       "      <td>-0.429702</td>\n",
       "      <td>0.059168</td>\n",
       "      <td>-0.181313</td>\n",
       "      <td>0.278056</td>\n",
       "      <td>-0.885087</td>\n",
       "      <td>-0.528817</td>\n",
       "      <td>0.113312</td>\n",
       "      <td>...</td>\n",
       "      <td>-0.310075</td>\n",
       "      <td>-0.564392</td>\n",
       "      <td>-0.512391</td>\n",
       "      <td>-0.061537</td>\n",
       "      <td>-0.261750</td>\n",
       "      <td>0.100853</td>\n",
       "      <td>0.032682</td>\n",
       "      <td>0.089461</td>\n",
       "      <td>0.310686</td>\n",
       "      <td>0.315627</td>\n",
       "    </tr>\n",
       "  </tbody>\n",
       "</table>\n",
       "<p>2 rows × 300 columns</p>\n",
       "</div>"
      ],
      "text/plain": [
       "                  1         2         3         4         5         6    \\\n",
       "0                                                                         \n",
       "starke      -0.285092 -0.350144  0.066122 -0.059022 -0.074293  0.105105   \n",
       "mittagszeit  0.402801 -0.000529 -0.063135 -0.429702  0.059168 -0.181313   \n",
       "\n",
       "                  7         8         9         10   ...       291       292  \\\n",
       "0                                                    ...                       \n",
       "starke      -0.091429 -0.379363 -0.471944 -0.038044  ... -0.046795  0.486627   \n",
       "mittagszeit  0.278056 -0.885087 -0.528817  0.113312  ... -0.310075 -0.564392   \n",
       "\n",
       "                  293       294       295       296       297       298  \\\n",
       "0                                                                         \n",
       "starke       0.092285  0.394796 -0.386349  0.016992  0.315967  0.434802   \n",
       "mittagszeit -0.512391 -0.061537 -0.261750  0.100853  0.032682  0.089461   \n",
       "\n",
       "                  299       300  \n",
       "0                                \n",
       "starke      -0.198200 -0.065318  \n",
       "mittagszeit  0.310686  0.315627  \n",
       "\n",
       "[2 rows x 300 columns]"
      ]
     },
     "execution_count": 26,
     "metadata": {},
     "output_type": "execute_result"
    }
   ],
   "source": [
    "print(glove_embedding_de.embedding.shape)\n",
    "glove_embedding_de.embedding.head(2)"
   ]
  },
  {
   "cell_type": "code",
   "execution_count": 15,
   "metadata": {},
   "outputs": [
    {
     "ename": "TypeError",
     "evalue": "unhashable type: 'slice'",
     "output_type": "error",
     "traceback": [
      "\u001b[0;31m---------------------------------------------------------------------------\u001b[0m",
      "\u001b[0;31mTypeError\u001b[0m                                 Traceback (most recent call last)",
      "\u001b[0;32m/var/folders/_n/ks2p05ts5zn6q171vklt92t00000gp/T/ipykernel_31855/1990879913.py\u001b[0m in \u001b[0;36m<module>\u001b[0;34m\u001b[0m\n\u001b[0;32m----> 1\u001b[0;31m \u001b[0mprint\u001b[0m\u001b[0;34m(\u001b[0m\u001b[0mglove_embedding_en\u001b[0m\u001b[0;34m.\u001b[0m\u001b[0mword2vec\u001b[0m\u001b[0;34m[\u001b[0m\u001b[0;34m'tree'\u001b[0m\u001b[0;34m]\u001b[0m\u001b[0;34m[\u001b[0m\u001b[0;34m:\u001b[0m\u001b[0;36m10\u001b[0m\u001b[0;34m]\u001b[0m\u001b[0;34m)\u001b[0m\u001b[0;34m\u001b[0m\u001b[0;34m\u001b[0m\u001b[0m\n\u001b[0m\u001b[1;32m      2\u001b[0m \u001b[0mprint\u001b[0m\u001b[0;34m(\u001b[0m\u001b[0mglove_embedding_de\u001b[0m\u001b[0;34m.\u001b[0m\u001b[0mword2vec\u001b[0m\u001b[0;34m[\u001b[0m\u001b[0;34m'baum'\u001b[0m\u001b[0;34m]\u001b[0m\u001b[0;34m[\u001b[0m\u001b[0;34m:\u001b[0m\u001b[0;36m10\u001b[0m\u001b[0;34m]\u001b[0m\u001b[0;34m)\u001b[0m\u001b[0;34m\u001b[0m\u001b[0;34m\u001b[0m\u001b[0m\n",
      "\u001b[0;31mTypeError\u001b[0m: unhashable type: 'slice'"
     ]
    }
   ],
   "source": [
    "print(glove_embedding_en.word2vec['tree'][:10])\n",
    "print(glove_embedding_de.word2vec['baum'][:10])"
   ]
  },
  {
   "cell_type": "code",
   "execution_count": null,
   "metadata": {},
   "outputs": [],
   "source": [
    "print(glove_embedding_en.index_to_word[1])\n",
    "print(glove_embedding_de.index_to_word[1])"
   ]
  },
  {
   "cell_type": "code",
   "execution_count": null,
   "metadata": {},
   "outputs": [],
   "source": [
    "print(glove_embedding_en.embedding.shape)\n",
    "print(glove_embedding_de.embedding.shape)"
   ]
  },
  {
   "cell_type": "markdown",
   "metadata": {},
   "source": [
    "# Best of"
   ]
  },
  {
   "cell_type": "code",
   "execution_count": 16,
   "metadata": {},
   "outputs": [
    {
     "name": "stdout",
     "output_type": "stream",
     "text": [
      "man - fun = woman - kids\n"
     ]
    },
    {
     "data": {
      "text/plain": [
       "'kids'"
      ]
     },
     "execution_count": 16,
     "metadata": {},
     "output_type": "execute_result"
    }
   ],
   "source": [
    "glove_embedding_en.find_analogies('man', 'fun', 'woman')"
   ]
  },
  {
   "cell_type": "code",
   "execution_count": 17,
   "metadata": {},
   "outputs": [
    {
     "name": "stdout",
     "output_type": "stream",
     "text": [
      "mann - spass = frau - schwiegermutter\n"
     ]
    },
    {
     "data": {
      "text/plain": [
       "'schwiegermutter'"
      ]
     },
     "execution_count": 17,
     "metadata": {},
     "output_type": "execute_result"
    }
   ],
   "source": [
    "glove_embedding_de.find_analogies('mann', 'spass', 'frau')"
   ]
  },
  {
   "cell_type": "code",
   "execution_count": 18,
   "metadata": {},
   "outputs": [
    {
     "name": "stdout",
     "output_type": "stream",
     "text": [
      "woman - love = man - me\n"
     ]
    },
    {
     "data": {
      "text/plain": [
       "'me'"
      ]
     },
     "execution_count": 18,
     "metadata": {},
     "output_type": "execute_result"
    }
   ],
   "source": [
    "glove_embedding_en.find_analogies('woman', 'love', 'man')"
   ]
  },
  {
   "cell_type": "code",
   "execution_count": 19,
   "metadata": {},
   "outputs": [
    {
     "name": "stdout",
     "output_type": "stream",
     "text": [
      "frau - liebe = mann - mein\n"
     ]
    },
    {
     "data": {
      "text/plain": [
       "'mein'"
      ]
     },
     "execution_count": 19,
     "metadata": {},
     "output_type": "execute_result"
    }
   ],
   "source": [
    "glove_embedding_de.find_analogies('frau', 'liebe', 'mann')"
   ]
  },
  {
   "cell_type": "code",
   "execution_count": 20,
   "metadata": {},
   "outputs": [
    {
     "name": "stdout",
     "output_type": "stream",
     "text": [
      "man - motivation = woman - desire\n"
     ]
    },
    {
     "data": {
      "text/plain": [
       "'desire'"
      ]
     },
     "execution_count": 20,
     "metadata": {},
     "output_type": "execute_result"
    }
   ],
   "source": [
    "glove_embedding_en.find_analogies('man', 'motivation', 'woman')"
   ]
  },
  {
   "cell_type": "code",
   "execution_count": 21,
   "metadata": {},
   "outputs": [
    {
     "name": "stdout",
     "output_type": "stream",
     "text": [
      "mann - motivation = frau - beeinflussen\n"
     ]
    },
    {
     "data": {
      "text/plain": [
       "'beeinflussen'"
      ]
     },
     "execution_count": 21,
     "metadata": {},
     "output_type": "execute_result"
    }
   ],
   "source": [
    "glove_embedding_de.find_analogies('mann', 'motivation', 'frau')"
   ]
  },
  {
   "cell_type": "code",
   "execution_count": 22,
   "metadata": {},
   "outputs": [
    {
     "name": "stdout",
     "output_type": "stream",
     "text": [
      "woman - motivation = man - motive\n"
     ]
    },
    {
     "data": {
      "text/plain": [
       "'motive'"
      ]
     },
     "execution_count": 22,
     "metadata": {},
     "output_type": "execute_result"
    }
   ],
   "source": [
    "glove_embedding_en.find_analogies('woman', 'motivation', 'man')"
   ]
  },
  {
   "cell_type": "code",
   "execution_count": 23,
   "metadata": {},
   "outputs": [
    {
     "name": "stdout",
     "output_type": "stream",
     "text": [
      "frau - motivation = mann - stärke\n"
     ]
    },
    {
     "data": {
      "text/plain": [
       "'stärke'"
      ]
     },
     "execution_count": 23,
     "metadata": {},
     "output_type": "execute_result"
    }
   ],
   "source": [
    "glove_embedding_de.find_analogies('frau', 'motivation', 'mann')"
   ]
  },
  {
   "cell_type": "code",
   "execution_count": 24,
   "metadata": {},
   "outputs": [
    {
     "name": "stdout",
     "output_type": "stream",
     "text": [
      "man - respect = woman - dignity\n"
     ]
    },
    {
     "data": {
      "text/plain": [
       "'dignity'"
      ]
     },
     "execution_count": 24,
     "metadata": {},
     "output_type": "execute_result"
    }
   ],
   "source": [
    "glove_embedding_en.find_analogies('man', 'respect', 'woman')"
   ]
  },
  {
   "cell_type": "code",
   "execution_count": 25,
   "metadata": {},
   "outputs": [
    {
     "name": "stdout",
     "output_type": "stream",
     "text": [
      "mann - respekt = frau - wertschätzung\n"
     ]
    },
    {
     "data": {
      "text/plain": [
       "'wertschätzung'"
      ]
     },
     "execution_count": 25,
     "metadata": {},
     "output_type": "execute_result"
    }
   ],
   "source": [
    "glove_embedding_de.find_analogies('mann', 'respekt', 'frau')"
   ]
  },
  {
   "cell_type": "code",
   "execution_count": 26,
   "metadata": {},
   "outputs": [
    {
     "name": "stdout",
     "output_type": "stream",
     "text": [
      "man - success = woman - achieved\n",
      "mann - erfolg = woman - hit\n"
     ]
    },
    {
     "data": {
      "text/plain": [
       "'hit'"
      ]
     },
     "execution_count": 26,
     "metadata": {},
     "output_type": "execute_result"
    }
   ],
   "source": [
    "glove_embedding_en.find_analogies('man', 'success', 'woman')\n",
    "glove_embedding_de.find_analogies('mann', 'erfolg', 'woman')"
   ]
  },
  {
   "cell_type": "code",
   "execution_count": null,
   "metadata": {},
   "outputs": [],
   "source": [
    "glove_embedding_en.find_analogies('man', 'love', 'woman')\n",
    "glove_embedding_de.find_analogies('mann', 'liebe', 'frau')"
   ]
  },
  {
   "cell_type": "code",
   "execution_count": null,
   "metadata": {},
   "outputs": [],
   "source": [
    "glove_embedding_en.find_analogies('woman', 'mother in law', 'man')\n",
    "glove_embedding_de.find_analogies('frau', 'schwiegermutter', 'mann')\n",
    "glove_embedding_de.find_analogies('mann', 'schwiegervater', 'frau')"
   ]
  },
  {
   "cell_type": "code",
   "execution_count": null,
   "metadata": {},
   "outputs": [],
   "source": [
    "glove_embedding_en.find_analogies('man', 'great', 'woman')\n",
    "glove_embedding_de.find_analogies('mann', 'großartig', 'frau')"
   ]
  },
  {
   "cell_type": "code",
   "execution_count": null,
   "metadata": {},
   "outputs": [],
   "source": []
  },
  {
   "cell_type": "code",
   "execution_count": null,
   "metadata": {},
   "outputs": [],
   "source": [
    "glove_embedding_en.find_analogies('women', 'kids', 'man')\n",
    "glove_embedding_de.find_analogies('frau', 'kinder', 'mann')"
   ]
  },
  {
   "cell_type": "code",
   "execution_count": null,
   "metadata": {},
   "outputs": [],
   "source": [
    "glove_embedding_en.find_analogies('man', 'friends', 'woman')\n",
    "glove_embedding_de.find_analogies('mann', 'freunde', 'frau')"
   ]
  },
  {
   "cell_type": "code",
   "execution_count": null,
   "metadata": {},
   "outputs": [],
   "source": [
    "glove_embedding_en.find_analogies('men', 'friends', 'women')\n",
    "glove_embedding_de.find_analogies('männer', 'freunde', 'frauen')"
   ]
  },
  {
   "cell_type": "code",
   "execution_count": null,
   "metadata": {},
   "outputs": [],
   "source": [
    "glove_embedding_en.find_analogies('woman', 'safety', 'man')\n",
    "glove_embedding_de.find_analogies('frau', 'sicherheit', 'mann')"
   ]
  },
  {
   "cell_type": "code",
   "execution_count": null,
   "metadata": {},
   "outputs": [],
   "source": [
    "glove_embedding_en.find_analogies('women', 'orgasm', 'men')\n",
    "glove_embedding_de.find_analogies('frauen', 'orgasmus', 'männer')"
   ]
  },
  {
   "cell_type": "code",
   "execution_count": null,
   "metadata": {},
   "outputs": [],
   "source": [
    "glove_embedding_en.find_analogies('woman', 'money', 'man')\n",
    "glove_embedding_de.find_analogies('frau', 'geld', 'mann')"
   ]
  },
  {
   "cell_type": "code",
   "execution_count": null,
   "metadata": {},
   "outputs": [],
   "source": []
  },
  {
   "cell_type": "code",
   "execution_count": null,
   "metadata": {},
   "outputs": [],
   "source": [
    "# klappt einfach\n",
    "glove_embedding_en.find_analogies('woman', 'man', 'she')\n",
    "glove_embedding_en.find_analogies('woman', 'man', 'aunt')\n",
    "glove_embedding_en.find_analogies('woman', 'man', 'sister')\n",
    "glove_embedding_en.find_analogies('woman', 'man', 'actress')\n",
    "glove_embedding_en.find_analogies('woman', 'man', 'mother')"
   ]
  },
  {
   "cell_type": "code",
   "execution_count": null,
   "metadata": {},
   "outputs": [],
   "source": [
    "# klappt einfach\n",
    "glove_embedding_de.find_analogies('frau', 'mann', 'sie')\n",
    "glove_embedding_de.find_analogies('frau', 'mann', 'tante')\n",
    "glove_embedding_de.find_analogies('frau', 'mann', 'schwester')\n",
    "glove_embedding_de.find_analogies('frau', 'mann', 'schauspielerin')\n",
    "glove_embedding_de.find_analogies('frau', 'mann', 'mutter')"
   ]
  },
  {
   "cell_type": "code",
   "execution_count": null,
   "metadata": {},
   "outputs": [],
   "source": [
    "#klappt einfach\n",
    "glove_embedding_en.find_analogies('paris', 'france', 'london')\n",
    "glove_embedding_en.find_analogies('paris', 'france', 'rome')\n",
    "glove_embedding_en.find_analogies('france', 'paris', 'italy')\n",
    "glove_embedding_en.find_analogies('florida', 'miami', 'texas')"
   ]
  },
  {
   "cell_type": "code",
   "execution_count": null,
   "metadata": {},
   "outputs": [],
   "source": [
    "glove_embedding_de.find_analogies('frankreich', 'paris', 'london')\n",
    "glove_embedding_de.find_analogies('frankreich', 'paris', 'rom')\n",
    "glove_embedding_de.find_analogies('paris', 'frankreich', 'italien')\n",
    "glove_embedding_de.find_analogies('miami', 'florida', 'texas')"
   ]
  },
  {
   "cell_type": "code",
   "execution_count": null,
   "metadata": {},
   "outputs": [],
   "source": [
    "#klappt einfach\n",
    "glove_embedding_en.find_analogies('november', 'december', 'march')\n",
    "glove_embedding_de.find_analogies('november', 'dezember', 'märz')"
   ]
  },
  {
   "cell_type": "code",
   "execution_count": null,
   "metadata": {},
   "outputs": [],
   "source": [
    "#klappt einfach\n",
    "glove_embedding_en.find_analogies('einstein', 'scientist', 'dali')\n",
    "glove_embedding_de.find_analogies('einstein', 'wissenschaftler', 'merkel')"
   ]
  },
  {
   "cell_type": "code",
   "execution_count": null,
   "metadata": {},
   "outputs": [],
   "source": [
    "# fun\n",
    "glove_embedding_en.find_analogies('china', 'rice', 'germany')\n",
    "glove_embedding_de.find_analogies('china', 'reis', 'deutschland')"
   ]
  },
  {
   "cell_type": "code",
   "execution_count": null,
   "metadata": {},
   "outputs": [],
   "source": [
    "glove_embedding_en.find_analogies('germany', 'beer', 'usa')\n",
    "glove_embedding_de.find_analogies('deutschland', 'bier', 'usa')"
   ]
  },
  {
   "cell_type": "code",
   "execution_count": null,
   "metadata": {},
   "outputs": [],
   "source": [
    "glove_embedding_en.find_analogies('usa', 'freedom', 'germany')\n",
    "glove_embedding_de.find_analogies('usa', 'freiheit', 'deutschland')"
   ]
  },
  {
   "cell_type": "code",
   "execution_count": null,
   "metadata": {},
   "outputs": [],
   "source": [
    "glove_embedding_en.find_analogies('builder', 'building', 'politician')\n",
    "glove_embedding_en.find_analogies('writer', 'book', 'politician')\n",
    "glove_embedding_de.find_analogies('bauarbeiter', 'baustelle', 'politiker')\n",
    "glove_embedding_de.find_analogies('schriftsteller', 'buch', 'politiker')"
   ]
  },
  {
   "cell_type": "code",
   "execution_count": null,
   "metadata": {},
   "outputs": [],
   "source": [
    "glove_embedding_en.find_analogies('hacker', 'code', 'politician')\n",
    "glove_embedding_de.find_analogies('hacker', 'code', 'politiker')"
   ]
  },
  {
   "cell_type": "code",
   "execution_count": null,
   "metadata": {},
   "outputs": [],
   "source": [
    "glove_embedding_en.find_analogies('trump', 'democracy', 'hitler')\n",
    "glove_embedding_de.find_analogies('trump', 'demokratie', 'hitler')"
   ]
  },
  {
   "cell_type": "code",
   "execution_count": null,
   "metadata": {},
   "outputs": [],
   "source": [
    "glove_embedding_de.get_embedding('trump')"
   ]
  },
  {
   "cell_type": "markdown",
   "metadata": {},
   "source": [
    "# nearest neighbors"
   ]
  },
  {
   "cell_type": "code",
   "execution_count": null,
   "metadata": {},
   "outputs": [],
   "source": [
    "glove_embedding_en.nearest_neighbors('france')"
   ]
  },
  {
   "cell_type": "code",
   "execution_count": null,
   "metadata": {},
   "outputs": [],
   "source": [
    "glove_embedding_de.nearest_neighbors('frankreich')"
   ]
  },
  {
   "cell_type": "code",
   "execution_count": null,
   "metadata": {},
   "outputs": [],
   "source": [
    "glove_embedding_en.nearest_neighbors('einstein')\n",
    "glove_embedding_de.nearest_neighbors('einstein')"
   ]
  },
  {
   "cell_type": "code",
   "execution_count": null,
   "metadata": {},
   "outputs": [],
   "source": [
    "glove_embedding_en.nearest_neighbors('trump')\n",
    "glove_embedding_de.nearest_neighbors('trump')"
   ]
  },
  {
   "cell_type": "code",
   "execution_count": null,
   "metadata": {},
   "outputs": [],
   "source": [
    "glove_embedding_en.nearest_neighbors('merkel')\n",
    "glove_embedding_de.nearest_neighbors('merkel')"
   ]
  },
  {
   "cell_type": "code",
   "execution_count": null,
   "metadata": {},
   "outputs": [],
   "source": [
    "glove_embedding_en.nearest_neighbors('procrastination')\n",
    "glove_embedding_de.nearest_neighbors('prokrastination')"
   ]
  },
  {
   "cell_type": "code",
   "execution_count": null,
   "metadata": {},
   "outputs": [],
   "source": [
    "glove_embedding_en.nearest_neighbors('religion')\n",
    "glove_embedding_de.nearest_neighbors('religion')"
   ]
  },
  {
   "cell_type": "code",
   "execution_count": null,
   "metadata": {},
   "outputs": [],
   "source": [
    "nearest_neighbors('woman',index_to_word, word2vec)\n",
    "nearest_neighbors('man',index_to_word, word2vec)\n",
    "nearest_neighbors('nephew',index_to_word, word2vec)"
   ]
  },
  {
   "cell_type": "code",
   "execution_count": null,
   "metadata": {},
   "outputs": [],
   "source": [
    "nearest_neighbors('february',index_to_word, word2vec)\n",
    "nearest_neighbors('success',index_to_word, word2vec)\n",
    "nearest_neighbors('money',index_to_word, word2vec)\n",
    "nearest_neighbors('love',index_to_word, word2vec)"
   ]
  },
  {
   "cell_type": "code",
   "execution_count": null,
   "metadata": {},
   "outputs": [],
   "source": []
  },
  {
   "cell_type": "code",
   "execution_count": null,
   "metadata": {},
   "outputs": [],
   "source": [
    "nearest_neighbors('procrastination', index_to_word, word2vec)"
   ]
  },
  {
   "cell_type": "code",
   "execution_count": null,
   "metadata": {},
   "outputs": [],
   "source": []
  }
 ],
 "metadata": {
  "kernelspec": {
   "display_name": "Python 3 (ipykernel)",
   "language": "python",
   "name": "python3"
  },
  "language_info": {
   "codemirror_mode": {
    "name": "ipython",
    "version": 3
   },
   "file_extension": ".py",
   "mimetype": "text/x-python",
   "name": "python",
   "nbconvert_exporter": "python",
   "pygments_lexer": "ipython3",
   "version": "3.9.6"
  }
 },
 "nbformat": 4,
 "nbformat_minor": 4
}
