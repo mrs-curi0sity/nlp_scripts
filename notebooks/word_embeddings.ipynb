{
 "cells": [
  {
   "cell_type": "markdown",
   "metadata": {},
   "source": [
    "### install dependencies\n",
    "only do this once"
   ]
  },
  {
   "cell_type": "code",
   "execution_count": 1,
   "metadata": {},
   "outputs": [],
   "source": [
    "#! python3 -m venv venv\n",
    "#! source venv/bin/activate\n",
    "#! pip3 install -r requirements.txt\n",
    "#! pip install ipykernel\n",
    "#! python -m ipykernel install --user\n",
    "#! pip install -e ./\n",
    "#! pip freeze"
   ]
  },
  {
   "cell_type": "markdown",
   "metadata": {},
   "source": [
    "### imports"
   ]
  },
  {
   "cell_type": "code",
   "execution_count": 2,
   "metadata": {},
   "outputs": [],
   "source": [
    "from builtins import range\n",
    "import numpy as np\n",
    "import pandas as pd\n",
    "import os\n",
    "import logging"
   ]
  },
  {
   "cell_type": "code",
   "execution_count": 3,
   "metadata": {},
   "outputs": [],
   "source": [
    "from importlib import reload\n",
    "from src.embedding_utilities import euclidean_dist, cosine_dist\n",
    "from src.embedding import Embedding\n"
   ]
  },
  {
   "cell_type": "code",
   "execution_count": 4,
   "metadata": {},
   "outputs": [],
   "source": [
    "logging.basicConfig(encoding='utf-8', level=logging.INFO)"
   ]
  },
  {
   "cell_type": "code",
   "execution_count": null,
   "metadata": {},
   "outputs": [],
   "source": []
  },
  {
   "cell_type": "markdown",
   "metadata": {},
   "source": [
    "# define paths"
   ]
  },
  {
   "cell_type": "code",
   "execution_count": 5,
   "metadata": {},
   "outputs": [],
   "source": [
    "#s3_client = boto3.client('s3')\n",
    "BUCKET_NAME = 'ma-2021-07-word-embeddings'\n",
    "FILE_NAME_EN = 'glove.6B.300d.txt'\n",
    "FILE_NAME_DE = 'GloVe_vectors_de_10_test_file.txt '#'GloVe_vectors_de_50000.txt'"
   ]
  },
  {
   "cell_type": "code",
   "execution_count": 61,
   "metadata": {},
   "outputs": [],
   "source": [
    "glove_path_en = ['../data/glove.6B.100d.txt']\n",
    "#glove_path_de = ['../data/GloVe_vectors_de_part_01.txt', '../data/GloVe_vectors_de_part_02.txt']\n",
    "glove_path_de = ['../data/GloVe_vectors_de_50000.txt']#['../data/GloVe_vectors_de.txt']"
   ]
  },
  {
   "cell_type": "markdown",
   "metadata": {},
   "source": [
    "### the cosine distance does not change when doubeling\n",
    "cosine distance only takes into account angle (the smaller the higher the similarity.)\n",
    "\n",
    "euclidian looks at absolute length"
   ]
  },
  {
   "cell_type": "code",
   "execution_count": 62,
   "metadata": {},
   "outputs": [
    {
     "name": "stdout",
     "output_type": "stream",
     "text": [
      "euclidian distance 1.0\n",
      "cosine distance 0.05131670194948623\n"
     ]
    }
   ],
   "source": [
    "a = pd.Series([1,1])\n",
    "b = pd.Series([1,2])\n",
    "print(f'euclidian distance {euclidean_dist(a,b)}')\n",
    "print(f'cosine distance {cosine_dist(a,b)}')"
   ]
  },
  {
   "cell_type": "code",
   "execution_count": 63,
   "metadata": {},
   "outputs": [
    {
     "name": "stdout",
     "output_type": "stream",
     "text": [
      "euclidian distance 2.0\n",
      "cosine distance 0.05131670194948623\n"
     ]
    }
   ],
   "source": [
    "a_double = a*2\n",
    "b_double = b*2\n",
    "print(f'euclidian distance {euclidean_dist(a_double,b_double)}')\n",
    "print(f'cosine distance {cosine_dist(a_double,b_double)}')"
   ]
  },
  {
   "cell_type": "code",
   "execution_count": 64,
   "metadata": {},
   "outputs": [],
   "source": [
    "dist, metric = cosine_dist, 'cosine'\n",
    "#alternative: dist, metric = dist1, 'euclidean'"
   ]
  },
  {
   "cell_type": "markdown",
   "metadata": {},
   "source": [
    "### load pretrained word vectors\n",
    "source: https://www.kaggle.com/anindya2906/glove6b"
   ]
  },
  {
   "cell_type": "code",
   "execution_count": 65,
   "metadata": {
    "tags": []
   },
   "outputs": [],
   "source": [
    "import s3fs\n",
    "import csv"
   ]
  },
  {
   "cell_type": "code",
   "execution_count": 66,
   "metadata": {},
   "outputs": [
    {
     "name": "stderr",
     "output_type": "stream",
     "text": [
      "INFO:root:loading word embeddings word to vec from path ['../data/glove.6B.100d.txt']\n",
      "/Users/magdalena.aretz/code/nlp_scripts/venv/lib/python3.9/site-packages/pandas/util/_decorators.py:311: ParserWarning: Both a converter and dtype were specified for column 0 - only the converter will be used\n",
      "  return func(*args, **kwargs)\n",
      "INFO:root:read in embeddings of shape (399997, 100)\n",
      "INFO:root:read in  word2vec\n",
      "INFO:root:read in index_to_word\n"
     ]
    },
    {
     "name": "stdout",
     "output_type": "stream",
     "text": [
      "total number of entries found:  399997. Dimension: 100\n",
      "CPU times: user 42.1 s, sys: 1.66 s, total: 43.7 s\n",
      "Wall time: 43.8 s\n"
     ]
    }
   ],
   "source": [
    "%time glove_embedding_en = Embedding(language='en', path_list=glove_path_en)"
   ]
  },
  {
   "cell_type": "code",
   "execution_count": 67,
   "metadata": {},
   "outputs": [
    {
     "data": {
      "text/html": [
       "<div>\n",
       "<style scoped>\n",
       "    .dataframe tbody tr th:only-of-type {\n",
       "        vertical-align: middle;\n",
       "    }\n",
       "\n",
       "    .dataframe tbody tr th {\n",
       "        vertical-align: top;\n",
       "    }\n",
       "\n",
       "    .dataframe thead th {\n",
       "        text-align: right;\n",
       "    }\n",
       "</style>\n",
       "<table border=\"1\" class=\"dataframe\">\n",
       "  <thead>\n",
       "    <tr style=\"text-align: right;\">\n",
       "      <th></th>\n",
       "      <th>1</th>\n",
       "      <th>2</th>\n",
       "      <th>3</th>\n",
       "      <th>4</th>\n",
       "      <th>5</th>\n",
       "      <th>6</th>\n",
       "      <th>7</th>\n",
       "      <th>8</th>\n",
       "      <th>9</th>\n",
       "      <th>10</th>\n",
       "      <th>...</th>\n",
       "      <th>91</th>\n",
       "      <th>92</th>\n",
       "      <th>93</th>\n",
       "      <th>94</th>\n",
       "      <th>95</th>\n",
       "      <th>96</th>\n",
       "      <th>97</th>\n",
       "      <th>98</th>\n",
       "      <th>99</th>\n",
       "      <th>100</th>\n",
       "    </tr>\n",
       "    <tr>\n",
       "      <th>0</th>\n",
       "      <th></th>\n",
       "      <th></th>\n",
       "      <th></th>\n",
       "      <th></th>\n",
       "      <th></th>\n",
       "      <th></th>\n",
       "      <th></th>\n",
       "      <th></th>\n",
       "      <th></th>\n",
       "      <th></th>\n",
       "      <th></th>\n",
       "      <th></th>\n",
       "      <th></th>\n",
       "      <th></th>\n",
       "      <th></th>\n",
       "      <th></th>\n",
       "      <th></th>\n",
       "      <th></th>\n",
       "      <th></th>\n",
       "      <th></th>\n",
       "      <th></th>\n",
       "    </tr>\n",
       "  </thead>\n",
       "  <tbody>\n",
       "    <tr>\n",
       "      <th>the</th>\n",
       "      <td>-0.038208</td>\n",
       "      <td>-0.244873</td>\n",
       "      <td>0.728027</td>\n",
       "      <td>-0.399658</td>\n",
       "      <td>0.083191</td>\n",
       "      <td>0.043945</td>\n",
       "      <td>-0.391357</td>\n",
       "      <td>0.334473</td>\n",
       "      <td>-0.575684</td>\n",
       "      <td>0.087463</td>\n",
       "      <td>...</td>\n",
       "      <td>0.016220</td>\n",
       "      <td>-0.017105</td>\n",
       "      <td>-0.389893</td>\n",
       "      <td>0.874023</td>\n",
       "      <td>-0.725586</td>\n",
       "      <td>-0.510742</td>\n",
       "      <td>-0.520508</td>\n",
       "      <td>-0.145874</td>\n",
       "      <td>0.827637</td>\n",
       "      <td>0.270508</td>\n",
       "    </tr>\n",
       "    <tr>\n",
       "      <th>,</th>\n",
       "      <td>-0.107666</td>\n",
       "      <td>0.110535</td>\n",
       "      <td>0.598145</td>\n",
       "      <td>-0.543457</td>\n",
       "      <td>0.673828</td>\n",
       "      <td>0.106628</td>\n",
       "      <td>0.038879</td>\n",
       "      <td>0.354736</td>\n",
       "      <td>0.063538</td>\n",
       "      <td>-0.094177</td>\n",
       "      <td>...</td>\n",
       "      <td>0.349609</td>\n",
       "      <td>-0.722656</td>\n",
       "      <td>0.375488</td>\n",
       "      <td>0.444092</td>\n",
       "      <td>-0.990723</td>\n",
       "      <td>0.612305</td>\n",
       "      <td>-0.351074</td>\n",
       "      <td>-0.831543</td>\n",
       "      <td>0.452881</td>\n",
       "      <td>0.082581</td>\n",
       "    </tr>\n",
       "  </tbody>\n",
       "</table>\n",
       "<p>2 rows × 100 columns</p>\n",
       "</div>"
      ],
      "text/plain": [
       "          1         2         3         4         5         6         7    \\\n",
       "0                                                                           \n",
       "the -0.038208 -0.244873  0.728027 -0.399658  0.083191  0.043945 -0.391357   \n",
       ",   -0.107666  0.110535  0.598145 -0.543457  0.673828  0.106628  0.038879   \n",
       "\n",
       "          8         9         10   ...       91        92        93   \\\n",
       "0                                  ...                                 \n",
       "the  0.334473 -0.575684  0.087463  ...  0.016220 -0.017105 -0.389893   \n",
       ",    0.354736  0.063538 -0.094177  ...  0.349609 -0.722656  0.375488   \n",
       "\n",
       "          94        95        96        97        98        99        100  \n",
       "0                                                                          \n",
       "the  0.874023 -0.725586 -0.510742 -0.520508 -0.145874  0.827637  0.270508  \n",
       ",    0.444092 -0.990723  0.612305 -0.351074 -0.831543  0.452881  0.082581  \n",
       "\n",
       "[2 rows x 100 columns]"
      ]
     },
     "execution_count": 67,
     "metadata": {},
     "output_type": "execute_result"
    }
   ],
   "source": [
    "glove_embedding_en.embedding.head(2)"
   ]
  },
  {
   "cell_type": "code",
   "execution_count": 68,
   "metadata": {},
   "outputs": [],
   "source": [
    "# working but incredible slow:\n",
    "# lokal: ca 10 sec for 400k\n",
    "# read from aws s3: ca 40 sek for 4k => 4000 sek für 400k => faktor 400 schlechter\n",
    "#%time glove_embedding_en = Embedding(language='en', path=f's3://{BUCKET_NAME}/{FILE_NAME_EN}')"
   ]
  },
  {
   "cell_type": "code",
   "execution_count": 69,
   "metadata": {},
   "outputs": [
    {
     "name": "stdout",
     "output_type": "stream",
     "text": [
      "(399997, 100)\n"
     ]
    },
    {
     "data": {
      "text/html": [
       "<div>\n",
       "<style scoped>\n",
       "    .dataframe tbody tr th:only-of-type {\n",
       "        vertical-align: middle;\n",
       "    }\n",
       "\n",
       "    .dataframe tbody tr th {\n",
       "        vertical-align: top;\n",
       "    }\n",
       "\n",
       "    .dataframe thead th {\n",
       "        text-align: right;\n",
       "    }\n",
       "</style>\n",
       "<table border=\"1\" class=\"dataframe\">\n",
       "  <thead>\n",
       "    <tr style=\"text-align: right;\">\n",
       "      <th></th>\n",
       "      <th>1</th>\n",
       "      <th>2</th>\n",
       "      <th>3</th>\n",
       "      <th>4</th>\n",
       "      <th>5</th>\n",
       "      <th>6</th>\n",
       "      <th>7</th>\n",
       "      <th>8</th>\n",
       "      <th>9</th>\n",
       "      <th>10</th>\n",
       "      <th>...</th>\n",
       "      <th>91</th>\n",
       "      <th>92</th>\n",
       "      <th>93</th>\n",
       "      <th>94</th>\n",
       "      <th>95</th>\n",
       "      <th>96</th>\n",
       "      <th>97</th>\n",
       "      <th>98</th>\n",
       "      <th>99</th>\n",
       "      <th>100</th>\n",
       "    </tr>\n",
       "    <tr>\n",
       "      <th>0</th>\n",
       "      <th></th>\n",
       "      <th></th>\n",
       "      <th></th>\n",
       "      <th></th>\n",
       "      <th></th>\n",
       "      <th></th>\n",
       "      <th></th>\n",
       "      <th></th>\n",
       "      <th></th>\n",
       "      <th></th>\n",
       "      <th></th>\n",
       "      <th></th>\n",
       "      <th></th>\n",
       "      <th></th>\n",
       "      <th></th>\n",
       "      <th></th>\n",
       "      <th></th>\n",
       "      <th></th>\n",
       "      <th></th>\n",
       "      <th></th>\n",
       "      <th></th>\n",
       "    </tr>\n",
       "  </thead>\n",
       "  <tbody>\n",
       "    <tr>\n",
       "      <th>the</th>\n",
       "      <td>-0.038208</td>\n",
       "      <td>-0.244873</td>\n",
       "      <td>0.728027</td>\n",
       "      <td>-0.399658</td>\n",
       "      <td>0.083191</td>\n",
       "      <td>0.043945</td>\n",
       "      <td>-0.391357</td>\n",
       "      <td>0.334473</td>\n",
       "      <td>-0.575684</td>\n",
       "      <td>0.087463</td>\n",
       "      <td>...</td>\n",
       "      <td>0.01622</td>\n",
       "      <td>-0.017105</td>\n",
       "      <td>-0.389893</td>\n",
       "      <td>0.874023</td>\n",
       "      <td>-0.725586</td>\n",
       "      <td>-0.510742</td>\n",
       "      <td>-0.520508</td>\n",
       "      <td>-0.145874</td>\n",
       "      <td>0.827637</td>\n",
       "      <td>0.270508</td>\n",
       "    </tr>\n",
       "  </tbody>\n",
       "</table>\n",
       "<p>1 rows × 100 columns</p>\n",
       "</div>"
      ],
      "text/plain": [
       "          1         2         3         4         5         6         7    \\\n",
       "0                                                                           \n",
       "the -0.038208 -0.244873  0.728027 -0.399658  0.083191  0.043945 -0.391357   \n",
       "\n",
       "          8         9         10   ...      91        92        93        94   \\\n",
       "0                                  ...                                          \n",
       "the  0.334473 -0.575684  0.087463  ...  0.01622 -0.017105 -0.389893  0.874023   \n",
       "\n",
       "          95        96        97        98        99        100  \n",
       "0                                                                \n",
       "the -0.725586 -0.510742 -0.520508 -0.145874  0.827637  0.270508  \n",
       "\n",
       "[1 rows x 100 columns]"
      ]
     },
     "execution_count": 69,
     "metadata": {},
     "output_type": "execute_result"
    }
   ],
   "source": [
    "print(glove_embedding_en.embedding.shape)\n",
    "glove_embedding_en.embedding.head(1)"
   ]
  },
  {
   "cell_type": "code",
   "execution_count": 70,
   "metadata": {},
   "outputs": [
    {
     "name": "stderr",
     "output_type": "stream",
     "text": [
      "INFO:root:loading word embeddings word to vec from path ['../data/GloVe_vectors_de_50000.txt']\n",
      "/Users/magdalena.aretz/code/nlp_scripts/venv/lib/python3.9/site-packages/pandas/util/_decorators.py:311: ParserWarning: Both a converter and dtype were specified for column 0 - only the converter will be used\n",
      "  return func(*args, **kwargs)\n",
      "INFO:root:read in embeddings of shape (46994, 300)\n",
      "INFO:root:read in  word2vec\n",
      "INFO:root:read in index_to_word\n"
     ]
    },
    {
     "name": "stdout",
     "output_type": "stream",
     "text": [
      "total number of entries found:  46994. Dimension: 300\n",
      "CPU times: user 14 s, sys: 414 ms, total: 14.4 s\n",
      "Wall time: 14.4 s\n"
     ]
    }
   ],
   "source": [
    "#1.3 Mio entries => takes about 1000sec on local machine 1309281, 360 secs after\n",
    "#50k entries => takes 9 sec on local machine before, 6 secs after\n",
    "\n",
    "#50k entries => takes about 9 mins when reading linewise from aws\n",
    "\n",
    "# aws\n",
    "#%time glove_embedding_de = Embedding(language='de', path_list = [f's3://{BUCKET_NAME}/{FILE_NAME_DE}'])\n",
    "\n",
    "#lokal\n",
    "%time glove_embedding_de = Embedding(language='de', path_list=glove_path_de)"
   ]
  },
  {
   "cell_type": "code",
   "execution_count": 71,
   "metadata": {},
   "outputs": [
    {
     "name": "stdout",
     "output_type": "stream",
     "text": [
      "(46994, 300)\n"
     ]
    },
    {
     "data": {
      "text/html": [
       "<div>\n",
       "<style scoped>\n",
       "    .dataframe tbody tr th:only-of-type {\n",
       "        vertical-align: middle;\n",
       "    }\n",
       "\n",
       "    .dataframe tbody tr th {\n",
       "        vertical-align: top;\n",
       "    }\n",
       "\n",
       "    .dataframe thead th {\n",
       "        text-align: right;\n",
       "    }\n",
       "</style>\n",
       "<table border=\"1\" class=\"dataframe\">\n",
       "  <thead>\n",
       "    <tr style=\"text-align: right;\">\n",
       "      <th></th>\n",
       "      <th>1</th>\n",
       "      <th>2</th>\n",
       "      <th>3</th>\n",
       "      <th>4</th>\n",
       "      <th>5</th>\n",
       "      <th>6</th>\n",
       "      <th>7</th>\n",
       "      <th>8</th>\n",
       "      <th>9</th>\n",
       "      <th>10</th>\n",
       "      <th>...</th>\n",
       "      <th>291</th>\n",
       "      <th>292</th>\n",
       "      <th>293</th>\n",
       "      <th>294</th>\n",
       "      <th>295</th>\n",
       "      <th>296</th>\n",
       "      <th>297</th>\n",
       "      <th>298</th>\n",
       "      <th>299</th>\n",
       "      <th>300</th>\n",
       "    </tr>\n",
       "    <tr>\n",
       "      <th>0</th>\n",
       "      <th></th>\n",
       "      <th></th>\n",
       "      <th></th>\n",
       "      <th></th>\n",
       "      <th></th>\n",
       "      <th></th>\n",
       "      <th></th>\n",
       "      <th></th>\n",
       "      <th></th>\n",
       "      <th></th>\n",
       "      <th></th>\n",
       "      <th></th>\n",
       "      <th></th>\n",
       "      <th></th>\n",
       "      <th></th>\n",
       "      <th></th>\n",
       "      <th></th>\n",
       "      <th></th>\n",
       "      <th></th>\n",
       "      <th></th>\n",
       "      <th></th>\n",
       "    </tr>\n",
       "  </thead>\n",
       "  <tbody>\n",
       "    <tr>\n",
       "      <th>starke</th>\n",
       "      <td>-0.285156</td>\n",
       "      <td>-0.350098</td>\n",
       "      <td>0.066101</td>\n",
       "      <td>-0.059021</td>\n",
       "      <td>-0.074280</td>\n",
       "      <td>0.105103</td>\n",
       "      <td>-0.091431</td>\n",
       "      <td>-0.379395</td>\n",
       "      <td>-0.471924</td>\n",
       "      <td>-0.038055</td>\n",
       "      <td>...</td>\n",
       "      <td>-0.046783</td>\n",
       "      <td>0.486572</td>\n",
       "      <td>0.092285</td>\n",
       "      <td>0.394775</td>\n",
       "      <td>-0.386230</td>\n",
       "      <td>0.016998</td>\n",
       "      <td>0.315918</td>\n",
       "      <td>0.434814</td>\n",
       "      <td>-0.198242</td>\n",
       "      <td>-0.065308</td>\n",
       "    </tr>\n",
       "    <tr>\n",
       "      <th>mittagszeit</th>\n",
       "      <td>0.402832</td>\n",
       "      <td>-0.000529</td>\n",
       "      <td>-0.063110</td>\n",
       "      <td>-0.429688</td>\n",
       "      <td>0.059174</td>\n",
       "      <td>-0.181274</td>\n",
       "      <td>0.278076</td>\n",
       "      <td>-0.885254</td>\n",
       "      <td>-0.528809</td>\n",
       "      <td>0.113342</td>\n",
       "      <td>...</td>\n",
       "      <td>-0.310059</td>\n",
       "      <td>-0.564453</td>\n",
       "      <td>-0.512207</td>\n",
       "      <td>-0.061523</td>\n",
       "      <td>-0.261719</td>\n",
       "      <td>0.100830</td>\n",
       "      <td>0.032684</td>\n",
       "      <td>0.089478</td>\n",
       "      <td>0.310791</td>\n",
       "      <td>0.315674</td>\n",
       "    </tr>\n",
       "  </tbody>\n",
       "</table>\n",
       "<p>2 rows × 300 columns</p>\n",
       "</div>"
      ],
      "text/plain": [
       "                  1         2         3         4         5         6    \\\n",
       "0                                                                         \n",
       "starke      -0.285156 -0.350098  0.066101 -0.059021 -0.074280  0.105103   \n",
       "mittagszeit  0.402832 -0.000529 -0.063110 -0.429688  0.059174 -0.181274   \n",
       "\n",
       "                  7         8         9         10   ...       291       292  \\\n",
       "0                                                    ...                       \n",
       "starke      -0.091431 -0.379395 -0.471924 -0.038055  ... -0.046783  0.486572   \n",
       "mittagszeit  0.278076 -0.885254 -0.528809  0.113342  ... -0.310059 -0.564453   \n",
       "\n",
       "                  293       294       295       296       297       298  \\\n",
       "0                                                                         \n",
       "starke       0.092285  0.394775 -0.386230  0.016998  0.315918  0.434814   \n",
       "mittagszeit -0.512207 -0.061523 -0.261719  0.100830  0.032684  0.089478   \n",
       "\n",
       "                  299       300  \n",
       "0                                \n",
       "starke      -0.198242 -0.065308  \n",
       "mittagszeit  0.310791  0.315674  \n",
       "\n",
       "[2 rows x 300 columns]"
      ]
     },
     "execution_count": 71,
     "metadata": {},
     "output_type": "execute_result"
    }
   ],
   "source": [
    "print(glove_embedding_de.embedding.shape)\n",
    "glove_embedding_de.embedding.head(2)"
   ]
  },
  {
   "cell_type": "code",
   "execution_count": 72,
   "metadata": {},
   "outputs": [
    {
     "name": "stdout",
     "output_type": "stream",
     "text": [
      "<class 'dict'>\n",
      "399997\n",
      "100\n",
      "{1: -0.9501953125, 2: 1.1875, 3: -0.1558837890625, 4: -0.07403564453125, 5: 0.5078125, 6: 0.31591796875, 7: -0.548828125, 8: 0.06732177734375, 9: 0.15185546875, 10: -0.55126953125, 11: 0.239013671875, 12: 0.517578125, 13: 0.74658203125, 14: 0.250732421875, 15: 0.167236328125, 16: 0.623046875, 17: 0.578125, 18: 0.5126953125, 19: 0.40380859375, 20: 0.287353515625, 21: -0.86474609375, 22: 0.308349609375, 23: 0.5107421875, 24: 0.234619140625, 25: 0.79345703125, 26: 1.0947265625, 27: -0.38232421875, 28: -0.615234375, 29: -0.317626953125, 30: 0.0576171875, 31: -0.062225341796875, 32: 0.2337646484375, 33: 1.3642578125, 34: 0.041259765625, 35: 0.161376953125, 36: 0.5126953125, 37: -0.59228515625, 38: 0.1998291015625, 39: 0.84033203125, 40: -0.29443359375, 41: -0.60302734375, 42: -0.40185546875, 43: 0.2493896484375, 44: 0.1168212890625, 45: 0.320068359375, 46: 0.475341796875, 47: 0.06585693359375, 48: 0.82470703125, 49: -0.44140625, 50: -0.2509765625, 51: -0.662109375, 52: -0.86767578125, 53: 0.1761474609375, 54: 1.314453125, 55: -0.11248779296875, 56: -1.2099609375, 57: -0.348876953125, 58: 0.64404296875, 59: 1.65625, 60: 0.28515625, 61: 0.360107421875, 62: 1.2314453125, 63: -0.1533203125, 64: -0.039398193359375, 65: 0.332763671875, 66: -0.390380859375, 67: -0.366943359375, 68: -0.51806640625, 69: 0.505859375, 70: -0.783203125, 71: -0.94482421875, 72: 0.59765625, 73: 0.011199951171875, 74: -1.1259765625, 75: 0.18017578125, 76: -0.345458984375, 77: 0.712890625, 78: -0.430419921875, 79: -0.4501953125, 80: 0.8466796875, 81: 0.2196044921875, 82: -0.310791015625, 83: -0.59619140625, 84: -0.50146484375, 85: -0.101318359375, 86: -0.251953125, 87: 0.29052734375, 88: -0.49658203125, 89: 0.429931640625, 90: 1.1259765625, 91: -0.19287109375, 92: -0.921875, 93: 0.056396484375, 94: 0.62890625, 95: -0.9267578125, 96: -0.81201171875, 97: -0.292724609375, 98: -1.1015625, 99: 0.92138671875, 100: -0.35498046875}\n"
     ]
    }
   ],
   "source": [
    "# dict: word => embedding\n",
    "print(type(glove_embedding_en.word2vec))\n",
    "print(len(glove_embedding_en.word2vec))\n",
    "print(len(glove_embedding_en.word2vec['tree']))\n",
    "print(glove_embedding_en.word2vec['tree'])"
   ]
  },
  {
   "cell_type": "code",
   "execution_count": 73,
   "metadata": {},
   "outputs": [
    {
     "name": "stdout",
     "output_type": "stream",
     "text": [
      "<class 'list'>\n",
      ",\n",
      "mittagszeit\n"
     ]
    }
   ],
   "source": [
    "# list: index => word\n",
    "print(type(glove_embedding_en.index_to_word))\n",
    "print(glove_embedding_en.index_to_word[1])\n",
    "print(glove_embedding_de.index_to_word[1])"
   ]
  },
  {
   "cell_type": "code",
   "execution_count": 74,
   "metadata": {},
   "outputs": [
    {
     "name": "stdout",
     "output_type": "stream",
     "text": [
      "(399997, 100)\n",
      "(46994, 300)\n",
      "          1         2         3         4         5         6         7    \\\n",
      "0                                                                           \n",
      "the -0.038208 -0.244873  0.728027 -0.399658  0.083191  0.043945 -0.391357   \n",
      ",   -0.107666  0.110535  0.598145 -0.543457  0.673828  0.106628  0.038879   \n",
      "\n",
      "          8         9         10   ...       91        92        93   \\\n",
      "0                                  ...                                 \n",
      "the  0.334473 -0.575684  0.087463  ...  0.016220 -0.017105 -0.389893   \n",
      ",    0.354736  0.063538 -0.094177  ...  0.349609 -0.722656  0.375488   \n",
      "\n",
      "          94        95        96        97        98        99        100  \n",
      "0                                                                          \n",
      "the  0.874023 -0.725586 -0.510742 -0.520508 -0.145874  0.827637  0.270508  \n",
      ",    0.444092 -0.990723  0.612305 -0.351074 -0.831543  0.452881  0.082581  \n",
      "\n",
      "[2 rows x 100 columns]\n"
     ]
    }
   ],
   "source": [
    "print(glove_embedding_en.embedding.shape)\n",
    "print(glove_embedding_de.embedding.shape)\n",
    "print (glove_embedding_en.embedding.head(2))"
   ]
  },
  {
   "cell_type": "code",
   "execution_count": 75,
   "metadata": {},
   "outputs": [
    {
     "name": "stdout",
     "output_type": "stream",
     "text": [
      "20\n",
      "3\n",
      "114\n"
     ]
    }
   ],
   "source": [
    "import sys\n",
    "# approx size in MB sys.getsizeof() on the other hand returns the memory size of the object:\n",
    "print(sys.getsizeof(glove_embedding_en.word2vec)//1000000)\n",
    "print(sys.getsizeof(glove_embedding_en.index_to_word)//1000000)\n",
    "print(sys.getsizeof(glove_embedding_en.embedding)//1000000)"
   ]
  },
  {
   "cell_type": "code",
   "execution_count": 107,
   "metadata": {},
   "outputs": [
    {
     "name": "stdout",
     "output_type": "stream",
     "text": [
      "<class 'pandas.core.frame.DataFrame'>\n",
      "Index: 399997 entries, the to sandberger\n",
      "Columns: 100 entries, 1 to 100\n",
      "dtypes: float16(100)\n",
      "memory usage: 109.2 MB\n",
      "None\n",
      "-4.066\n",
      "3.574\n"
     ]
    }
   ],
   "source": [
    "print(glove_embedding_en.embedding.info(verbose=False, memory_usage=\"deep\"))\n",
    "print(glove_embedding_en.embedding.min().min())\n",
    "print(glove_embedding_en.embedding.max().max())"
   ]
  },
  {
   "cell_type": "code",
   "execution_count": 108,
   "metadata": {},
   "outputs": [
    {
     "name": "stdout",
     "output_type": "stream",
     "text": [
      "<class 'pandas.core.frame.DataFrame'>\n",
      "Index: 46994 entries, starke to pressekonferenz\n",
      "Columns: 300 entries, 1 to 300\n",
      "dtypes: float16(300)\n",
      "memory usage: 31.0 MB\n",
      "None\n",
      "-3.932\n",
      "4.816\n"
     ]
    }
   ],
   "source": [
    "print(glove_embedding_de.embedding.info(verbose=False, memory_usage=\"deep\"))\n",
    "print(glove_embedding_de.embedding.min().min())\n",
    "print(glove_embedding_de.embedding.max().max())"
   ]
  },
  {
   "cell_type": "markdown",
   "metadata": {},
   "source": [
    "# Best of"
   ]
  },
  {
   "cell_type": "code",
   "execution_count": 77,
   "metadata": {},
   "outputs": [
    {
     "name": "stderr",
     "output_type": "stream",
     "text": [
      "INFO:root:man - fun =  woman - kids\n"
     ]
    },
    {
     "data": {
      "text/plain": [
       "'kids'"
      ]
     },
     "execution_count": 77,
     "metadata": {},
     "output_type": "execute_result"
    }
   ],
   "source": [
    "glove_embedding_en.find_analogies('man', 'fun', 'woman')"
   ]
  },
  {
   "cell_type": "code",
   "execution_count": 78,
   "metadata": {},
   "outputs": [
    {
     "name": "stderr",
     "output_type": "stream",
     "text": [
      "INFO:root:mann - spass =  frau - schwiegermutter\n"
     ]
    },
    {
     "data": {
      "text/plain": [
       "'schwiegermutter'"
      ]
     },
     "execution_count": 78,
     "metadata": {},
     "output_type": "execute_result"
    }
   ],
   "source": [
    "glove_embedding_de.find_analogies('mann', 'spass', 'frau')"
   ]
  },
  {
   "cell_type": "code",
   "execution_count": 24,
   "metadata": {},
   "outputs": [
    {
     "name": "stderr",
     "output_type": "stream",
     "text": [
      "INFO:root:woman - love =  man - me\n"
     ]
    },
    {
     "data": {
      "text/plain": [
       "'me'"
      ]
     },
     "execution_count": 24,
     "metadata": {},
     "output_type": "execute_result"
    }
   ],
   "source": [
    "glove_embedding_en.find_analogies('woman', 'love', 'man')"
   ]
  },
  {
   "cell_type": "code",
   "execution_count": 25,
   "metadata": {},
   "outputs": [
    {
     "name": "stderr",
     "output_type": "stream",
     "text": [
      "INFO:root:frau - liebe =  mann - hickey\n"
     ]
    },
    {
     "data": {
      "text/plain": [
       "'hickey'"
      ]
     },
     "execution_count": 25,
     "metadata": {},
     "output_type": "execute_result"
    }
   ],
   "source": [
    "glove_embedding_de.find_analogies('frau', 'liebe', 'mann')"
   ]
  },
  {
   "cell_type": "code",
   "execution_count": 26,
   "metadata": {},
   "outputs": [
    {
     "name": "stderr",
     "output_type": "stream",
     "text": [
      "INFO:root:man - motivation =  woman - satisfaction\n"
     ]
    },
    {
     "data": {
      "text/plain": [
       "'satisfaction'"
      ]
     },
     "execution_count": 26,
     "metadata": {},
     "output_type": "execute_result"
    }
   ],
   "source": [
    "glove_embedding_en.find_analogies('man', 'motivation', 'woman')"
   ]
  },
  {
   "cell_type": "code",
   "execution_count": 27,
   "metadata": {},
   "outputs": [
    {
     "name": "stderr",
     "output_type": "stream",
     "text": [
      "INFO:root:mann - motivation =  frau - beeinflussen\n"
     ]
    },
    {
     "data": {
      "text/plain": [
       "'beeinflussen'"
      ]
     },
     "execution_count": 27,
     "metadata": {},
     "output_type": "execute_result"
    }
   ],
   "source": [
    "glove_embedding_de.find_analogies('mann', 'motivation', 'frau')"
   ]
  },
  {
   "cell_type": "code",
   "execution_count": 28,
   "metadata": {},
   "outputs": [
    {
     "name": "stderr",
     "output_type": "stream",
     "text": [
      "INFO:root:woman - motivation =  man - tremendous\n"
     ]
    },
    {
     "data": {
      "text/plain": [
       "'tremendous'"
      ]
     },
     "execution_count": 28,
     "metadata": {},
     "output_type": "execute_result"
    }
   ],
   "source": [
    "glove_embedding_en.find_analogies('woman', 'motivation', 'man')"
   ]
  },
  {
   "cell_type": "code",
   "execution_count": 79,
   "metadata": {},
   "outputs": [
    {
     "name": "stderr",
     "output_type": "stream",
     "text": [
      "INFO:root:frau - motivation =  mann - iranischen\n"
     ]
    },
    {
     "data": {
      "text/plain": [
       "'iranischen'"
      ]
     },
     "execution_count": 79,
     "metadata": {},
     "output_type": "execute_result"
    }
   ],
   "source": [
    "glove_embedding_de.find_analogies('frau', 'motivation', 'mann')"
   ]
  },
  {
   "cell_type": "code",
   "execution_count": 80,
   "metadata": {},
   "outputs": [
    {
     "name": "stderr",
     "output_type": "stream",
     "text": [
      "INFO:root:man - respect =  woman - dignity\n"
     ]
    },
    {
     "data": {
      "text/plain": [
       "'dignity'"
      ]
     },
     "execution_count": 80,
     "metadata": {},
     "output_type": "execute_result"
    }
   ],
   "source": [
    "glove_embedding_en.find_analogies('man', 'respect', 'woman')"
   ]
  },
  {
   "cell_type": "code",
   "execution_count": 81,
   "metadata": {},
   "outputs": [
    {
     "name": "stderr",
     "output_type": "stream",
     "text": [
      "INFO:root:mann - respekt =  frau - verschroben\n"
     ]
    },
    {
     "data": {
      "text/plain": [
       "'verschroben'"
      ]
     },
     "execution_count": 81,
     "metadata": {},
     "output_type": "execute_result"
    }
   ],
   "source": [
    "glove_embedding_de.find_analogies('mann', 'respekt', 'frau')"
   ]
  },
  {
   "cell_type": "code",
   "execution_count": 82,
   "metadata": {},
   "outputs": [
    {
     "name": "stderr",
     "output_type": "stream",
     "text": [
      "INFO:root:man - success =  woman - achieved\n",
      "INFO:root:mann - erfolg =  woman - lia\n"
     ]
    },
    {
     "data": {
      "text/plain": [
       "'lia'"
      ]
     },
     "execution_count": 82,
     "metadata": {},
     "output_type": "execute_result"
    }
   ],
   "source": [
    "glove_embedding_en.find_analogies('man', 'success', 'woman')\n",
    "glove_embedding_de.find_analogies('mann', 'erfolg', 'woman')"
   ]
  },
  {
   "cell_type": "code",
   "execution_count": 83,
   "metadata": {},
   "outputs": [
    {
     "name": "stderr",
     "output_type": "stream",
     "text": [
      "INFO:root:man - love =  woman - mother\n",
      "INFO:root:mann - liebe =  frau - hickey\n"
     ]
    },
    {
     "data": {
      "text/plain": [
       "'hickey'"
      ]
     },
     "execution_count": 83,
     "metadata": {},
     "output_type": "execute_result"
    }
   ],
   "source": [
    "glove_embedding_en.find_analogies('man', 'love', 'woman')\n",
    "glove_embedding_de.find_analogies('mann', 'liebe', 'frau')"
   ]
  },
  {
   "cell_type": "code",
   "execution_count": 84,
   "metadata": {},
   "outputs": [
    {
     "name": "stderr",
     "output_type": "stream",
     "text": [
      "INFO:root:frau - schwiegermutter =  mann - iranischen\n"
     ]
    },
    {
     "name": "stdout",
     "output_type": "stream",
     "text": [
      "mother in law not in dictionary\n"
     ]
    },
    {
     "name": "stderr",
     "output_type": "stream",
     "text": [
      "INFO:root:mann - schwiegervater =  frau - untergräbt\n"
     ]
    },
    {
     "data": {
      "text/plain": [
       "'untergräbt'"
      ]
     },
     "execution_count": 84,
     "metadata": {},
     "output_type": "execute_result"
    }
   ],
   "source": [
    "glove_embedding_en.find_analogies('woman', 'mother in law', 'man')\n",
    "glove_embedding_de.find_analogies('frau', 'schwiegermutter', 'mann')\n",
    "glove_embedding_de.find_analogies('mann', 'schwiegervater', 'frau')"
   ]
  },
  {
   "cell_type": "code",
   "execution_count": 85,
   "metadata": {},
   "outputs": [
    {
     "name": "stderr",
     "output_type": "stream",
     "text": [
      "INFO:root:man - great =  woman - little\n",
      "INFO:root:mann - großartig =  frau - langweilig\n"
     ]
    },
    {
     "data": {
      "text/plain": [
       "'langweilig'"
      ]
     },
     "execution_count": 85,
     "metadata": {},
     "output_type": "execute_result"
    }
   ],
   "source": [
    "glove_embedding_en.find_analogies('man', 'great', 'woman')\n",
    "glove_embedding_de.find_analogies('mann', 'großartig', 'frau')"
   ]
  },
  {
   "cell_type": "code",
   "execution_count": null,
   "metadata": {},
   "outputs": [],
   "source": []
  },
  {
   "cell_type": "code",
   "execution_count": 86,
   "metadata": {},
   "outputs": [
    {
     "name": "stderr",
     "output_type": "stream",
     "text": [
      "INFO:root:women - kids =  man - kid\n",
      "INFO:root:frau - kinder =  mann - iranischen\n"
     ]
    },
    {
     "data": {
      "text/plain": [
       "'iranischen'"
      ]
     },
     "execution_count": 86,
     "metadata": {},
     "output_type": "execute_result"
    }
   ],
   "source": [
    "glove_embedding_en.find_analogies('women', 'kids', 'man')\n",
    "glove_embedding_de.find_analogies('frau', 'kinder', 'mann')"
   ]
  },
  {
   "cell_type": "code",
   "execution_count": 87,
   "metadata": {},
   "outputs": [
    {
     "name": "stderr",
     "output_type": "stream",
     "text": [
      "INFO:root:man - friends =  woman - parents\n",
      "INFO:root:mann - freunde =  frau - suggeriert\n"
     ]
    },
    {
     "data": {
      "text/plain": [
       "'suggeriert'"
      ]
     },
     "execution_count": 87,
     "metadata": {},
     "output_type": "execute_result"
    }
   ],
   "source": [
    "glove_embedding_en.find_analogies('man', 'friends', 'woman')\n",
    "glove_embedding_de.find_analogies('mann', 'freunde', 'frau')"
   ]
  },
  {
   "cell_type": "code",
   "execution_count": 88,
   "metadata": {},
   "outputs": [
    {
     "name": "stderr",
     "output_type": "stream",
     "text": [
      "INFO:root:men - friends =  women - parents\n",
      "INFO:root:männer - freunde =  frauen - ihrer\n"
     ]
    },
    {
     "data": {
      "text/plain": [
       "'ihrer'"
      ]
     },
     "execution_count": 88,
     "metadata": {},
     "output_type": "execute_result"
    }
   ],
   "source": [
    "glove_embedding_en.find_analogies('men', 'friends', 'women')\n",
    "glove_embedding_de.find_analogies('männer', 'freunde', 'frauen')"
   ]
  },
  {
   "cell_type": "code",
   "execution_count": 89,
   "metadata": {},
   "outputs": [
    {
     "name": "stderr",
     "output_type": "stream",
     "text": [
      "INFO:root:woman - safety =  man - security\n",
      "INFO:root:frau - sicherheit =  mann - ausrüstung\n"
     ]
    },
    {
     "data": {
      "text/plain": [
       "'ausrüstung'"
      ]
     },
     "execution_count": 89,
     "metadata": {},
     "output_type": "execute_result"
    }
   ],
   "source": [
    "glove_embedding_en.find_analogies('woman', 'safety', 'man')\n",
    "glove_embedding_de.find_analogies('frau', 'sicherheit', 'mann')"
   ]
  },
  {
   "cell_type": "code",
   "execution_count": 90,
   "metadata": {},
   "outputs": [
    {
     "name": "stderr",
     "output_type": "stream",
     "text": [
      "INFO:root:women - orgasm =  men - 551\n",
      "INFO:root:frauen - orgasmus =  männer - kleidern\n"
     ]
    },
    {
     "data": {
      "text/plain": [
       "'kleidern'"
      ]
     },
     "execution_count": 90,
     "metadata": {},
     "output_type": "execute_result"
    }
   ],
   "source": [
    "glove_embedding_en.find_analogies('women', 'orgasm', 'men')\n",
    "glove_embedding_de.find_analogies('frauen', 'orgasmus', 'männer')"
   ]
  },
  {
   "cell_type": "code",
   "execution_count": 91,
   "metadata": {},
   "outputs": [
    {
     "name": "stderr",
     "output_type": "stream",
     "text": [
      "INFO:root:woman - money =  man - cash\n",
      "INFO:root:frau - geld =  mann - iranischen\n"
     ]
    },
    {
     "data": {
      "text/plain": [
       "'iranischen'"
      ]
     },
     "execution_count": 91,
     "metadata": {},
     "output_type": "execute_result"
    }
   ],
   "source": [
    "glove_embedding_en.find_analogies('woman', 'money', 'man')\n",
    "glove_embedding_de.find_analogies('frau', 'geld', 'mann')"
   ]
  },
  {
   "cell_type": "code",
   "execution_count": null,
   "metadata": {},
   "outputs": [],
   "source": []
  },
  {
   "cell_type": "code",
   "execution_count": 92,
   "metadata": {},
   "outputs": [
    {
     "name": "stderr",
     "output_type": "stream",
     "text": [
      "INFO:root:woman - man =  she - he\n",
      "INFO:root:woman - man =  aunt - uncle\n",
      "INFO:root:woman - man =  sister - brother\n",
      "INFO:root:woman - man =  actress - actor\n",
      "INFO:root:woman - man =  mother - father\n"
     ]
    },
    {
     "data": {
      "text/plain": [
       "'father'"
      ]
     },
     "execution_count": 92,
     "metadata": {},
     "output_type": "execute_result"
    }
   ],
   "source": [
    "# klappt einfach\n",
    "glove_embedding_en.find_analogies('woman', 'man', 'she')\n",
    "glove_embedding_en.find_analogies('woman', 'man', 'aunt')\n",
    "glove_embedding_en.find_analogies('woman', 'man', 'sister')\n",
    "glove_embedding_en.find_analogies('woman', 'man', 'actress')\n",
    "glove_embedding_en.find_analogies('woman', 'man', 'mother')"
   ]
  },
  {
   "cell_type": "code",
   "execution_count": 93,
   "metadata": {},
   "outputs": [
    {
     "name": "stderr",
     "output_type": "stream",
     "text": [
      "INFO:root:frau - mann =  sie - göttliche\n",
      "INFO:root:frau - mann =  tante - iranischen\n",
      "INFO:root:frau - mann =  schwester - iranischen\n",
      "INFO:root:frau - mann =  schauspielerin - schauspieler\n",
      "INFO:root:frau - mann =  mutter - iranischen\n"
     ]
    },
    {
     "data": {
      "text/plain": [
       "'iranischen'"
      ]
     },
     "execution_count": 93,
     "metadata": {},
     "output_type": "execute_result"
    }
   ],
   "source": [
    "# klappt einfach\n",
    "glove_embedding_de.find_analogies('frau', 'mann', 'sie')\n",
    "glove_embedding_de.find_analogies('frau', 'mann', 'tante')\n",
    "glove_embedding_de.find_analogies('frau', 'mann', 'schwester')\n",
    "glove_embedding_de.find_analogies('frau', 'mann', 'schauspielerin')\n",
    "glove_embedding_de.find_analogies('frau', 'mann', 'mutter')"
   ]
  },
  {
   "cell_type": "code",
   "execution_count": 94,
   "metadata": {},
   "outputs": [
    {
     "name": "stderr",
     "output_type": "stream",
     "text": [
      "INFO:root:paris - france =  london - britain\n",
      "INFO:root:paris - france =  rome - italy\n",
      "INFO:root:france - paris =  italy - rome\n",
      "INFO:root:florida - miami =  texas - dallas\n"
     ]
    },
    {
     "data": {
      "text/plain": [
       "'dallas'"
      ]
     },
     "execution_count": 94,
     "metadata": {},
     "output_type": "execute_result"
    }
   ],
   "source": [
    "#klappt einfach\n",
    "glove_embedding_en.find_analogies('paris', 'france', 'london')\n",
    "glove_embedding_en.find_analogies('paris', 'france', 'rome')\n",
    "glove_embedding_en.find_analogies('france', 'paris', 'italy')\n",
    "glove_embedding_en.find_analogies('florida', 'miami', 'texas')"
   ]
  },
  {
   "cell_type": "code",
   "execution_count": 97,
   "metadata": {},
   "outputs": [
    {
     "name": "stderr",
     "output_type": "stream",
     "text": [
      "INFO:root:frankreich - paris =  england - london\n",
      "INFO:root:frankreich - paris =  italien - leihmutter\n",
      "INFO:root:paris - frankreich =  rom - hymne\n",
      "INFO:root:miami - florida =  bayern - landkreis\n"
     ]
    },
    {
     "data": {
      "text/plain": [
       "'landkreis'"
      ]
     },
     "execution_count": 97,
     "metadata": {},
     "output_type": "execute_result"
    }
   ],
   "source": [
    "glove_embedding_de.find_analogies('frankreich', 'paris', 'england')\n",
    "glove_embedding_de.find_analogies('frankreich', 'paris', 'italien')\n",
    "glove_embedding_de.find_analogies('paris', 'frankreich', 'rom')\n",
    "glove_embedding_de.find_analogies('miami', 'florida', 'bayern')"
   ]
  },
  {
   "cell_type": "code",
   "execution_count": 98,
   "metadata": {},
   "outputs": [
    {
     "name": "stderr",
     "output_type": "stream",
     "text": [
      "INFO:root:november - december =  march - july\n",
      "INFO:root:november - dezember =  märz - indianern\n"
     ]
    },
    {
     "data": {
      "text/plain": [
       "'indianern'"
      ]
     },
     "execution_count": 98,
     "metadata": {},
     "output_type": "execute_result"
    }
   ],
   "source": [
    "#klappt einfach\n",
    "glove_embedding_en.find_analogies('november', 'december', 'march')\n",
    "glove_embedding_de.find_analogies('november', 'dezember', 'märz')"
   ]
  },
  {
   "cell_type": "code",
   "execution_count": 99,
   "metadata": {},
   "outputs": [
    {
     "name": "stderr",
     "output_type": "stream",
     "text": [
      "INFO:root:einstein - scientist =  dali - cumin\n"
     ]
    },
    {
     "name": "stdout",
     "output_type": "stream",
     "text": [
      "merkel not in dictionary\n"
     ]
    }
   ],
   "source": [
    "#klappt einfach\n",
    "glove_embedding_en.find_analogies('einstein', 'scientist', 'dali')\n",
    "glove_embedding_de.find_analogies('einstein', 'wissenschaftler', 'merkel')"
   ]
  },
  {
   "cell_type": "code",
   "execution_count": 100,
   "metadata": {},
   "outputs": [
    {
     "name": "stderr",
     "output_type": "stream",
     "text": [
      "INFO:root:china - rice =  germany - fischer\n",
      "INFO:root:china - reis =  deutschland - anzeige\n"
     ]
    },
    {
     "data": {
      "text/plain": [
       "'anzeige'"
      ]
     },
     "execution_count": 100,
     "metadata": {},
     "output_type": "execute_result"
    }
   ],
   "source": [
    "# fun\n",
    "glove_embedding_en.find_analogies('china', 'rice', 'germany')\n",
    "glove_embedding_de.find_analogies('china', 'reis', 'deutschland')"
   ]
  },
  {
   "cell_type": "code",
   "execution_count": 101,
   "metadata": {},
   "outputs": [
    {
     "name": "stderr",
     "output_type": "stream",
     "text": [
      "INFO:root:germany - beer =  usa - liquor\n",
      "INFO:root:deutschland - bier =  usa - gebraut\n"
     ]
    },
    {
     "data": {
      "text/plain": [
       "'gebraut'"
      ]
     },
     "execution_count": 101,
     "metadata": {},
     "output_type": "execute_result"
    }
   ],
   "source": [
    "glove_embedding_en.find_analogies('germany', 'beer', 'usa')\n",
    "glove_embedding_de.find_analogies('deutschland', 'bier', 'usa')"
   ]
  },
  {
   "cell_type": "code",
   "execution_count": 102,
   "metadata": {},
   "outputs": [
    {
     "name": "stderr",
     "output_type": "stream",
     "text": [
      "INFO:root:usa - freedom =  germany - germans\n",
      "INFO:root:usa - freiheit =  deutschland - anzeige\n"
     ]
    },
    {
     "data": {
      "text/plain": [
       "'anzeige'"
      ]
     },
     "execution_count": 102,
     "metadata": {},
     "output_type": "execute_result"
    }
   ],
   "source": [
    "glove_embedding_en.find_analogies('usa', 'freedom', 'germany')\n",
    "glove_embedding_de.find_analogies('usa', 'freiheit', 'deutschland')"
   ]
  },
  {
   "cell_type": "code",
   "execution_count": 103,
   "metadata": {},
   "outputs": [
    {
     "name": "stderr",
     "output_type": "stream",
     "text": [
      "INFO:root:builder - building =  politician - political\n",
      "INFO:root:writer - book =  politician - election\n",
      "INFO:root:bauarbeiter - baustelle =  politiker - jurist\n",
      "INFO:root:schriftsteller - buch =  politiker - mitglied\n"
     ]
    },
    {
     "data": {
      "text/plain": [
       "'mitglied'"
      ]
     },
     "execution_count": 103,
     "metadata": {},
     "output_type": "execute_result"
    }
   ],
   "source": [
    "glove_embedding_en.find_analogies('builder', 'building', 'politician')\n",
    "glove_embedding_en.find_analogies('writer', 'book', 'politician')\n",
    "glove_embedding_de.find_analogies('bauarbeiter', 'baustelle', 'politiker')\n",
    "glove_embedding_de.find_analogies('schriftsteller', 'buch', 'politiker')"
   ]
  },
  {
   "cell_type": "code",
   "execution_count": 104,
   "metadata": {},
   "outputs": [
    {
     "name": "stderr",
     "output_type": "stream",
     "text": [
      "INFO:root:hacker - code =  politician - constitution\n",
      "INFO:root:hacker - code =  politiker - lilie\n"
     ]
    },
    {
     "data": {
      "text/plain": [
       "'lilie'"
      ]
     },
     "execution_count": 104,
     "metadata": {},
     "output_type": "execute_result"
    }
   ],
   "source": [
    "glove_embedding_en.find_analogies('hacker', 'code', 'politician')\n",
    "glove_embedding_de.find_analogies('hacker', 'code', 'politiker')"
   ]
  },
  {
   "cell_type": "code",
   "execution_count": 105,
   "metadata": {},
   "outputs": [
    {
     "name": "stderr",
     "output_type": "stream",
     "text": [
      "INFO:root:trump - democracy =  hitler - communist\n",
      "INFO:root:trump - demokratie =  hitler - gerungen\n"
     ]
    },
    {
     "data": {
      "text/plain": [
       "'gerungen'"
      ]
     },
     "execution_count": 105,
     "metadata": {},
     "output_type": "execute_result"
    }
   ],
   "source": [
    "glove_embedding_en.find_analogies('trump', 'democracy', 'hitler')\n",
    "glove_embedding_de.find_analogies('trump', 'demokratie', 'hitler')"
   ]
  },
  {
   "cell_type": "code",
   "execution_count": 106,
   "metadata": {},
   "outputs": [
    {
     "data": {
      "text/plain": [
       "{1: 0.1866455078125,\n",
       " 2: 0.59521484375,\n",
       " 3: 0.0906982421875,\n",
       " 4: -0.44287109375,\n",
       " 5: 0.0018529891967773438,\n",
       " 6: -0.1324462890625,\n",
       " 7: 0.2242431640625,\n",
       " 8: 0.10614013671875,\n",
       " 9: -0.41650390625,\n",
       " 10: -0.6142578125,\n",
       " 11: -0.80322265625,\n",
       " 12: 0.54443359375,\n",
       " 13: -0.48291015625,\n",
       " 14: 0.03424072265625,\n",
       " 15: -0.09881591796875,\n",
       " 16: 0.357421875,\n",
       " 17: -0.05462646484375,\n",
       " 18: -0.049346923828125,\n",
       " 19: 0.28955078125,\n",
       " 20: -0.03887939453125,\n",
       " 21: 0.057708740234375,\n",
       " 22: 0.5888671875,\n",
       " 23: 0.182373046875,\n",
       " 24: -0.07330322265625,\n",
       " 25: 0.0943603515625,\n",
       " 26: 0.286865234375,\n",
       " 27: -0.5791015625,\n",
       " 28: 0.861328125,\n",
       " 29: -0.275634765625,\n",
       " 30: -0.67822265625,\n",
       " 31: 0.301513671875,\n",
       " 32: -0.5322265625,\n",
       " 33: 0.437744140625,\n",
       " 34: 0.33154296875,\n",
       " 35: -0.2203369140625,\n",
       " 36: -0.0011091232299804688,\n",
       " 37: 0.1834716796875,\n",
       " 38: -0.411865234375,\n",
       " 39: 0.56982421875,\n",
       " 40: 0.337158203125,\n",
       " 41: -0.282470703125,\n",
       " 42: -0.2529296875,\n",
       " 43: 0.0426025390625,\n",
       " 44: -0.32763671875,\n",
       " 45: -0.06982421875,\n",
       " 46: -0.5966796875,\n",
       " 47: 0.419677734375,\n",
       " 48: -0.234375,\n",
       " 49: 0.1710205078125,\n",
       " 50: 0.1373291015625,\n",
       " 51: -0.3935546875,\n",
       " 52: 0.20947265625,\n",
       " 53: -0.407470703125,\n",
       " 54: 0.28125,\n",
       " 55: -0.053070068359375,\n",
       " 56: 0.2110595703125,\n",
       " 57: -0.125244140625,\n",
       " 58: -1.005859375,\n",
       " 59: 0.360595703125,\n",
       " 60: -0.115478515625,\n",
       " 61: 0.46826171875,\n",
       " 62: 0.11712646484375,\n",
       " 63: -0.490966796875,\n",
       " 64: 0.6669921875,\n",
       " 65: -0.038299560546875,\n",
       " 66: 0.298583984375,\n",
       " 67: -1.015625,\n",
       " 68: 0.0049896240234375,\n",
       " 69: 0.33203125,\n",
       " 70: 0.5712890625,\n",
       " 71: -0.1922607421875,\n",
       " 72: 0.195556640625,\n",
       " 73: 0.202392578125,\n",
       " 74: 0.2076416015625,\n",
       " 75: -0.041290283203125,\n",
       " 76: -0.038055419921875,\n",
       " 77: -0.134033203125,\n",
       " 78: -0.297119140625,\n",
       " 79: 0.446044921875,\n",
       " 80: 0.063232421875,\n",
       " 81: -0.233154296875,\n",
       " 82: -0.0035495758056640625,\n",
       " 83: 0.035125732421875,\n",
       " 84: 0.325927734375,\n",
       " 85: -0.6318359375,\n",
       " 86: -0.486328125,\n",
       " 87: 0.194580078125,\n",
       " 88: 0.951171875,\n",
       " 89: -0.033843994140625,\n",
       " 90: -0.034423828125,\n",
       " 91: 0.8076171875,\n",
       " 92: 0.0775146484375,\n",
       " 93: -0.1732177734375,\n",
       " 94: -0.3994140625,\n",
       " 95: 0.734375,\n",
       " 96: 0.26904296875,\n",
       " 97: 0.346923828125,\n",
       " 98: -0.383544921875,\n",
       " 99: -0.06781005859375,\n",
       " 100: 0.355712890625,\n",
       " 101: 0.292724609375,\n",
       " 102: 0.006542205810546875,\n",
       " 103: -0.6943359375,\n",
       " 104: 0.282958984375,\n",
       " 105: 0.37353515625,\n",
       " 106: 0.225341796875,\n",
       " 107: -0.1939697265625,\n",
       " 108: 0.0115509033203125,\n",
       " 109: -0.07177734375,\n",
       " 110: -0.52685546875,\n",
       " 111: 0.1630859375,\n",
       " 112: 0.315185546875,\n",
       " 113: 0.365234375,\n",
       " 114: -0.056060791015625,\n",
       " 115: 0.102783203125,\n",
       " 116: -0.49267578125,\n",
       " 117: -0.2149658203125,\n",
       " 118: 0.1572265625,\n",
       " 119: -0.1722412109375,\n",
       " 120: 0.43994140625,\n",
       " 121: -0.301513671875,\n",
       " 122: 0.17578125,\n",
       " 123: 0.1224365234375,\n",
       " 124: 0.495849609375,\n",
       " 125: -0.1798095703125,\n",
       " 126: 0.299072265625,\n",
       " 127: -0.23095703125,\n",
       " 128: -0.07037353515625,\n",
       " 129: 0.425537109375,\n",
       " 130: 0.0312042236328125,\n",
       " 131: -0.68115234375,\n",
       " 132: 0.8896484375,\n",
       " 133: -0.146484375,\n",
       " 134: 0.11700439453125,\n",
       " 135: 0.11956787109375,\n",
       " 136: 0.2276611328125,\n",
       " 137: -0.8173828125,\n",
       " 138: 0.546875,\n",
       " 139: -0.283203125,\n",
       " 140: 0.322509765625,\n",
       " 141: -0.1053466796875,\n",
       " 142: 0.634765625,\n",
       " 143: -0.62353515625,\n",
       " 144: -0.6328125,\n",
       " 145: 0.32177734375,\n",
       " 146: 0.022796630859375,\n",
       " 147: -0.234130859375,\n",
       " 148: 0.45556640625,\n",
       " 149: -0.2117919921875,\n",
       " 150: -0.66845703125,\n",
       " 151: -0.595703125,\n",
       " 152: 0.0216064453125,\n",
       " 153: -0.329345703125,\n",
       " 154: 0.407958984375,\n",
       " 155: -0.317138671875,\n",
       " 156: -0.1650390625,\n",
       " 157: 0.05157470703125,\n",
       " 158: 0.1436767578125,\n",
       " 159: -0.326171875,\n",
       " 160: -0.420654296875,\n",
       " 161: -0.003414154052734375,\n",
       " 162: -0.259765625,\n",
       " 163: 0.287109375,\n",
       " 164: 0.383544921875,\n",
       " 165: 0.396240234375,\n",
       " 166: 0.422119140625,\n",
       " 167: -0.272216796875,\n",
       " 168: 0.2359619140625,\n",
       " 169: -0.07257080078125,\n",
       " 170: -0.53857421875,\n",
       " 171: 0.12078857421875,\n",
       " 172: 0.1256103515625,\n",
       " 173: 0.22509765625,\n",
       " 174: -0.0811767578125,\n",
       " 175: 0.45458984375,\n",
       " 176: -0.15087890625,\n",
       " 177: 0.056793212890625,\n",
       " 178: -0.216552734375,\n",
       " 179: 0.08526611328125,\n",
       " 180: -0.0006151199340820312,\n",
       " 181: 0.474853515625,\n",
       " 182: -0.7197265625,\n",
       " 183: -0.06658935546875,\n",
       " 184: -0.10260009765625,\n",
       " 185: 0.2484130859375,\n",
       " 186: 0.25244140625,\n",
       " 187: 0.486083984375,\n",
       " 188: -0.238037109375,\n",
       " 189: -0.1280517578125,\n",
       " 190: -0.304443359375,\n",
       " 191: -0.073486328125,\n",
       " 192: -0.275146484375,\n",
       " 193: -0.4169921875,\n",
       " 194: -0.55419921875,\n",
       " 195: -0.155517578125,\n",
       " 196: -0.445556640625,\n",
       " 197: -0.2340087890625,\n",
       " 198: -0.22802734375,\n",
       " 199: -0.0750732421875,\n",
       " 200: -0.161865234375,\n",
       " 201: -0.1231689453125,\n",
       " 202: 0.0224456787109375,\n",
       " 203: 0.0819091796875,\n",
       " 204: -0.10406494140625,\n",
       " 205: -0.390625,\n",
       " 206: -0.2230224609375,\n",
       " 207: -0.517578125,\n",
       " 208: 0.2177734375,\n",
       " 209: 0.393798828125,\n",
       " 210: 0.233154296875,\n",
       " 211: 0.03887939453125,\n",
       " 212: -0.1875,\n",
       " 213: -1.0390625,\n",
       " 214: 0.26171875,\n",
       " 215: 0.07135009765625,\n",
       " 216: -0.386962890625,\n",
       " 217: 0.25390625,\n",
       " 218: 0.1407470703125,\n",
       " 219: 0.266845703125,\n",
       " 220: -0.10064697265625,\n",
       " 221: -0.33984375,\n",
       " 222: 0.64599609375,\n",
       " 223: 0.1820068359375,\n",
       " 224: -0.185302734375,\n",
       " 225: 0.27587890625,\n",
       " 226: -0.134765625,\n",
       " 227: 0.020263671875,\n",
       " 228: 0.293212890625,\n",
       " 229: 0.390625,\n",
       " 230: 0.0246429443359375,\n",
       " 231: 0.477783203125,\n",
       " 232: 0.59619140625,\n",
       " 233: 0.43896484375,\n",
       " 234: 0.6826171875,\n",
       " 235: -0.452392578125,\n",
       " 236: 0.0643310546875,\n",
       " 237: 0.251708984375,\n",
       " 238: -0.376953125,\n",
       " 239: -0.2474365234375,\n",
       " 240: 0.04229736328125,\n",
       " 241: -0.16552734375,\n",
       " 242: 0.185302734375,\n",
       " 243: -0.744140625,\n",
       " 244: 0.85791015625,\n",
       " 245: 0.1519775390625,\n",
       " 246: 0.417724609375,\n",
       " 247: 0.31396484375,\n",
       " 248: -0.0227813720703125,\n",
       " 249: 0.1793212890625,\n",
       " 250: 0.283935546875,\n",
       " 251: 0.1019287109375,\n",
       " 252: -0.03875732421875,\n",
       " 253: -0.12939453125,\n",
       " 254: 0.7021484375,\n",
       " 255: 0.05194091796875,\n",
       " 256: -0.3212890625,\n",
       " 257: -0.1636962890625,\n",
       " 258: -0.1376953125,\n",
       " 259: 0.357177734375,\n",
       " 260: -0.50439453125,\n",
       " 261: -0.2242431640625,\n",
       " 262: -0.043792724609375,\n",
       " 263: -0.389404296875,\n",
       " 264: -0.2548828125,\n",
       " 265: 0.72900390625,\n",
       " 266: -0.26806640625,\n",
       " 267: 0.2056884765625,\n",
       " 268: -0.025238037109375,\n",
       " 269: -0.52978515625,\n",
       " 270: -0.127197265625,\n",
       " 271: 0.165771484375,\n",
       " 272: -0.57861328125,\n",
       " 273: 0.017486572265625,\n",
       " 274: -0.42236328125,\n",
       " 275: -0.004669189453125,\n",
       " 276: -0.11309814453125,\n",
       " 277: 0.2310791015625,\n",
       " 278: 0.2340087890625,\n",
       " 279: -0.300048828125,\n",
       " 280: -0.289306640625,\n",
       " 281: -0.2296142578125,\n",
       " 282: 0.712890625,\n",
       " 283: 0.396484375,\n",
       " 284: 0.2327880859375,\n",
       " 285: 0.0595703125,\n",
       " 286: -0.495361328125,\n",
       " 287: 0.07861328125,\n",
       " 288: 0.428955078125,\n",
       " 289: 0.343505859375,\n",
       " 290: -0.2265625,\n",
       " 291: -0.55859375,\n",
       " 292: -0.435791015625,\n",
       " 293: -0.1468505859375,\n",
       " 294: -0.12261962890625,\n",
       " 295: -0.36328125,\n",
       " 296: 0.2281494140625,\n",
       " 297: -0.043060302734375,\n",
       " 298: -0.509765625,\n",
       " 299: 0.2020263671875,\n",
       " 300: 0.541015625}"
      ]
     },
     "execution_count": 106,
     "metadata": {},
     "output_type": "execute_result"
    }
   ],
   "source": [
    "glove_embedding_de.get_embedding('trump')"
   ]
  },
  {
   "cell_type": "markdown",
   "metadata": {},
   "source": [
    "# nearest neighbors"
   ]
  },
  {
   "cell_type": "code",
   "execution_count": 55,
   "metadata": {},
   "outputs": [
    {
     "ename": "AttributeError",
     "evalue": "'dict' object has no attribute 'reshape'",
     "output_type": "error",
     "traceback": [
      "\u001b[0;31m---------------------------------------------------------------------------\u001b[0m",
      "\u001b[0;31mAttributeError\u001b[0m                            Traceback (most recent call last)",
      "\u001b[0;32m/var/folders/_n/ks2p05ts5zn6q171vklt92t00000gp/T/ipykernel_81148/2431473200.py\u001b[0m in \u001b[0;36m<module>\u001b[0;34m\u001b[0m\n\u001b[0;32m----> 1\u001b[0;31m \u001b[0mglove_embedding_en\u001b[0m\u001b[0;34m.\u001b[0m\u001b[0mnearest_neighbors\u001b[0m\u001b[0;34m(\u001b[0m\u001b[0;34m'france'\u001b[0m\u001b[0;34m)\u001b[0m\u001b[0;34m\u001b[0m\u001b[0;34m\u001b[0m\u001b[0m\n\u001b[0m",
      "\u001b[0;32m~/code/nlp_scripts/src/embedding.py\u001b[0m in \u001b[0;36mnearest_neighbors\u001b[0;34m(self, w, n)\u001b[0m\n\u001b[1;32m    109\u001b[0m \u001b[0;34m\u001b[0m\u001b[0m\n\u001b[1;32m    110\u001b[0m         \u001b[0mv\u001b[0m \u001b[0;34m=\u001b[0m \u001b[0mself\u001b[0m\u001b[0;34m.\u001b[0m\u001b[0mword2vec\u001b[0m\u001b[0;34m[\u001b[0m\u001b[0mw\u001b[0m\u001b[0;34m]\u001b[0m\u001b[0;34m\u001b[0m\u001b[0;34m\u001b[0m\u001b[0m\n\u001b[0;32m--> 111\u001b[0;31m         \u001b[0mdistances\u001b[0m \u001b[0;34m=\u001b[0m \u001b[0mpairwise_distances\u001b[0m\u001b[0;34m(\u001b[0m\u001b[0mv\u001b[0m\u001b[0;34m.\u001b[0m\u001b[0mreshape\u001b[0m\u001b[0;34m(\u001b[0m\u001b[0;36m1\u001b[0m\u001b[0;34m,\u001b[0m \u001b[0mself\u001b[0m\u001b[0;34m.\u001b[0m\u001b[0mD\u001b[0m\u001b[0;34m)\u001b[0m\u001b[0;34m,\u001b[0m \u001b[0mself\u001b[0m\u001b[0;34m.\u001b[0m\u001b[0membedding\u001b[0m\u001b[0;34m,\u001b[0m \u001b[0mself\u001b[0m\u001b[0;34m.\u001b[0m\u001b[0mmetric\u001b[0m\u001b[0;34m)\u001b[0m\u001b[0;34m.\u001b[0m\u001b[0mreshape\u001b[0m\u001b[0;34m(\u001b[0m\u001b[0mself\u001b[0m\u001b[0;34m.\u001b[0m\u001b[0mV\u001b[0m\u001b[0;34m)\u001b[0m\u001b[0;34m\u001b[0m\u001b[0;34m\u001b[0m\u001b[0m\n\u001b[0m\u001b[1;32m    112\u001b[0m         \u001b[0midxs\u001b[0m \u001b[0;34m=\u001b[0m \u001b[0mdistances\u001b[0m\u001b[0;34m.\u001b[0m\u001b[0margsort\u001b[0m\u001b[0;34m(\u001b[0m\u001b[0;34m)\u001b[0m\u001b[0;34m[\u001b[0m\u001b[0;36m1\u001b[0m\u001b[0;34m:\u001b[0m\u001b[0mn\u001b[0m\u001b[0;34m+\u001b[0m\u001b[0;36m1\u001b[0m\u001b[0;34m]\u001b[0m\u001b[0;34m\u001b[0m\u001b[0;34m\u001b[0m\u001b[0m\n\u001b[1;32m    113\u001b[0m         \u001b[0mprint\u001b[0m\u001b[0;34m(\u001b[0m\u001b[0;34m\"neighbors of: %s\"\u001b[0m \u001b[0;34m%\u001b[0m \u001b[0mw\u001b[0m\u001b[0;34m)\u001b[0m\u001b[0;34m\u001b[0m\u001b[0;34m\u001b[0m\u001b[0m\n",
      "\u001b[0;31mAttributeError\u001b[0m: 'dict' object has no attribute 'reshape'"
     ]
    }
   ],
   "source": [
    "glove_embedding_en.nearest_neighbors('france')"
   ]
  },
  {
   "cell_type": "code",
   "execution_count": null,
   "metadata": {},
   "outputs": [],
   "source": [
    "glove_embedding_de.nearest_neighbors('frankreich')"
   ]
  },
  {
   "cell_type": "code",
   "execution_count": null,
   "metadata": {},
   "outputs": [],
   "source": [
    "glove_embedding_en.nearest_neighbors('einstein')\n",
    "glove_embedding_de.nearest_neighbors('einstein')"
   ]
  },
  {
   "cell_type": "code",
   "execution_count": null,
   "metadata": {},
   "outputs": [],
   "source": [
    "glove_embedding_en.nearest_neighbors('trump')\n",
    "glove_embedding_de.nearest_neighbors('trump')"
   ]
  },
  {
   "cell_type": "code",
   "execution_count": null,
   "metadata": {},
   "outputs": [],
   "source": [
    "glove_embedding_en.nearest_neighbors('merkel')\n",
    "glove_embedding_de.nearest_neighbors('merkel')"
   ]
  },
  {
   "cell_type": "code",
   "execution_count": null,
   "metadata": {},
   "outputs": [],
   "source": [
    "glove_embedding_en.nearest_neighbors('procrastination')\n",
    "glove_embedding_de.nearest_neighbors('prokrastination')"
   ]
  },
  {
   "cell_type": "code",
   "execution_count": null,
   "metadata": {},
   "outputs": [],
   "source": [
    "glove_embedding_en.nearest_neighbors('religion')\n",
    "glove_embedding_de.nearest_neighbors('religion')"
   ]
  },
  {
   "cell_type": "code",
   "execution_count": null,
   "metadata": {},
   "outputs": [],
   "source": [
    "nearest_neighbors('woman',index_to_word, word2vec)\n",
    "nearest_neighbors('man',index_to_word, word2vec)\n",
    "nearest_neighbors('nephew',index_to_word, word2vec)"
   ]
  },
  {
   "cell_type": "code",
   "execution_count": null,
   "metadata": {},
   "outputs": [],
   "source": [
    "nearest_neighbors('february',index_to_word, word2vec)\n",
    "nearest_neighbors('success',index_to_word, word2vec)\n",
    "nearest_neighbors('money',index_to_word, word2vec)\n",
    "nearest_neighbors('love',index_to_word, word2vec)"
   ]
  },
  {
   "cell_type": "code",
   "execution_count": null,
   "metadata": {},
   "outputs": [],
   "source": []
  },
  {
   "cell_type": "code",
   "execution_count": null,
   "metadata": {},
   "outputs": [],
   "source": [
    "nearest_neighbors('procrastination', index_to_word, word2vec)"
   ]
  },
  {
   "cell_type": "code",
   "execution_count": null,
   "metadata": {},
   "outputs": [],
   "source": []
  }
 ],
 "metadata": {
  "kernelspec": {
   "display_name": "Python 3 (ipykernel)",
   "language": "python",
   "name": "python3"
  },
  "language_info": {
   "codemirror_mode": {
    "name": "ipython",
    "version": 3
   },
   "file_extension": ".py",
   "mimetype": "text/x-python",
   "name": "python",
   "nbconvert_exporter": "python",
   "pygments_lexer": "ipython3",
   "version": "3.9.6"
  }
 },
 "nbformat": 4,
 "nbformat_minor": 4
}
