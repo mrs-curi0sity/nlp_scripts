{
 "cells": [
  {
   "cell_type": "code",
   "execution_count": 1,
   "id": "2e95991a-c8e2-45e7-9e69-659b0ef231ac",
   "metadata": {},
   "outputs": [],
   "source": [
    "# just split the very large 'GloVe_vectors_de.txt' file, since git lfs only can handel file sizes up to 2GB\n"
   ]
  },
  {
   "cell_type": "code",
   "execution_count": 8,
   "id": "f7de61e4-bf5f-4076-af23-ad673704963b",
   "metadata": {},
   "outputs": [],
   "source": [
    "file_to_split = '../data/GloVe_vectors_de.txt'\n",
    "target_file_1 = '../data/GloVe_vectors_de_part_01.txt'\n",
    "target_file_2 = '../data/GloVe_vectors_de_part_02.txt'"
   ]
  },
  {
   "cell_type": "code",
   "execution_count": 10,
   "id": "85568d72-8fff-4c34-b2bd-f9028bc0dba9",
   "metadata": {},
   "outputs": [],
   "source": [
    "with open(file_to_split) as f:\n",
    "    lines = f.readlines()\n",
    "    print(len(lines))\n",
    "    cut = len(lines)//2\n",
    "    lines_part_1 = lines[:cut]\n",
    "    lines_part_2 = lines[cut:]"
   ]
  },
  {
   "cell_type": "code",
   "execution_count": 23,
   "id": "bf15e66c-63d9-4ead-9da5-f9144f54ec79",
   "metadata": {},
   "outputs": [],
   "source": [
    "f1 = open(target_file_1, 'w')\n",
    "for element in lines_part_1:\n",
    "    f1.write(element)\n",
    "\n",
    "f2 = open(target_file_2, 'w')\n",
    "for element in lines_part_2:\n",
    "    f2.write(element)"
   ]
  },
  {
   "cell_type": "code",
   "execution_count": 34,
   "id": "71932175-be4e-4323-83f9-2cdcf387e1c5",
   "metadata": {},
   "outputs": [],
   "source": [
    "# test\n",
    "with open (target_file_1) as test_file_1:\n",
    "    test_lines_1 = test_file_1.readlines()\n",
    "with open (target_file_2) as test_file_2:\n",
    "    test_lines_2 = test_file_2.readlines()"
   ]
  },
  {
   "cell_type": "code",
   "execution_count": 45,
   "id": "5160eb33-ff25-4600-92ae-da6b55a3060f",
   "metadata": {},
   "outputs": [
    {
     "data": {
      "text/plain": [
       "654640"
      ]
     },
     "execution_count": 45,
     "metadata": {},
     "output_type": "execute_result"
    }
   ],
   "source": [
    "len(lines_part_1)"
   ]
  },
  {
   "cell_type": "code",
   "execution_count": 46,
   "id": "ba833ba6-4406-4f9b-9db6-9fc238631d65",
   "metadata": {},
   "outputs": [
    {
     "data": {
      "text/plain": [
       "654638"
      ]
     },
     "execution_count": 46,
     "metadata": {},
     "output_type": "execute_result"
    }
   ],
   "source": [
    "len(test_lines_1) # i lost 3 lines "
   ]
  },
  {
   "cell_type": "code",
   "execution_count": 40,
   "id": "a4f1af04-2647-44a5-be28-55b8381f6f80",
   "metadata": {},
   "outputs": [
    {
     "data": {
      "text/plain": [
       "True"
      ]
     },
     "execution_count": 40,
     "metadata": {},
     "output_type": "execute_result"
    }
   ],
   "source": [
    "lines_part_1[:654637] == test_lines_1[:654637]"
   ]
  },
  {
   "cell_type": "code",
   "execution_count": 44,
   "id": "5ab8f42d-5e8e-4161-bf6a-8d64a11c4751",
   "metadata": {},
   "outputs": [
    {
     "data": {
      "text/plain": [
       "True"
      ]
     },
     "execution_count": 44,
     "metadata": {},
     "output_type": "execute_result"
    }
   ],
   "source": [
    "lines_part_2[124637] == test_lines_2[124637]"
   ]
  },
  {
   "cell_type": "code",
   "execution_count": 43,
   "id": "f71e9edb-6433-4aeb-bed8-940cdcea407d",
   "metadata": {},
   "outputs": [
    {
     "data": {
      "text/plain": [
       "654640"
      ]
     },
     "execution_count": 43,
     "metadata": {},
     "output_type": "execute_result"
    }
   ],
   "source": [
    "len(lines_part_1)"
   ]
  },
  {
   "cell_type": "code",
   "execution_count": null,
   "id": "330a29f2-5d89-40ad-a718-ae59a6e37ea7",
   "metadata": {},
   "outputs": [],
   "source": []
  }
 ],
 "metadata": {
  "kernelspec": {
   "display_name": "Python 3 (ipykernel)",
   "language": "python",
   "name": "python3"
  },
  "language_info": {
   "codemirror_mode": {
    "name": "ipython",
    "version": 3
   },
   "file_extension": ".py",
   "mimetype": "text/x-python",
   "name": "python",
   "nbconvert_exporter": "python",
   "pygments_lexer": "ipython3",
   "version": "3.9.6"
  }
 },
 "nbformat": 4,
 "nbformat_minor": 5
}
