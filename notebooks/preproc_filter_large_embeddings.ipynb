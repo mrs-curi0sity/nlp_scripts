{
 "cells": [
  {
   "cell_type": "code",
   "execution_count": 2,
   "id": "7dc4b3aa-0ab2-4e37-b5aa-1e9c5b26e399",
   "metadata": {},
   "outputs": [],
   "source": [
    "#https://www.deepset.ai/german-word-embeddings =>\n",
    "#https://int-emb-glove-de-wiki.s3.eu-central-1.amazonaws.com/vectors.txt\n",
    "# 4GB, containing 1.3 MIO (!) tokens in 300Dims => filter for10% most common words"
   ]
  },
  {
   "cell_type": "code",
   "execution_count": 1,
   "id": "f047f0ed-3984-48f1-910a-c58207c22357",
   "metadata": {},
   "outputs": [],
   "source": [
    "import pandas as pd\n",
    "import numpy as np\n",
    "import matplotlib.pyplot as plt\n",
    "from src.embedding import Embedding"
   ]
  },
  {
   "cell_type": "markdown",
   "id": "c9e4d7ed-c28f-4aef-a5e9-5e17c10fa8bf",
   "metadata": {},
   "source": [
    "### load embedding"
   ]
  },
  {
   "cell_type": "code",
   "execution_count": 5,
   "id": "fac11b4d-0891-474a-8af3-e37cfff99625",
   "metadata": {},
   "outputs": [
    {
     "name": "stderr",
     "output_type": "stream",
     "text": [
      "/Users/magdalena.aretz/code/nlp_scripts/venv/lib/python3.9/site-packages/pandas/util/_decorators.py:311: ParserWarning: Both a converter and dtype were specified for column 0 - only the converter will be used\n",
      "  return func(*args, **kwargs)\n"
     ]
    }
   ],
   "source": [
    "glove_de_path = '../data/GloVe_vectors_de.txt'\n",
    "glove_embedding_de = Embedding(language='de', path_list=[glove_de_path])"
   ]
  },
  {
   "cell_type": "code",
   "execution_count": null,
   "id": "a95efcd3-cc2e-48e7-961a-f18cce8e7616",
   "metadata": {},
   "outputs": [],
   "source": [
    "print(glove_embedding_de.embedding.shape)\n",
    "print(type(glove_embedding_de.embedding))\n",
    "print(len(glove_embedding_de.index_to_word))\n",
    "print(glove_embedding_de.index_to_word[0])"
   ]
  },
  {
   "cell_type": "code",
   "execution_count": null,
   "id": "2db4274b-887f-4f6f-a822-6ae85719efcf",
   "metadata": {},
   "outputs": [],
   "source": []
  },
  {
   "cell_type": "markdown",
   "id": "aa25de7a-244a-49a5-ad63-4af5274ea77e",
   "metadata": {},
   "source": [
    "### load german corpus"
   ]
  },
  {
   "cell_type": "code",
   "execution_count": null,
   "id": "89b41c26-49a1-4ecf-9eed-49f81d8c3e89",
   "metadata": {},
   "outputs": [],
   "source": [
    "#https://en.wiktionary.org/wiki/Wiktionary:Frequency_lists#German =>\n",
    "#https://invokeit.wordpress.com/frequency-word-lists/ =>\n",
    "#https://raw.githubusercontent.com/hermitdave/FrequencyWords/master/content/2016/de/de_50k.txt"
   ]
  },
  {
   "cell_type": "code",
   "execution_count": null,
   "id": "bc7beb18-4216-4639-8eca-151e236d5ff3",
   "metadata": {},
   "outputs": [],
   "source": [
    "corpus_path = '../data/de-top-50k.txt'\n",
    "with open (corpus_path) as file:\n",
    "    lines=file.readlines()"
   ]
  },
  {
   "cell_type": "code",
   "execution_count": null,
   "id": "29f0c99c-e890-4c68-8601-753b39851e86",
   "metadata": {},
   "outputs": [],
   "source": [
    "splitted_lines = [line.split() for line in lines]"
   ]
  },
  {
   "cell_type": "code",
   "execution_count": null,
   "id": "bd68f1c6-5382-46db-80b7-e7410f5d2d9f",
   "metadata": {},
   "outputs": [],
   "source": [
    "df_frequencies = pd.DataFrame(splitted_lines)\n",
    "df_frequencies.columns = ['word', 'frequency']\n",
    "print(df_frequencies.shape)\n",
    "df_frequencies.head(2)"
   ]
  },
  {
   "cell_type": "code",
   "execution_count": null,
   "id": "9d53c30a-866f-48de-8080-460060df6b2c",
   "metadata": {},
   "outputs": [],
   "source": [
    "df_frequencies['frequency'] = df_frequencies.frequency.apply(lambda x: int(x))"
   ]
  },
  {
   "cell_type": "code",
   "execution_count": null,
   "id": "a6bb99db-f79b-497a-8d32-1a17501be778",
   "metadata": {},
   "outputs": [],
   "source": [
    "# super long tail\n",
    "np.log(df_frequencies['frequency'].iloc[:1000]).plot()"
   ]
  },
  {
   "cell_type": "markdown",
   "id": "ca71c25a-8297-43fb-b20f-a52e7f5c7d42",
   "metadata": {},
   "source": [
    "# define top n"
   ]
  },
  {
   "cell_type": "code",
   "execution_count": null,
   "id": "b73e7ce0-3dd3-4b29-a53c-a58d5f0b603d",
   "metadata": {},
   "outputs": [],
   "source": [
    "N_most_frequent = 50000 # only keep X most frequent words"
   ]
  },
  {
   "cell_type": "code",
   "execution_count": null,
   "id": "02ea8b0b-31b4-4182-98e3-f2cf9944f46c",
   "metadata": {},
   "outputs": [],
   "source": [
    "# these will be kept\n",
    "print(df_frequencies.iloc[:N_most_frequent].tail(8))"
   ]
  },
  {
   "cell_type": "code",
   "execution_count": null,
   "id": "2b1487a2-7261-4a11-a28e-8d281eddb495",
   "metadata": {},
   "outputs": [],
   "source": [
    "frequent_words = set(df_frequencies.iloc[:N_most_frequent]['word'])\n",
    "len(frequent_words)"
   ]
  },
  {
   "cell_type": "code",
   "execution_count": null,
   "id": "f50b06de-2c91-4285-a75e-a067bd36d7de",
   "metadata": {},
   "outputs": [],
   "source": [
    "possible_words = set(filtered_embedding.index)\n",
    "len(possible_words)"
   ]
  },
  {
   "cell_type": "code",
   "execution_count": null,
   "id": "51f584ec-8bc1-4466-8c31-5fea6cf2e16c",
   "metadata": {},
   "outputs": [],
   "source": [
    "# only keep words that are frequent and in index of embedding\n",
    "words_to_keep = list(frequent_words & possible_words)\n",
    "len(words_to_keep)"
   ]
  },
  {
   "cell_type": "code",
   "execution_count": null,
   "id": "cadd5da0-74b1-4039-8620-589ca836cb78",
   "metadata": {},
   "outputs": [],
   "source": [
    "print(len(frequent_words - set(words_to_keep))) # these are dismissed because they do not appear in embedding list\n",
    "print(list(frequent_words - set(words_to_keep))[:8])"
   ]
  },
  {
   "cell_type": "markdown",
   "id": "41aa5ff3-6d55-4a72-bcb0-fd00e82420c4",
   "metadata": {},
   "source": [
    "# filter "
   ]
  },
  {
   "cell_type": "code",
   "execution_count": null,
   "id": "dc1b0c76-202f-4bf7-b2a9-221f99b62fab",
   "metadata": {},
   "outputs": [],
   "source": [
    "filtered_embedding = glove_embedding_de.embedding.copy()\n",
    "filtered_embedding = filtered_embedding.loc(axis=0)[words_to_keep]\n",
    "filtered_embedding.head(2)"
   ]
  },
  {
   "cell_type": "markdown",
   "id": "b3372c62-d351-400c-8f2d-ce7e6416f084",
   "metadata": {},
   "source": [
    "# write file"
   ]
  },
  {
   "cell_type": "code",
   "execution_count": null,
   "id": "8f3d8cdc-a51a-4dde-89d7-740b4cc6f1d6",
   "metadata": {},
   "outputs": [],
   "source": [
    "filtered_glove_path = f'../data/GloVe_vectors_de_{N_most_frequent}.txt'"
   ]
  },
  {
   "cell_type": "code",
   "execution_count": null,
   "id": "4ec12665-9307-4acd-b7b4-9cbd5b0d37a4",
   "metadata": {},
   "outputs": [],
   "source": [
    "filtered_embedding.to_csv(filtered_glove_path, sep=' ', index=True, header=None)\n",
    "test = pd.read_csv(filtered_glove_path, sep=' ', index_col = 0)\n",
    "test.head()"
   ]
  },
  {
   "cell_type": "code",
   "execution_count": null,
   "id": "680a51ce-5ae3-4cd0-97d8-a650dd25c058",
   "metadata": {},
   "outputs": [],
   "source": []
  },
  {
   "cell_type": "code",
   "execution_count": null,
   "id": "6c155505-f482-49ca-a06d-339686cb87ff",
   "metadata": {},
   "outputs": [],
   "source": []
  },
  {
   "cell_type": "markdown",
   "id": "9f6f543e-895e-4058-87d3-9a290fba1f76",
   "metadata": {},
   "source": [
    "## english most frequent words"
   ]
  },
  {
   "cell_type": "code",
   "execution_count": 2,
   "id": "39862b0a-e8f1-4910-b660-bb2f60023bd2",
   "metadata": {},
   "outputs": [],
   "source": [
    "# https://www.kaggle.com/rtatman/english-word-frequency"
   ]
  },
  {
   "cell_type": "code",
   "execution_count": null,
   "id": "e66dd42b-e61a-487c-9953-78b3992aa0a9",
   "metadata": {},
   "outputs": [],
   "source": []
  },
  {
   "cell_type": "markdown",
   "id": "35d87fc7-01f8-4aa9-a627-34f8c624cd9d",
   "metadata": {},
   "source": [
    "### load embedding"
   ]
  },
  {
   "cell_type": "code",
   "execution_count": 2,
   "id": "229011cd-3dd1-4ab4-b079-5d9f5d93828c",
   "metadata": {},
   "outputs": [
    {
     "name": "stderr",
     "output_type": "stream",
     "text": [
      "/Users/magdalena.aretz/code/nlp_scripts/venv/lib/python3.9/site-packages/pandas/util/_decorators.py:311: ParserWarning: Both a converter and dtype were specified for column 0 - only the converter will be used\n",
      "  return func(*args, **kwargs)\n"
     ]
    },
    {
     "name": "stdout",
     "output_type": "stream",
     "text": [
      "total number of entries found:  399997. Dimension: 50\n"
     ]
    }
   ],
   "source": [
    "glove_en_path = '../data/glove.6B.50d.txt'\n",
    "glove_embedding_en = Embedding(language='en', path_list=[glove_en_path])"
   ]
  },
  {
   "cell_type": "code",
   "execution_count": 3,
   "id": "30542295-96e3-4010-936f-57470ef6111b",
   "metadata": {},
   "outputs": [
    {
     "name": "stdout",
     "output_type": "stream",
     "text": [
      "(399997, 50)\n",
      "<class 'pandas.core.frame.DataFrame'>\n",
      "400000\n",
      "the\n"
     ]
    }
   ],
   "source": [
    "print(glove_embedding_en.embedding.shape)\n",
    "print(type(glove_embedding_en.embedding))\n",
    "print(len(glove_embedding_en.index_to_word))\n",
    "print(glove_embedding_en.index_to_word[0])"
   ]
  },
  {
   "cell_type": "markdown",
   "id": "e636c27c-7dc7-46b6-ba57-5621641ec7ab",
   "metadata": {},
   "source": [
    "## load english corpus"
   ]
  },
  {
   "cell_type": "code",
   "execution_count": 4,
   "id": "4c12718f-5d58-46ea-a290-fdcc0928a1a2",
   "metadata": {},
   "outputs": [],
   "source": [
    "# source: https://www.kaggle.com/rtatman/english-word-frequency, 333.333 most frequent words\n",
    "df_word_frequencies = pd.read_csv('../data/en_unigram_freq.csv')"
   ]
  },
  {
   "cell_type": "code",
   "execution_count": 9,
   "id": "8350a6f1-3df1-4f38-9d3f-e0720b9f4841",
   "metadata": {},
   "outputs": [
    {
     "name": "stdout",
     "output_type": "stream",
     "text": [
      "(333333, 2)\n"
     ]
    },
    {
     "data": {
      "text/html": [
       "<div>\n",
       "<style scoped>\n",
       "    .dataframe tbody tr th:only-of-type {\n",
       "        vertical-align: middle;\n",
       "    }\n",
       "\n",
       "    .dataframe tbody tr th {\n",
       "        vertical-align: top;\n",
       "    }\n",
       "\n",
       "    .dataframe thead th {\n",
       "        text-align: right;\n",
       "    }\n",
       "</style>\n",
       "<table border=\"1\" class=\"dataframe\">\n",
       "  <thead>\n",
       "    <tr style=\"text-align: right;\">\n",
       "      <th></th>\n",
       "      <th>word</th>\n",
       "      <th>count</th>\n",
       "    </tr>\n",
       "  </thead>\n",
       "  <tbody>\n",
       "    <tr>\n",
       "      <th>0</th>\n",
       "      <td>the</td>\n",
       "      <td>23135851162</td>\n",
       "    </tr>\n",
       "    <tr>\n",
       "      <th>1</th>\n",
       "      <td>of</td>\n",
       "      <td>13151942776</td>\n",
       "    </tr>\n",
       "    <tr>\n",
       "      <th>2</th>\n",
       "      <td>and</td>\n",
       "      <td>12997637966</td>\n",
       "    </tr>\n",
       "    <tr>\n",
       "      <th>3</th>\n",
       "      <td>to</td>\n",
       "      <td>12136980858</td>\n",
       "    </tr>\n",
       "    <tr>\n",
       "      <th>4</th>\n",
       "      <td>a</td>\n",
       "      <td>9081174698</td>\n",
       "    </tr>\n",
       "  </tbody>\n",
       "</table>\n",
       "</div>"
      ],
      "text/plain": [
       "  word        count\n",
       "0  the  23135851162\n",
       "1   of  13151942776\n",
       "2  and  12997637966\n",
       "3   to  12136980858\n",
       "4    a   9081174698"
      ]
     },
     "execution_count": 9,
     "metadata": {},
     "output_type": "execute_result"
    }
   ],
   "source": [
    "print(df_word_frequencies.shape)\n",
    "df_word_frequencies.head()"
   ]
  },
  {
   "cell_type": "code",
   "execution_count": 11,
   "id": "b1d7d746-b6c0-417f-b267-3d8920026d81",
   "metadata": {},
   "outputs": [
    {
     "data": {
      "text/plain": [
       "<AxesSubplot:>"
      ]
     },
     "execution_count": 11,
     "metadata": {},
     "output_type": "execute_result"
    },
    {
     "data": {
      "image/png": "[encoded data removed]",
      "text/plain": [
       "<Figure size 432x288 with 1 Axes>"
      ]
     },
     "metadata": {
      "needs_background": "light"
     },
     "output_type": "display_data"
    }
   ],
   "source": [
    "# super long tail\n",
    "np.log(df_word_frequencies['count'].iloc[:1000]).plot()"
   ]
  },
  {
   "cell_type": "code",
   "execution_count": null,
   "id": "db3910a8-bb82-45dd-b431-26acf36ba365",
   "metadata": {},
   "outputs": [],
   "source": []
  },
  {
   "cell_type": "code",
   "execution_count": 12,
   "id": "c2042073-cebf-4947-a0b8-6ecf2104f2d4",
   "metadata": {},
   "outputs": [],
   "source": [
    "N_most_frequent = 50000 # only keep 50k of 400k most frequent words"
   ]
  },
  {
   "cell_type": "code",
   "execution_count": 15,
   "id": "7a7d940e-f189-4bcb-84bf-8da9e933dab7",
   "metadata": {},
   "outputs": [
    {
     "name": "stdout",
     "output_type": "stream",
     "text": [
      "             word   count\n",
      "49992  camberwell  333325\n",
      "49993    hotlines  333309\n",
      "49994    hazelton  333297\n",
      "49995         nlg  333289\n",
      "49996   reaffirms  333279\n",
      "49997   anleitung  333245\n",
      "49998   webalizer  333242\n",
      "49999         paa  333226\n"
     ]
    }
   ],
   "source": [
    "# these will be kept\n",
    "print(df_word_frequencies.iloc[:N_most_frequent].tail(8))"
   ]
  },
  {
   "cell_type": "code",
   "execution_count": 17,
   "id": "edc3309d-0713-4168-bf0c-38807a668a40",
   "metadata": {},
   "outputs": [
    {
     "data": {
      "text/plain": [
       "49999"
      ]
     },
     "execution_count": 17,
     "metadata": {},
     "output_type": "execute_result"
    }
   ],
   "source": [
    "frequent_words = set(df_word_frequencies.iloc[:N_most_frequent]['word'])\n",
    "len(frequent_words)"
   ]
  },
  {
   "cell_type": "code",
   "execution_count": 18,
   "id": "67d22812-7ced-41d0-a5b6-051f8f9591c4",
   "metadata": {},
   "outputs": [
    {
     "data": {
      "text/plain": [
       "399997"
      ]
     },
     "execution_count": 18,
     "metadata": {},
     "output_type": "execute_result"
    }
   ],
   "source": [
    "possible_words = set(glove_embedding_en.embedding.index)\n",
    "len(possible_words)"
   ]
  },
  {
   "cell_type": "code",
   "execution_count": 19,
   "id": "2cd687b3-2a3d-4720-90d5-0bb7968350cd",
   "metadata": {},
   "outputs": [
    {
     "data": {
      "text/plain": [
       "47808"
      ]
     },
     "execution_count": 19,
     "metadata": {},
     "output_type": "execute_result"
    }
   ],
   "source": [
    "# only keep words that are frequent and in index of embedding\n",
    "words_to_keep = list(frequent_words & possible_words)\n",
    "len(words_to_keep)"
   ]
  },
  {
   "cell_type": "code",
   "execution_count": 20,
   "id": "2fe88c8c-b6c0-417e-b004-a3728316ec28",
   "metadata": {},
   "outputs": [
    {
     "name": "stdout",
     "output_type": "stream",
     "text": [
      "2191\n",
      "[nan, 'travelguide', 'allrecipes', 'nprm', 'keygen', 'flexeril', 'frontgate', 'webtrends']\n"
     ]
    }
   ],
   "source": [
    "print(len(frequent_words - set(words_to_keep))) # these are dismissed because they do not appear in embedding list\n",
    "print(list(frequent_words - set(words_to_keep))[:8])"
   ]
  },
  {
   "cell_type": "code",
   "execution_count": null,
   "id": "45410406-cafd-4605-b86a-20a2579d067d",
   "metadata": {},
   "outputs": [],
   "source": []
  },
  {
   "cell_type": "markdown",
   "id": "02740aec-53f2-4357-a640-74de10defe67",
   "metadata": {},
   "source": [
    "# filter "
   ]
  },
  {
   "cell_type": "code",
   "execution_count": 21,
   "id": "119878e0-2837-4051-8de0-82e6de778473",
   "metadata": {},
   "outputs": [
    {
     "data": {
      "text/html": [
       "<div>\n",
       "<style scoped>\n",
       "    .dataframe tbody tr th:only-of-type {\n",
       "        vertical-align: middle;\n",
       "    }\n",
       "\n",
       "    .dataframe tbody tr th {\n",
       "        vertical-align: top;\n",
       "    }\n",
       "\n",
       "    .dataframe thead th {\n",
       "        text-align: right;\n",
       "    }\n",
       "</style>\n",
       "<table border=\"1\" class=\"dataframe\">\n",
       "  <thead>\n",
       "    <tr style=\"text-align: right;\">\n",
       "      <th></th>\n",
       "      <th>1</th>\n",
       "      <th>2</th>\n",
       "      <th>3</th>\n",
       "      <th>4</th>\n",
       "      <th>5</th>\n",
       "      <th>6</th>\n",
       "      <th>7</th>\n",
       "      <th>8</th>\n",
       "      <th>9</th>\n",
       "      <th>10</th>\n",
       "      <th>...</th>\n",
       "      <th>41</th>\n",
       "      <th>42</th>\n",
       "      <th>43</th>\n",
       "      <th>44</th>\n",
       "      <th>45</th>\n",
       "      <th>46</th>\n",
       "      <th>47</th>\n",
       "      <th>48</th>\n",
       "      <th>49</th>\n",
       "      <th>50</th>\n",
       "    </tr>\n",
       "    <tr>\n",
       "      <th>0</th>\n",
       "      <th></th>\n",
       "      <th></th>\n",
       "      <th></th>\n",
       "      <th></th>\n",
       "      <th></th>\n",
       "      <th></th>\n",
       "      <th></th>\n",
       "      <th></th>\n",
       "      <th></th>\n",
       "      <th></th>\n",
       "      <th></th>\n",
       "      <th></th>\n",
       "      <th></th>\n",
       "      <th></th>\n",
       "      <th></th>\n",
       "      <th></th>\n",
       "      <th></th>\n",
       "      <th></th>\n",
       "      <th></th>\n",
       "      <th></th>\n",
       "      <th></th>\n",
       "    </tr>\n",
       "  </thead>\n",
       "  <tbody>\n",
       "    <tr>\n",
       "      <th>yonkers</th>\n",
       "      <td>-0.133423</td>\n",
       "      <td>-0.072449</td>\n",
       "      <td>-0.440186</td>\n",
       "      <td>0.082825</td>\n",
       "      <td>-0.202271</td>\n",
       "      <td>0.421631</td>\n",
       "      <td>-0.877441</td>\n",
       "      <td>0.046722</td>\n",
       "      <td>-0.311523</td>\n",
       "      <td>-0.188354</td>\n",
       "      <td>...</td>\n",
       "      <td>-1.150391</td>\n",
       "      <td>-0.099731</td>\n",
       "      <td>-0.119873</td>\n",
       "      <td>0.420898</td>\n",
       "      <td>-0.153809</td>\n",
       "      <td>0.359619</td>\n",
       "      <td>0.055206</td>\n",
       "      <td>-0.535156</td>\n",
       "      <td>0.131470</td>\n",
       "      <td>0.187012</td>\n",
       "    </tr>\n",
       "    <tr>\n",
       "      <th>ebrd</th>\n",
       "      <td>1.671875</td>\n",
       "      <td>0.295654</td>\n",
       "      <td>0.011101</td>\n",
       "      <td>-0.384766</td>\n",
       "      <td>-0.280029</td>\n",
       "      <td>-0.994629</td>\n",
       "      <td>0.404053</td>\n",
       "      <td>-0.540527</td>\n",
       "      <td>-0.187012</td>\n",
       "      <td>-0.104187</td>\n",
       "      <td>...</td>\n",
       "      <td>-0.569336</td>\n",
       "      <td>-0.017242</td>\n",
       "      <td>0.793457</td>\n",
       "      <td>-1.391602</td>\n",
       "      <td>-0.733887</td>\n",
       "      <td>0.568848</td>\n",
       "      <td>-0.470459</td>\n",
       "      <td>0.913574</td>\n",
       "      <td>0.199341</td>\n",
       "      <td>0.060638</td>\n",
       "    </tr>\n",
       "  </tbody>\n",
       "</table>\n",
       "<p>2 rows × 50 columns</p>\n",
       "</div>"
      ],
      "text/plain": [
       "               1         2         3         4         5         6         7   \\\n",
       "0                                                                               \n",
       "yonkers -0.133423 -0.072449 -0.440186  0.082825 -0.202271  0.421631 -0.877441   \n",
       "ebrd     1.671875  0.295654  0.011101 -0.384766 -0.280029 -0.994629  0.404053   \n",
       "\n",
       "               8         9         10  ...        41        42        43  \\\n",
       "0                                      ...                                 \n",
       "yonkers  0.046722 -0.311523 -0.188354  ... -1.150391 -0.099731 -0.119873   \n",
       "ebrd    -0.540527 -0.187012 -0.104187  ... -0.569336 -0.017242  0.793457   \n",
       "\n",
       "               44        45        46        47        48        49        50  \n",
       "0                                                                              \n",
       "yonkers  0.420898 -0.153809  0.359619  0.055206 -0.535156  0.131470  0.187012  \n",
       "ebrd    -1.391602 -0.733887  0.568848 -0.470459  0.913574  0.199341  0.060638  \n",
       "\n",
       "[2 rows x 50 columns]"
      ]
     },
     "execution_count": 21,
     "metadata": {},
     "output_type": "execute_result"
    }
   ],
   "source": [
    "filtered_embedding = glove_embedding_en.embedding.copy()\n",
    "filtered_embedding = filtered_embedding.loc(axis=0)[words_to_keep]\n",
    "filtered_embedding.head(2)"
   ]
  },
  {
   "cell_type": "markdown",
   "id": "100f56e5-f52b-4618-827d-6ffa415c3d5a",
   "metadata": {},
   "source": [
    "# write file"
   ]
  },
  {
   "cell_type": "code",
   "execution_count": 22,
   "id": "4e1e2189-9ab9-4aa1-bfeb-94ca46d79846",
   "metadata": {},
   "outputs": [],
   "source": [
    "filtered_glove_path = f'../data/glove.6B.50d.{N_most_frequent}.txt'"
   ]
  },
  {
   "cell_type": "code",
   "execution_count": 24,
   "id": "7bf6a506-f8b5-434c-bd8e-adc5d905c660",
   "metadata": {},
   "outputs": [
    {
     "data": {
      "text/html": [
       "<div>\n",
       "<style scoped>\n",
       "    .dataframe tbody tr th:only-of-type {\n",
       "        vertical-align: middle;\n",
       "    }\n",
       "\n",
       "    .dataframe tbody tr th {\n",
       "        vertical-align: top;\n",
       "    }\n",
       "\n",
       "    .dataframe thead th {\n",
       "        text-align: right;\n",
       "    }\n",
       "</style>\n",
       "<table border=\"1\" class=\"dataframe\">\n",
       "  <thead>\n",
       "    <tr style=\"text-align: right;\">\n",
       "      <th></th>\n",
       "      <th>1</th>\n",
       "      <th>2</th>\n",
       "      <th>3</th>\n",
       "      <th>4</th>\n",
       "      <th>5</th>\n",
       "      <th>6</th>\n",
       "      <th>7</th>\n",
       "      <th>8</th>\n",
       "      <th>9</th>\n",
       "      <th>10</th>\n",
       "      <th>...</th>\n",
       "      <th>41</th>\n",
       "      <th>42</th>\n",
       "      <th>43</th>\n",
       "      <th>44</th>\n",
       "      <th>45</th>\n",
       "      <th>46</th>\n",
       "      <th>47</th>\n",
       "      <th>48</th>\n",
       "      <th>49</th>\n",
       "      <th>50</th>\n",
       "    </tr>\n",
       "    <tr>\n",
       "      <th>0</th>\n",
       "      <th></th>\n",
       "      <th></th>\n",
       "      <th></th>\n",
       "      <th></th>\n",
       "      <th></th>\n",
       "      <th></th>\n",
       "      <th></th>\n",
       "      <th></th>\n",
       "      <th></th>\n",
       "      <th></th>\n",
       "      <th></th>\n",
       "      <th></th>\n",
       "      <th></th>\n",
       "      <th></th>\n",
       "      <th></th>\n",
       "      <th></th>\n",
       "      <th></th>\n",
       "      <th></th>\n",
       "      <th></th>\n",
       "      <th></th>\n",
       "      <th></th>\n",
       "    </tr>\n",
       "  </thead>\n",
       "  <tbody>\n",
       "    <tr>\n",
       "      <th>yonkers</th>\n",
       "      <td>-0.1334</td>\n",
       "      <td>-0.07245</td>\n",
       "      <td>-0.4402</td>\n",
       "      <td>0.0828</td>\n",
       "      <td>-0.2023</td>\n",
       "      <td>0.4216</td>\n",
       "      <td>-0.8774</td>\n",
       "      <td>0.04672</td>\n",
       "      <td>-0.3115</td>\n",
       "      <td>-0.1884</td>\n",
       "      <td>...</td>\n",
       "      <td>-1.1500</td>\n",
       "      <td>-0.09973</td>\n",
       "      <td>-0.1199</td>\n",
       "      <td>0.4210</td>\n",
       "      <td>-0.15380</td>\n",
       "      <td>0.3596</td>\n",
       "      <td>0.0552</td>\n",
       "      <td>-0.5350</td>\n",
       "      <td>0.1315</td>\n",
       "      <td>0.18700</td>\n",
       "    </tr>\n",
       "    <tr>\n",
       "      <th>ebrd</th>\n",
       "      <td>1.6720</td>\n",
       "      <td>0.29570</td>\n",
       "      <td>0.0111</td>\n",
       "      <td>-0.3848</td>\n",
       "      <td>-0.2800</td>\n",
       "      <td>-0.9946</td>\n",
       "      <td>0.4040</td>\n",
       "      <td>-0.54050</td>\n",
       "      <td>-0.1870</td>\n",
       "      <td>-0.1042</td>\n",
       "      <td>...</td>\n",
       "      <td>-0.5693</td>\n",
       "      <td>-0.01724</td>\n",
       "      <td>0.7935</td>\n",
       "      <td>-1.3920</td>\n",
       "      <td>-0.73400</td>\n",
       "      <td>0.5690</td>\n",
       "      <td>-0.4705</td>\n",
       "      <td>0.9136</td>\n",
       "      <td>0.1993</td>\n",
       "      <td>0.06064</td>\n",
       "    </tr>\n",
       "    <tr>\n",
       "      <th>majestic</th>\n",
       "      <td>0.7437</td>\n",
       "      <td>1.04000</td>\n",
       "      <td>-0.6620</td>\n",
       "      <td>0.0386</td>\n",
       "      <td>0.2340</td>\n",
       "      <td>-0.6320</td>\n",
       "      <td>-0.2510</td>\n",
       "      <td>-0.37720</td>\n",
       "      <td>-0.2915</td>\n",
       "      <td>0.5540</td>\n",
       "      <td>...</td>\n",
       "      <td>-0.3670</td>\n",
       "      <td>-0.22280</td>\n",
       "      <td>-0.1644</td>\n",
       "      <td>0.1490</td>\n",
       "      <td>-0.45100</td>\n",
       "      <td>0.5503</td>\n",
       "      <td>0.1127</td>\n",
       "      <td>-1.0560</td>\n",
       "      <td>-0.2384</td>\n",
       "      <td>-0.62350</td>\n",
       "    </tr>\n",
       "    <tr>\n",
       "      <th>verb</th>\n",
       "      <td>0.9526</td>\n",
       "      <td>0.96040</td>\n",
       "      <td>-1.0540</td>\n",
       "      <td>-0.4817</td>\n",
       "      <td>0.8345</td>\n",
       "      <td>0.7430</td>\n",
       "      <td>2.0250</td>\n",
       "      <td>0.07385</td>\n",
       "      <td>-2.3280</td>\n",
       "      <td>0.6560</td>\n",
       "      <td>...</td>\n",
       "      <td>0.6797</td>\n",
       "      <td>-0.79150</td>\n",
       "      <td>-0.3838</td>\n",
       "      <td>1.1470</td>\n",
       "      <td>0.12630</td>\n",
       "      <td>-0.8784</td>\n",
       "      <td>1.9490</td>\n",
       "      <td>0.8300</td>\n",
       "      <td>0.3300</td>\n",
       "      <td>-0.06350</td>\n",
       "    </tr>\n",
       "    <tr>\n",
       "      <th>olympus</th>\n",
       "      <td>0.8096</td>\n",
       "      <td>0.50200</td>\n",
       "      <td>1.4590</td>\n",
       "      <td>-0.2625</td>\n",
       "      <td>-0.5100</td>\n",
       "      <td>-0.2498</td>\n",
       "      <td>0.1460</td>\n",
       "      <td>-0.76800</td>\n",
       "      <td>-0.6196</td>\n",
       "      <td>0.4941</td>\n",
       "      <td>...</td>\n",
       "      <td>0.7324</td>\n",
       "      <td>-0.09270</td>\n",
       "      <td>-0.1630</td>\n",
       "      <td>0.0665</td>\n",
       "      <td>-0.10315</td>\n",
       "      <td>-0.2201</td>\n",
       "      <td>0.9540</td>\n",
       "      <td>-0.3276</td>\n",
       "      <td>-0.1519</td>\n",
       "      <td>-0.99900</td>\n",
       "    </tr>\n",
       "  </tbody>\n",
       "</table>\n",
       "<p>5 rows × 50 columns</p>\n",
       "</div>"
      ],
      "text/plain": [
       "              1        2       3       4       5       6       7        8   \\\n",
       "0                                                                            \n",
       "yonkers  -0.1334 -0.07245 -0.4402  0.0828 -0.2023  0.4216 -0.8774  0.04672   \n",
       "ebrd      1.6720  0.29570  0.0111 -0.3848 -0.2800 -0.9946  0.4040 -0.54050   \n",
       "majestic  0.7437  1.04000 -0.6620  0.0386  0.2340 -0.6320 -0.2510 -0.37720   \n",
       "verb      0.9526  0.96040 -1.0540 -0.4817  0.8345  0.7430  2.0250  0.07385   \n",
       "olympus   0.8096  0.50200  1.4590 -0.2625 -0.5100 -0.2498  0.1460 -0.76800   \n",
       "\n",
       "              9       10  ...      41       42      43      44       45  \\\n",
       "0                         ...                                             \n",
       "yonkers  -0.3115 -0.1884  ... -1.1500 -0.09973 -0.1199  0.4210 -0.15380   \n",
       "ebrd     -0.1870 -0.1042  ... -0.5693 -0.01724  0.7935 -1.3920 -0.73400   \n",
       "majestic -0.2915  0.5540  ... -0.3670 -0.22280 -0.1644  0.1490 -0.45100   \n",
       "verb     -2.3280  0.6560  ...  0.6797 -0.79150 -0.3838  1.1470  0.12630   \n",
       "olympus  -0.6196  0.4941  ...  0.7324 -0.09270 -0.1630  0.0665 -0.10315   \n",
       "\n",
       "              46      47      48      49       50  \n",
       "0                                                  \n",
       "yonkers   0.3596  0.0552 -0.5350  0.1315  0.18700  \n",
       "ebrd      0.5690 -0.4705  0.9136  0.1993  0.06064  \n",
       "majestic  0.5503  0.1127 -1.0560 -0.2384 -0.62350  \n",
       "verb     -0.8784  1.9490  0.8300  0.3300 -0.06350  \n",
       "olympus  -0.2201  0.9540 -0.3276 -0.1519 -0.99900  \n",
       "\n",
       "[5 rows x 50 columns]"
      ]
     },
     "execution_count": 24,
     "metadata": {},
     "output_type": "execute_result"
    }
   ],
   "source": [
    "filtered_embedding.to_csv(filtered_glove_path, sep=' ', index=True, header=None)\n",
    "test = pd.read_csv(filtered_glove_path, sep=' ', index_col = 0, header=None)\n",
    "test.head()"
   ]
  },
  {
   "cell_type": "code",
   "execution_count": null,
   "id": "eb93969f-4205-481a-9eb7-934cb104f5eb",
   "metadata": {},
   "outputs": [],
   "source": []
  }
 ],
 "metadata": {
  "kernelspec": {
   "display_name": "Python 3 (ipykernel)",
   "language": "python",
   "name": "python3"
  },
  "language_info": {
   "codemirror_mode": {
    "name": "ipython",
    "version": 3
   },
   "file_extension": ".py",
   "mimetype": "text/x-python",
   "name": "python",
   "nbconvert_exporter": "python",
   "pygments_lexer": "ipython3",
   "version": "3.9.6"
  }
 },
 "nbformat": 4,
 "nbformat_minor": 5
}
