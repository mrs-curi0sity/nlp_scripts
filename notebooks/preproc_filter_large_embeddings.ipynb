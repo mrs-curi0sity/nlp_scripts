{
 "cells": [
  {
   "cell_type": "code",
   "execution_count": 1,
   "id": "7dc4b3aa-0ab2-4e37-b5aa-1e9c5b26e399",
   "metadata": {},
   "outputs": [],
   "source": [
    "#https://www.deepset.ai/german-word-embeddings =>\n",
    "#https://int-emb-glove-de-wiki.s3.eu-central-1.amazonaws.com/vectors.txt\n",
    "# 4GB, containing 1.3 MIO (!) tokens in 300Dims => filter for10% most common words"
   ]
  },
  {
   "cell_type": "code",
   "execution_count": 2,
   "id": "f047f0ed-3984-48f1-910a-c58207c22357",
   "metadata": {},
   "outputs": [],
   "source": [
    "import pandas as pd\n",
    "import numpy as np\n",
    "import matplotlib.pyplot as plt\n",
    "from src.embedding import Embedding"
   ]
  },
  {
   "cell_type": "code",
   "execution_count": 3,
   "id": "dc365051-e64b-484c-bd3e-de4c275659f4",
   "metadata": {},
   "outputs": [],
   "source": [
    "N_most_frequent = 16000"
   ]
  },
  {
   "cell_type": "markdown",
   "id": "c9e4d7ed-c28f-4aef-a5e9-5e17c10fa8bf",
   "metadata": {},
   "source": [
    "### load embedding"
   ]
  },
  {
   "cell_type": "code",
   "execution_count": 4,
   "id": "fac11b4d-0891-474a-8af3-e37cfff99625",
   "metadata": {},
   "outputs": [
    {
     "name": "stderr",
     "output_type": "stream",
     "text": [
      "/Users/magdalena.aretz/code/nlp_scripts/venv/lib/python3.9/site-packages/pandas/util/_decorators.py:311: ParserWarning: Both a converter and dtype were specified for column 0 - only the converter will be used\n",
      "  return func(*args, **kwargs)\n"
     ]
    },
    {
     "name": "stdout",
     "output_type": "stream",
     "text": [
      "total number of entries found:  1309279. Dimension: 300\n"
     ]
    }
   ],
   "source": [
    "glove_de_path = '../data/GloVe_vectors_de.txt'\n",
    "glove_embedding_de = Embedding(language='de', path_list=[glove_de_path])"
   ]
  },
  {
   "cell_type": "code",
   "execution_count": 5,
   "id": "a95efcd3-cc2e-48e7-961a-f18cce8e7616",
   "metadata": {},
   "outputs": [
    {
     "name": "stdout",
     "output_type": "stream",
     "text": [
      "(1309279, 300)\n",
      "<class 'pandas.core.frame.DataFrame'>\n",
      "1309281\n",
      "der\n"
     ]
    }
   ],
   "source": [
    "print(glove_embedding_de.embedding.shape)\n",
    "print(type(glove_embedding_de.embedding))\n",
    "print(len(glove_embedding_de.index_to_word))\n",
    "print(glove_embedding_de.index_to_word[0])"
   ]
  },
  {
   "cell_type": "code",
   "execution_count": null,
   "id": "2db4274b-887f-4f6f-a822-6ae85719efcf",
   "metadata": {},
   "outputs": [],
   "source": []
  },
  {
   "cell_type": "markdown",
   "id": "aa25de7a-244a-49a5-ad63-4af5274ea77e",
   "metadata": {},
   "source": [
    "### load german corpus"
   ]
  },
  {
   "cell_type": "code",
   "execution_count": 6,
   "id": "89b41c26-49a1-4ecf-9eed-49f81d8c3e89",
   "metadata": {},
   "outputs": [],
   "source": [
    "#https://en.wiktionary.org/wiki/Wiktionary:Frequency_lists#German =>\n",
    "#https://invokeit.wordpress.com/frequency-word-lists/ =>\n",
    "#https://raw.githubusercontent.com/hermitdave/FrequencyWords/master/content/2016/de/de_50k.txt"
   ]
  },
  {
   "cell_type": "code",
   "execution_count": 7,
   "id": "bc7beb18-4216-4639-8eca-151e236d5ff3",
   "metadata": {},
   "outputs": [],
   "source": [
    "corpus_path = '../data/de-top-50k.txt'\n",
    "with open (corpus_path) as file:\n",
    "    lines=file.readlines()"
   ]
  },
  {
   "cell_type": "code",
   "execution_count": 8,
   "id": "29f0c99c-e890-4c68-8601-753b39851e86",
   "metadata": {},
   "outputs": [],
   "source": [
    "splitted_lines = [line.split() for line in lines]"
   ]
  },
  {
   "cell_type": "code",
   "execution_count": 9,
   "id": "bd68f1c6-5382-46db-80b7-e7410f5d2d9f",
   "metadata": {},
   "outputs": [
    {
     "name": "stdout",
     "output_type": "stream",
     "text": [
      "(50000, 2)\n"
     ]
    },
    {
     "data": {
      "text/html": [
       "<div>\n",
       "<style scoped>\n",
       "    .dataframe tbody tr th:only-of-type {\n",
       "        vertical-align: middle;\n",
       "    }\n",
       "\n",
       "    .dataframe tbody tr th {\n",
       "        vertical-align: top;\n",
       "    }\n",
       "\n",
       "    .dataframe thead th {\n",
       "        text-align: right;\n",
       "    }\n",
       "</style>\n",
       "<table border=\"1\" class=\"dataframe\">\n",
       "  <thead>\n",
       "    <tr style=\"text-align: right;\">\n",
       "      <th></th>\n",
       "      <th>word</th>\n",
       "      <th>frequency</th>\n",
       "    </tr>\n",
       "  </thead>\n",
       "  <tbody>\n",
       "    <tr>\n",
       "      <th>0</th>\n",
       "      <td>ich</td>\n",
       "      <td>3699605</td>\n",
       "    </tr>\n",
       "    <tr>\n",
       "      <th>1</th>\n",
       "      <td>sie</td>\n",
       "      <td>2409949</td>\n",
       "    </tr>\n",
       "  </tbody>\n",
       "</table>\n",
       "</div>"
      ],
      "text/plain": [
       "  word frequency\n",
       "0  ich   3699605\n",
       "1  sie   2409949"
      ]
     },
     "execution_count": 9,
     "metadata": {},
     "output_type": "execute_result"
    }
   ],
   "source": [
    "df_frequencies = pd.DataFrame(splitted_lines)\n",
    "df_frequencies.columns = ['word', 'frequency']\n",
    "print(df_frequencies.shape)\n",
    "df_frequencies.head(2)"
   ]
  },
  {
   "cell_type": "code",
   "execution_count": 10,
   "id": "9d53c30a-866f-48de-8080-460060df6b2c",
   "metadata": {},
   "outputs": [],
   "source": [
    "df_frequencies['frequency'] = df_frequencies.frequency.apply(lambda x: int(x))"
   ]
  },
  {
   "cell_type": "code",
   "execution_count": 11,
   "id": "a6bb99db-f79b-497a-8d32-1a17501be778",
   "metadata": {},
   "outputs": [
    {
     "data": {
      "text/plain": [
       "<AxesSubplot:>"
      ]
     },
     "execution_count": 11,
     "metadata": {},
     "output_type": "execute_result"
    },
    {
     "data": {
      "image/png": "[encoded data removed]",
      "text/plain": [
       "<Figure size 432x288 with 1 Axes>"
      ]
     },
     "metadata": {
      "needs_background": "light"
     },
     "output_type": "display_data"
    }
   ],
   "source": [
    "# super long tail\n",
    "np.log(df_frequencies['frequency'].iloc[:1000]).plot()"
   ]
  },
  {
   "cell_type": "markdown",
   "id": "ca71c25a-8297-43fb-b20f-a52e7f5c7d42",
   "metadata": {},
   "source": [
    "# define top n"
   ]
  },
  {
   "cell_type": "code",
   "execution_count": null,
   "id": "b73e7ce0-3dd3-4b29-a53c-a58d5f0b603d",
   "metadata": {},
   "outputs": [],
   "source": []
  },
  {
   "cell_type": "code",
   "execution_count": 12,
   "id": "02ea8b0b-31b4-4182-98e3-f2cf9944f46c",
   "metadata": {},
   "outputs": [
    {
     "name": "stdout",
     "output_type": "stream",
     "text": [
      "              word  frequency\n",
      "15992    gelächelt        224\n",
      "15993  gebärmutter        224\n",
      "15994  spirituelle        224\n",
      "15995   flachlegen        224\n",
      "15996       prison        223\n",
      "15997        marek        223\n",
      "15998     wanderte        223\n",
      "15999     schaukel        223\n"
     ]
    }
   ],
   "source": [
    "# these will be kept\n",
    "print(df_frequencies.iloc[:N_most_frequent].tail(8))"
   ]
  },
  {
   "cell_type": "code",
   "execution_count": 13,
   "id": "2b1487a2-7261-4a11-a28e-8d281eddb495",
   "metadata": {},
   "outputs": [
    {
     "data": {
      "text/plain": [
       "16000"
      ]
     },
     "execution_count": 13,
     "metadata": {},
     "output_type": "execute_result"
    }
   ],
   "source": [
    "frequent_words = set(df_frequencies.iloc[:N_most_frequent]['word'])\n",
    "len(frequent_words)"
   ]
  },
  {
   "cell_type": "code",
   "execution_count": 14,
   "id": "f50b06de-2c91-4285-a75e-a067bd36d7de",
   "metadata": {},
   "outputs": [
    {
     "data": {
      "text/plain": [
       "1309279"
      ]
     },
     "execution_count": 14,
     "metadata": {},
     "output_type": "execute_result"
    }
   ],
   "source": [
    "possible_words = set(glove_embedding_de.embedding.index)\n",
    "len(possible_words)"
   ]
  },
  {
   "cell_type": "code",
   "execution_count": 15,
   "id": "51f584ec-8bc1-4466-8c31-5fea6cf2e16c",
   "metadata": {},
   "outputs": [
    {
     "data": {
      "text/plain": [
       "15652"
      ]
     },
     "execution_count": 15,
     "metadata": {},
     "output_type": "execute_result"
    }
   ],
   "source": [
    "# only keep words that are frequent and in index of embedding\n",
    "words_to_keep = list(frequent_words & possible_words)\n",
    "len(words_to_keep)"
   ]
  },
  {
   "cell_type": "code",
   "execution_count": 16,
   "id": "cadd5da0-74b1-4039-8620-589ca836cb78",
   "metadata": {},
   "outputs": [
    {
     "name": "stdout",
     "output_type": "stream",
     "text": [
      "348\n",
      "['freust', 'gottverdammter', 'stellvertretende', 'durchgeschnitten', 'wurdet', 'unterbreche', 'ã', 'krankenschwester']\n"
     ]
    }
   ],
   "source": [
    "print(len(frequent_words - set(words_to_keep))) # these are dismissed because they do not appear in embedding list\n",
    "print(list(frequent_words - set(words_to_keep))[:8])"
   ]
  },
  {
   "cell_type": "markdown",
   "id": "41aa5ff3-6d55-4a72-bcb0-fd00e82420c4",
   "metadata": {},
   "source": [
    "# filter "
   ]
  },
  {
   "cell_type": "code",
   "execution_count": 17,
   "id": "dc1b0c76-202f-4bf7-b2a9-221f99b62fab",
   "metadata": {},
   "outputs": [
    {
     "data": {
      "text/html": [
       "<div>\n",
       "<style scoped>\n",
       "    .dataframe tbody tr th:only-of-type {\n",
       "        vertical-align: middle;\n",
       "    }\n",
       "\n",
       "    .dataframe tbody tr th {\n",
       "        vertical-align: top;\n",
       "    }\n",
       "\n",
       "    .dataframe thead th {\n",
       "        text-align: right;\n",
       "    }\n",
       "</style>\n",
       "<table border=\"1\" class=\"dataframe\">\n",
       "  <thead>\n",
       "    <tr style=\"text-align: right;\">\n",
       "      <th></th>\n",
       "      <th>1</th>\n",
       "      <th>2</th>\n",
       "      <th>3</th>\n",
       "      <th>4</th>\n",
       "      <th>5</th>\n",
       "      <th>6</th>\n",
       "      <th>7</th>\n",
       "      <th>8</th>\n",
       "      <th>9</th>\n",
       "      <th>10</th>\n",
       "      <th>...</th>\n",
       "      <th>291</th>\n",
       "      <th>292</th>\n",
       "      <th>293</th>\n",
       "      <th>294</th>\n",
       "      <th>295</th>\n",
       "      <th>296</th>\n",
       "      <th>297</th>\n",
       "      <th>298</th>\n",
       "      <th>299</th>\n",
       "      <th>300</th>\n",
       "    </tr>\n",
       "    <tr>\n",
       "      <th>0</th>\n",
       "      <th></th>\n",
       "      <th></th>\n",
       "      <th></th>\n",
       "      <th></th>\n",
       "      <th></th>\n",
       "      <th></th>\n",
       "      <th></th>\n",
       "      <th></th>\n",
       "      <th></th>\n",
       "      <th></th>\n",
       "      <th></th>\n",
       "      <th></th>\n",
       "      <th></th>\n",
       "      <th></th>\n",
       "      <th></th>\n",
       "      <th></th>\n",
       "      <th></th>\n",
       "      <th></th>\n",
       "      <th></th>\n",
       "      <th></th>\n",
       "      <th></th>\n",
       "    </tr>\n",
       "  </thead>\n",
       "  <tbody>\n",
       "    <tr>\n",
       "      <th>violet</th>\n",
       "      <td>-0.787109</td>\n",
       "      <td>0.364014</td>\n",
       "      <td>0.114807</td>\n",
       "      <td>0.025848</td>\n",
       "      <td>-0.085388</td>\n",
       "      <td>0.022263</td>\n",
       "      <td>0.489746</td>\n",
       "      <td>-0.306885</td>\n",
       "      <td>0.083252</td>\n",
       "      <td>-0.175049</td>\n",
       "      <td>...</td>\n",
       "      <td>-0.269043</td>\n",
       "      <td>0.017303</td>\n",
       "      <td>0.029602</td>\n",
       "      <td>0.267578</td>\n",
       "      <td>-0.115479</td>\n",
       "      <td>-0.128906</td>\n",
       "      <td>-0.055969</td>\n",
       "      <td>-0.334229</td>\n",
       "      <td>-0.171021</td>\n",
       "      <td>0.093872</td>\n",
       "    </tr>\n",
       "    <tr>\n",
       "      <th>fangt</th>\n",
       "      <td>0.557129</td>\n",
       "      <td>-0.078674</td>\n",
       "      <td>0.159546</td>\n",
       "      <td>0.280762</td>\n",
       "      <td>-0.493164</td>\n",
       "      <td>-0.132446</td>\n",
       "      <td>-0.246460</td>\n",
       "      <td>-0.318604</td>\n",
       "      <td>-0.153809</td>\n",
       "      <td>0.631348</td>\n",
       "      <td>...</td>\n",
       "      <td>-0.105957</td>\n",
       "      <td>-0.143433</td>\n",
       "      <td>0.416504</td>\n",
       "      <td>0.564941</td>\n",
       "      <td>-0.283691</td>\n",
       "      <td>-0.512207</td>\n",
       "      <td>0.218994</td>\n",
       "      <td>0.146606</td>\n",
       "      <td>0.237549</td>\n",
       "      <td>0.248657</td>\n",
       "    </tr>\n",
       "  </tbody>\n",
       "</table>\n",
       "<p>2 rows × 300 columns</p>\n",
       "</div>"
      ],
      "text/plain": [
       "             1         2         3         4         5         6         7    \\\n",
       "0                                                                              \n",
       "violet -0.787109  0.364014  0.114807  0.025848 -0.085388  0.022263  0.489746   \n",
       "fangt   0.557129 -0.078674  0.159546  0.280762 -0.493164 -0.132446 -0.246460   \n",
       "\n",
       "             8         9         10   ...       291       292       293  \\\n",
       "0                                     ...                                 \n",
       "violet -0.306885  0.083252 -0.175049  ... -0.269043  0.017303  0.029602   \n",
       "fangt  -0.318604 -0.153809  0.631348  ... -0.105957 -0.143433  0.416504   \n",
       "\n",
       "             294       295       296       297       298       299       300  \n",
       "0                                                                             \n",
       "violet  0.267578 -0.115479 -0.128906 -0.055969 -0.334229 -0.171021  0.093872  \n",
       "fangt   0.564941 -0.283691 -0.512207  0.218994  0.146606  0.237549  0.248657  \n",
       "\n",
       "[2 rows x 300 columns]"
      ]
     },
     "execution_count": 17,
     "metadata": {},
     "output_type": "execute_result"
    }
   ],
   "source": [
    "filtered_embedding = glove_embedding_de.embedding.copy()\n",
    "filtered_embedding = filtered_embedding.loc(axis=0)[words_to_keep]\n",
    "filtered_embedding.head(2)"
   ]
  },
  {
   "cell_type": "markdown",
   "id": "b3372c62-d351-400c-8f2d-ce7e6416f084",
   "metadata": {},
   "source": [
    "# write file"
   ]
  },
  {
   "cell_type": "code",
   "execution_count": 18,
   "id": "8f3d8cdc-a51a-4dde-89d7-740b4cc6f1d6",
   "metadata": {},
   "outputs": [],
   "source": [
    "filtered_glove_path = f'../data/GloVe_vectors_de_{N_most_frequent}.txt'"
   ]
  },
  {
   "cell_type": "code",
   "execution_count": 19,
   "id": "4ec12665-9307-4acd-b7b4-9cbd5b0d37a4",
   "metadata": {},
   "outputs": [
    {
     "data": {
      "text/html": [
       "<div>\n",
       "<style scoped>\n",
       "    .dataframe tbody tr th:only-of-type {\n",
       "        vertical-align: middle;\n",
       "    }\n",
       "\n",
       "    .dataframe tbody tr th {\n",
       "        vertical-align: top;\n",
       "    }\n",
       "\n",
       "    .dataframe thead th {\n",
       "        text-align: right;\n",
       "    }\n",
       "</style>\n",
       "<table border=\"1\" class=\"dataframe\">\n",
       "  <thead>\n",
       "    <tr style=\"text-align: right;\">\n",
       "      <th></th>\n",
       "      <th>-0.787</th>\n",
       "      <th>0.364</th>\n",
       "      <th>0.1148</th>\n",
       "      <th>0.02585</th>\n",
       "      <th>-0.0854</th>\n",
       "      <th>0.02226</th>\n",
       "      <th>0.4897</th>\n",
       "      <th>-0.307</th>\n",
       "      <th>0.08325</th>\n",
       "      <th>-0.175</th>\n",
       "      <th>...</th>\n",
       "      <th>-0.269</th>\n",
       "      <th>0.0173</th>\n",
       "      <th>0.0296</th>\n",
       "      <th>0.2676</th>\n",
       "      <th>-0.1155</th>\n",
       "      <th>-0.1289</th>\n",
       "      <th>-0.05597</th>\n",
       "      <th>-0.3342</th>\n",
       "      <th>-0.171.1</th>\n",
       "      <th>0.0939</th>\n",
       "    </tr>\n",
       "    <tr>\n",
       "      <th>violet</th>\n",
       "      <th></th>\n",
       "      <th></th>\n",
       "      <th></th>\n",
       "      <th></th>\n",
       "      <th></th>\n",
       "      <th></th>\n",
       "      <th></th>\n",
       "      <th></th>\n",
       "      <th></th>\n",
       "      <th></th>\n",
       "      <th></th>\n",
       "      <th></th>\n",
       "      <th></th>\n",
       "      <th></th>\n",
       "      <th></th>\n",
       "      <th></th>\n",
       "      <th></th>\n",
       "      <th></th>\n",
       "      <th></th>\n",
       "      <th></th>\n",
       "      <th></th>\n",
       "    </tr>\n",
       "  </thead>\n",
       "  <tbody>\n",
       "    <tr>\n",
       "      <th>fangt</th>\n",
       "      <td>0.55700</td>\n",
       "      <td>-0.07870</td>\n",
       "      <td>0.15950</td>\n",
       "      <td>0.28080</td>\n",
       "      <td>-0.4932</td>\n",
       "      <td>-0.13240</td>\n",
       "      <td>-0.24650</td>\n",
       "      <td>-0.31860</td>\n",
       "      <td>-0.15380</td>\n",
       "      <td>0.6313</td>\n",
       "      <td>...</td>\n",
       "      <td>-0.10596</td>\n",
       "      <td>-0.1434</td>\n",
       "      <td>0.41650</td>\n",
       "      <td>0.5650</td>\n",
       "      <td>-0.28370</td>\n",
       "      <td>-0.51200</td>\n",
       "      <td>0.2190</td>\n",
       "      <td>0.1466</td>\n",
       "      <td>0.2375</td>\n",
       "      <td>0.24870</td>\n",
       "    </tr>\n",
       "    <tr>\n",
       "      <th>denise</th>\n",
       "      <td>-0.26830</td>\n",
       "      <td>-0.35280</td>\n",
       "      <td>0.02563</td>\n",
       "      <td>-0.57280</td>\n",
       "      <td>0.2568</td>\n",
       "      <td>-0.11990</td>\n",
       "      <td>-0.09480</td>\n",
       "      <td>0.04660</td>\n",
       "      <td>0.54800</td>\n",
       "      <td>-0.4610</td>\n",
       "      <td>...</td>\n",
       "      <td>-0.01342</td>\n",
       "      <td>0.3208</td>\n",
       "      <td>0.13430</td>\n",
       "      <td>0.3190</td>\n",
       "      <td>-0.16220</td>\n",
       "      <td>-0.52000</td>\n",
       "      <td>-0.2502</td>\n",
       "      <td>-0.1796</td>\n",
       "      <td>0.4363</td>\n",
       "      <td>-0.24710</td>\n",
       "    </tr>\n",
       "    <tr>\n",
       "      <th>bot</th>\n",
       "      <td>0.81640</td>\n",
       "      <td>-0.01576</td>\n",
       "      <td>0.10230</td>\n",
       "      <td>-0.20470</td>\n",
       "      <td>0.4768</td>\n",
       "      <td>0.06890</td>\n",
       "      <td>0.76800</td>\n",
       "      <td>0.32450</td>\n",
       "      <td>0.07605</td>\n",
       "      <td>0.2250</td>\n",
       "      <td>...</td>\n",
       "      <td>-0.24550</td>\n",
       "      <td>0.3960</td>\n",
       "      <td>-0.12680</td>\n",
       "      <td>-0.1721</td>\n",
       "      <td>0.42700</td>\n",
       "      <td>-0.30130</td>\n",
       "      <td>-0.1024</td>\n",
       "      <td>-0.2032</td>\n",
       "      <td>0.2544</td>\n",
       "      <td>0.01791</td>\n",
       "    </tr>\n",
       "    <tr>\n",
       "      <th>durchgang</th>\n",
       "      <td>-0.06647</td>\n",
       "      <td>-0.57230</td>\n",
       "      <td>-0.02916</td>\n",
       "      <td>0.05220</td>\n",
       "      <td>-0.1532</td>\n",
       "      <td>0.37400</td>\n",
       "      <td>0.12415</td>\n",
       "      <td>0.15360</td>\n",
       "      <td>0.67900</td>\n",
       "      <td>-0.7560</td>\n",
       "      <td>...</td>\n",
       "      <td>0.83350</td>\n",
       "      <td>-0.9014</td>\n",
       "      <td>-0.11707</td>\n",
       "      <td>-0.5880</td>\n",
       "      <td>0.34280</td>\n",
       "      <td>0.41630</td>\n",
       "      <td>-0.2421</td>\n",
       "      <td>-0.3298</td>\n",
       "      <td>0.5527</td>\n",
       "      <td>-0.16870</td>\n",
       "    </tr>\n",
       "    <tr>\n",
       "      <th>überraschen</th>\n",
       "      <td>-0.15000</td>\n",
       "      <td>-0.39400</td>\n",
       "      <td>-0.08190</td>\n",
       "      <td>-0.05795</td>\n",
       "      <td>0.0518</td>\n",
       "      <td>0.02213</td>\n",
       "      <td>-0.21800</td>\n",
       "      <td>0.05475</td>\n",
       "      <td>-0.33840</td>\n",
       "      <td>0.1364</td>\n",
       "      <td>...</td>\n",
       "      <td>-0.21550</td>\n",
       "      <td>0.3281</td>\n",
       "      <td>0.11334</td>\n",
       "      <td>-0.1069</td>\n",
       "      <td>-0.04776</td>\n",
       "      <td>-0.09735</td>\n",
       "      <td>0.5200</td>\n",
       "      <td>-0.1848</td>\n",
       "      <td>0.5910</td>\n",
       "      <td>0.31520</td>\n",
       "    </tr>\n",
       "  </tbody>\n",
       "</table>\n",
       "<p>5 rows × 300 columns</p>\n",
       "</div>"
      ],
      "text/plain": [
       "              -0.787    0.364   0.1148  0.02585  -0.0854  0.02226   0.4897  \\\n",
       "violet                                                                       \n",
       "fangt        0.55700 -0.07870  0.15950  0.28080  -0.4932 -0.13240 -0.24650   \n",
       "denise      -0.26830 -0.35280  0.02563 -0.57280   0.2568 -0.11990 -0.09480   \n",
       "bot          0.81640 -0.01576  0.10230 -0.20470   0.4768  0.06890  0.76800   \n",
       "durchgang   -0.06647 -0.57230 -0.02916  0.05220  -0.1532  0.37400  0.12415   \n",
       "überraschen -0.15000 -0.39400 -0.08190 -0.05795   0.0518  0.02213 -0.21800   \n",
       "\n",
       "              -0.307  0.08325  -0.175  ...   -0.269  0.0173   0.0296  0.2676  \\\n",
       "violet                                 ...                                     \n",
       "fangt       -0.31860 -0.15380  0.6313  ... -0.10596 -0.1434  0.41650  0.5650   \n",
       "denise       0.04660  0.54800 -0.4610  ... -0.01342  0.3208  0.13430  0.3190   \n",
       "bot          0.32450  0.07605  0.2250  ... -0.24550  0.3960 -0.12680 -0.1721   \n",
       "durchgang    0.15360  0.67900 -0.7560  ...  0.83350 -0.9014 -0.11707 -0.5880   \n",
       "überraschen  0.05475 -0.33840  0.1364  ... -0.21550  0.3281  0.11334 -0.1069   \n",
       "\n",
       "             -0.1155  -0.1289  -0.05597  -0.3342  -0.171.1   0.0939  \n",
       "violet                                                               \n",
       "fangt       -0.28370 -0.51200    0.2190   0.1466    0.2375  0.24870  \n",
       "denise      -0.16220 -0.52000   -0.2502  -0.1796    0.4363 -0.24710  \n",
       "bot          0.42700 -0.30130   -0.1024  -0.2032    0.2544  0.01791  \n",
       "durchgang    0.34280  0.41630   -0.2421  -0.3298    0.5527 -0.16870  \n",
       "überraschen -0.04776 -0.09735    0.5200  -0.1848    0.5910  0.31520  \n",
       "\n",
       "[5 rows x 300 columns]"
      ]
     },
     "execution_count": 19,
     "metadata": {},
     "output_type": "execute_result"
    }
   ],
   "source": [
    "filtered_embedding.to_csv(filtered_glove_path, sep=' ', index=True, header=None)\n",
    "test = pd.read_csv(filtered_glove_path, sep=' ', index_col = 0)\n",
    "test.head()"
   ]
  },
  {
   "cell_type": "code",
   "execution_count": null,
   "id": "680a51ce-5ae3-4cd0-97d8-a650dd25c058",
   "metadata": {},
   "outputs": [],
   "source": []
  },
  {
   "cell_type": "code",
   "execution_count": null,
   "id": "6c155505-f482-49ca-a06d-339686cb87ff",
   "metadata": {},
   "outputs": [],
   "source": []
  },
  {
   "cell_type": "markdown",
   "id": "9f6f543e-895e-4058-87d3-9a290fba1f76",
   "metadata": {},
   "source": [
    "## english most frequent words"
   ]
  },
  {
   "cell_type": "code",
   "execution_count": 20,
   "id": "39862b0a-e8f1-4910-b660-bb2f60023bd2",
   "metadata": {},
   "outputs": [],
   "source": [
    "# https://www.kaggle.com/rtatman/english-word-frequency"
   ]
  },
  {
   "cell_type": "code",
   "execution_count": null,
   "id": "e66dd42b-e61a-487c-9953-78b3992aa0a9",
   "metadata": {},
   "outputs": [],
   "source": []
  },
  {
   "cell_type": "markdown",
   "id": "35d87fc7-01f8-4aa9-a627-34f8c624cd9d",
   "metadata": {},
   "source": [
    "### load embedding"
   ]
  },
  {
   "cell_type": "code",
   "execution_count": 21,
   "id": "229011cd-3dd1-4ab4-b079-5d9f5d93828c",
   "metadata": {},
   "outputs": [
    {
     "name": "stderr",
     "output_type": "stream",
     "text": [
      "/Users/magdalena.aretz/code/nlp_scripts/venv/lib/python3.9/site-packages/pandas/util/_decorators.py:311: ParserWarning: Both a converter and dtype were specified for column 0 - only the converter will be used\n",
      "  return func(*args, **kwargs)\n"
     ]
    },
    {
     "name": "stdout",
     "output_type": "stream",
     "text": [
      "total number of entries found:  399997. Dimension: 50\n"
     ]
    }
   ],
   "source": [
    "glove_en_path = '../data/glove.6B.50d.txt'\n",
    "glove_embedding_en = Embedding(language='en', path_list=[glove_en_path])"
   ]
  },
  {
   "cell_type": "code",
   "execution_count": 22,
   "id": "30542295-96e3-4010-936f-57470ef6111b",
   "metadata": {},
   "outputs": [
    {
     "name": "stdout",
     "output_type": "stream",
     "text": [
      "(399997, 50)\n",
      "<class 'pandas.core.frame.DataFrame'>\n",
      "400000\n",
      "the\n"
     ]
    }
   ],
   "source": [
    "print(glove_embedding_en.embedding.shape)\n",
    "print(type(glove_embedding_en.embedding))\n",
    "print(len(glove_embedding_en.index_to_word))\n",
    "print(glove_embedding_en.index_to_word[0])"
   ]
  },
  {
   "cell_type": "markdown",
   "id": "e636c27c-7dc7-46b6-ba57-5621641ec7ab",
   "metadata": {},
   "source": [
    "## load english corpus"
   ]
  },
  {
   "cell_type": "code",
   "execution_count": 23,
   "id": "4c12718f-5d58-46ea-a290-fdcc0928a1a2",
   "metadata": {},
   "outputs": [],
   "source": [
    "# source: https://www.kaggle.com/rtatman/english-word-frequency, 333.333 most frequent words\n",
    "df_word_frequencies = pd.read_csv('../data/en_unigram_freq.csv')"
   ]
  },
  {
   "cell_type": "code",
   "execution_count": 24,
   "id": "8350a6f1-3df1-4f38-9d3f-e0720b9f4841",
   "metadata": {},
   "outputs": [
    {
     "name": "stdout",
     "output_type": "stream",
     "text": [
      "(333333, 2)\n"
     ]
    },
    {
     "data": {
      "text/html": [
       "<div>\n",
       "<style scoped>\n",
       "    .dataframe tbody tr th:only-of-type {\n",
       "        vertical-align: middle;\n",
       "    }\n",
       "\n",
       "    .dataframe tbody tr th {\n",
       "        vertical-align: top;\n",
       "    }\n",
       "\n",
       "    .dataframe thead th {\n",
       "        text-align: right;\n",
       "    }\n",
       "</style>\n",
       "<table border=\"1\" class=\"dataframe\">\n",
       "  <thead>\n",
       "    <tr style=\"text-align: right;\">\n",
       "      <th></th>\n",
       "      <th>word</th>\n",
       "      <th>count</th>\n",
       "    </tr>\n",
       "  </thead>\n",
       "  <tbody>\n",
       "    <tr>\n",
       "      <th>0</th>\n",
       "      <td>the</td>\n",
       "      <td>23135851162</td>\n",
       "    </tr>\n",
       "    <tr>\n",
       "      <th>1</th>\n",
       "      <td>of</td>\n",
       "      <td>13151942776</td>\n",
       "    </tr>\n",
       "    <tr>\n",
       "      <th>2</th>\n",
       "      <td>and</td>\n",
       "      <td>12997637966</td>\n",
       "    </tr>\n",
       "    <tr>\n",
       "      <th>3</th>\n",
       "      <td>to</td>\n",
       "      <td>12136980858</td>\n",
       "    </tr>\n",
       "    <tr>\n",
       "      <th>4</th>\n",
       "      <td>a</td>\n",
       "      <td>9081174698</td>\n",
       "    </tr>\n",
       "  </tbody>\n",
       "</table>\n",
       "</div>"
      ],
      "text/plain": [
       "  word        count\n",
       "0  the  23135851162\n",
       "1   of  13151942776\n",
       "2  and  12997637966\n",
       "3   to  12136980858\n",
       "4    a   9081174698"
      ]
     },
     "execution_count": 24,
     "metadata": {},
     "output_type": "execute_result"
    }
   ],
   "source": [
    "print(df_word_frequencies.shape)\n",
    "df_word_frequencies.head()"
   ]
  },
  {
   "cell_type": "code",
   "execution_count": 25,
   "id": "b1d7d746-b6c0-417f-b267-3d8920026d81",
   "metadata": {},
   "outputs": [
    {
     "data": {
      "text/plain": [
       "<AxesSubplot:>"
      ]
     },
     "execution_count": 25,
     "metadata": {},
     "output_type": "execute_result"
    },
    {
     "data": {
      "image/png": "[encoded data removed]",
      "text/plain": [
       "<Figure size 432x288 with 1 Axes>"
      ]
     },
     "metadata": {
      "needs_background": "light"
     },
     "output_type": "display_data"
    }
   ],
   "source": [
    "# super long tail\n",
    "np.log(df_word_frequencies['count'].iloc[:1000]).plot()"
   ]
  },
  {
   "cell_type": "code",
   "execution_count": null,
   "id": "db3910a8-bb82-45dd-b431-26acf36ba365",
   "metadata": {},
   "outputs": [],
   "source": []
  },
  {
   "cell_type": "code",
   "execution_count": 26,
   "id": "7a7d940e-f189-4bcb-84bf-8da9e933dab7",
   "metadata": {},
   "outputs": [
    {
     "name": "stdout",
     "output_type": "stream",
     "text": [
      "               word    count\n",
      "15992     educating  2331409\n",
      "15993        nortel  2331289\n",
      "15994           kin  2331005\n",
      "15995           koh  2330943\n",
      "15996  affiliations  2330795\n",
      "15997          cozy  2330794\n",
      "15998      pussycat  2330623\n",
      "15999  appropriated  2330545\n"
     ]
    }
   ],
   "source": [
    "# these will be kept\n",
    "print(df_word_frequencies.iloc[:N_most_frequent].tail(8))"
   ]
  },
  {
   "cell_type": "code",
   "execution_count": 37,
   "id": "edc3309d-0713-4168-bf0c-38807a668a40",
   "metadata": {},
   "outputs": [
    {
     "name": "stdout",
     "output_type": "stream",
     "text": [
      "15999\n"
     ]
    }
   ],
   "source": [
    "frequent_words = set(df_word_frequencies.iloc[:N_most_frequent]['word'])\n",
    "print(len(frequent_words))"
   ]
  },
  {
   "cell_type": "code",
   "execution_count": 28,
   "id": "67d22812-7ced-41d0-a5b6-051f8f9591c4",
   "metadata": {},
   "outputs": [
    {
     "data": {
      "text/plain": [
       "399997"
      ]
     },
     "execution_count": 28,
     "metadata": {},
     "output_type": "execute_result"
    }
   ],
   "source": [
    "possible_words = set(glove_embedding_en.embedding.index)\n",
    "print(len(possible_words))"
   ]
  },
  {
   "cell_type": "code",
   "execution_count": 29,
   "id": "2cd687b3-2a3d-4720-90d5-0bb7968350cd",
   "metadata": {},
   "outputs": [
    {
     "data": {
      "text/plain": [
       "15836"
      ]
     },
     "execution_count": 29,
     "metadata": {},
     "output_type": "execute_result"
    }
   ],
   "source": [
    "# only keep words that are frequent and in index of embedding\n",
    "words_to_keep = list(frequent_words & possible_words)\n",
    "len(words_to_keep)"
   ]
  },
  {
   "cell_type": "code",
   "execution_count": 30,
   "id": "2fe88c8c-b6c0-417e-b004-a3728316ec28",
   "metadata": {},
   "outputs": [
    {
     "name": "stdout",
     "output_type": "stream",
     "text": [
      "163\n",
      "[nan, 'keygen', 'livesex', 'permalink', 'holdem', 'checkboxes', 'beastiality', 'fioricet']\n"
     ]
    }
   ],
   "source": [
    "print(len(frequent_words - set(words_to_keep))) # these are dismissed because they do not appear in embedding list\n",
    "print(list(frequent_words - set(words_to_keep))[:8])"
   ]
  },
  {
   "cell_type": "code",
   "execution_count": 44,
   "id": "c2042073-cebf-4947-a0b8-6ecf2104f2d4",
   "metadata": {},
   "outputs": [
    {
     "name": "stdout",
     "output_type": "stream",
     "text": [
      "         word     count\n",
      "2075  freedom  38909717\n",
      "True\n",
      "True\n",
      "True\n",
      "True\n"
     ]
    }
   ],
   "source": [
    "# deleteme\n",
    "interesting_word = 'freedom'\n",
    "print(df_word_frequencies[df_word_frequencies.word ==interesting_word])\n",
    "print(interesting_word in words_to_keep)\n",
    "print(interesting_word in glove_embedding_en.embedding.index)\n",
    "print(interesting_word in filtered_embedding.index)\n",
    "print(interesting_word in test.index)"
   ]
  },
  {
   "cell_type": "code",
   "execution_count": null,
   "id": "45410406-cafd-4605-b86a-20a2579d067d",
   "metadata": {},
   "outputs": [],
   "source": []
  },
  {
   "cell_type": "markdown",
   "id": "02740aec-53f2-4357-a640-74de10defe67",
   "metadata": {},
   "source": [
    "# filter "
   ]
  },
  {
   "cell_type": "code",
   "execution_count": 41,
   "id": "119878e0-2837-4051-8de0-82e6de778473",
   "metadata": {},
   "outputs": [
    {
     "data": {
      "text/html": [
       "<div>\n",
       "<style scoped>\n",
       "    .dataframe tbody tr th:only-of-type {\n",
       "        vertical-align: middle;\n",
       "    }\n",
       "\n",
       "    .dataframe tbody tr th {\n",
       "        vertical-align: top;\n",
       "    }\n",
       "\n",
       "    .dataframe thead th {\n",
       "        text-align: right;\n",
       "    }\n",
       "</style>\n",
       "<table border=\"1\" class=\"dataframe\">\n",
       "  <thead>\n",
       "    <tr style=\"text-align: right;\">\n",
       "      <th></th>\n",
       "      <th>1</th>\n",
       "      <th>2</th>\n",
       "      <th>3</th>\n",
       "      <th>4</th>\n",
       "      <th>5</th>\n",
       "      <th>6</th>\n",
       "      <th>7</th>\n",
       "      <th>8</th>\n",
       "      <th>9</th>\n",
       "      <th>10</th>\n",
       "      <th>...</th>\n",
       "      <th>41</th>\n",
       "      <th>42</th>\n",
       "      <th>43</th>\n",
       "      <th>44</th>\n",
       "      <th>45</th>\n",
       "      <th>46</th>\n",
       "      <th>47</th>\n",
       "      <th>48</th>\n",
       "      <th>49</th>\n",
       "      <th>50</th>\n",
       "    </tr>\n",
       "    <tr>\n",
       "      <th>0</th>\n",
       "      <th></th>\n",
       "      <th></th>\n",
       "      <th></th>\n",
       "      <th></th>\n",
       "      <th></th>\n",
       "      <th></th>\n",
       "      <th></th>\n",
       "      <th></th>\n",
       "      <th></th>\n",
       "      <th></th>\n",
       "      <th></th>\n",
       "      <th></th>\n",
       "      <th></th>\n",
       "      <th></th>\n",
       "      <th></th>\n",
       "      <th></th>\n",
       "      <th></th>\n",
       "      <th></th>\n",
       "      <th></th>\n",
       "      <th></th>\n",
       "      <th></th>\n",
       "    </tr>\n",
       "  </thead>\n",
       "  <tbody>\n",
       "    <tr>\n",
       "      <th>violet</th>\n",
       "      <td>0.257568</td>\n",
       "      <td>1.307617</td>\n",
       "      <td>-0.533691</td>\n",
       "      <td>-0.276123</td>\n",
       "      <td>0.293945</td>\n",
       "      <td>1.293945</td>\n",
       "      <td>-0.103882</td>\n",
       "      <td>-0.381592</td>\n",
       "      <td>-0.856445</td>\n",
       "      <td>0.220093</td>\n",
       "      <td>...</td>\n",
       "      <td>0.399414</td>\n",
       "      <td>0.457764</td>\n",
       "      <td>-0.321289</td>\n",
       "      <td>-0.909668</td>\n",
       "      <td>0.593262</td>\n",
       "      <td>-0.241821</td>\n",
       "      <td>0.261719</td>\n",
       "      <td>-1.717773</td>\n",
       "      <td>0.038666</td>\n",
       "      <td>0.096558</td>\n",
       "    </tr>\n",
       "    <tr>\n",
       "      <th>receives</th>\n",
       "      <td>0.346436</td>\n",
       "      <td>1.363281</td>\n",
       "      <td>0.354004</td>\n",
       "      <td>0.180420</td>\n",
       "      <td>0.554199</td>\n",
       "      <td>0.176025</td>\n",
       "      <td>0.084839</td>\n",
       "      <td>0.846680</td>\n",
       "      <td>1.380859</td>\n",
       "      <td>0.195190</td>\n",
       "      <td>...</td>\n",
       "      <td>0.965820</td>\n",
       "      <td>0.562012</td>\n",
       "      <td>-0.353516</td>\n",
       "      <td>-0.270508</td>\n",
       "      <td>-0.853516</td>\n",
       "      <td>-0.409912</td>\n",
       "      <td>-0.075317</td>\n",
       "      <td>0.823242</td>\n",
       "      <td>-0.026627</td>\n",
       "      <td>0.139160</td>\n",
       "    </tr>\n",
       "  </tbody>\n",
       "</table>\n",
       "<p>2 rows × 50 columns</p>\n",
       "</div>"
      ],
      "text/plain": [
       "                1         2         3         4         5         6   \\\n",
       "0                                                                      \n",
       "violet    0.257568  1.307617 -0.533691 -0.276123  0.293945  1.293945   \n",
       "receives  0.346436  1.363281  0.354004  0.180420  0.554199  0.176025   \n",
       "\n",
       "                7         8         9         10  ...        41        42  \\\n",
       "0                                                 ...                       \n",
       "violet   -0.103882 -0.381592 -0.856445  0.220093  ...  0.399414  0.457764   \n",
       "receives  0.084839  0.846680  1.380859  0.195190  ...  0.965820  0.562012   \n",
       "\n",
       "                43        44        45        46        47        48  \\\n",
       "0                                                                      \n",
       "violet   -0.321289 -0.909668  0.593262 -0.241821  0.261719 -1.717773   \n",
       "receives -0.353516 -0.270508 -0.853516 -0.409912 -0.075317  0.823242   \n",
       "\n",
       "                49        50  \n",
       "0                             \n",
       "violet    0.038666  0.096558  \n",
       "receives -0.026627  0.139160  \n",
       "\n",
       "[2 rows x 50 columns]"
      ]
     },
     "execution_count": 41,
     "metadata": {},
     "output_type": "execute_result"
    }
   ],
   "source": [
    "filtered_embedding = glove_embedding_en.embedding.copy()\n",
    "filtered_embedding = filtered_embedding.loc(axis=0)[words_to_keep]\n",
    "filtered_embedding.head(2)"
   ]
  },
  {
   "cell_type": "markdown",
   "id": "100f56e5-f52b-4618-827d-6ffa415c3d5a",
   "metadata": {},
   "source": [
    "# write file"
   ]
  },
  {
   "cell_type": "code",
   "execution_count": 32,
   "id": "4e1e2189-9ab9-4aa1-bfeb-94ca46d79846",
   "metadata": {},
   "outputs": [],
   "source": [
    "filtered_glove_path = f'../data/glove.6B.50d.{N_most_frequent}.txt'"
   ]
  },
  {
   "cell_type": "code",
   "execution_count": 33,
   "id": "7bf6a506-f8b5-434c-bd8e-adc5d905c660",
   "metadata": {},
   "outputs": [
    {
     "data": {
      "text/html": [
       "<div>\n",
       "<style scoped>\n",
       "    .dataframe tbody tr th:only-of-type {\n",
       "        vertical-align: middle;\n",
       "    }\n",
       "\n",
       "    .dataframe tbody tr th {\n",
       "        vertical-align: top;\n",
       "    }\n",
       "\n",
       "    .dataframe thead th {\n",
       "        text-align: right;\n",
       "    }\n",
       "</style>\n",
       "<table border=\"1\" class=\"dataframe\">\n",
       "  <thead>\n",
       "    <tr style=\"text-align: right;\">\n",
       "      <th></th>\n",
       "      <th>1</th>\n",
       "      <th>2</th>\n",
       "      <th>3</th>\n",
       "      <th>4</th>\n",
       "      <th>5</th>\n",
       "      <th>6</th>\n",
       "      <th>7</th>\n",
       "      <th>8</th>\n",
       "      <th>9</th>\n",
       "      <th>10</th>\n",
       "      <th>...</th>\n",
       "      <th>41</th>\n",
       "      <th>42</th>\n",
       "      <th>43</th>\n",
       "      <th>44</th>\n",
       "      <th>45</th>\n",
       "      <th>46</th>\n",
       "      <th>47</th>\n",
       "      <th>48</th>\n",
       "      <th>49</th>\n",
       "      <th>50</th>\n",
       "    </tr>\n",
       "    <tr>\n",
       "      <th>0</th>\n",
       "      <th></th>\n",
       "      <th></th>\n",
       "      <th></th>\n",
       "      <th></th>\n",
       "      <th></th>\n",
       "      <th></th>\n",
       "      <th></th>\n",
       "      <th></th>\n",
       "      <th></th>\n",
       "      <th></th>\n",
       "      <th></th>\n",
       "      <th></th>\n",
       "      <th></th>\n",
       "      <th></th>\n",
       "      <th></th>\n",
       "      <th></th>\n",
       "      <th></th>\n",
       "      <th></th>\n",
       "      <th></th>\n",
       "      <th></th>\n",
       "      <th></th>\n",
       "    </tr>\n",
       "  </thead>\n",
       "  <tbody>\n",
       "    <tr>\n",
       "      <th>violet</th>\n",
       "      <td>0.2576</td>\n",
       "      <td>1.3080</td>\n",
       "      <td>-0.5337</td>\n",
       "      <td>-0.2761</td>\n",
       "      <td>0.2940</td>\n",
       "      <td>1.2940</td>\n",
       "      <td>-0.10390</td>\n",
       "      <td>-0.3816</td>\n",
       "      <td>-0.85640</td>\n",
       "      <td>0.22010</td>\n",
       "      <td>...</td>\n",
       "      <td>0.399400</td>\n",
       "      <td>0.45780</td>\n",
       "      <td>-0.32130</td>\n",
       "      <td>-0.9097</td>\n",
       "      <td>0.5933</td>\n",
       "      <td>-0.2418</td>\n",
       "      <td>0.26170</td>\n",
       "      <td>-1.7180</td>\n",
       "      <td>0.03867</td>\n",
       "      <td>0.09656</td>\n",
       "    </tr>\n",
       "    <tr>\n",
       "      <th>receives</th>\n",
       "      <td>0.3464</td>\n",
       "      <td>1.3630</td>\n",
       "      <td>0.3540</td>\n",
       "      <td>0.1804</td>\n",
       "      <td>0.5540</td>\n",
       "      <td>0.1760</td>\n",
       "      <td>0.08484</td>\n",
       "      <td>0.8467</td>\n",
       "      <td>1.38100</td>\n",
       "      <td>0.19520</td>\n",
       "      <td>...</td>\n",
       "      <td>0.966000</td>\n",
       "      <td>0.56200</td>\n",
       "      <td>-0.35350</td>\n",
       "      <td>-0.2705</td>\n",
       "      <td>-0.8535</td>\n",
       "      <td>-0.4100</td>\n",
       "      <td>-0.07530</td>\n",
       "      <td>0.8230</td>\n",
       "      <td>-0.02663</td>\n",
       "      <td>0.13920</td>\n",
       "    </tr>\n",
       "    <tr>\n",
       "      <th>corrective</th>\n",
       "      <td>0.9760</td>\n",
       "      <td>-0.6875</td>\n",
       "      <td>-0.6160</td>\n",
       "      <td>-1.0390</td>\n",
       "      <td>-1.0080</td>\n",
       "      <td>0.2178</td>\n",
       "      <td>1.26400</td>\n",
       "      <td>-0.3997</td>\n",
       "      <td>0.04196</td>\n",
       "      <td>-0.06440</td>\n",
       "      <td>...</td>\n",
       "      <td>0.009514</td>\n",
       "      <td>0.01023</td>\n",
       "      <td>-0.06854</td>\n",
       "      <td>0.1769</td>\n",
       "      <td>0.5930</td>\n",
       "      <td>-0.6304</td>\n",
       "      <td>1.15200</td>\n",
       "      <td>0.6050</td>\n",
       "      <td>0.45070</td>\n",
       "      <td>1.16000</td>\n",
       "    </tr>\n",
       "    <tr>\n",
       "      <th>denise</th>\n",
       "      <td>-0.0716</td>\n",
       "      <td>0.5080</td>\n",
       "      <td>-0.2380</td>\n",
       "      <td>0.8250</td>\n",
       "      <td>0.3237</td>\n",
       "      <td>0.5450</td>\n",
       "      <td>-0.36380</td>\n",
       "      <td>0.5825</td>\n",
       "      <td>0.24930</td>\n",
       "      <td>-0.57860</td>\n",
       "      <td>...</td>\n",
       "      <td>0.322800</td>\n",
       "      <td>0.94300</td>\n",
       "      <td>0.14170</td>\n",
       "      <td>-0.9805</td>\n",
       "      <td>-0.2627</td>\n",
       "      <td>-0.7190</td>\n",
       "      <td>-0.29130</td>\n",
       "      <td>-0.9136</td>\n",
       "      <td>-0.55960</td>\n",
       "      <td>1.01800</td>\n",
       "    </tr>\n",
       "    <tr>\n",
       "      <th>bot</th>\n",
       "      <td>1.0200</td>\n",
       "      <td>-0.3380</td>\n",
       "      <td>-0.0672</td>\n",
       "      <td>0.4001</td>\n",
       "      <td>-0.1857</td>\n",
       "      <td>-0.7476</td>\n",
       "      <td>-0.07270</td>\n",
       "      <td>-0.8240</td>\n",
       "      <td>-0.37620</td>\n",
       "      <td>-0.08765</td>\n",
       "      <td>...</td>\n",
       "      <td>0.509000</td>\n",
       "      <td>0.77440</td>\n",
       "      <td>-0.28830</td>\n",
       "      <td>0.1326</td>\n",
       "      <td>-0.2277</td>\n",
       "      <td>-0.6616</td>\n",
       "      <td>0.04437</td>\n",
       "      <td>0.9740</td>\n",
       "      <td>1.11600</td>\n",
       "      <td>0.23250</td>\n",
       "    </tr>\n",
       "  </tbody>\n",
       "</table>\n",
       "<p>5 rows × 50 columns</p>\n",
       "</div>"
      ],
      "text/plain": [
       "                1       2       3       4       5       6        7       8   \\\n",
       "0                                                                             \n",
       "violet      0.2576  1.3080 -0.5337 -0.2761  0.2940  1.2940 -0.10390 -0.3816   \n",
       "receives    0.3464  1.3630  0.3540  0.1804  0.5540  0.1760  0.08484  0.8467   \n",
       "corrective  0.9760 -0.6875 -0.6160 -1.0390 -1.0080  0.2178  1.26400 -0.3997   \n",
       "denise     -0.0716  0.5080 -0.2380  0.8250  0.3237  0.5450 -0.36380  0.5825   \n",
       "bot         1.0200 -0.3380 -0.0672  0.4001 -0.1857 -0.7476 -0.07270 -0.8240   \n",
       "\n",
       "                 9        10  ...        41       42       43      44      45  \\\n",
       "0                             ...                                               \n",
       "violet     -0.85640  0.22010  ...  0.399400  0.45780 -0.32130 -0.9097  0.5933   \n",
       "receives    1.38100  0.19520  ...  0.966000  0.56200 -0.35350 -0.2705 -0.8535   \n",
       "corrective  0.04196 -0.06440  ...  0.009514  0.01023 -0.06854  0.1769  0.5930   \n",
       "denise      0.24930 -0.57860  ...  0.322800  0.94300  0.14170 -0.9805 -0.2627   \n",
       "bot        -0.37620 -0.08765  ...  0.509000  0.77440 -0.28830  0.1326 -0.2277   \n",
       "\n",
       "                46       47      48       49       50  \n",
       "0                                                      \n",
       "violet     -0.2418  0.26170 -1.7180  0.03867  0.09656  \n",
       "receives   -0.4100 -0.07530  0.8230 -0.02663  0.13920  \n",
       "corrective -0.6304  1.15200  0.6050  0.45070  1.16000  \n",
       "denise     -0.7190 -0.29130 -0.9136 -0.55960  1.01800  \n",
       "bot        -0.6616  0.04437  0.9740  1.11600  0.23250  \n",
       "\n",
       "[5 rows x 50 columns]"
      ]
     },
     "execution_count": 33,
     "metadata": {},
     "output_type": "execute_result"
    }
   ],
   "source": [
    "filtered_embedding.to_csv(filtered_glove_path, sep=' ', index=True, header=None)\n",
    "test = pd.read_csv(filtered_glove_path, sep=' ', index_col = 0, header=None)\n",
    "test.head()"
   ]
  },
  {
   "cell_type": "code",
   "execution_count": 34,
   "id": "eb93969f-4205-481a-9eb7-934cb104f5eb",
   "metadata": {},
   "outputs": [
    {
     "data": {
      "text/html": [
       "<div>\n",
       "<style scoped>\n",
       "    .dataframe tbody tr th:only-of-type {\n",
       "        vertical-align: middle;\n",
       "    }\n",
       "\n",
       "    .dataframe tbody tr th {\n",
       "        vertical-align: top;\n",
       "    }\n",
       "\n",
       "    .dataframe thead th {\n",
       "        text-align: right;\n",
       "    }\n",
       "</style>\n",
       "<table border=\"1\" class=\"dataframe\">\n",
       "  <thead>\n",
       "    <tr style=\"text-align: right;\">\n",
       "      <th></th>\n",
       "      <th>1</th>\n",
       "      <th>2</th>\n",
       "      <th>3</th>\n",
       "      <th>4</th>\n",
       "      <th>5</th>\n",
       "      <th>6</th>\n",
       "      <th>7</th>\n",
       "      <th>8</th>\n",
       "      <th>9</th>\n",
       "      <th>10</th>\n",
       "      <th>...</th>\n",
       "      <th>41</th>\n",
       "      <th>42</th>\n",
       "      <th>43</th>\n",
       "      <th>44</th>\n",
       "      <th>45</th>\n",
       "      <th>46</th>\n",
       "      <th>47</th>\n",
       "      <th>48</th>\n",
       "      <th>49</th>\n",
       "      <th>50</th>\n",
       "    </tr>\n",
       "    <tr>\n",
       "      <th>0</th>\n",
       "      <th></th>\n",
       "      <th></th>\n",
       "      <th></th>\n",
       "      <th></th>\n",
       "      <th></th>\n",
       "      <th></th>\n",
       "      <th></th>\n",
       "      <th></th>\n",
       "      <th></th>\n",
       "      <th></th>\n",
       "      <th></th>\n",
       "      <th></th>\n",
       "      <th></th>\n",
       "      <th></th>\n",
       "      <th></th>\n",
       "      <th></th>\n",
       "      <th></th>\n",
       "      <th></th>\n",
       "      <th></th>\n",
       "      <th></th>\n",
       "      <th></th>\n",
       "    </tr>\n",
       "  </thead>\n",
       "  <tbody>\n",
       "    <tr>\n",
       "      <th>teachers</th>\n",
       "      <td>-0.6943</td>\n",
       "      <td>0.00887</td>\n",
       "      <td>0.2659</td>\n",
       "      <td>-1.6960</td>\n",
       "      <td>0.10486</td>\n",
       "      <td>-0.15830</td>\n",
       "      <td>-0.4348</td>\n",
       "      <td>0.099370</td>\n",
       "      <td>-0.59230</td>\n",
       "      <td>0.0416</td>\n",
       "      <td>...</td>\n",
       "      <td>-0.6475</td>\n",
       "      <td>-0.1847</td>\n",
       "      <td>0.4578</td>\n",
       "      <td>0.8203</td>\n",
       "      <td>0.39750</td>\n",
       "      <td>-0.2255</td>\n",
       "      <td>-0.0677</td>\n",
       "      <td>0.6953</td>\n",
       "      <td>-0.4385</td>\n",
       "      <td>0.3838</td>\n",
       "    </tr>\n",
       "    <tr>\n",
       "      <th>bloom</th>\n",
       "      <td>0.2421</td>\n",
       "      <td>1.20200</td>\n",
       "      <td>-0.3830</td>\n",
       "      <td>-0.1609</td>\n",
       "      <td>0.07210</td>\n",
       "      <td>0.04570</td>\n",
       "      <td>-0.6400</td>\n",
       "      <td>-0.591000</td>\n",
       "      <td>-0.11676</td>\n",
       "      <td>0.2008</td>\n",
       "      <td>...</td>\n",
       "      <td>-0.2200</td>\n",
       "      <td>0.3442</td>\n",
       "      <td>-0.5776</td>\n",
       "      <td>-0.5980</td>\n",
       "      <td>0.91650</td>\n",
       "      <td>-0.4602</td>\n",
       "      <td>0.5977</td>\n",
       "      <td>-1.1900</td>\n",
       "      <td>-0.8867</td>\n",
       "      <td>0.5730</td>\n",
       "    </tr>\n",
       "    <tr>\n",
       "      <th>joined</th>\n",
       "      <td>-0.4102</td>\n",
       "      <td>0.01427</td>\n",
       "      <td>-0.2915</td>\n",
       "      <td>-0.3787</td>\n",
       "      <td>-0.28520</td>\n",
       "      <td>0.05072</td>\n",
       "      <td>-1.4540</td>\n",
       "      <td>0.519500</td>\n",
       "      <td>-0.92100</td>\n",
       "      <td>-0.7886</td>\n",
       "      <td>...</td>\n",
       "      <td>0.1302</td>\n",
       "      <td>-0.1252</td>\n",
       "      <td>-0.5225</td>\n",
       "      <td>-0.8477</td>\n",
       "      <td>0.06097</td>\n",
       "      <td>0.1030</td>\n",
       "      <td>-0.9120</td>\n",
       "      <td>-0.7880</td>\n",
       "      <td>-0.7530</td>\n",
       "      <td>-0.1279</td>\n",
       "    </tr>\n",
       "    <tr>\n",
       "      <th>ctrl</th>\n",
       "      <td>-0.4770</td>\n",
       "      <td>0.12415</td>\n",
       "      <td>1.8420</td>\n",
       "      <td>-0.3655</td>\n",
       "      <td>-0.40650</td>\n",
       "      <td>-0.44400</td>\n",
       "      <td>1.3300</td>\n",
       "      <td>-0.101800</td>\n",
       "      <td>0.29320</td>\n",
       "      <td>0.6500</td>\n",
       "      <td>...</td>\n",
       "      <td>0.8286</td>\n",
       "      <td>0.5070</td>\n",
       "      <td>-0.5327</td>\n",
       "      <td>-1.8860</td>\n",
       "      <td>0.38840</td>\n",
       "      <td>-0.0649</td>\n",
       "      <td>1.0930</td>\n",
       "      <td>0.5977</td>\n",
       "      <td>1.2340</td>\n",
       "      <td>0.4460</td>\n",
       "    </tr>\n",
       "    <tr>\n",
       "      <th>followers</th>\n",
       "      <td>0.7450</td>\n",
       "      <td>-0.19320</td>\n",
       "      <td>0.7980</td>\n",
       "      <td>-0.9326</td>\n",
       "      <td>1.18700</td>\n",
       "      <td>-0.65600</td>\n",
       "      <td>-0.1259</td>\n",
       "      <td>-0.000969</td>\n",
       "      <td>-0.78300</td>\n",
       "      <td>1.0450</td>\n",
       "      <td>...</td>\n",
       "      <td>0.0681</td>\n",
       "      <td>-0.1466</td>\n",
       "      <td>-1.0510</td>\n",
       "      <td>0.9610</td>\n",
       "      <td>1.28200</td>\n",
       "      <td>-0.4155</td>\n",
       "      <td>-1.1030</td>\n",
       "      <td>-0.6665</td>\n",
       "      <td>-0.7200</td>\n",
       "      <td>-1.1590</td>\n",
       "    </tr>\n",
       "  </tbody>\n",
       "</table>\n",
       "<p>5 rows × 50 columns</p>\n",
       "</div>"
      ],
      "text/plain": [
       "               1        2       3       4        5        6       7   \\\n",
       "0                                                                      \n",
       "teachers  -0.6943  0.00887  0.2659 -1.6960  0.10486 -0.15830 -0.4348   \n",
       "bloom      0.2421  1.20200 -0.3830 -0.1609  0.07210  0.04570 -0.6400   \n",
       "joined    -0.4102  0.01427 -0.2915 -0.3787 -0.28520  0.05072 -1.4540   \n",
       "ctrl      -0.4770  0.12415  1.8420 -0.3655 -0.40650 -0.44400  1.3300   \n",
       "followers  0.7450 -0.19320  0.7980 -0.9326  1.18700 -0.65600 -0.1259   \n",
       "\n",
       "                 8        9       10  ...      41      42      43      44  \\\n",
       "0                                     ...                                   \n",
       "teachers   0.099370 -0.59230  0.0416  ... -0.6475 -0.1847  0.4578  0.8203   \n",
       "bloom     -0.591000 -0.11676  0.2008  ... -0.2200  0.3442 -0.5776 -0.5980   \n",
       "joined     0.519500 -0.92100 -0.7886  ...  0.1302 -0.1252 -0.5225 -0.8477   \n",
       "ctrl      -0.101800  0.29320  0.6500  ...  0.8286  0.5070 -0.5327 -1.8860   \n",
       "followers -0.000969 -0.78300  1.0450  ...  0.0681 -0.1466 -1.0510  0.9610   \n",
       "\n",
       "                45      46      47      48      49      50  \n",
       "0                                                           \n",
       "teachers   0.39750 -0.2255 -0.0677  0.6953 -0.4385  0.3838  \n",
       "bloom      0.91650 -0.4602  0.5977 -1.1900 -0.8867  0.5730  \n",
       "joined     0.06097  0.1030 -0.9120 -0.7880 -0.7530 -0.1279  \n",
       "ctrl       0.38840 -0.0649  1.0930  0.5977  1.2340  0.4460  \n",
       "followers  1.28200 -0.4155 -1.1030 -0.6665 -0.7200 -1.1590  \n",
       "\n",
       "[5 rows x 50 columns]"
      ]
     },
     "execution_count": 34,
     "metadata": {},
     "output_type": "execute_result"
    }
   ],
   "source": [
    "test.tail()"
   ]
  },
  {
   "cell_type": "code",
   "execution_count": null,
   "id": "404b3ae9-6257-4dec-a905-be1d96197e59",
   "metadata": {},
   "outputs": [],
   "source": []
  }
 ],
 "metadata": {
  "kernelspec": {
   "display_name": "Python 3 (ipykernel)",
   "language": "python",
   "name": "python3"
  },
  "language_info": {
   "codemirror_mode": {
    "name": "ipython",
    "version": 3
   },
   "file_extension": ".py",
   "mimetype": "text/x-python",
   "name": "python",
   "nbconvert_exporter": "python",
   "pygments_lexer": "ipython3",
   "version": "3.9.6"
  }
 },
 "nbformat": 4,
 "nbformat_minor": 5
}
