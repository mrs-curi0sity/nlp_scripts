{
 "cells": [
  {
   "cell_type": "code",
   "execution_count": 2,
   "id": "7dc4b3aa-0ab2-4e37-b5aa-1e9c5b26e399",
   "metadata": {},
   "outputs": [],
   "source": [
    "#https://www.deepset.ai/german-word-embeddings =>\n",
    "#https://int-emb-glove-de-wiki.s3.eu-central-1.amazonaws.com/vectors.txt\n",
    "# 4GB, containing 1.3 MIO (!) tokens in 300Dims => filter for10% most common words"
   ]
  },
  {
   "cell_type": "code",
   "execution_count": 3,
   "id": "f047f0ed-3984-48f1-910a-c58207c22357",
   "metadata": {},
   "outputs": [],
   "source": [
    "import pandas as pd\n",
    "import matplotlib.pyplot as plt\n",
    "from src.embedding import Embedding"
   ]
  },
  {
   "cell_type": "markdown",
   "id": "c9e4d7ed-c28f-4aef-a5e9-5e17c10fa8bf",
   "metadata": {},
   "source": [
    "### load embedding"
   ]
  },
  {
   "cell_type": "code",
   "execution_count": 4,
   "id": "fac11b4d-0891-474a-8af3-e37cfff99625",
   "metadata": {},
   "outputs": [],
   "source": [
    "glove_de_path = '../data/GloVe_vectors_de.txt'"
   ]
  },
  {
   "cell_type": "code",
   "execution_count": 5,
   "id": "a95efcd3-cc2e-48e7-961a-f18cce8e7616",
   "metadata": {},
   "outputs": [
    {
     "name": "stderr",
     "output_type": "stream",
     "text": [
      "1309281it [01:03, 20534.97it/s]\n"
     ]
    },
    {
     "name": "stdout",
     "output_type": "stream",
     "text": [
      "total number of entries found:  1309281. Dimension: 300\n"
     ]
    }
   ],
   "source": [
    "glove_embedding_de = Embedding(language='de', path_list=[glove_de_path])"
   ]
  },
  {
   "cell_type": "code",
   "execution_count": 14,
   "id": "399df784-b228-4749-9a89-0f452e1ae962",
   "metadata": {},
   "outputs": [
    {
     "name": "stdout",
     "output_type": "stream",
     "text": [
      "1309281\n",
      "[-0.28062   0.74426   0.257364 -0.070038 -0.07914  -0.134922  0.418708\n",
      "  0.373415]\n"
     ]
    }
   ],
   "source": [
    "print(len(glove_embedding_de.word2vec))\n",
    "print(glove_embedding_de.word2vec['der'][:8])"
   ]
  },
  {
   "cell_type": "code",
   "execution_count": 26,
   "id": "fb518723-52ca-4594-a47e-b5d30b9c27a8",
   "metadata": {},
   "outputs": [
    {
     "name": "stdout",
     "output_type": "stream",
     "text": [
      "(1309281, 300)\n",
      "<class 'pandas.core.frame.DataFrame'>\n",
      "0     -0.280620\n",
      "1      0.744260\n",
      "2      0.257364\n",
      "3     -0.070038\n",
      "4     -0.079140\n",
      "         ...   \n",
      "295   -0.044910\n",
      "296    0.159463\n",
      "297   -0.414500\n",
      "298    0.046645\n",
      "299    0.069972\n",
      "Name: der, Length: 300, dtype: float32\n"
     ]
    }
   ],
   "source": [
    "print(glove_embedding_de.embedding.shape)\n",
    "print(type(glove_embedding_de.embedding))\n",
    "print(glove_embedding_de.embedding.loc['der'])"
   ]
  },
  {
   "cell_type": "code",
   "execution_count": 27,
   "id": "2db4274b-887f-4f6f-a822-6ae85719efcf",
   "metadata": {},
   "outputs": [
    {
     "name": "stdout",
     "output_type": "stream",
     "text": [
      "1309281\n",
      "der\n"
     ]
    }
   ],
   "source": [
    "print(len(glove_embedding_de.index_to_word))\n",
    "print(glove_embedding_de.index_to_word[0])"
   ]
  },
  {
   "cell_type": "markdown",
   "id": "aa25de7a-244a-49a5-ad63-4af5274ea77e",
   "metadata": {},
   "source": [
    "### load german corpus"
   ]
  },
  {
   "cell_type": "code",
   "execution_count": 28,
   "id": "89b41c26-49a1-4ecf-9eed-49f81d8c3e89",
   "metadata": {},
   "outputs": [],
   "source": [
    "#https://en.wiktionary.org/wiki/Wiktionary:Frequency_lists#German =>\n",
    "#https://invokeit.wordpress.com/frequency-word-lists/ =>\n",
    "#https://raw.githubusercontent.com/hermitdave/FrequencyWords/master/content/2016/de/de_50k.txt"
   ]
  },
  {
   "cell_type": "code",
   "execution_count": 29,
   "id": "bc7beb18-4216-4639-8eca-151e236d5ff3",
   "metadata": {},
   "outputs": [],
   "source": [
    "corpus_path = '../data/de-top-50k.txt'\n",
    "with open (corpus_path) as file:\n",
    "    lines=file.readlines()"
   ]
  },
  {
   "cell_type": "code",
   "execution_count": 30,
   "id": "29f0c99c-e890-4c68-8601-753b39851e86",
   "metadata": {},
   "outputs": [],
   "source": [
    "splitted_lines = [line.split() for line in lines]"
   ]
  },
  {
   "cell_type": "code",
   "execution_count": 31,
   "id": "bd68f1c6-5382-46db-80b7-e7410f5d2d9f",
   "metadata": {},
   "outputs": [
    {
     "data": {
      "text/html": [
       "<div>\n",
       "<style scoped>\n",
       "    .dataframe tbody tr th:only-of-type {\n",
       "        vertical-align: middle;\n",
       "    }\n",
       "\n",
       "    .dataframe tbody tr th {\n",
       "        vertical-align: top;\n",
       "    }\n",
       "\n",
       "    .dataframe thead th {\n",
       "        text-align: right;\n",
       "    }\n",
       "</style>\n",
       "<table border=\"1\" class=\"dataframe\">\n",
       "  <thead>\n",
       "    <tr style=\"text-align: right;\">\n",
       "      <th></th>\n",
       "      <th>word</th>\n",
       "      <th>frequency</th>\n",
       "    </tr>\n",
       "  </thead>\n",
       "  <tbody>\n",
       "    <tr>\n",
       "      <th>0</th>\n",
       "      <td>ich</td>\n",
       "      <td>3699605</td>\n",
       "    </tr>\n",
       "    <tr>\n",
       "      <th>1</th>\n",
       "      <td>sie</td>\n",
       "      <td>2409949</td>\n",
       "    </tr>\n",
       "    <tr>\n",
       "      <th>2</th>\n",
       "      <td>das</td>\n",
       "      <td>1952794</td>\n",
       "    </tr>\n",
       "    <tr>\n",
       "      <th>3</th>\n",
       "      <td>ist</td>\n",
       "      <td>1920535</td>\n",
       "    </tr>\n",
       "    <tr>\n",
       "      <th>4</th>\n",
       "      <td>du</td>\n",
       "      <td>1890181</td>\n",
       "    </tr>\n",
       "  </tbody>\n",
       "</table>\n",
       "</div>"
      ],
      "text/plain": [
       "  word frequency\n",
       "0  ich   3699605\n",
       "1  sie   2409949\n",
       "2  das   1952794\n",
       "3  ist   1920535\n",
       "4   du   1890181"
      ]
     },
     "execution_count": 31,
     "metadata": {},
     "output_type": "execute_result"
    }
   ],
   "source": [
    "df_frequencies = pd.DataFrame(splitted_lines)\n",
    "df_frequencies.columns = ['word', 'frequency']\n",
    "df_frequencies.head()"
   ]
  },
  {
   "cell_type": "code",
   "execution_count": 64,
   "id": "9d53c30a-866f-48de-8080-460060df6b2c",
   "metadata": {},
   "outputs": [],
   "source": [
    "df_frequencies['frequency'] = df_frequencies.frequency.apply(lambda x: int(x))"
   ]
  },
  {
   "cell_type": "code",
   "execution_count": 65,
   "id": "a6bb99db-f79b-497a-8d32-1a17501be778",
   "metadata": {},
   "outputs": [
    {
     "data": {
      "text/plain": [
       "<AxesSubplot:>"
      ]
     },
     "execution_count": 65,
     "metadata": {},
     "output_type": "execute_result"
    },
    {
     "data": {
      "image/png": "[encoded data removed]",
      "text/plain": [
       "<Figure size 432x288 with 1 Axes>"
      ]
     },
     "metadata": {
      "needs_background": "light"
     },
     "output_type": "display_data"
    }
   ],
   "source": [
    "# super long tail\n",
    "import numpy as np\n",
    "np.log(df_frequencies['frequency'].iloc[:1000]).plot()"
   ]
  },
  {
   "cell_type": "code",
   "execution_count": 66,
   "id": "bcb3b4d5-8aae-4b7c-bd2f-f3c8ef854429",
   "metadata": {},
   "outputs": [],
   "source": [
    "# define top n"
   ]
  },
  {
   "cell_type": "code",
   "execution_count": 67,
   "id": "b73e7ce0-3dd3-4b29-a53c-a58d5f0b603d",
   "metadata": {},
   "outputs": [],
   "source": [
    "N_most_frequent = 50000 # only keep X most frequent words"
   ]
  },
  {
   "cell_type": "code",
   "execution_count": 68,
   "id": "02ea8b0b-31b4-4182-98e3-f2cf9944f46c",
   "metadata": {},
   "outputs": [
    {
     "name": "stdout",
     "output_type": "stream",
     "text": [
      "                word  frequency\n",
      "49992        ohrwurm         40\n",
      "49993           jano         40\n",
      "49994   gummistiefel         40\n",
      "49995  scheinheilige         40\n",
      "49996           koko         40\n",
      "49997        scherst         40\n",
      "49998          emsig         40\n",
      "49999      schwermut         40\n"
     ]
    }
   ],
   "source": [
    "# these will be kept\n",
    "print(df_frequencies.iloc[:N_most_frequent].tail(8))"
   ]
  },
  {
   "cell_type": "code",
   "execution_count": 99,
   "id": "2b1487a2-7261-4a11-a28e-8d281eddb495",
   "metadata": {},
   "outputs": [],
   "source": [
    "frequent_words = set(df_frequencies.iloc[:N_most_frequent]['word'])"
   ]
  },
  {
   "cell_type": "code",
   "execution_count": 100,
   "id": "4b60147c-ac62-422b-a20b-76621d9e2820",
   "metadata": {},
   "outputs": [
    {
     "data": {
      "text/plain": [
       "50000"
      ]
     },
     "execution_count": 100,
     "metadata": {},
     "output_type": "execute_result"
    }
   ],
   "source": [
    "len(frequent_words)"
   ]
  },
  {
   "cell_type": "code",
   "execution_count": 101,
   "id": "f50b06de-2c91-4285-a75e-a067bd36d7de",
   "metadata": {},
   "outputs": [
    {
     "data": {
      "text/plain": [
       "1309281"
      ]
     },
     "execution_count": 101,
     "metadata": {},
     "output_type": "execute_result"
    }
   ],
   "source": [
    "possible_words = set(filtered_embedding.index)\n",
    "len(possible_words)"
   ]
  },
  {
   "cell_type": "code",
   "execution_count": 116,
   "id": "51f584ec-8bc1-4466-8c31-5fea6cf2e16c",
   "metadata": {},
   "outputs": [
    {
     "data": {
      "text/plain": [
       "46996"
      ]
     },
     "execution_count": 116,
     "metadata": {},
     "output_type": "execute_result"
    }
   ],
   "source": [
    "# only keep words that are frequent and in index of embedding\n",
    "words_to_keep = list(frequent_words & possible_words)\n",
    "len(words_to_keep)"
   ]
  },
  {
   "cell_type": "code",
   "execution_count": 122,
   "id": "cadd5da0-74b1-4039-8620-589ca836cb78",
   "metadata": {},
   "outputs": [
    {
     "name": "stdout",
     "output_type": "stream",
     "text": [
      "3004\n",
      "['liebesgeschichten', 'erist', 'krankenschwestern', 'telefoniere', 'poobare', 'berufungsgericht', 'junuh', 'menschheitsgeschichte']\n"
     ]
    }
   ],
   "source": [
    "print(len(frequent_words - set(words_to_keep))) # these are dismissed\n",
    "print(list(frequent_words - set(words_to_keep))[:8])"
   ]
  },
  {
   "cell_type": "code",
   "execution_count": 123,
   "id": "e8c1c716-c9cc-4f53-9493-bae6be1f1dd2",
   "metadata": {},
   "outputs": [],
   "source": [
    "# filter "
   ]
  },
  {
   "cell_type": "code",
   "execution_count": 124,
   "id": "dc1b0c76-202f-4bf7-b2a9-221f99b62fab",
   "metadata": {},
   "outputs": [],
   "source": [
    "filtered_embedding = glove_embedding_de.embedding.copy()"
   ]
  },
  {
   "cell_type": "code",
   "execution_count": 125,
   "id": "eb30d0d7-708b-4f99-a44a-57e5f2f996fd",
   "metadata": {},
   "outputs": [],
   "source": [
    "filtered_embedding = filtered_embedding.loc(axis=0)[words_to_keep]"
   ]
  },
  {
   "cell_type": "code",
   "execution_count": 141,
   "id": "a501a42a-ecc7-4666-af9e-5f03d2e0a141",
   "metadata": {},
   "outputs": [
    {
     "data": {
      "text/html": [
       "<div>\n",
       "<style scoped>\n",
       "    .dataframe tbody tr th:only-of-type {\n",
       "        vertical-align: middle;\n",
       "    }\n",
       "\n",
       "    .dataframe tbody tr th {\n",
       "        vertical-align: top;\n",
       "    }\n",
       "\n",
       "    .dataframe thead th {\n",
       "        text-align: right;\n",
       "    }\n",
       "</style>\n",
       "<table border=\"1\" class=\"dataframe\">\n",
       "  <thead>\n",
       "    <tr style=\"text-align: right;\">\n",
       "      <th></th>\n",
       "      <th>0</th>\n",
       "      <th>1</th>\n",
       "      <th>2</th>\n",
       "      <th>3</th>\n",
       "      <th>4</th>\n",
       "      <th>5</th>\n",
       "      <th>6</th>\n",
       "      <th>7</th>\n",
       "      <th>8</th>\n",
       "      <th>9</th>\n",
       "      <th>...</th>\n",
       "      <th>290</th>\n",
       "      <th>291</th>\n",
       "      <th>292</th>\n",
       "      <th>293</th>\n",
       "      <th>294</th>\n",
       "      <th>295</th>\n",
       "      <th>296</th>\n",
       "      <th>297</th>\n",
       "      <th>298</th>\n",
       "      <th>299</th>\n",
       "    </tr>\n",
       "  </thead>\n",
       "  <tbody>\n",
       "    <tr>\n",
       "      <th>starke</th>\n",
       "      <td>-0.285092</td>\n",
       "      <td>-0.350144</td>\n",
       "      <td>0.066122</td>\n",
       "      <td>-0.059022</td>\n",
       "      <td>-0.074293</td>\n",
       "      <td>0.105105</td>\n",
       "      <td>-0.091429</td>\n",
       "      <td>-0.379363</td>\n",
       "      <td>-0.471944</td>\n",
       "      <td>-0.038044</td>\n",
       "      <td>...</td>\n",
       "      <td>-0.046795</td>\n",
       "      <td>0.486627</td>\n",
       "      <td>0.092285</td>\n",
       "      <td>0.394796</td>\n",
       "      <td>-0.386349</td>\n",
       "      <td>0.016992</td>\n",
       "      <td>0.315967</td>\n",
       "      <td>0.434802</td>\n",
       "      <td>-0.198200</td>\n",
       "      <td>-0.065318</td>\n",
       "    </tr>\n",
       "    <tr>\n",
       "      <th>mittagszeit</th>\n",
       "      <td>0.402801</td>\n",
       "      <td>-0.000529</td>\n",
       "      <td>-0.063135</td>\n",
       "      <td>-0.429702</td>\n",
       "      <td>0.059168</td>\n",
       "      <td>-0.181313</td>\n",
       "      <td>0.278056</td>\n",
       "      <td>-0.885087</td>\n",
       "      <td>-0.528817</td>\n",
       "      <td>0.113312</td>\n",
       "      <td>...</td>\n",
       "      <td>-0.310075</td>\n",
       "      <td>-0.564392</td>\n",
       "      <td>-0.512391</td>\n",
       "      <td>-0.061537</td>\n",
       "      <td>-0.261750</td>\n",
       "      <td>0.100853</td>\n",
       "      <td>0.032682</td>\n",
       "      <td>0.089461</td>\n",
       "      <td>0.310686</td>\n",
       "      <td>0.315627</td>\n",
       "    </tr>\n",
       "    <tr>\n",
       "      <th>östlichen</th>\n",
       "      <td>-0.404085</td>\n",
       "      <td>0.184555</td>\n",
       "      <td>-0.099343</td>\n",
       "      <td>0.224999</td>\n",
       "      <td>-0.547287</td>\n",
       "      <td>-0.232835</td>\n",
       "      <td>0.416266</td>\n",
       "      <td>0.546959</td>\n",
       "      <td>-0.405216</td>\n",
       "      <td>0.145357</td>\n",
       "      <td>...</td>\n",
       "      <td>-0.121708</td>\n",
       "      <td>-0.263284</td>\n",
       "      <td>0.427416</td>\n",
       "      <td>-0.200418</td>\n",
       "      <td>0.057937</td>\n",
       "      <td>0.020421</td>\n",
       "      <td>0.055736</td>\n",
       "      <td>0.313623</td>\n",
       "      <td>0.598803</td>\n",
       "      <td>0.050427</td>\n",
       "    </tr>\n",
       "    <tr>\n",
       "      <th>pumpen</th>\n",
       "      <td>0.366514</td>\n",
       "      <td>-0.275178</td>\n",
       "      <td>-0.337030</td>\n",
       "      <td>-0.311622</td>\n",
       "      <td>0.410426</td>\n",
       "      <td>0.021424</td>\n",
       "      <td>-0.228994</td>\n",
       "      <td>-0.634361</td>\n",
       "      <td>0.073496</td>\n",
       "      <td>-0.183064</td>\n",
       "      <td>...</td>\n",
       "      <td>0.279162</td>\n",
       "      <td>-0.570037</td>\n",
       "      <td>0.434501</td>\n",
       "      <td>0.387588</td>\n",
       "      <td>-0.044226</td>\n",
       "      <td>0.008883</td>\n",
       "      <td>-0.000685</td>\n",
       "      <td>0.623034</td>\n",
       "      <td>0.041198</td>\n",
       "      <td>0.156304</td>\n",
       "    </tr>\n",
       "    <tr>\n",
       "      <th>videomaterial</th>\n",
       "      <td>0.074707</td>\n",
       "      <td>-0.030806</td>\n",
       "      <td>-0.425025</td>\n",
       "      <td>-0.320975</td>\n",
       "      <td>0.097818</td>\n",
       "      <td>-0.086039</td>\n",
       "      <td>0.007920</td>\n",
       "      <td>-0.159249</td>\n",
       "      <td>0.564676</td>\n",
       "      <td>-0.091144</td>\n",
       "      <td>...</td>\n",
       "      <td>-0.086772</td>\n",
       "      <td>-0.206852</td>\n",
       "      <td>0.247326</td>\n",
       "      <td>0.037089</td>\n",
       "      <td>-0.422071</td>\n",
       "      <td>0.102761</td>\n",
       "      <td>-0.270570</td>\n",
       "      <td>-0.842040</td>\n",
       "      <td>-0.023887</td>\n",
       "      <td>0.114175</td>\n",
       "    </tr>\n",
       "    <tr>\n",
       "      <th>...</th>\n",
       "      <td>...</td>\n",
       "      <td>...</td>\n",
       "      <td>...</td>\n",
       "      <td>...</td>\n",
       "      <td>...</td>\n",
       "      <td>...</td>\n",
       "      <td>...</td>\n",
       "      <td>...</td>\n",
       "      <td>...</td>\n",
       "      <td>...</td>\n",
       "      <td>...</td>\n",
       "      <td>...</td>\n",
       "      <td>...</td>\n",
       "      <td>...</td>\n",
       "      <td>...</td>\n",
       "      <td>...</td>\n",
       "      <td>...</td>\n",
       "      <td>...</td>\n",
       "      <td>...</td>\n",
       "      <td>...</td>\n",
       "      <td>...</td>\n",
       "    </tr>\n",
       "    <tr>\n",
       "      <th>überlistet</th>\n",
       "      <td>-0.114379</td>\n",
       "      <td>0.504258</td>\n",
       "      <td>0.234080</td>\n",
       "      <td>-0.000105</td>\n",
       "      <td>0.143114</td>\n",
       "      <td>0.033253</td>\n",
       "      <td>0.198351</td>\n",
       "      <td>-0.028485</td>\n",
       "      <td>-0.963998</td>\n",
       "      <td>0.307841</td>\n",
       "      <td>...</td>\n",
       "      <td>0.334652</td>\n",
       "      <td>-0.776330</td>\n",
       "      <td>0.419251</td>\n",
       "      <td>0.375681</td>\n",
       "      <td>0.355837</td>\n",
       "      <td>0.458123</td>\n",
       "      <td>0.153709</td>\n",
       "      <td>0.198869</td>\n",
       "      <td>0.065368</td>\n",
       "      <td>0.195081</td>\n",
       "    </tr>\n",
       "    <tr>\n",
       "      <th>south</th>\n",
       "      <td>-1.140673</td>\n",
       "      <td>0.402983</td>\n",
       "      <td>0.006067</td>\n",
       "      <td>-0.122824</td>\n",
       "      <td>0.175911</td>\n",
       "      <td>0.301749</td>\n",
       "      <td>0.419371</td>\n",
       "      <td>0.288409</td>\n",
       "      <td>-0.307948</td>\n",
       "      <td>-0.252508</td>\n",
       "      <td>...</td>\n",
       "      <td>-0.260434</td>\n",
       "      <td>-0.615820</td>\n",
       "      <td>-0.185277</td>\n",
       "      <td>-0.114288</td>\n",
       "      <td>0.208436</td>\n",
       "      <td>-0.424728</td>\n",
       "      <td>-0.707111</td>\n",
       "      <td>-0.155766</td>\n",
       "      <td>-0.435711</td>\n",
       "      <td>0.130045</td>\n",
       "    </tr>\n",
       "    <tr>\n",
       "      <th>nachher</th>\n",
       "      <td>0.059892</td>\n",
       "      <td>-0.092244</td>\n",
       "      <td>0.261324</td>\n",
       "      <td>-0.398008</td>\n",
       "      <td>0.213620</td>\n",
       "      <td>0.224522</td>\n",
       "      <td>-0.237254</td>\n",
       "      <td>0.031730</td>\n",
       "      <td>-0.274248</td>\n",
       "      <td>-0.027154</td>\n",
       "      <td>...</td>\n",
       "      <td>0.102771</td>\n",
       "      <td>-0.346859</td>\n",
       "      <td>0.299674</td>\n",
       "      <td>0.160099</td>\n",
       "      <td>-0.174631</td>\n",
       "      <td>0.149946</td>\n",
       "      <td>-0.133413</td>\n",
       "      <td>-0.010067</td>\n",
       "      <td>-0.032417</td>\n",
       "      <td>0.187507</td>\n",
       "    </tr>\n",
       "    <tr>\n",
       "      <th>ravic</th>\n",
       "      <td>0.291360</td>\n",
       "      <td>-0.067183</td>\n",
       "      <td>0.474839</td>\n",
       "      <td>0.227148</td>\n",
       "      <td>0.384928</td>\n",
       "      <td>0.005910</td>\n",
       "      <td>-0.241821</td>\n",
       "      <td>-0.099029</td>\n",
       "      <td>-0.068110</td>\n",
       "      <td>-0.015698</td>\n",
       "      <td>...</td>\n",
       "      <td>0.189107</td>\n",
       "      <td>0.018260</td>\n",
       "      <td>0.334480</td>\n",
       "      <td>-0.044291</td>\n",
       "      <td>-0.057996</td>\n",
       "      <td>-0.469963</td>\n",
       "      <td>-0.166111</td>\n",
       "      <td>0.150999</td>\n",
       "      <td>0.085222</td>\n",
       "      <td>0.116860</td>\n",
       "    </tr>\n",
       "    <tr>\n",
       "      <th>pressekonferenz</th>\n",
       "      <td>-0.088206</td>\n",
       "      <td>0.305825</td>\n",
       "      <td>-0.222131</td>\n",
       "      <td>-0.457314</td>\n",
       "      <td>0.377974</td>\n",
       "      <td>-0.134989</td>\n",
       "      <td>0.140041</td>\n",
       "      <td>-0.240280</td>\n",
       "      <td>-0.288641</td>\n",
       "      <td>-0.592113</td>\n",
       "      <td>...</td>\n",
       "      <td>0.101209</td>\n",
       "      <td>-0.507016</td>\n",
       "      <td>-0.178335</td>\n",
       "      <td>-0.265998</td>\n",
       "      <td>-0.218065</td>\n",
       "      <td>0.039171</td>\n",
       "      <td>-0.227186</td>\n",
       "      <td>0.069923</td>\n",
       "      <td>0.708603</td>\n",
       "      <td>-0.096587</td>\n",
       "    </tr>\n",
       "  </tbody>\n",
       "</table>\n",
       "<p>46996 rows × 300 columns</p>\n",
       "</div>"
      ],
      "text/plain": [
       "                      0         1         2         3         4         5    \\\n",
       "starke          -0.285092 -0.350144  0.066122 -0.059022 -0.074293  0.105105   \n",
       "mittagszeit      0.402801 -0.000529 -0.063135 -0.429702  0.059168 -0.181313   \n",
       "östlichen       -0.404085  0.184555 -0.099343  0.224999 -0.547287 -0.232835   \n",
       "pumpen           0.366514 -0.275178 -0.337030 -0.311622  0.410426  0.021424   \n",
       "videomaterial    0.074707 -0.030806 -0.425025 -0.320975  0.097818 -0.086039   \n",
       "...                   ...       ...       ...       ...       ...       ...   \n",
       "überlistet      -0.114379  0.504258  0.234080 -0.000105  0.143114  0.033253   \n",
       "south           -1.140673  0.402983  0.006067 -0.122824  0.175911  0.301749   \n",
       "nachher          0.059892 -0.092244  0.261324 -0.398008  0.213620  0.224522   \n",
       "ravic            0.291360 -0.067183  0.474839  0.227148  0.384928  0.005910   \n",
       "pressekonferenz -0.088206  0.305825 -0.222131 -0.457314  0.377974 -0.134989   \n",
       "\n",
       "                      6         7         8         9    ...       290  \\\n",
       "starke          -0.091429 -0.379363 -0.471944 -0.038044  ... -0.046795   \n",
       "mittagszeit      0.278056 -0.885087 -0.528817  0.113312  ... -0.310075   \n",
       "östlichen        0.416266  0.546959 -0.405216  0.145357  ... -0.121708   \n",
       "pumpen          -0.228994 -0.634361  0.073496 -0.183064  ...  0.279162   \n",
       "videomaterial    0.007920 -0.159249  0.564676 -0.091144  ... -0.086772   \n",
       "...                   ...       ...       ...       ...  ...       ...   \n",
       "überlistet       0.198351 -0.028485 -0.963998  0.307841  ...  0.334652   \n",
       "south            0.419371  0.288409 -0.307948 -0.252508  ... -0.260434   \n",
       "nachher         -0.237254  0.031730 -0.274248 -0.027154  ...  0.102771   \n",
       "ravic           -0.241821 -0.099029 -0.068110 -0.015698  ...  0.189107   \n",
       "pressekonferenz  0.140041 -0.240280 -0.288641 -0.592113  ...  0.101209   \n",
       "\n",
       "                      291       292       293       294       295       296  \\\n",
       "starke           0.486627  0.092285  0.394796 -0.386349  0.016992  0.315967   \n",
       "mittagszeit     -0.564392 -0.512391 -0.061537 -0.261750  0.100853  0.032682   \n",
       "östlichen       -0.263284  0.427416 -0.200418  0.057937  0.020421  0.055736   \n",
       "pumpen          -0.570037  0.434501  0.387588 -0.044226  0.008883 -0.000685   \n",
       "videomaterial   -0.206852  0.247326  0.037089 -0.422071  0.102761 -0.270570   \n",
       "...                   ...       ...       ...       ...       ...       ...   \n",
       "überlistet      -0.776330  0.419251  0.375681  0.355837  0.458123  0.153709   \n",
       "south           -0.615820 -0.185277 -0.114288  0.208436 -0.424728 -0.707111   \n",
       "nachher         -0.346859  0.299674  0.160099 -0.174631  0.149946 -0.133413   \n",
       "ravic            0.018260  0.334480 -0.044291 -0.057996 -0.469963 -0.166111   \n",
       "pressekonferenz -0.507016 -0.178335 -0.265998 -0.218065  0.039171 -0.227186   \n",
       "\n",
       "                      297       298       299  \n",
       "starke           0.434802 -0.198200 -0.065318  \n",
       "mittagszeit      0.089461  0.310686  0.315627  \n",
       "östlichen        0.313623  0.598803  0.050427  \n",
       "pumpen           0.623034  0.041198  0.156304  \n",
       "videomaterial   -0.842040 -0.023887  0.114175  \n",
       "...                   ...       ...       ...  \n",
       "überlistet       0.198869  0.065368  0.195081  \n",
       "south           -0.155766 -0.435711  0.130045  \n",
       "nachher         -0.010067 -0.032417  0.187507  \n",
       "ravic            0.150999  0.085222  0.116860  \n",
       "pressekonferenz  0.069923  0.708603 -0.096587  \n",
       "\n",
       "[46996 rows x 300 columns]"
      ]
     },
     "execution_count": 141,
     "metadata": {},
     "output_type": "execute_result"
    }
   ],
   "source": [
    "filtered_embedding"
   ]
  },
  {
   "cell_type": "code",
   "execution_count": 142,
   "id": "676c27ca-7f32-45dd-b157-49781cc651aa",
   "metadata": {},
   "outputs": [],
   "source": [
    "# write file"
   ]
  },
  {
   "cell_type": "code",
   "execution_count": 143,
   "id": "8f3d8cdc-a51a-4dde-89d7-740b4cc6f1d6",
   "metadata": {},
   "outputs": [],
   "source": [
    "filtered_glove_path = f'../data/GloVe_vectors_de_{N_most_frequent}.txt'"
   ]
  },
  {
   "cell_type": "code",
   "execution_count": 147,
   "id": "4ec12665-9307-4acd-b7b4-9cbd5b0d37a4",
   "metadata": {},
   "outputs": [],
   "source": [
    "filtered_embedding.to_csv(filtered_glove_path, sep=' ', index=True, header=None)"
   ]
  },
  {
   "cell_type": "code",
   "execution_count": 148,
   "id": "680a51ce-5ae3-4cd0-97d8-a650dd25c058",
   "metadata": {},
   "outputs": [],
   "source": [
    "test = pd.read_csv(filtered_glove_path, sep=' ', index_col = 0)"
   ]
  },
  {
   "cell_type": "code",
   "execution_count": 149,
   "id": "6c155505-f482-49ca-a06d-339686cb87ff",
   "metadata": {},
   "outputs": [
    {
     "data": {
      "text/html": [
       "<div>\n",
       "<style scoped>\n",
       "    .dataframe tbody tr th:only-of-type {\n",
       "        vertical-align: middle;\n",
       "    }\n",
       "\n",
       "    .dataframe tbody tr th {\n",
       "        vertical-align: top;\n",
       "    }\n",
       "\n",
       "    .dataframe thead th {\n",
       "        text-align: right;\n",
       "    }\n",
       "</style>\n",
       "<table border=\"1\" class=\"dataframe\">\n",
       "  <thead>\n",
       "    <tr style=\"text-align: right;\">\n",
       "      <th></th>\n",
       "      <th>-0.285092</th>\n",
       "      <th>-0.350144</th>\n",
       "      <th>0.066122</th>\n",
       "      <th>-0.059022</th>\n",
       "      <th>-0.074293</th>\n",
       "      <th>0.105105</th>\n",
       "      <th>-0.091429</th>\n",
       "      <th>-0.379363</th>\n",
       "      <th>-0.471944</th>\n",
       "      <th>-0.038044</th>\n",
       "      <th>...</th>\n",
       "      <th>-0.046795</th>\n",
       "      <th>0.486627</th>\n",
       "      <th>0.092285</th>\n",
       "      <th>0.394796</th>\n",
       "      <th>-0.386349</th>\n",
       "      <th>0.016992</th>\n",
       "      <th>0.315967</th>\n",
       "      <th>0.434802</th>\n",
       "      <th>-0.1982</th>\n",
       "      <th>-0.065318</th>\n",
       "    </tr>\n",
       "    <tr>\n",
       "      <th>starke</th>\n",
       "      <th></th>\n",
       "      <th></th>\n",
       "      <th></th>\n",
       "      <th></th>\n",
       "      <th></th>\n",
       "      <th></th>\n",
       "      <th></th>\n",
       "      <th></th>\n",
       "      <th></th>\n",
       "      <th></th>\n",
       "      <th></th>\n",
       "      <th></th>\n",
       "      <th></th>\n",
       "      <th></th>\n",
       "      <th></th>\n",
       "      <th></th>\n",
       "      <th></th>\n",
       "      <th></th>\n",
       "      <th></th>\n",
       "      <th></th>\n",
       "      <th></th>\n",
       "    </tr>\n",
       "  </thead>\n",
       "  <tbody>\n",
       "    <tr>\n",
       "      <th>mittagszeit</th>\n",
       "      <td>0.402801</td>\n",
       "      <td>-0.000529</td>\n",
       "      <td>-0.063135</td>\n",
       "      <td>-0.429702</td>\n",
       "      <td>0.059168</td>\n",
       "      <td>-0.181313</td>\n",
       "      <td>0.278056</td>\n",
       "      <td>-0.885087</td>\n",
       "      <td>-0.528817</td>\n",
       "      <td>0.113312</td>\n",
       "      <td>...</td>\n",
       "      <td>-0.310075</td>\n",
       "      <td>-0.564392</td>\n",
       "      <td>-0.512391</td>\n",
       "      <td>-0.061537</td>\n",
       "      <td>-0.261750</td>\n",
       "      <td>0.100853</td>\n",
       "      <td>0.032682</td>\n",
       "      <td>0.089461</td>\n",
       "      <td>0.310686</td>\n",
       "      <td>0.315627</td>\n",
       "    </tr>\n",
       "    <tr>\n",
       "      <th>östlichen</th>\n",
       "      <td>-0.404085</td>\n",
       "      <td>0.184555</td>\n",
       "      <td>-0.099343</td>\n",
       "      <td>0.224999</td>\n",
       "      <td>-0.547287</td>\n",
       "      <td>-0.232835</td>\n",
       "      <td>0.416266</td>\n",
       "      <td>0.546959</td>\n",
       "      <td>-0.405216</td>\n",
       "      <td>0.145357</td>\n",
       "      <td>...</td>\n",
       "      <td>-0.121708</td>\n",
       "      <td>-0.263284</td>\n",
       "      <td>0.427416</td>\n",
       "      <td>-0.200418</td>\n",
       "      <td>0.057937</td>\n",
       "      <td>0.020421</td>\n",
       "      <td>0.055736</td>\n",
       "      <td>0.313623</td>\n",
       "      <td>0.598803</td>\n",
       "      <td>0.050427</td>\n",
       "    </tr>\n",
       "    <tr>\n",
       "      <th>pumpen</th>\n",
       "      <td>0.366514</td>\n",
       "      <td>-0.275178</td>\n",
       "      <td>-0.337030</td>\n",
       "      <td>-0.311622</td>\n",
       "      <td>0.410426</td>\n",
       "      <td>0.021424</td>\n",
       "      <td>-0.228994</td>\n",
       "      <td>-0.634361</td>\n",
       "      <td>0.073496</td>\n",
       "      <td>-0.183064</td>\n",
       "      <td>...</td>\n",
       "      <td>0.279162</td>\n",
       "      <td>-0.570037</td>\n",
       "      <td>0.434501</td>\n",
       "      <td>0.387588</td>\n",
       "      <td>-0.044226</td>\n",
       "      <td>0.008883</td>\n",
       "      <td>-0.000685</td>\n",
       "      <td>0.623034</td>\n",
       "      <td>0.041198</td>\n",
       "      <td>0.156304</td>\n",
       "    </tr>\n",
       "    <tr>\n",
       "      <th>videomaterial</th>\n",
       "      <td>0.074707</td>\n",
       "      <td>-0.030806</td>\n",
       "      <td>-0.425025</td>\n",
       "      <td>-0.320975</td>\n",
       "      <td>0.097818</td>\n",
       "      <td>-0.086039</td>\n",
       "      <td>0.007920</td>\n",
       "      <td>-0.159249</td>\n",
       "      <td>0.564676</td>\n",
       "      <td>-0.091144</td>\n",
       "      <td>...</td>\n",
       "      <td>-0.086772</td>\n",
       "      <td>-0.206852</td>\n",
       "      <td>0.247326</td>\n",
       "      <td>0.037089</td>\n",
       "      <td>-0.422071</td>\n",
       "      <td>0.102761</td>\n",
       "      <td>-0.270570</td>\n",
       "      <td>-0.842040</td>\n",
       "      <td>-0.023887</td>\n",
       "      <td>0.114175</td>\n",
       "    </tr>\n",
       "    <tr>\n",
       "      <th>drohnenangriff</th>\n",
       "      <td>0.154013</td>\n",
       "      <td>0.036767</td>\n",
       "      <td>-0.500780</td>\n",
       "      <td>0.037943</td>\n",
       "      <td>0.176996</td>\n",
       "      <td>-0.766577</td>\n",
       "      <td>0.013525</td>\n",
       "      <td>-0.158913</td>\n",
       "      <td>-0.233881</td>\n",
       "      <td>0.112612</td>\n",
       "      <td>...</td>\n",
       "      <td>0.167733</td>\n",
       "      <td>-0.019649</td>\n",
       "      <td>-0.112561</td>\n",
       "      <td>-0.102391</td>\n",
       "      <td>-0.159352</td>\n",
       "      <td>-0.125168</td>\n",
       "      <td>-0.267933</td>\n",
       "      <td>0.141476</td>\n",
       "      <td>0.592589</td>\n",
       "      <td>-0.304352</td>\n",
       "    </tr>\n",
       "  </tbody>\n",
       "</table>\n",
       "<p>5 rows × 300 columns</p>\n",
       "</div>"
      ],
      "text/plain": [
       "                -0.285092  -0.350144  0.066122  -0.059022  -0.074293  \\\n",
       "starke                                                                 \n",
       "mittagszeit      0.402801  -0.000529 -0.063135  -0.429702   0.059168   \n",
       "östlichen       -0.404085   0.184555 -0.099343   0.224999  -0.547287   \n",
       "pumpen           0.366514  -0.275178 -0.337030  -0.311622   0.410426   \n",
       "videomaterial    0.074707  -0.030806 -0.425025  -0.320975   0.097818   \n",
       "drohnenangriff   0.154013   0.036767 -0.500780   0.037943   0.176996   \n",
       "\n",
       "                0.105105  -0.091429  -0.379363  -0.471944  -0.038044  ...  \\\n",
       "starke                                                                ...   \n",
       "mittagszeit    -0.181313   0.278056  -0.885087  -0.528817   0.113312  ...   \n",
       "östlichen      -0.232835   0.416266   0.546959  -0.405216   0.145357  ...   \n",
       "pumpen          0.021424  -0.228994  -0.634361   0.073496  -0.183064  ...   \n",
       "videomaterial  -0.086039   0.007920  -0.159249   0.564676  -0.091144  ...   \n",
       "drohnenangriff -0.766577   0.013525  -0.158913  -0.233881   0.112612  ...   \n",
       "\n",
       "                -0.046795  0.486627  0.092285  0.394796  -0.386349  0.016992  \\\n",
       "starke                                                                         \n",
       "mittagszeit     -0.310075 -0.564392 -0.512391 -0.061537  -0.261750  0.100853   \n",
       "östlichen       -0.121708 -0.263284  0.427416 -0.200418   0.057937  0.020421   \n",
       "pumpen           0.279162 -0.570037  0.434501  0.387588  -0.044226  0.008883   \n",
       "videomaterial   -0.086772 -0.206852  0.247326  0.037089  -0.422071  0.102761   \n",
       "drohnenangriff   0.167733 -0.019649 -0.112561 -0.102391  -0.159352 -0.125168   \n",
       "\n",
       "                0.315967  0.434802   -0.1982  -0.065318  \n",
       "starke                                                   \n",
       "mittagszeit     0.032682  0.089461  0.310686   0.315627  \n",
       "östlichen       0.055736  0.313623  0.598803   0.050427  \n",
       "pumpen         -0.000685  0.623034  0.041198   0.156304  \n",
       "videomaterial  -0.270570 -0.842040 -0.023887   0.114175  \n",
       "drohnenangriff -0.267933  0.141476  0.592589  -0.304352  \n",
       "\n",
       "[5 rows x 300 columns]"
      ]
     },
     "execution_count": 149,
     "metadata": {},
     "output_type": "execute_result"
    }
   ],
   "source": [
    "test.head()"
   ]
  },
  {
   "cell_type": "code",
   "execution_count": null,
   "id": "06af9207-3c01-45b1-a93b-6904f805425a",
   "metadata": {},
   "outputs": [],
   "source": []
  }
 ],
 "metadata": {
  "kernelspec": {
   "display_name": "Python 3 (ipykernel)",
   "language": "python",
   "name": "python3"
  },
  "language_info": {
   "codemirror_mode": {
    "name": "ipython",
    "version": 3
   },
   "file_extension": ".py",
   "mimetype": "text/x-python",
   "name": "python",
   "nbconvert_exporter": "python",
   "pygments_lexer": "ipython3",
   "version": "3.9.6"
  }
 },
 "nbformat": 4,
 "nbformat_minor": 5
}
