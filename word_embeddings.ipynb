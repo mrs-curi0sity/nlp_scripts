{
 "cells": [
  {
   "cell_type": "code",
   "execution_count": 1,
   "metadata": {},
   "outputs": [],
   "source": [
    "# Dataset is glove 6B 50T\n",
    "# udemy nlp with python"
   ]
  },
  {
   "cell_type": "markdown",
   "metadata": {},
   "source": [
    "### install dependencies\n",
    "only do this once"
   ]
  },
  {
   "cell_type": "code",
   "execution_count": 2,
   "metadata": {},
   "outputs": [],
   "source": [
    "#! python3 -m venv venv\n",
    "#! source venv/bin/activate\n",
    "#! pip3 install -r requirements.txt\n",
    "#! pip install ipykernel\n",
    "#! python -m ipykernel install --user\n",
    "#! pip freeze"
   ]
  },
  {
   "cell_type": "markdown",
   "metadata": {},
   "source": [
    "### imports"
   ]
  },
  {
   "cell_type": "code",
   "execution_count": 3,
   "metadata": {},
   "outputs": [
    {
     "name": "stdout",
     "output_type": "stream",
     "text": [
      "loading word embeddings word to vec from path ../large-files/glove6B/glove.6B.50d.txt\n",
      "line number 200000\n",
      "soroca 0.049805 -0.92157 -0.78814 0.40001 0.73747 0.23841 1.0884 0.74811 0.35275 -0.092519 0.068657 -1.5069 0.71963 -0.62382 0.42556 -0.12594 0.12767 0.48246 0.747 0.95415 -0.61376 -0.41512 -0.04666 0.91667 -0.70671 0.71371 -0.09069 0.63914 -0.22234 -0.51031 -1.009 -0.93208 0.53891 -0.32442 0.060975 0.12915 -0.17024 0.29168 0.14596 0.18409 -0.16361 0.21103 -0.092295 -0.49671 -1.3887 0.29717 0.070581 -0.19783 -0.62638 0.25806\n",
      "\n",
      "line number 400000\n",
      "sandberger 0.072617 -0.51393 0.4728 -0.52202 -0.35534 0.34629 0.23211 0.23096 0.26694 0.41028 0.28031 0.14107 -0.30212 -0.21095 -0.10875 -0.33659 -0.46313 -0.40999 0.32764 0.47401 -0.43449 0.19959 -0.55808 -0.34077 0.078477 0.62823 0.17161 -0.34454 -0.2066 0.1323 -1.8076 -0.38851 0.37654 -0.50422 -0.012446 0.046182 0.70028 -0.010573 -0.83629 -0.24698 0.6888 -0.17986 -0.066569 -0.48044 -0.55946 -0.27594 0.056072 -0.18907 -0.59021 0.55559\n",
      "\n",
      "total number of entries found:  400000. Dimension: 50\n"
     ]
    }
   ],
   "source": [
    "from builtins import range\n",
    "import numpy as np\n",
    "import pandas as pd\n",
    "\n",
    "from embedding_utilities import euclidean_dist, cosine_dist, load_word2vec, find_analogies, nearest_neighbors"
   ]
  },
  {
   "cell_type": "markdown",
   "metadata": {},
   "source": [
    "### the cosine distance does not change when doubeling\n",
    "cosine distance only takes into account angle (the smaller the higher the similarity.)\n",
    "\n",
    "euclidian looks at absolute length"
   ]
  },
  {
   "cell_type": "code",
   "execution_count": 4,
   "metadata": {},
   "outputs": [
    {
     "name": "stdout",
     "output_type": "stream",
     "text": [
      "euclidian distance 1.0\n",
      "cosine distance 0.05131670194948623\n"
     ]
    }
   ],
   "source": [
    "a = pd.Series([1,1])\n",
    "b = pd.Series([1,2])\n",
    "print(f'euclidian distance {euclidean_dist(a,b)}')\n",
    "print(f'cosine distance {cosine_dist(a,b)}')"
   ]
  },
  {
   "cell_type": "code",
   "execution_count": 5,
   "metadata": {},
   "outputs": [
    {
     "name": "stdout",
     "output_type": "stream",
     "text": [
      "euclidian distance 2.0\n",
      "cosine distance 0.05131670194948623\n"
     ]
    }
   ],
   "source": [
    "a_double = a*2\n",
    "b_double = b*2\n",
    "print(f'euclidian distance {euclidean_dist(a_double,b_double)}')\n",
    "print(f'cosine distance {cosine_dist(a_double,b_double)}')"
   ]
  },
  {
   "cell_type": "code",
   "execution_count": 6,
   "metadata": {},
   "outputs": [],
   "source": [
    "dist, metric = cosine_dist, 'cosine'\n",
    "#alternative: dist, metric = dist1, 'euclidean'"
   ]
  },
  {
   "cell_type": "markdown",
   "metadata": {},
   "source": [
    "### load pretrained word vectors\n",
    "source: https://www.kaggle.com/anindya2906/glove6b"
   ]
  },
  {
   "cell_type": "code",
   "execution_count": 7,
   "metadata": {},
   "outputs": [
    {
     "name": "stdout",
     "output_type": "stream",
     "text": [
      "loading word embeddings word to vec from path ../large-files/glove6B/glove.6B.50d.txt\n",
      "line number 200000\n",
      "soroca 0.049805 -0.92157 -0.78814 0.40001 0.73747 0.23841 1.0884 0.74811 0.35275 -0.092519 0.068657 -1.5069 0.71963 -0.62382 0.42556 -0.12594 0.12767 0.48246 0.747 0.95415 -0.61376 -0.41512 -0.04666 0.91667 -0.70671 0.71371 -0.09069 0.63914 -0.22234 -0.51031 -1.009 -0.93208 0.53891 -0.32442 0.060975 0.12915 -0.17024 0.29168 0.14596 0.18409 -0.16361 0.21103 -0.092295 -0.49671 -1.3887 0.29717 0.070581 -0.19783 -0.62638 0.25806\n",
      "\n",
      "line number 400000\n",
      "sandberger 0.072617 -0.51393 0.4728 -0.52202 -0.35534 0.34629 0.23211 0.23096 0.26694 0.41028 0.28031 0.14107 -0.30212 -0.21095 -0.10875 -0.33659 -0.46313 -0.40999 0.32764 0.47401 -0.43449 0.19959 -0.55808 -0.34077 0.078477 0.62823 0.17161 -0.34454 -0.2066 0.1323 -1.8076 -0.38851 0.37654 -0.50422 -0.012446 0.046182 0.70028 -0.010573 -0.83629 -0.24698 0.6888 -0.17986 -0.066569 -0.48044 -0.55946 -0.27594 0.056072 -0.18907 -0.59021 0.55559\n",
      "\n",
      "total number of entries found:  400000. Dimension: 50\n"
     ]
    }
   ],
   "source": [
    "glove_path = '../large-files/glove6B/glove.6B.50d.txt'\n",
    "word2vec, embedding, index_to_word = load_word2vec(glove_path)"
   ]
  },
  {
   "cell_type": "code",
   "execution_count": 8,
   "metadata": {},
   "outputs": [
    {
     "name": "stdout",
     "output_type": "stream",
     "text": [
      "(400000, 50)\n"
     ]
    },
    {
     "data": {
      "text/html": [
       "<div>\n",
       "<style scoped>\n",
       "    .dataframe tbody tr th:only-of-type {\n",
       "        vertical-align: middle;\n",
       "    }\n",
       "\n",
       "    .dataframe tbody tr th {\n",
       "        vertical-align: top;\n",
       "    }\n",
       "\n",
       "    .dataframe thead th {\n",
       "        text-align: right;\n",
       "    }\n",
       "</style>\n",
       "<table border=\"1\" class=\"dataframe\">\n",
       "  <thead>\n",
       "    <tr style=\"text-align: right;\">\n",
       "      <th></th>\n",
       "      <th>0</th>\n",
       "      <th>1</th>\n",
       "      <th>2</th>\n",
       "      <th>3</th>\n",
       "      <th>4</th>\n",
       "      <th>5</th>\n",
       "      <th>6</th>\n",
       "      <th>7</th>\n",
       "      <th>8</th>\n",
       "      <th>9</th>\n",
       "      <th>...</th>\n",
       "      <th>40</th>\n",
       "      <th>41</th>\n",
       "      <th>42</th>\n",
       "      <th>43</th>\n",
       "      <th>44</th>\n",
       "      <th>45</th>\n",
       "      <th>46</th>\n",
       "      <th>47</th>\n",
       "      <th>48</th>\n",
       "      <th>49</th>\n",
       "    </tr>\n",
       "  </thead>\n",
       "  <tbody>\n",
       "    <tr>\n",
       "      <th>the</th>\n",
       "      <td>0.418</td>\n",
       "      <td>0.24968</td>\n",
       "      <td>-0.41242</td>\n",
       "      <td>0.1217</td>\n",
       "      <td>0.34527</td>\n",
       "      <td>-0.044457</td>\n",
       "      <td>-0.49688</td>\n",
       "      <td>-0.17862</td>\n",
       "      <td>-0.00066</td>\n",
       "      <td>-0.6566</td>\n",
       "      <td>...</td>\n",
       "      <td>-0.29871</td>\n",
       "      <td>-0.15749</td>\n",
       "      <td>-0.34758</td>\n",
       "      <td>-0.045637</td>\n",
       "      <td>-0.44251</td>\n",
       "      <td>0.18785</td>\n",
       "      <td>0.002785</td>\n",
       "      <td>-0.18411</td>\n",
       "      <td>-0.11514</td>\n",
       "      <td>-0.78581</td>\n",
       "    </tr>\n",
       "  </tbody>\n",
       "</table>\n",
       "<p>1 rows × 50 columns</p>\n",
       "</div>"
      ],
      "text/plain": [
       "        0        1        2       3        4         5        6        7   \\\n",
       "the  0.418  0.24968 -0.41242  0.1217  0.34527 -0.044457 -0.49688 -0.17862   \n",
       "\n",
       "          8       9   ...       40       41       42        43       44  \\\n",
       "the -0.00066 -0.6566  ... -0.29871 -0.15749 -0.34758 -0.045637 -0.44251   \n",
       "\n",
       "          45        46       47       48       49  \n",
       "the  0.18785  0.002785 -0.18411 -0.11514 -0.78581  \n",
       "\n",
       "[1 rows x 50 columns]"
      ]
     },
     "execution_count": 8,
     "metadata": {},
     "output_type": "execute_result"
    }
   ],
   "source": [
    "\n",
    "print(embedding.shape)\n",
    "embedding.head(1)"
   ]
  },
  {
   "cell_type": "code",
   "execution_count": 9,
   "metadata": {},
   "outputs": [
    {
     "data": {
      "text/plain": [
       "array([ 0.62231 ,  1.1986  , -0.014116,  0.20125 ,  0.69419 ,  0.12068 ,\n",
       "       -0.90399 , -1.4023  ,  0.43357 , -0.48537 , -0.4645  ,  0.15756 ,\n",
       "        0.54261 , -0.32467 , -0.025646,  0.45742 ,  0.16561 ,  0.18819 ,\n",
       "        0.062099, -0.86418 , -1.0425  , -0.81157 ,  0.3126  , -0.20279 ,\n",
       "        0.55734 , -0.28634 , -0.14874 ,  1.0098  ,  0.25041 , -0.53195 ,\n",
       "        2.3793  , -0.76966 , -0.63219 ,  0.3203  ,  0.15072 ,  0.23326 ,\n",
       "       -0.26254 , -0.29461 ,  0.7671  , -0.11577 , -0.68129 , -0.65413 ,\n",
       "       -0.58914 ,  0.24684 ,  1.5904  ,  0.33025 ,  0.41513 , -1.7468  ,\n",
       "        0.82453 , -1.0886  ], dtype=float32)"
      ]
     },
     "execution_count": 9,
     "metadata": {},
     "output_type": "execute_result"
    }
   ],
   "source": [
    "word2vec['tree']"
   ]
  },
  {
   "cell_type": "code",
   "execution_count": 10,
   "metadata": {},
   "outputs": [
    {
     "data": {
      "text/plain": [
       "'country'"
      ]
     },
     "execution_count": 10,
     "metadata": {},
     "output_type": "execute_result"
    }
   ],
   "source": [
    "index_to_word[123]"
   ]
  },
  {
   "cell_type": "code",
   "execution_count": 11,
   "metadata": {},
   "outputs": [
    {
     "name": "stdout",
     "output_type": "stream",
     "text": [
      "motivation - man = satisfaction - woman\n"
     ]
    },
    {
     "data": {
      "text/plain": [
       "'satisfaction'"
      ]
     },
     "execution_count": 11,
     "metadata": {},
     "output_type": "execute_result"
    }
   ],
   "source": [
    "word1 = 'motivation'\n",
    "word2 = 'man'\n",
    "word3 = 'woman'\n",
    "find_analogies(word1, word2, word3, word2vec, embedding, index_to_word, dist, metric)"
   ]
  },
  {
   "cell_type": "code",
   "execution_count": 12,
   "metadata": {},
   "outputs": [
    {
     "name": "stdout",
     "output_type": "stream",
     "text": [
      "motivation - man = satisfaction - woman\n",
      "success - man = recognition - woman\n",
      "fun - man = kids - woman\n",
      "love - woman = me - man\n",
      "love - man = mother - woman\n",
      "king - man = queen - woman\n",
      "money - man = paying - woman\n",
      "sex - man = sexual - woman\n",
      "france - paris = britain - london\n",
      "france - paris = italy - rome\n",
      "paris - france = rome - italy\n",
      "december - november = july - june\n",
      "miami - florida = houston - texas\n",
      "einstein - scientist = matisse - painter\n",
      "rice - china = bacon - germany\n",
      "beer - germany = drink - japan\n",
      "tree - forest = devotees - flock\n",
      "man - woman = he - she\n",
      "man - woman = uncle - aunt\n",
      "man - woman = brother - sister\n",
      "man - woman = friend - wife\n",
      "man - woman = brother - friend\n",
      "man - woman = actor - actress\n",
      "man - woman = father - mother\n",
      "heir - heiress = queen - princess\n"
     ]
    },
    {
     "data": {
      "text/plain": [
       "'queen'"
      ]
     },
     "execution_count": 12,
     "metadata": {},
     "output_type": "execute_result"
    }
   ],
   "source": [
    "find_analogies(word1, word2, word3)#, D, index_to_word)\n",
    "find_analogies('success', 'man', 'woman')#,  D, index_to_word)\n",
    "find_analogies('fun', 'man', 'woman')#,  D, index_to_word)\n",
    "find_analogies('love', 'woman', 'man')#,  D, index_to_word)\n",
    "find_analogies('love', 'man', 'woman')#,  D, index_to_word)\n",
    "\n",
    "find_analogies('king', 'man', 'woman')#,  D, index_to_word)\n",
    "find_analogies('money', 'man', 'woman')#,  D, index_to_word)\n",
    "find_analogies('sex', 'man', 'woman')#,  D, index_to_word)\n",
    "find_analogies('france', 'paris', 'london')#,  D, index_to_word)\n",
    "find_analogies('france', 'paris', 'rome')#,  D, index_to_word)\n",
    "find_analogies('paris', 'france', 'italy')#,  D, index_to_word)\n",
    "find_analogies('december', 'november', 'june')#,  D, index_to_word)\n",
    "find_analogies('miami', 'florida', 'texas')#,  D, index_to_word)\n",
    "find_analogies('einstein', 'scientist', 'painter')#,  D, index_to_word)\n",
    "find_analogies('rice', 'china', 'germany')#,  D, index_to_word)\n",
    "find_analogies('beer', 'germany', 'japan')#,  D, index_to_word)\n",
    "\n",
    "find_analogies('tree', 'forest', 'flock')#,  D, index_to_word)\n",
    "\n",
    "find_analogies('man', 'woman', 'she')#,  D, index_to_word)\n",
    "find_analogies('man', 'woman', 'aunt')#,  D, index_to_word)\n",
    "find_analogies('man', 'woman', 'sister')#,  D, index_to_word)\n",
    "find_analogies('man', 'woman', 'wife')#,  D, index_to_word)\n",
    "find_analogies('man', 'woman', 'friend')#,  D, index_to_word)\n",
    "find_analogies('man', 'woman', 'actress')#,  D, index_to_word)\n",
    "find_analogies('man', 'woman', 'mother')#,  D, index_to_word)\n",
    "find_analogies('heir', 'heiress', 'princess')#,  D, index_to_word)"
   ]
  },
  {
   "cell_type": "code",
   "execution_count": 13,
   "metadata": {},
   "outputs": [
    {
     "name": "stdout",
     "output_type": "stream",
     "text": [
      "hacker - code = businessman - politician\n"
     ]
    },
    {
     "data": {
      "text/plain": [
       "'businessman'"
      ]
     },
     "execution_count": 13,
     "metadata": {},
     "output_type": "execute_result"
    }
   ],
   "source": [
    "find_analogies('hacker', 'code', 'politician')"
   ]
  },
  {
   "cell_type": "code",
   "execution_count": 14,
   "metadata": {},
   "outputs": [],
   "source": [
    "nearest_neighbors('france',index_to_word, word2vec)\n",
    "nearest_neighbors('japan',index_to_word, word2vec)"
   ]
  },
  {
   "cell_type": "code",
   "execution_count": 14,
   "metadata": {},
   "outputs": [
    {
     "name": "stdout",
     "output_type": "stream",
     "text": [
      "neighbors of: king\n",
      "\tprince\n",
      "\tqueen\n",
      "\tii\n",
      "\temperor\n",
      "\tson\n",
      "neighbors of: france\n",
      "\tfrench\n",
      "\tbelgium\n",
      "\tparis\n",
      "\tspain\n",
      "\tnetherlands\n",
      "neighbors of: japan\n",
      "\tjapanese\n",
      "\tchina\n",
      "\tkorea\n",
      "\ttokyo\n",
      "\ttaiwan\n",
      "neighbors of: einstein\n",
      "\trelativity\n",
      "\tbohr\n",
      "\tphysics\n",
      "\theisenberg\n",
      "\tfreud\n",
      "neighbors of: woman\n",
      "\tgirl\n",
      "\tman\n",
      "\tmother\n",
      "\ther\n",
      "\tboy\n",
      "neighbors of: man\n",
      "\twoman\n",
      "\tboy\n",
      "\tanother\n",
      "\told\n",
      "\tone\n",
      "neighbors of: nephew\n",
      "\tcousin\n",
      "\tbrother\n",
      "\tgrandson\n",
      "\tson\n",
      "\tuncle\n",
      "neighbors of: february\n",
      "\toctober\n",
      "\tdecember\n",
      "\tjanuary\n",
      "\taugust\n",
      "\tseptember\n",
      "neighbors of: success\n",
      "\tachieved\n",
      "\tsuccessful\n",
      "\tever\n",
      "\tthanks\n",
      "\tbest\n",
      "neighbors of: money\n",
      "\tcash\n",
      "\tpaying\n",
      "\tfunds\n",
      "\tpay\n",
      "\traise\n",
      "neighbors of: love\n",
      "\tdream\n",
      "\tlife\n",
      "\tdreams\n",
      "\tloves\n",
      "\tme\n"
     ]
    },
    {
     "data": {
      "text/plain": [
       "array([2895,  214, 5559, 6741,  285])"
      ]
     },
     "execution_count": 14,
     "metadata": {},
     "output_type": "execute_result"
    }
   ],
   "source": [
    "nearest_neighbors('einstein',index_to_word, word2vec)\n",
    "nearest_neighbors('einstein',index_to_word, word2vec)\n",
    "nearest_neighbors('woman',index_to_word, word2vec)\n",
    "nearest_neighbors('man',index_to_word, word2vec)\n",
    "nearest_neighbors('nephew',index_to_word, word2vec)\n",
    "nearest_neighbors('february',index_to_word, word2vec)\n",
    "nearest_neighbors('success',index_to_word, word2vec)\n",
    "nearest_neighbors('money',index_to_word, word2vec)\n",
    "nearest_neighbors('love',index_to_word, word2vec)"
   ]
  },
  {
   "cell_type": "code",
   "execution_count": 28,
   "metadata": {},
   "outputs": [
    {
     "name": "stdout",
     "output_type": "stream",
     "text": [
      "neighbors of: merkel\n",
      "\tschroeder\n",
      "\tsarkozy\n",
      "\tkohl\n",
      "\tsteinmeier\n",
      "\tchirac\n"
     ]
    },
    {
     "data": {
      "text/plain": [
       "array([ 5886,  4767,  8168, 22720,  3924])"
      ]
     },
     "execution_count": 28,
     "metadata": {},
     "output_type": "execute_result"
    }
   ],
   "source": [
    "nearest_neighbors('merkel', index_to_word, word2vec)"
   ]
  },
  {
   "cell_type": "code",
   "execution_count": 29,
   "metadata": {},
   "outputs": [
    {
     "name": "stdout",
     "output_type": "stream",
     "text": [
      "neighbors of: procrastination\n",
      "\tremedying\n",
      "\trationalizing\n",
      "\trationalization\n",
      "\taggravation\n",
      "\tmisjudgment\n"
     ]
    },
    {
     "data": {
      "text/plain": [
       "array([98759, 82245, 52093, 49897, 81264])"
      ]
     },
     "execution_count": 29,
     "metadata": {},
     "output_type": "execute_result"
    }
   ],
   "source": [
    "nearest_neighbors('procrastination', index_to_word, word2vec)"
   ]
  },
  {
   "cell_type": "code",
   "execution_count": 41,
   "metadata": {},
   "outputs": [
    {
     "name": "stdout",
     "output_type": "stream",
     "text": [
      "neighbors of: religion\n",
      "\tbeliefs\n",
      "\treligious\n",
      "\treligions\n",
      "\tchristianity\n",
      "\tbelief\n"
     ]
    },
    {
     "data": {
      "text/plain": [
       "array([7107, 1213, 9847, 7282, 4440])"
      ]
     },
     "execution_count": 41,
     "metadata": {},
     "output_type": "execute_result"
    }
   ],
   "source": [
    "nearest_neighbors('religion', index_to_word, word2vec)"
   ]
  },
  {
   "cell_type": "code",
   "execution_count": null,
   "metadata": {},
   "outputs": [],
   "source": []
  }
 ],
 "metadata": {
  "kernelspec": {
   "display_name": "Python 3 (ipykernel)",
   "language": "python",
   "name": "python3"
  },
  "language_info": {
   "codemirror_mode": {
    "name": "ipython",
    "version": 3
   },
   "file_extension": ".py",
   "mimetype": "text/x-python",
   "name": "python",
   "nbconvert_exporter": "python",
   "pygments_lexer": "ipython3",
   "version": "3.9.6"
  }
 },
 "nbformat": 4,
 "nbformat_minor": 4
}
